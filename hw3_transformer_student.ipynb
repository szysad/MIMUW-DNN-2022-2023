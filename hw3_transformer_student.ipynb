{
  "cells": [
    {
      "cell_type": "markdown",
      "metadata": {
        "id": "Z6UWuoBSpSbG"
      },
      "source": [
        "# Task overview\n",
        "In this homework assignment, you will implement a simple Transformer architecture using only basic layers such as nn.Embedding, nn.Linear, ReLU, softmax, and einsum. This will be a decoder-only model (language model), trained on a toy problem. You will analyze the results of the baseline Transformer and results with some minor changes to its components.\n",
        "\n",
        "# Dataset\n",
        "The dataset has already been generated for you. It is an artificial and simple dataset that was designed to make training quick and debugging easy. Each example in the dataset consists of a sequence of tokens, with each token represented by a number from 0 to 9. The length of each sequence is 64 tokens. Each and every sequence starts with token 0 (zero).\n",
        "\n",
        "This is a language modeling task, which means that your model's task is to predict the next token in the sequence. Specifically, for each prefix of the input sequence, your model will generate a prediction for the token that should follow.\n",
        "\n",
        "The dataset was generated in a particular way, but you don't need to know the details in order to complete the homework assignment. These details are provided in the code that generates the dataset. However, as an overview, we can see some patterns emerging in the following example sequences:\n",
        "\n",
        "* [0, 1, 0, 1, 0, 1, 0, 1, 2, 3, 4, 2, 3, 4, 2, 3, 7, 8, 6, 7, 8, 6, 9, 4, ...]\n",
        "  * In this example, 0 seems to always be followed by 1.\n",
        "* [0, 4, 9, 7, 8, 9, 0, 4, 5, 2, 8, 5, 2, 8, 5, 2, 3, 4, 5, 2, 8, 9, 0, 4, ...]\n",
        "  * Here, however, 0 is followed by 4.\n",
        "* [0, 1, 2, 3, 4, 5, 3, 4, 7, 8, 0, 1, 2, 5, 3, 4, 7, 8, 0, 1, 6, 9, 2, 5, ...]\n",
        "  * In every example we can see that the number N is often followed by N+1.\n",
        "\n",
        "\n",
        "Each example is constructed with random patterns. In order to accurately predict the next token, your model will need to learn these patterns \"on the fly\" as it processes each example. This is called \"in-context learning,\" where the model learns how to figure out the pattern instead of learning the pattern during training.\n",
        "\n",
        "# Model implementation (60% points)\n",
        "For this homework assignment, you will be implementing a version of the Transformer architecture with only the decoder, also known as a language model. Models from GPT family, like ChatGPT, are similar to what you will be implementing. In fact, ChatGPT even helped improve the readability and quality of writing in this homework assignment. A Transformer is helping to teach Transformers!\n",
        "\n",
        "You can read the original paper introducing the Transformer for more details: https://arxiv.org/pdf/1706.03762.pdf.\n",
        "\n",
        "Your model will consist of the following components:\n",
        "\n",
        "* Learnable, randomly initialized embeddings (using nn.Embedding)\n",
        "* Positional encoding\n",
        "* A number of decoding blocks, each consisting of:\n",
        "  * Multi-head attention (wrapped in a residual connection)\n",
        "  * Feed-forward layer (wrapped in a residual connection)\n",
        "* A linear layer to get the output probabilities\n",
        "\n",
        "The general structure is already provided in the code. You will need to implement the following classes and functions:\n",
        "\n",
        "* get_positional_encoding\n",
        "* Attention\n",
        "* FeedForward\n",
        "* DecoderBlock\n",
        "\n",
        "The DecoderModel has already been implemented, but you are welcome to change it if necessary for visualizations, etc. In general, you are free to change any part of the provided code if it makes it easier for you to implement something. \n",
        "\n",
        "# Model training (10% points)\n",
        "The training loop has already been implemented, and it is up to you to decide on the model and learning parameters to use. The default values should be sufficient for achieving the expected accuracy.\n",
        "\n",
        "Your model should be able to achieve 70% accuracy on the test set, with accuracy defined as the percentage of next tokens predicted correctly given the prefix. This is a token-level accuracy, not a sequence-level accuracy.\n",
        "\n",
        "After training your model, you should briefly discuss the training and achieved accuracy compared to your expectations. Print and analyze probabilities given by your model - what thing the model learn? How efficient is it?\n",
        "\n",
        "# Experiments (10% points)\n",
        "To complete this part of the homework assignment, you will need to test additional models with a different number of DecoderBlocks. Specifically, you should test and report accuracy for 0, 1, 2, 3, maybe 4 DecoderBlocks.\n",
        "\n",
        "After that, you should train models again with a variable number of blocks, but this time without positional encoding added to the embedding. You should observe that the model requires more layers to achieve the expected accuracy, but it is still able to do so.\n",
        "\n",
        "# Text generation (20% points)\n",
        "\n",
        "There are two methods for generating next token probabilities:\n",
        "* The inefficient method involves running the model with each prefix, predicting the next token, adding it to the prefix, and then running the whole model again. Note that this method may result in a 10% reduction in points.\n",
        "* The efficient method involves storing (caching) the K and V vectors used in the Attention layer, so that you can pass a single token to get the next one, instead of processing the whole prefix again.\n",
        "\n",
        "Next, test and compare two sampling methods: argmax (taking, as the next token, the most likely token) and sampling from a distribution returned by the model. Generate a few sentences with those methods. How quickly a model can spot a pattern?\n",
        "\n",
        "[Alternatively, you can also implement temperature sampling, which allows you to smoothly interpolate between argmax, sampling from a given distribution, and sampling from a uniform distribution.]\n",
        "\n",
        "# Optional attention visualizations (0% points, but 100% cool)\n",
        "\n",
        "To better understand how the Transformer model is making its predictions, you can visualize the attention weights in different layers. This will allow you to see which tokens the model is actually paying attention to when making its predictions.\n",
        "\n",
        "It may be helpful to compare the attention weights in a 1-layer Transformer to those in a 2-layer Transformer to understand why a 1-layer Transformer may not be able to do in-context learning while a 2-layer Transformer can. You can also refer to the following resource for a more in-depth analysis: https://transformer-circuits.pub/2021/framework/index.html .\n",
        "\n",
        "# Tips and tricks\n",
        "* It is recommended that you read the original Transformer paper (\"Attention is All You Need\") at https://arxiv.org/pdf/1706.03762.pdf, as well as the illustrated blog post on the Transformer at http://jalammar.github.io/illustrated-transformer/ .\n",
        "* All models should train very quickly, especially if you are using a GPU accelerator on colab.research.google.com . Your model should be able to reach 70% accuracy in less than 3 minutes.\n",
        "* When implementing multi-head attention:\n",
        "  * It can be helpful to use torch.einsum. You can find examples in the numpy documentation at https://numpy.org/doc/stable/reference/generated/numpy.einsum.html, specifically looking at \"Tensor contraction.\" This can help reduce the number of reshapes, permutations, and transpositions needed for matrix multiplications and make it easier to compute the attention matrix.\n",
        "  * Use the correct causal mask. Specifically, each \"token\" should only attend  to itself and previous tokens.\n",
        "* You can also consider implementing separate (parameterless) functions for split_heads and merge_heads that take a tensor and number of heads as input.\n",
        "* When implementing positional encoding, you can use \"sin\" on even dimensions and \"cos\" on odd dimensions, as described in the original paper. Alternatively, you can generate \"sin\" and \"cos\" separately and concatenate them. Both methods work equally well, and concatenation is generally easier to implement. You can refer to the \"Illustrated Transformer\" blog post for examples of both methods.\n",
        "* If you are having trouble with any part of the implementation, it can be helpful to check the output of each module separately and the output predictions of your model to identify any issues.\n",
        "* In the original Transformer paper, the LayerNorm layer is placed on the residual stream, after the Attention or FeedForward layer. However, it may be more effective to place the LayerNorm layer in front of the Attention or FeedForward layer, as this can help stabilize the training process and improve the model's performance. This approach has been used in some subsequent transformer-based models and has been found to be effective. It is possible that the placement of the LayerNorm layer in the original paper was simply a mistake and the code used actually placed the LayerNorm right before the FeedForward/Attention layers, where it should be.\n",
        "\n",
        "# Simplifications\n",
        "If you find certain parts of the task to be too difficult, you can try simplifying the task in one of the following ways. Keep in mind that your score may be reduced as a result, but this can help you proceed with the experiments and potentially identify any bugs in your code.\n",
        "\n",
        "* If you are having trouble training the model, you can try generating a dataset with fewer tokens and a smaller sequence length. This may make it easier to identify and fix any issues with your code or to tune the hyperparameters of the model.\n",
        "* If you are having difficulty implementing the positional encoding, you could try implementing learnable positional encoding. This involves adding an additional nn.Embedding layer that takes the position of the token (rather than the token itself) as input and returns an embedding for that particular position.\n",
        "* If you are struggling to implement the multi-head attention, you might try implementing just a single head attention without any splitting and concatenation. This can help you understand the method and make it easier to implement multi-head attention later.\n",
        "* When implementing Attention, it may be beneficial to skip the implementation of caching at first. You can train and evaluate the accuracy of the model without caching, and then add caching later to improve the efficiency of text generation (and your score)."
      ]
    },
    {
      "cell_type": "markdown",
      "metadata": {
        "id": "pYl-aJIcoZRX"
      },
      "source": [
        "## Picture below:\n",
        "Below is a representation of the simplified model that you will be implementing. You may compare it with Figure 1 in the Attention is All You Need paper ( https://arxiv.org/pdf/1706.03762.pdf ).\n"
      ]
    },
    {
      "cell_type": "markdown",
      "metadata": {
        "id": "cmfeJpYRohuV"
      },
      "source": [
        "![TRANSFORMER.png](data:image/png;base64,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)"
      ]
    },
    {
      "cell_type": "markdown",
      "metadata": {
        "id": "OKdMAvnNp1A6"
      },
      "source": [
        "# Tools"
      ]
    },
    {
      "cell_type": "code",
      "execution_count": 459,
      "metadata": {
        "id": "1x0953RopFmx"
      },
      "outputs": [],
      "source": [
        "# Basic imports\n",
        "import matplotlib.pyplot as plt\n",
        "import numpy as np\n",
        "import torch\n",
        "\n",
        "from collections import namedtuple"
      ]
    },
    {
      "cell_type": "markdown",
      "metadata": {
        "id": "JQXyFu4GpoCm"
      },
      "source": [
        "## Dataset generation\n",
        "The tools below are responsible for generating the dataset. You should not modify them."
      ]
    },
    {
      "cell_type": "markdown",
      "metadata": {
        "id": "DwcC9xAbWw2c"
      },
      "source": [
        "### Detailed dataset description\n",
        "To generate each example, we first create a random Markov chain and sample a sequence of a given length starting at token zero. This Markov chain is specific to the current example.\n",
        "\n",
        "To create the Markov chain, we follow this algorithm:\n",
        "1. Generate a random permutation of the numbers P(x) - a bijection that maps each token in the vocabulary to another token.\n",
        "2. Create a function INC(x) that maps the x-th token to the ((x+1)%N)-th token.\n",
        "3. For each i-th token (node), create an outgoing edge to P(i) with probability 80% and to INC(i) with probability 20%.\n",
        "\n",
        "This dataset design ensures that the sequences will be mostly predictable, but not completely. It also introduces learnable concepts that are both dataset-wide (due to the constant INC function) and sample-specific (due to the random P function)."
      ]
    },
    {
      "cell_type": "code",
      "execution_count": 460,
      "metadata": {
        "id": "zVVRuGhAkvGB"
      },
      "outputs": [],
      "source": [
        "# parameters for dataset generation. If you want to, you can change batch size, but there should be no reason to.\n",
        "BATCH_SIZE = 128\n",
        "SEQ_LEN = 64\n",
        "VOCAB_SIZE = 10"
      ]
    },
    {
      "cell_type": "code",
      "execution_count": 461,
      "metadata": {
        "id": "xaNhUp_dpQ8z"
      },
      "outputs": [],
      "source": [
        "import string\n",
        "\n",
        "Edge = namedtuple(\"Edge\", \"to token prob\")"
      ]
    },
    {
      "cell_type": "code",
      "execution_count": 462,
      "metadata": {
        "id": "JsWrkXJKbF-N"
      },
      "outputs": [],
      "source": [
        "def generate_random(size):\n",
        "    \"\"\"\n",
        "    For generating a random sequence of elements.\n",
        "    \"\"\"\n",
        "    prob = 1.0/size\n",
        "    graph = {0: [Edge(to=0, token=a, prob=prob) for a in range(size)]}\n",
        "    return graph"
      ]
    },
    {
      "cell_type": "code",
      "execution_count": 463,
      "metadata": {
        "id": "WmISw7OdqG-C"
      },
      "outputs": [],
      "source": [
        "def generate_pseudo_permutation(size, true_prob=1.0):\n",
        "    assert 0 < size\n",
        "    assert 0 < true_prob <= 1.0\n",
        "    permutation = np.random.permutation(size)\n",
        "    graph = {}\n",
        "    for v in range(size):\n",
        "        e1 = Edge(to=(v+1) % size, token=v, prob=1. - true_prob)\n",
        "        e2 = Edge(to=permutation[v], token=v, prob=true_prob)\n",
        "        graph[v] = [e1, e2]\n",
        "    return graph"
      ]
    },
    {
      "cell_type": "code",
      "execution_count": 464,
      "metadata": {
        "id": "JnVBIkeGqQNN"
      },
      "outputs": [],
      "source": [
        "class SeqGen:\n",
        "    \"\"\"\n",
        "    For generating sequences based on a given Markov chain.\n",
        "    Markov chain is represented as a directed graph with edges \n",
        "    labeled with probabilities and tokens to output\n",
        "    (dictionary mapping vertex->Edge).\n",
        "    Assumes that the starting vertex is 0.\n",
        "    \"\"\"\n",
        "    def __init__(self, graph):\n",
        "        self.graph = graph\n",
        "        self.current = 0 # we will always start with 0\n",
        "\n",
        "    def __iter__(self):\n",
        "        return self\n",
        "\n",
        "    def __next__(self):\n",
        "        options = self.graph[self.current]\n",
        "        probs = list(map(lambda x: x.prob, options))\n",
        "        choice = np.random.choice(\n",
        "            list(range(len(options))), size=1, p=probs)[0]\n",
        "        self.current = options[choice].to\n",
        "        return options[choice].token"
      ]
    },
    {
      "cell_type": "code",
      "execution_count": 465,
      "metadata": {
        "id": "Fptch60Ctc_e"
      },
      "outputs": [],
      "source": [
        "def generate_dataset(gen_factory, seq_len, num_entries):\n",
        "    \"\"\"\n",
        "    For generating datasets with num_entries elements each\n",
        "    of length seq_len.\n",
        "\n",
        "      gen_factory is a procedure that returns \n",
        "        instance of SeqGen when called.\n",
        "\n",
        "      seq_len is the length of the sequence to generate.\n",
        "      \n",
        "      num_entries is the number of sequences to generate.\n",
        "    \"\"\"\n",
        "    entries = []\n",
        "    for e in range(num_entries):\n",
        "        seq_gen = gen_factory()\n",
        "        seq = []\n",
        "        for s in range(seq_len + 1):\n",
        "            seq.append(next(seq_gen))\n",
        "        entries.append(seq)\n",
        "    data = torch.tensor(entries, dtype=torch.long)\n",
        "    x = data[:, :seq_len]\n",
        "    y = data[:, 1:]       # we predict next token\n",
        "    return torch.utils.data.TensorDataset(x, y)"
      ]
    },
    {
      "cell_type": "code",
      "execution_count": 466,
      "metadata": {
        "id": "IroIOoVstedc"
      },
      "outputs": [],
      "source": [
        "def example_generator(gen):\n",
        "    \"\"\"\n",
        "      gen is a procedure that returns a graph describing\n",
        "      a Markov chain when called.\n",
        "    \"\"\"\n",
        "    def example_gen():\n",
        "        return SeqGen(gen())\n",
        "    return example_gen"
      ]
    },
    {
      "cell_type": "code",
      "execution_count": 467,
      "metadata": {
        "id": "_SyGQIFrtgSp"
      },
      "outputs": [],
      "source": [
        "PERM_EXAMPLE_GENERATOR = example_generator(lambda: generate_pseudo_permutation(\n",
        "            VOCAB_SIZE, true_prob=0.8))\n",
        "\n",
        "RANDOM_EXAMPLE_GENERATOR = example_generator(lambda: generate_random(\n",
        "            VOCAB_SIZE))\n",
        "\n",
        "\n",
        "TRAIN_DATASET = generate_dataset(\n",
        "    gen_factory=PERM_EXAMPLE_GENERATOR, seq_len=SEQ_LEN, num_entries=10000)\n",
        "TEST_DATASET = generate_dataset(\n",
        "    gen_factory=PERM_EXAMPLE_GENERATOR, seq_len=SEQ_LEN, num_entries=1000)\n",
        "\n",
        "TRAIN_LOADER = torch.utils.data.DataLoader(\n",
        "    TRAIN_DATASET, batch_size=BATCH_SIZE)\n",
        "TEST_LOADER = torch.utils.data.DataLoader(TEST_DATASET, batch_size=BATCH_SIZE)\n",
        "\n",
        "RANDOM_TRAIN_DATASET = generate_dataset(\n",
        "    gen_factory=RANDOM_EXAMPLE_GENERATOR, seq_len=SEQ_LEN, num_entries=100)\n",
        "\n",
        "RANDOM_TEST_DATASET = generate_dataset(\n",
        "    gen_factory=RANDOM_EXAMPLE_GENERATOR, seq_len=SEQ_LEN, num_entries=100)\n",
        "\n",
        "RANDOM_TRAIN_LOADER = torch.utils.data.DataLoader(\n",
        "    RANDOM_TRAIN_DATASET, batch_size=BATCH_SIZE)\n",
        "\n",
        "RANDOM_TEST_LOADER = torch.utils.data.DataLoader(\n",
        "    RANDOM_TEST_DATASET, batch_size=BATCH_SIZE)\n",
        "\n"
      ]
    },
    {
      "cell_type": "markdown",
      "metadata": {
        "id": "RviF28L78xGJ"
      },
      "source": [
        "## Data visualization"
      ]
    },
    {
      "cell_type": "code",
      "execution_count": 468,
      "metadata": {
        "colab": {
          "base_uri": "https://localhost:8080/"
        },
        "id": "kEyLYYxnaFkR",
        "outputId": "a2a8a0bc-47ce-4bf8-b92d-5a764eeaa2cc"
      },
      "outputs": [
        {
          "name": "stdout",
          "output_type": "stream",
          "text": [
            "torch.Size([128, 64])\n",
            "torch.Size([128, 64])\n",
            "torch.Size([128, 64])\n",
            "torch.Size([128, 64])\n",
            "torch.Size([128, 64])\n",
            "torch.Size([128, 64])\n",
            "torch.Size([128, 64])\n",
            "torch.Size([128, 64])\n",
            "torch.Size([128, 64])\n",
            "torch.Size([128, 64])\n",
            "torch.Size([128, 64])\n"
          ]
        }
      ],
      "source": [
        "for index, (x, _) in enumerate(TRAIN_LOADER):\n",
        "  print(x.shape)\n",
        "  if index >= 10:\n",
        "    break"
      ]
    },
    {
      "cell_type": "code",
      "execution_count": 469,
      "metadata": {
        "id": "7PjTg1YZtnPD"
      },
      "outputs": [],
      "source": [
        "import networkx as nx\n",
        "\n",
        "def plot_graph(graph):\n",
        "    \"\"\"\n",
        "    Draws the graph that describes a Markov chain.\n",
        "    \"\"\"\n",
        "    edg_list = []\n",
        "    edg_labels = {}\n",
        "    for v, out_edg in graph.items():\n",
        "        for edg in out_edg:\n",
        "            t = (v, edg.to)\n",
        "            tr = (edg.to, v)\n",
        "            text = f\"{v}→{edg.to} = {edg.prob:.2f}\"\n",
        "            if t in edg_labels:\n",
        "                edg_labels[t] += \"\\n\" + text\n",
        "            elif tr in edg_labels:\n",
        "                edg_labels[tr] += \"\\n\" + text\n",
        "            else:\n",
        "                edg_labels[t] = text\n",
        "            edg_list.append(t)\n",
        "    G = nx.DiGraph(directed=True)\n",
        "    G.add_edges_from(edg_list)\n",
        "    pos = nx.nx_pydot.graphviz_layout(G)\n",
        "    fig = plt.figure(1, figsize=(300, 120), dpi=30)\n",
        "    nx.draw_networkx_edge_labels(G, pos, edge_labels=edg_labels, font_size=120)\n",
        "    nx.draw_networkx(G, pos, node_size=50000, arrows=True, arrowsize=200)\n",
        "    nx.draw_networkx_labels(G, pos, font_size=120)"
      ]
    },
    {
      "cell_type": "markdown",
      "metadata": {
        "id": "6dXeIoj9szA-"
      },
      "source": [
        "Below you can find some visualizations of the data."
      ]
    },
    {
      "cell_type": "code",
      "execution_count": 470,
      "metadata": {
        "colab": {
          "base_uri": "https://localhost:8080/",
          "height": 986
        },
        "id": "Y8wlOGO2BHvh",
        "outputId": "56209181-a2b9-463d-bc2f-41a402f8c065"
      },
      "outputs": [],
      "source": [
        "#graph = generate_pseudo_permutation(10, true_prob=0.8)\n",
        "#plot_graph(graph)\n",
        "#data = [x for i, x in zip(range(SEQ_LEN), SeqGen(graph))]\n",
        "#print(data)"
      ]
    },
    {
      "cell_type": "markdown",
      "metadata": {
        "id": "MVWFdAcYtO4E"
      },
      "source": [
        "# Main part"
      ]
    },
    {
      "cell_type": "code",
      "execution_count": 471,
      "metadata": {
        "colab": {
          "base_uri": "https://localhost:8080/"
        },
        "id": "IKXy8hv6s5WO",
        "outputId": "dd43abc1-3ecb-49fa-8512-4916122186b7"
      },
      "outputs": [
        {
          "name": "stdout",
          "output_type": "stream",
          "text": [
            "Ok we have cuda capable device\n"
          ]
        }
      ],
      "source": [
        "if torch.cuda.is_available():\n",
        "    DEVICE = torch.device(\"cuda\")\n",
        "    print(\"Ok we have cuda capable device\")\n",
        "else:\n",
        "    DEVICE = torch.device(\"cpu\")\n",
        "    print(\"No cuda capable device. If you are running the code in Colab, you can enable a GPU by going to Runtime -> Change runtime type -> GPU.\")\n",
        "    print(\" If you are running the code locally, you may need to install additional drivers and libraries, such as cuDNN, to enable GPU support.\")\n"
      ]
    },
    {
      "cell_type": "markdown",
      "metadata": {
        "id": "IqEpKj28fBlQ"
      },
      "source": [
        "Before implementing the Transformer part of the model, you may (but don't have to) revisit the implementation of the softmax function. This can help you with the efficient implementation of the causal mask later on. "
      ]
    },
    {
      "cell_type": "code",
      "execution_count": 472,
      "metadata": {
        "id": "zNDdpcKhtCUq"
      },
      "outputs": [],
      "source": [
        "def stable_softmax(x, dim):\n",
        "    _max, _ = torch.max(x, dim=dim, keepdim=True)\n",
        "    exp = torch.exp(x - _max)\n",
        "    return exp / torch.sum(exp, dim=dim, keepdim=True)\n",
        "\n",
        "\n",
        "test_input = torch.arange(128, dtype=torch.float).reshape(2, 4, 16)\n",
        "assert torch.isclose(stable_softmax(test_input + 10.0**4, dim=-1),\n",
        "                    stable_softmax(test_input, dim=-1)).all()\n",
        "assert torch.isclose(stable_softmax(test_input, dim=-1),\n",
        "                    torch.nn.functional.softmax(test_input, dim=-1)).all()\n",
        "assert torch.isclose(stable_softmax(test_input, dim=-2),\n",
        "                    torch.nn.functional.softmax(test_input, dim=-2)).all()\n",
        "assert torch.isclose(stable_softmax(test_input, dim=0),\n",
        "                    torch.nn.functional.softmax(test_input, dim=0)).all()"
      ]
    },
    {
      "cell_type": "markdown",
      "metadata": {
        "id": "6DITOv3e8O5z"
      },
      "source": [
        "## The architecture"
      ]
    },
    {
      "cell_type": "markdown",
      "metadata": {
        "id": "ecX4sSa0kMc3"
      },
      "source": [
        "Implement a module that performs Multi-Head Attention. For text generation, the module should be able to cache calculated keys and values. The cache should be indifferentiable (don't forget `.detach()`). Remember to use the causal mask to ensure that elements can only see themselves and elements that precede them."
      ]
    },
    {
      "cell_type": "code",
      "execution_count": 473,
      "metadata": {
        "id": "RnlBoSYYtEqn"
      },
      "outputs": [],
      "source": [
        "from __future__ import annotations\n",
        "import math\n",
        "from torch import nn\n",
        "import torch.nn.functional as F\n",
        "\n",
        "\n",
        "MHACache = namedtuple(\"MHACache\", \"k v\")\n",
        "\n",
        "\n",
        "class MultiHeadAttention(torch.nn.Module):\n",
        "    def __init__(self, d_model, num_heads, d_head):\n",
        "      super(MultiHeadAttention, self).__init__()\n",
        "      assert d_model % num_heads == 0\n",
        "      assert d_model // num_heads == d_head\n",
        "\n",
        "      self._d_head = d_head\n",
        "      self._d_model = d_model\n",
        "      self._num_heads = num_heads\n",
        "\n",
        "      self._w0 = nn.Linear(d_model, d_model)\n",
        "      self._wqkv = nn.Linear(d_model, 3 * num_heads * d_head)\n",
        "      self._d_head = d_head\n",
        "\n",
        "\n",
        "    def get_empty_cache(self, batch_size):\n",
        "        return MHACache(k=torch.empty(0, batch_size, self._num_heads, self._d_head, device=DEVICE),\n",
        "                        v=torch.empty(0, batch_size, self._num_heads, self._d_head, device=DEVICE))\n",
        "    \n",
        "    def attention(self, query, key, value) -> torch.Tensor:\n",
        "        \"query, key, value: (nbatch, h, seq, d_head)\"\n",
        "        scores = torch.matmul(query, key.transpose(2, 3)) / math.sqrt(self._d_head)  # nbatch, h, seq, seq\n",
        "        seq = scores.size(2)\n",
        "        mask = torch.triu(torch.ones(seq, seq, dtype=torch.bool, device=DEVICE), diagonal=1)  # 1, seq, seq\n",
        "        scores = scores.masked_fill(mask, -1e9)\n",
        "        attn = scores.softmax(dim=3)  # nbatch, h, seq, seq\n",
        "        res = torch.matmul(attn, value)  # nbatch, h, seq, d_head\n",
        "        return res\n",
        "\n",
        "    def forward(self, x, cache):\n",
        "      \"\"\"\n",
        "        x input of shape (seq, batch_size, d_model).\n",
        "\n",
        "        cache is a MHACache object consisting of keys and values\n",
        "          of shape (seq', batch_size, head, d_head)\n",
        "\n",
        "      Returns the result of the attention computation along with the updated\n",
        "      cache. The attention is calculated separately for each head. The attention\n",
        "      mechanism used is decoder-style, which means that an element can only\n",
        "      attend to itself and elements that precede it (including elements in the\n",
        "      cache). The new cache is created by extending the old cache with the new\n",
        "      keys and values computed for each head of x.\n",
        "      \"\"\"\n",
        "      assert len(x.shape) == 3  # seq, batch, d_model\n",
        "      assert x.shape[-1] == self._d_model\n",
        "\n",
        "      #assert len(cache.k.shape) == 4  # seq', batch, head, d_head\n",
        "      #assert cache.k.shape == cache.v.shape\n",
        "      #assert cache.k.shape[1] == x.shape[1]\n",
        "      #assert cache.k.shape[2] == self._num_heads\n",
        "      #assert cache.k.shape[3] == self._d_head\n",
        "\n",
        "      nbaches = x.size(1)\n",
        "      seq = x.size(0)\n",
        "\n",
        "      qkv = (\n",
        "        self._wqkv(x)  # seq, nbatch, 3 * h * dhead\n",
        "        .view(seq, nbaches, 3, self._num_heads, self._d_head)  # seq, nbatch, 3, h, dhead\n",
        "        .permute(1, 2, 3, 0, 4)  # nbatch, 3, h, seq, dhead\n",
        "      )\n",
        "\n",
        "      query, key, value = torch.unbind(qkv, dim=1)  # [nbatch, h, seq, dhead]\n",
        "\n",
        "      concat = (\n",
        "        self.attention(query, key, value)  # nbatch, h, seq, d_head\n",
        "          .permute(0, 2, 1, 3)  # nbatch, seq, h, d_head\n",
        "          .reshape(nbaches, seq, self._d_model)  # nbatch, seq, d_model\n",
        "      )\n",
        "\n",
        "      del query, key, value\n",
        "\n",
        "      res = (\n",
        "        self._w0(concat)  # nbatch, seq, d_model\n",
        "        .permute(1, 0, 2)  # seq, nbatch, d_model\n",
        "      )\n",
        "\n",
        "      assert res.shape == x.shape\n",
        "      return res, cache"
      ]
    },
    {
      "cell_type": "markdown",
      "metadata": {
        "id": "kCRUr_1ylYQG"
      },
      "source": [
        "Implement a FeedForward layer (pay attention to the place where the activation function is used)."
      ]
    },
    {
      "cell_type": "code",
      "execution_count": 474,
      "metadata": {
        "id": "M1P78ERitMaa"
      },
      "outputs": [],
      "source": [
        "class FeedForward(torch.nn.Module):\n",
        "    def __init__(self, d_model, d_ff):\n",
        "      super(FeedForward, self).__init__()\n",
        "      self.d_model = d_model\n",
        "      self._w1 = nn.Linear(d_model, d_ff)\n",
        "      self._w2 = nn.Linear(d_ff, d_model)\n",
        "\n",
        "    def forward(self, x):\n",
        "      assert len(x.shape) == 3  # seq, batch, d_model\n",
        "      assert x.shape[-1] == self.d_model\n",
        "      \n",
        "      x = F.gelu(self._w1(x))  # seq, batch, d_ff\n",
        "      x = self._w2(x)  # seq, batch d_model\n",
        "\n",
        "      assert len(x.shape) == 3  # seq, batch, d_model\n",
        "      assert x.shape[-1] == self.d_model\n",
        "      return x\n"
      ]
    },
    {
      "cell_type": "markdown",
      "metadata": {
        "id": "HhcXB0P-kCSN"
      },
      "source": [
        "\n",
        "Implement `DecoderLayer`: \n",
        "* use residual connections as in the image\n",
        "* use `torch.nn.LayerNorm(d_model)`\n",
        "* use `MultiHeadAttention` and `FeedForward` that you have implemented above"
      ]
    },
    {
      "cell_type": "code",
      "execution_count": 475,
      "metadata": {},
      "outputs": [],
      "source": [
        "from copy import deepcopy\n",
        "\n",
        "\n",
        "def clones(module, n):\n",
        "    return nn.ModuleList([deepcopy(module) for _ in range(n)])"
      ]
    },
    {
      "cell_type": "code",
      "execution_count": 476,
      "metadata": {},
      "outputs": [],
      "source": [
        "from typing import Tuple, Any\n",
        "\n",
        "\n",
        "class ResidualLayerWCache(nn.Module):\n",
        "    def __init__(self, input_size) -> ResidualLayerWCache:\n",
        "        super().__init__()\n",
        "        self.norm = nn.LayerNorm(input_size)\n",
        "        self.input_size = input_size\n",
        "    \n",
        "    def forward(self, x: torch.Tensor, sublayer: nn.Module, cache: Any) -> Tuple[torch.Tensor, Any]:\n",
        "        assert x.size(-1) == self.input_size\n",
        "        x1, new_cache = sublayer(self.norm(x), cache)\n",
        "        return x + x1, new_cache"
      ]
    },
    {
      "cell_type": "code",
      "execution_count": 477,
      "metadata": {
        "id": "HHOwlWMDtV7_"
      },
      "outputs": [],
      "source": [
        "class DecoderLayer(torch.nn.Module):\n",
        "    def __init__(self, d_model, d_ff, num_heads, d_head):\n",
        "      super().__init__()\n",
        "      self.d_model = d_model\n",
        "      self.d_ff = d_ff\n",
        "      self.num_heads = num_heads\n",
        "      self.d_head = d_head\n",
        "      \n",
        "      self.attention = MultiHeadAttention(d_model=d_model, num_heads=num_heads, d_head=d_head)\n",
        "      self.dense = FeedForward(d_model, d_ff)\n",
        "      self.norms = clones(nn.LayerNorm(d_model), 2)\n",
        "\n",
        "    def get_empty_cache(self, batch_size):\n",
        "        return self.attention.get_empty_cache(batch_size)\n",
        "\n",
        "    def forward(self, x, cache):\n",
        "      # residual 1\n",
        "      x1 = self.norms[0](x)\n",
        "      x1, cache = self.attention(x1, cache)\n",
        "      x = x + x1\n",
        "      \n",
        "      # residual 2\n",
        "      x = x + self.dense(self.norms[1](x))\n",
        "      return x, cache\n"
      ]
    },
    {
      "cell_type": "markdown",
      "metadata": {
        "id": "5HP1jEWpmhcM"
      },
      "source": [
        "Implement positional encoding."
      ]
    },
    {
      "cell_type": "code",
      "execution_count": 478,
      "metadata": {
        "id": "8dhikBWXmm_z"
      },
      "outputs": [],
      "source": [
        "import plotly.graph_objects as go\n",
        "\n",
        "def get_positional_encoding(seqlen, hiddendim):\n",
        "  \"\"\"\n",
        "  Returns a matrix P of shape (seqlen, hiddendim) where\n",
        "  P[i] should be added to the ith element of the input sequence \n",
        "  as positional encoding.\n",
        "  \"\"\"\n",
        "  # TODO: implement positional encoding\n",
        "  positional_encoding = torch.zeros((seqlen, hiddendim), dtype=torch.float).detach()\n",
        "  pos = torch.arange(seqlen, dtype=torch.float).unsqueeze(1).detach()  # seqlen, 1\n",
        "  dim_vec = torch.arange(hiddendim).detach()\n",
        "  dim_vec = torch.where(dim_vec % 2 == 1, dim_vec-1, dim_vec).unsqueeze(0)  # 1, hiddendim\n",
        "  dim_vec = 10000**(dim_vec / hiddendim)\n",
        "\n",
        "  positional_encoding = torch.matmul(pos, dim_vec)  # seqlen, hiddendim\n",
        "  positional_encoding[:, 0::2] = torch.sin(positional_encoding[:, 0::2])\n",
        "  positional_encoding[:, 1::2] = torch.cos(positional_encoding[:, 1::2])\n",
        "  \n",
        "  # output shape: (seqlen, hiddendim)\n",
        "  return positional_encoding.to(DEVICE)"
      ]
    },
    {
      "cell_type": "markdown",
      "metadata": {
        "id": "tqSwzmJFnlgU"
      },
      "source": [
        "Decoder is already implemented below."
      ]
    },
    {
      "cell_type": "code",
      "execution_count": 479,
      "metadata": {
        "id": "1_NK_BtbtYU_"
      },
      "outputs": [],
      "source": [
        "class Decoder(torch.nn.Module):\n",
        "    def __init__(self, vocab_size, d_model, d_ff, num_heads, d_head, num_layers, positional: bool = True):\n",
        "        super().__init__()\n",
        "        self.vocab_size = vocab_size\n",
        "        self.d_model = d_model\n",
        "        self.embedding = torch.nn.Embedding(vocab_size, d_model)\n",
        "        self.dec_layers = torch.nn.ModuleList([\n",
        "            DecoderLayer(d_model=d_model, d_ff=d_ff, num_heads=num_heads, d_head=d_head) for i in range(num_layers)\n",
        "        ])\n",
        "        self.output_layer = torch.nn.Linear(d_model, vocab_size, bias=True)\n",
        "        self.positional = positional\n",
        "\n",
        "    def get_empty_cache(self, batch_size):\n",
        "        return [\n",
        "            l.get_empty_cache(batch_size) for l in self.dec_layers\n",
        "        ]\n",
        "\n",
        "    def forward(self, x, cache, offset=0):\n",
        "        assert len(x.shape) == 2  # seq, batch\n",
        "        assert (x < self.vocab_size).all()\n",
        "        assert len(self.dec_layers) == len(cache)\n",
        "\n",
        "        x = self.embedding(x)\n",
        "        if self.positional is True:\n",
        "            x = x + get_positional_encoding(x.shape[0]+offset, self.d_model)[offset:, None, :]\n",
        "\n",
        "        new_cache = []\n",
        "        for l, c in zip(self.dec_layers, cache):\n",
        "            x, nc = l(x, c)\n",
        "            new_cache.append(nc)\n",
        "\n",
        "        x = self.output_layer(x)\n",
        "\n",
        "        return torch.distributions.Categorical(logits=x), new_cache\n"
      ]
    },
    {
      "cell_type": "markdown",
      "metadata": {
        "id": "b_YuArcQ8T3b"
      },
      "source": [
        "## Training and evaluation"
      ]
    },
    {
      "cell_type": "markdown",
      "metadata": {
        "id": "qoiYVG2fnos-"
      },
      "source": [
        "Eval is already implemented, please note that the model expects the input of shape `(seq_len, batch)`."
      ]
    },
    {
      "cell_type": "code",
      "execution_count": 480,
      "metadata": {
        "id": "HyBoRiXWtqJb"
      },
      "outputs": [],
      "source": [
        "def take_most_probable(dist):\n",
        "    return torch.argmax(dist.logits.detach(), dim=-1)\n",
        "\n",
        "def take_sample(dist):\n",
        "  return dist.sample()\n",
        "\n",
        "\n",
        "def eval(model, test_loader):\n",
        "    model.eval()\n",
        "    ti = iter(test_loader)\n",
        "\n",
        "    total = 0\n",
        "    total_correct = 0\n",
        "    for td in ti:\n",
        "        x, y = td\n",
        "        x = x.to(DEVICE).swapdims(0, 1)\n",
        "        y = y.to(DEVICE).swapdims(0, 1)\n",
        "        dist, cache = model(x, model.get_empty_cache(x.shape[1]))\n",
        "\n",
        "        model_ans = take_most_probable(dist)\n",
        "        assert model_ans.shape == y.shape\n",
        "        total_correct += (model_ans == y).sum().cpu().item()\n",
        "        total += np.prod(y.shape)\n",
        "\n",
        "    return total_correct/total"
      ]
    },
    {
      "cell_type": "code",
      "execution_count": 481,
      "metadata": {
        "id": "g86qSiwdttrG"
      },
      "outputs": [],
      "source": [
        "def train(model, train_loader, test_loader, num_epoches):\n",
        "    loss_log = []\n",
        "    acc_log = []\n",
        "    optimizer = torch.optim.Adam(model.parameters(), lr=LR)\n",
        "    for epoch in range(num_epoches):\n",
        "        model.train()\n",
        "        ti = iter(train_loader)\n",
        "        epoch_total_loss = 0.0\n",
        "        num_iters = 0\n",
        "        for td in ti:\n",
        "            x, y = td\n",
        "            x = x.to(DEVICE).swapdims(0, 1)\n",
        "            y = y.to(DEVICE).swapdims(0, 1)\n",
        "            optimizer.zero_grad()\n",
        "            dist, cache = model(x, model.get_empty_cache(x.shape[1]))\n",
        "\n",
        "            loss = -dist.log_prob(y).mean()\n",
        "            loss.backward()\n",
        "            optimizer.step()\n",
        "\n",
        "            num_iters += 1\n",
        "            epoch_total_loss += loss.detach().cpu().item()\n",
        "\n",
        "        acc = eval(model, test_loader)\n",
        "        epoch_avg_loss = epoch_total_loss / num_iters\n",
        "        loss_log.append(epoch_avg_loss)\n",
        "        acc_log.append(acc)\n",
        "        print(f\"EPOCH {epoch} loss:{epoch_avg_loss} acc:{acc:.4f}\")\n",
        "    \n",
        "    return loss_log, acc_log\n"
      ]
    },
    {
      "cell_type": "markdown",
      "metadata": {
        "id": "7be6z7DQoRP6"
      },
      "source": [
        "Train the model on the dataset."
      ]
    },
    {
      "cell_type": "code",
      "execution_count": 482,
      "metadata": {
        "id": "u3ZfypBftwl1"
      },
      "outputs": [
        {
          "name": "stdout",
          "output_type": "stream",
          "text": [
            "EPOCH 0 loss:2.1608352751671513 acc:0.3280\n",
            "EPOCH 1 loss:1.9946395551102072 acc:0.3370\n",
            "EPOCH 2 loss:1.5217252849023553 acc:0.6454\n",
            "EPOCH 3 loss:0.9243978495839276 acc:0.7020\n",
            "EPOCH 4 loss:0.8329947560648375 acc:0.7093\n",
            "EPOCH 5 loss:0.8071030936663663 acc:0.7119\n",
            "EPOCH 6 loss:0.7904617039463188 acc:0.7137\n",
            "EPOCH 7 loss:0.7770434595361541 acc:0.7149\n",
            "EPOCH 8 loss:0.7654039105282554 acc:0.7163\n",
            "EPOCH 9 loss:0.7556991539423978 acc:0.7171\n",
            "EPOCH 10 loss:0.7480511974684799 acc:0.7178\n",
            "EPOCH 11 loss:0.741702788238284 acc:0.7185\n",
            "EPOCH 12 loss:0.7363156698927095 acc:0.7193\n",
            "EPOCH 13 loss:0.7317193550399587 acc:0.7194\n",
            "EPOCH 14 loss:0.7277540511722806 acc:0.7196\n",
            "EPOCH 15 loss:0.7242758500425122 acc:0.7199\n",
            "EPOCH 16 loss:0.7211864915075181 acc:0.7202\n",
            "EPOCH 17 loss:0.7184282496005674 acc:0.7199\n",
            "EPOCH 18 loss:0.7159541747238063 acc:0.7202\n",
            "EPOCH 19 loss:0.7137100990814499 acc:0.7203\n",
            "EPOCH 20 loss:0.7116360732271702 acc:0.7203\n",
            "EPOCH 21 loss:0.7097008266026461 acc:0.7204\n",
            "EPOCH 22 loss:0.7079129483126387 acc:0.7203\n",
            "EPOCH 23 loss:0.7062702126140836 acc:0.7207\n",
            "EPOCH 24 loss:0.7047587172894538 acc:0.7207\n",
            "EPOCH 25 loss:0.7033603379998026 acc:0.7209\n",
            "EPOCH 26 loss:0.702060341835022 acc:0.7209\n",
            "EPOCH 27 loss:0.7008458904073208 acc:0.7207\n",
            "EPOCH 28 loss:0.6997036247313777 acc:0.7208\n",
            "EPOCH 29 loss:0.6986251760132706 acc:0.7207\n",
            "EPOCH 30 loss:0.697605999964702 acc:0.7207\n",
            "EPOCH 31 loss:0.6966398984571046 acc:0.7207\n",
            "EPOCH 32 loss:0.6957014029539084 acc:0.7206\n",
            "EPOCH 33 loss:0.6947905632513988 acc:0.7205\n",
            "EPOCH 34 loss:0.6939007187191444 acc:0.7204\n",
            "EPOCH 35 loss:0.6930549914323831 acc:0.7204\n",
            "EPOCH 36 loss:0.6922352321540253 acc:0.7202\n",
            "EPOCH 37 loss:0.6914299681216856 acc:0.7200\n",
            "EPOCH 38 loss:0.69063351878637 acc:0.7196\n",
            "EPOCH 39 loss:0.6898695917069158 acc:0.7193\n",
            "EPOCH 40 loss:0.6891516711138472 acc:0.7192\n",
            "EPOCH 41 loss:0.6884383762939067 acc:0.7193\n",
            "EPOCH 42 loss:0.6877760751337945 acc:0.7192\n",
            "EPOCH 43 loss:0.6871122846120521 acc:0.7191\n",
            "EPOCH 44 loss:0.6864778723897813 acc:0.7195\n",
            "EPOCH 45 loss:0.6858982028840463 acc:0.7197\n",
            "EPOCH 46 loss:0.6853039921084537 acc:0.7201\n",
            "EPOCH 47 loss:0.6845256414594529 acc:0.7201\n",
            "EPOCH 48 loss:0.6836661930325665 acc:0.7199\n",
            "EPOCH 49 loss:0.6827269551120226 acc:0.7197\n"
          ]
        }
      ],
      "source": [
        "BATCH_SIZE = 128\n",
        "HIDDEN_DIM = 64\n",
        "HIDDEN_FF = HIDDEN_DIM * 4\n",
        "NUM_HEADS = 4\n",
        "HEAD_DIM = HIDDEN_DIM // NUM_HEADS\n",
        "NUM_LAYERS = 2\n",
        "LR = 0.001\n",
        "POSITIONAL = True\n",
        "\n",
        "model = Decoder(vocab_size=VOCAB_SIZE, \n",
        "                d_model=HIDDEN_DIM,\n",
        "                d_ff=HIDDEN_FF,\n",
        "                num_heads=NUM_HEADS,\n",
        "                d_head=HEAD_DIM,\n",
        "                num_layers=NUM_LAYERS,\n",
        "                positional=POSITIONAL)\n",
        "\n",
        "model.to(DEVICE)\n",
        "train(model, TRAIN_LOADER, TEST_LOADER, 50)\n",
        "gen_model = deepcopy(model)"
      ]
    },
    {
      "cell_type": "markdown",
      "metadata": {
        "id": "HJay4pxboXtq"
      },
      "source": [
        "Make sure your model is not cheating (that is an element cannot attend to the next element). To do this check that accuracy on the random dataset is around 10% ."
      ]
    },
    {
      "cell_type": "code",
      "execution_count": 483,
      "metadata": {
        "id": "nWCz3I13ojI7"
      },
      "outputs": [
        {
          "name": "stdout",
          "output_type": "stream",
          "text": [
            "EPOCH 0 loss:2.5530378818511963 acc:0.1014\n",
            "EPOCH 1 loss:2.4843666553497314 acc:0.1033\n",
            "EPOCH 2 loss:2.4383461475372314 acc:0.1011\n",
            "EPOCH 3 loss:2.405759572982788 acc:0.1014\n",
            "EPOCH 4 loss:2.381869077682495 acc:0.1006\n",
            "EPOCH 5 loss:2.3643429279327393 acc:0.1003\n",
            "EPOCH 6 loss:2.3513646125793457 acc:0.0975\n",
            "EPOCH 7 loss:2.3413784503936768 acc:0.0969\n",
            "EPOCH 8 loss:2.333408832550049 acc:0.0980\n",
            "EPOCH 9 loss:2.3268871307373047 acc:0.0991\n",
            "EPOCH 10 loss:2.321302652359009 acc:0.0986\n",
            "EPOCH 11 loss:2.316149950027466 acc:0.0981\n",
            "EPOCH 12 loss:2.3110899925231934 acc:0.0988\n",
            "EPOCH 13 loss:2.306020736694336 acc:0.0995\n",
            "EPOCH 14 loss:2.3009798526763916 acc:0.1009\n",
            "EPOCH 15 loss:2.296022653579712 acc:0.1014\n",
            "EPOCH 16 loss:2.2911806106567383 acc:0.1019\n",
            "EPOCH 17 loss:2.286485195159912 acc:0.1020\n",
            "EPOCH 18 loss:2.281993865966797 acc:0.0995\n",
            "EPOCH 19 loss:2.277770519256592 acc:0.0998\n",
            "EPOCH 20 loss:2.273847818374634 acc:0.0980\n",
            "EPOCH 21 loss:2.270209312438965 acc:0.0978\n",
            "EPOCH 22 loss:2.26680588722229 acc:0.0983\n",
            "EPOCH 23 loss:2.263582468032837 acc:0.0975\n",
            "EPOCH 24 loss:2.2604894638061523 acc:0.1002\n",
            "EPOCH 25 loss:2.257478952407837 acc:0.0989\n",
            "EPOCH 26 loss:2.254506826400757 acc:0.0986\n",
            "EPOCH 27 loss:2.2515463829040527 acc:0.0984\n",
            "EPOCH 28 loss:2.248589515686035 acc:0.0981\n",
            "EPOCH 29 loss:2.245633125305176 acc:0.0995\n",
            "EPOCH 30 loss:2.2426583766937256 acc:0.0983\n",
            "EPOCH 31 loss:2.239633560180664 acc:0.0994\n",
            "EPOCH 32 loss:2.23653507232666 acc:0.0983\n",
            "EPOCH 33 loss:2.233360528945923 acc:0.0980\n",
            "EPOCH 34 loss:2.2301175594329834 acc:0.0998\n",
            "EPOCH 35 loss:2.2268083095550537 acc:0.1002\n",
            "EPOCH 36 loss:2.2234268188476562 acc:0.0991\n",
            "EPOCH 37 loss:2.2199642658233643 acc:0.0995\n",
            "EPOCH 38 loss:2.216407299041748 acc:0.1005\n",
            "EPOCH 39 loss:2.2127296924591064 acc:0.1025\n",
            "EPOCH 40 loss:2.2088983058929443 acc:0.1045\n",
            "EPOCH 41 loss:2.204892873764038 acc:0.1041\n",
            "EPOCH 42 loss:2.2007107734680176 acc:0.1019\n",
            "EPOCH 43 loss:2.1963491439819336 acc:0.1016\n",
            "EPOCH 44 loss:2.1917903423309326 acc:0.1023\n",
            "EPOCH 45 loss:2.187011480331421 acc:0.1041\n",
            "EPOCH 46 loss:2.1819968223571777 acc:0.1041\n",
            "EPOCH 47 loss:2.176725387573242 acc:0.1031\n",
            "EPOCH 48 loss:2.1711678504943848 acc:0.1027\n",
            "EPOCH 49 loss:2.1653010845184326 acc:0.1031\n",
            "EPOCH 50 loss:2.1591153144836426 acc:0.1027\n",
            "EPOCH 51 loss:2.1525967121124268 acc:0.1028\n",
            "EPOCH 52 loss:2.1457271575927734 acc:0.1041\n",
            "EPOCH 53 loss:2.138489246368408 acc:0.1028\n",
            "EPOCH 54 loss:2.1308529376983643 acc:0.1042\n",
            "EPOCH 55 loss:2.1227834224700928 acc:0.1055\n",
            "EPOCH 56 loss:2.1142537593841553 acc:0.1062\n",
            "EPOCH 57 loss:2.105233669281006 acc:0.1080\n",
            "EPOCH 58 loss:2.0957107543945312 acc:0.1070\n",
            "EPOCH 59 loss:2.0856857299804688 acc:0.1058\n",
            "EPOCH 60 loss:2.075146198272705 acc:0.1055\n",
            "EPOCH 61 loss:2.064072847366333 acc:0.1044\n",
            "EPOCH 62 loss:2.052436113357544 acc:0.1034\n",
            "EPOCH 63 loss:2.0402190685272217 acc:0.1034\n",
            "EPOCH 64 loss:2.0274035930633545 acc:0.1033\n",
            "EPOCH 65 loss:2.0139758586883545 acc:0.1030\n",
            "EPOCH 66 loss:1.999910831451416 acc:0.1044\n",
            "EPOCH 67 loss:1.9851821660995483 acc:0.1044\n",
            "EPOCH 68 loss:1.969767451286316 acc:0.1067\n",
            "EPOCH 69 loss:1.9536449909210205 acc:0.1062\n",
            "EPOCH 70 loss:1.936784029006958 acc:0.1042\n",
            "EPOCH 71 loss:1.9191741943359375 acc:0.1041\n",
            "EPOCH 72 loss:1.9008557796478271 acc:0.1059\n",
            "EPOCH 73 loss:1.8821831941604614 acc:0.1081\n",
            "EPOCH 74 loss:1.8655575513839722 acc:0.1048\n",
            "EPOCH 75 loss:1.8526897430419922 acc:0.1080\n",
            "EPOCH 76 loss:1.8284329175949097 acc:0.1066\n",
            "EPOCH 77 loss:1.8096647262573242 acc:0.1053\n",
            "EPOCH 78 loss:1.7949612140655518 acc:0.1067\n",
            "EPOCH 79 loss:1.7699148654937744 acc:0.1045\n",
            "EPOCH 80 loss:1.7554879188537598 acc:0.1048\n",
            "EPOCH 81 loss:1.7324587106704712 acc:0.1044\n",
            "EPOCH 82 loss:1.711876630783081 acc:0.1028\n",
            "EPOCH 83 loss:1.69319486618042 acc:0.1045\n",
            "EPOCH 84 loss:1.6681139469146729 acc:0.1047\n",
            "EPOCH 85 loss:1.6490399837493896 acc:0.1036\n",
            "EPOCH 86 loss:1.6250654458999634 acc:0.1034\n",
            "EPOCH 87 loss:1.6010823249816895 acc:0.1030\n",
            "EPOCH 88 loss:1.579746961593628 acc:0.1059\n",
            "EPOCH 89 loss:1.553464651107788 acc:0.1044\n",
            "EPOCH 90 loss:1.528605341911316 acc:0.1033\n",
            "EPOCH 91 loss:1.5056051015853882 acc:0.1045\n",
            "EPOCH 92 loss:1.4790990352630615 acc:0.1053\n",
            "EPOCH 93 loss:1.454228162765503 acc:0.1059\n",
            "EPOCH 94 loss:1.4397913217544556 acc:0.1042\n",
            "EPOCH 95 loss:1.4267585277557373 acc:0.1045\n",
            "EPOCH 96 loss:1.396552562713623 acc:0.1062\n",
            "EPOCH 97 loss:1.377478003501892 acc:0.1053\n",
            "EPOCH 98 loss:1.3410732746124268 acc:0.1033\n",
            "EPOCH 99 loss:1.337058424949646 acc:0.1073\n",
            "EPOCH 100 loss:1.2945359945297241 acc:0.1042\n",
            "EPOCH 101 loss:1.2870947122573853 acc:0.1072\n",
            "EPOCH 102 loss:1.2517399787902832 acc:0.1033\n",
            "EPOCH 103 loss:1.2392820119857788 acc:0.1044\n",
            "EPOCH 104 loss:1.2068471908569336 acc:0.1048\n",
            "EPOCH 105 loss:1.1945503950119019 acc:0.1042\n",
            "EPOCH 106 loss:1.1597399711608887 acc:0.1022\n",
            "EPOCH 107 loss:1.14478600025177 acc:0.1041\n",
            "EPOCH 108 loss:1.1135786771774292 acc:0.1039\n",
            "EPOCH 109 loss:1.096545696258545 acc:0.1019\n",
            "EPOCH 110 loss:1.064401626586914 acc:0.1016\n",
            "EPOCH 111 loss:1.0455659627914429 acc:0.1028\n",
            "EPOCH 112 loss:1.0155402421951294 acc:0.1031\n",
            "EPOCH 113 loss:0.9966254234313965 acc:0.1017\n",
            "EPOCH 114 loss:0.9715426564216614 acc:0.1036\n",
            "EPOCH 115 loss:0.959743320941925 acc:0.1020\n",
            "EPOCH 116 loss:0.9502430558204651 acc:0.1055\n",
            "EPOCH 117 loss:0.922563910484314 acc:0.1003\n",
            "EPOCH 118 loss:0.8752632141113281 acc:0.0998\n",
            "EPOCH 119 loss:0.8591066598892212 acc:0.1030\n",
            "EPOCH 120 loss:0.8470599055290222 acc:0.1023\n",
            "EPOCH 121 loss:0.8036012053489685 acc:0.1003\n",
            "EPOCH 122 loss:0.789700448513031 acc:0.1003\n",
            "EPOCH 123 loss:0.7685098052024841 acc:0.1039\n",
            "EPOCH 124 loss:0.7382867932319641 acc:0.1020\n",
            "EPOCH 125 loss:0.7164250016212463 acc:0.1000\n",
            "EPOCH 126 loss:0.7008751630783081 acc:0.1000\n",
            "EPOCH 127 loss:0.6684749722480774 acc:0.1008\n",
            "EPOCH 128 loss:0.6476104855537415 acc:0.1013\n",
            "EPOCH 129 loss:0.6302781701087952 acc:0.1023\n",
            "EPOCH 130 loss:0.6040284633636475 acc:0.1009\n",
            "EPOCH 131 loss:0.5821805596351624 acc:0.1003\n",
            "EPOCH 132 loss:0.5682336091995239 acc:0.1006\n",
            "EPOCH 133 loss:0.5474861264228821 acc:0.1017\n",
            "EPOCH 134 loss:0.5214661359786987 acc:0.0989\n",
            "EPOCH 135 loss:0.49714866280555725 acc:0.1003\n",
            "EPOCH 136 loss:0.4789539575576782 acc:0.0991\n",
            "EPOCH 137 loss:0.46027320623397827 acc:0.0984\n",
            "EPOCH 138 loss:0.43586280941963196 acc:0.1000\n",
            "EPOCH 139 loss:0.4194062352180481 acc:0.0980\n",
            "EPOCH 140 loss:0.40188068151474 acc:0.0972\n",
            "EPOCH 141 loss:0.38386765122413635 acc:0.0973\n",
            "EPOCH 142 loss:0.3610307276248932 acc:0.0978\n",
            "EPOCH 143 loss:0.3432074785232544 acc:0.0984\n",
            "EPOCH 144 loss:0.3282333016395569 acc:0.0980\n",
            "EPOCH 145 loss:0.30975714325904846 acc:0.0986\n",
            "EPOCH 146 loss:0.2934642732143402 acc:0.0972\n",
            "EPOCH 147 loss:0.2755727469921112 acc:0.0977\n",
            "EPOCH 148 loss:0.26362061500549316 acc:0.0975\n",
            "EPOCH 149 loss:0.2469506710767746 acc:0.0981\n",
            "EPOCH 150 loss:0.23228220641613007 acc:0.0981\n",
            "EPOCH 151 loss:0.2187650203704834 acc:0.0986\n",
            "EPOCH 152 loss:0.20709218084812164 acc:0.0997\n",
            "EPOCH 153 loss:0.1938813328742981 acc:0.0991\n",
            "EPOCH 154 loss:0.18232138454914093 acc:0.0981\n",
            "EPOCH 155 loss:0.170310378074646 acc:0.0984\n",
            "EPOCH 156 loss:0.1608411818742752 acc:0.0980\n",
            "EPOCH 157 loss:0.15065546333789825 acc:0.0981\n",
            "EPOCH 158 loss:0.1413397192955017 acc:0.0972\n",
            "EPOCH 159 loss:0.13246284425258636 acc:0.0972\n",
            "EPOCH 160 loss:0.12508587539196014 acc:0.0973\n",
            "EPOCH 161 loss:0.11730718612670898 acc:0.0969\n",
            "EPOCH 162 loss:0.11038230359554291 acc:0.0967\n",
            "EPOCH 163 loss:0.10441560298204422 acc:0.0975\n",
            "EPOCH 164 loss:0.0986405536532402 acc:0.0977\n",
            "EPOCH 165 loss:0.09335443377494812 acc:0.0963\n",
            "EPOCH 166 loss:0.08864562958478928 acc:0.0972\n",
            "EPOCH 167 loss:0.0842352882027626 acc:0.0969\n",
            "EPOCH 168 loss:0.08040229976177216 acc:0.0970\n",
            "EPOCH 169 loss:0.07682473212480545 acc:0.0966\n",
            "EPOCH 170 loss:0.07359106093645096 acc:0.0964\n",
            "EPOCH 171 loss:0.07053598016500473 acc:0.0964\n",
            "EPOCH 172 loss:0.06795192509889603 acc:0.0966\n",
            "EPOCH 173 loss:0.06551496684551239 acc:0.0963\n",
            "EPOCH 174 loss:0.06335874646902084 acc:0.0966\n",
            "EPOCH 175 loss:0.06135862320661545 acc:0.0966\n",
            "EPOCH 176 loss:0.05959659442305565 acc:0.0969\n",
            "EPOCH 177 loss:0.058001354336738586 acc:0.0972\n",
            "EPOCH 178 loss:0.05658185854554176 acc:0.0966\n",
            "EPOCH 179 loss:0.055450018495321274 acc:0.0967\n",
            "EPOCH 180 loss:0.05442545935511589 acc:0.0970\n",
            "EPOCH 181 loss:0.05331724137067795 acc:0.0967\n",
            "EPOCH 182 loss:0.052719905972480774 acc:0.0972\n",
            "EPOCH 183 loss:0.05201134458184242 acc:0.0967\n",
            "EPOCH 184 loss:0.050321102142333984 acc:0.0964\n",
            "EPOCH 185 loss:0.0505514033138752 acc:0.0970\n",
            "EPOCH 186 loss:0.04980503395199776 acc:0.0963\n",
            "EPOCH 187 loss:0.049776799976825714 acc:0.0973\n",
            "EPOCH 188 loss:0.04902122542262077 acc:0.0978\n",
            "EPOCH 189 loss:0.0482349619269371 acc:0.0972\n",
            "EPOCH 190 loss:0.046969737857580185 acc:0.0963\n",
            "EPOCH 191 loss:0.04626999795436859 acc:0.0964\n",
            "EPOCH 192 loss:0.046018484979867935 acc:0.0964\n",
            "EPOCH 193 loss:0.04610276594758034 acc:0.0955\n",
            "EPOCH 194 loss:0.04546406492590904 acc:0.0958\n",
            "EPOCH 195 loss:0.04534798115491867 acc:0.0958\n",
            "EPOCH 196 loss:0.04463750869035721 acc:0.0964\n",
            "EPOCH 197 loss:0.04431614652276039 acc:0.0963\n",
            "EPOCH 198 loss:0.04411618039011955 acc:0.0966\n",
            "EPOCH 199 loss:0.04414740577340126 acc:0.0975\n",
            "EPOCH 200 loss:0.04462350904941559 acc:0.0955\n"
          ]
        },
        {
          "data": {
            "text/plain": [
              "([2.5530378818511963,\n",
              "  2.4843666553497314,\n",
              "  2.4383461475372314,\n",
              "  2.405759572982788,\n",
              "  2.381869077682495,\n",
              "  2.3643429279327393,\n",
              "  2.3513646125793457,\n",
              "  2.3413784503936768,\n",
              "  2.333408832550049,\n",
              "  2.3268871307373047,\n",
              "  2.321302652359009,\n",
              "  2.316149950027466,\n",
              "  2.3110899925231934,\n",
              "  2.306020736694336,\n",
              "  2.3009798526763916,\n",
              "  2.296022653579712,\n",
              "  2.2911806106567383,\n",
              "  2.286485195159912,\n",
              "  2.281993865966797,\n",
              "  2.277770519256592,\n",
              "  2.273847818374634,\n",
              "  2.270209312438965,\n",
              "  2.26680588722229,\n",
              "  2.263582468032837,\n",
              "  2.2604894638061523,\n",
              "  2.257478952407837,\n",
              "  2.254506826400757,\n",
              "  2.2515463829040527,\n",
              "  2.248589515686035,\n",
              "  2.245633125305176,\n",
              "  2.2426583766937256,\n",
              "  2.239633560180664,\n",
              "  2.23653507232666,\n",
              "  2.233360528945923,\n",
              "  2.2301175594329834,\n",
              "  2.2268083095550537,\n",
              "  2.2234268188476562,\n",
              "  2.2199642658233643,\n",
              "  2.216407299041748,\n",
              "  2.2127296924591064,\n",
              "  2.2088983058929443,\n",
              "  2.204892873764038,\n",
              "  2.2007107734680176,\n",
              "  2.1963491439819336,\n",
              "  2.1917903423309326,\n",
              "  2.187011480331421,\n",
              "  2.1819968223571777,\n",
              "  2.176725387573242,\n",
              "  2.1711678504943848,\n",
              "  2.1653010845184326,\n",
              "  2.1591153144836426,\n",
              "  2.1525967121124268,\n",
              "  2.1457271575927734,\n",
              "  2.138489246368408,\n",
              "  2.1308529376983643,\n",
              "  2.1227834224700928,\n",
              "  2.1142537593841553,\n",
              "  2.105233669281006,\n",
              "  2.0957107543945312,\n",
              "  2.0856857299804688,\n",
              "  2.075146198272705,\n",
              "  2.064072847366333,\n",
              "  2.052436113357544,\n",
              "  2.0402190685272217,\n",
              "  2.0274035930633545,\n",
              "  2.0139758586883545,\n",
              "  1.999910831451416,\n",
              "  1.9851821660995483,\n",
              "  1.969767451286316,\n",
              "  1.9536449909210205,\n",
              "  1.936784029006958,\n",
              "  1.9191741943359375,\n",
              "  1.9008557796478271,\n",
              "  1.8821831941604614,\n",
              "  1.8655575513839722,\n",
              "  1.8526897430419922,\n",
              "  1.8284329175949097,\n",
              "  1.8096647262573242,\n",
              "  1.7949612140655518,\n",
              "  1.7699148654937744,\n",
              "  1.7554879188537598,\n",
              "  1.7324587106704712,\n",
              "  1.711876630783081,\n",
              "  1.69319486618042,\n",
              "  1.6681139469146729,\n",
              "  1.6490399837493896,\n",
              "  1.6250654458999634,\n",
              "  1.6010823249816895,\n",
              "  1.579746961593628,\n",
              "  1.553464651107788,\n",
              "  1.528605341911316,\n",
              "  1.5056051015853882,\n",
              "  1.4790990352630615,\n",
              "  1.454228162765503,\n",
              "  1.4397913217544556,\n",
              "  1.4267585277557373,\n",
              "  1.396552562713623,\n",
              "  1.377478003501892,\n",
              "  1.3410732746124268,\n",
              "  1.337058424949646,\n",
              "  1.2945359945297241,\n",
              "  1.2870947122573853,\n",
              "  1.2517399787902832,\n",
              "  1.2392820119857788,\n",
              "  1.2068471908569336,\n",
              "  1.1945503950119019,\n",
              "  1.1597399711608887,\n",
              "  1.14478600025177,\n",
              "  1.1135786771774292,\n",
              "  1.096545696258545,\n",
              "  1.064401626586914,\n",
              "  1.0455659627914429,\n",
              "  1.0155402421951294,\n",
              "  0.9966254234313965,\n",
              "  0.9715426564216614,\n",
              "  0.959743320941925,\n",
              "  0.9502430558204651,\n",
              "  0.922563910484314,\n",
              "  0.8752632141113281,\n",
              "  0.8591066598892212,\n",
              "  0.8470599055290222,\n",
              "  0.8036012053489685,\n",
              "  0.789700448513031,\n",
              "  0.7685098052024841,\n",
              "  0.7382867932319641,\n",
              "  0.7164250016212463,\n",
              "  0.7008751630783081,\n",
              "  0.6684749722480774,\n",
              "  0.6476104855537415,\n",
              "  0.6302781701087952,\n",
              "  0.6040284633636475,\n",
              "  0.5821805596351624,\n",
              "  0.5682336091995239,\n",
              "  0.5474861264228821,\n",
              "  0.5214661359786987,\n",
              "  0.49714866280555725,\n",
              "  0.4789539575576782,\n",
              "  0.46027320623397827,\n",
              "  0.43586280941963196,\n",
              "  0.4194062352180481,\n",
              "  0.40188068151474,\n",
              "  0.38386765122413635,\n",
              "  0.3610307276248932,\n",
              "  0.3432074785232544,\n",
              "  0.3282333016395569,\n",
              "  0.30975714325904846,\n",
              "  0.2934642732143402,\n",
              "  0.2755727469921112,\n",
              "  0.26362061500549316,\n",
              "  0.2469506710767746,\n",
              "  0.23228220641613007,\n",
              "  0.2187650203704834,\n",
              "  0.20709218084812164,\n",
              "  0.1938813328742981,\n",
              "  0.18232138454914093,\n",
              "  0.170310378074646,\n",
              "  0.1608411818742752,\n",
              "  0.15065546333789825,\n",
              "  0.1413397192955017,\n",
              "  0.13246284425258636,\n",
              "  0.12508587539196014,\n",
              "  0.11730718612670898,\n",
              "  0.11038230359554291,\n",
              "  0.10441560298204422,\n",
              "  0.0986405536532402,\n",
              "  0.09335443377494812,\n",
              "  0.08864562958478928,\n",
              "  0.0842352882027626,\n",
              "  0.08040229976177216,\n",
              "  0.07682473212480545,\n",
              "  0.07359106093645096,\n",
              "  0.07053598016500473,\n",
              "  0.06795192509889603,\n",
              "  0.06551496684551239,\n",
              "  0.06335874646902084,\n",
              "  0.06135862320661545,\n",
              "  0.05959659442305565,\n",
              "  0.058001354336738586,\n",
              "  0.05658185854554176,\n",
              "  0.055450018495321274,\n",
              "  0.05442545935511589,\n",
              "  0.05331724137067795,\n",
              "  0.052719905972480774,\n",
              "  0.05201134458184242,\n",
              "  0.050321102142333984,\n",
              "  0.0505514033138752,\n",
              "  0.04980503395199776,\n",
              "  0.049776799976825714,\n",
              "  0.04902122542262077,\n",
              "  0.0482349619269371,\n",
              "  0.046969737857580185,\n",
              "  0.04626999795436859,\n",
              "  0.046018484979867935,\n",
              "  0.04610276594758034,\n",
              "  0.04546406492590904,\n",
              "  0.04534798115491867,\n",
              "  0.04463750869035721,\n",
              "  0.04431614652276039,\n",
              "  0.04411618039011955,\n",
              "  0.04414740577340126,\n",
              "  0.04462350904941559],\n",
              " [0.10140625,\n",
              "  0.10328125,\n",
              "  0.10109375,\n",
              "  0.10140625,\n",
              "  0.100625,\n",
              "  0.1003125,\n",
              "  0.0975,\n",
              "  0.096875,\n",
              "  0.09796875,\n",
              "  0.0990625,\n",
              "  0.09859375,\n",
              "  0.098125,\n",
              "  0.09875,\n",
              "  0.09953125,\n",
              "  0.1009375,\n",
              "  0.10140625,\n",
              "  0.101875,\n",
              "  0.10203125,\n",
              "  0.09953125,\n",
              "  0.09984375,\n",
              "  0.09796875,\n",
              "  0.0978125,\n",
              "  0.09828125,\n",
              "  0.0975,\n",
              "  0.10015625,\n",
              "  0.09890625,\n",
              "  0.09859375,\n",
              "  0.0984375,\n",
              "  0.098125,\n",
              "  0.09953125,\n",
              "  0.09828125,\n",
              "  0.099375,\n",
              "  0.09828125,\n",
              "  0.09796875,\n",
              "  0.09984375,\n",
              "  0.10015625,\n",
              "  0.0990625,\n",
              "  0.09953125,\n",
              "  0.10046875,\n",
              "  0.1025,\n",
              "  0.10453125,\n",
              "  0.1040625,\n",
              "  0.101875,\n",
              "  0.1015625,\n",
              "  0.10234375,\n",
              "  0.1040625,\n",
              "  0.1040625,\n",
              "  0.103125,\n",
              "  0.10265625,\n",
              "  0.103125,\n",
              "  0.10265625,\n",
              "  0.1028125,\n",
              "  0.1040625,\n",
              "  0.1028125,\n",
              "  0.10421875,\n",
              "  0.10546875,\n",
              "  0.10625,\n",
              "  0.10796875,\n",
              "  0.10703125,\n",
              "  0.10578125,\n",
              "  0.10546875,\n",
              "  0.104375,\n",
              "  0.1034375,\n",
              "  0.1034375,\n",
              "  0.10328125,\n",
              "  0.10296875,\n",
              "  0.104375,\n",
              "  0.104375,\n",
              "  0.10671875,\n",
              "  0.10625,\n",
              "  0.10421875,\n",
              "  0.1040625,\n",
              "  0.1059375,\n",
              "  0.108125,\n",
              "  0.10484375,\n",
              "  0.10796875,\n",
              "  0.1065625,\n",
              "  0.1053125,\n",
              "  0.10671875,\n",
              "  0.10453125,\n",
              "  0.10484375,\n",
              "  0.104375,\n",
              "  0.1028125,\n",
              "  0.10453125,\n",
              "  0.1046875,\n",
              "  0.10359375,\n",
              "  0.1034375,\n",
              "  0.10296875,\n",
              "  0.1059375,\n",
              "  0.104375,\n",
              "  0.10328125,\n",
              "  0.10453125,\n",
              "  0.1053125,\n",
              "  0.1059375,\n",
              "  0.10421875,\n",
              "  0.10453125,\n",
              "  0.10625,\n",
              "  0.1053125,\n",
              "  0.10328125,\n",
              "  0.10734375,\n",
              "  0.10421875,\n",
              "  0.1071875,\n",
              "  0.10328125,\n",
              "  0.104375,\n",
              "  0.10484375,\n",
              "  0.10421875,\n",
              "  0.1021875,\n",
              "  0.1040625,\n",
              "  0.10390625,\n",
              "  0.101875,\n",
              "  0.1015625,\n",
              "  0.1028125,\n",
              "  0.103125,\n",
              "  0.10171875,\n",
              "  0.10359375,\n",
              "  0.10203125,\n",
              "  0.10546875,\n",
              "  0.1003125,\n",
              "  0.09984375,\n",
              "  0.10296875,\n",
              "  0.10234375,\n",
              "  0.1003125,\n",
              "  0.1003125,\n",
              "  0.10390625,\n",
              "  0.10203125,\n",
              "  0.1,\n",
              "  0.1,\n",
              "  0.10078125,\n",
              "  0.10125,\n",
              "  0.10234375,\n",
              "  0.1009375,\n",
              "  0.1003125,\n",
              "  0.100625,\n",
              "  0.10171875,\n",
              "  0.09890625,\n",
              "  0.1003125,\n",
              "  0.0990625,\n",
              "  0.0984375,\n",
              "  0.1,\n",
              "  0.09796875,\n",
              "  0.0971875,\n",
              "  0.09734375,\n",
              "  0.0978125,\n",
              "  0.0984375,\n",
              "  0.09796875,\n",
              "  0.09859375,\n",
              "  0.0971875,\n",
              "  0.09765625,\n",
              "  0.0975,\n",
              "  0.098125,\n",
              "  0.098125,\n",
              "  0.09859375,\n",
              "  0.0996875,\n",
              "  0.0990625,\n",
              "  0.098125,\n",
              "  0.0984375,\n",
              "  0.09796875,\n",
              "  0.098125,\n",
              "  0.0971875,\n",
              "  0.0971875,\n",
              "  0.09734375,\n",
              "  0.096875,\n",
              "  0.09671875,\n",
              "  0.0975,\n",
              "  0.09765625,\n",
              "  0.09625,\n",
              "  0.0971875,\n",
              "  0.096875,\n",
              "  0.09703125,\n",
              "  0.0965625,\n",
              "  0.09640625,\n",
              "  0.09640625,\n",
              "  0.0965625,\n",
              "  0.09625,\n",
              "  0.0965625,\n",
              "  0.0965625,\n",
              "  0.096875,\n",
              "  0.0971875,\n",
              "  0.0965625,\n",
              "  0.09671875,\n",
              "  0.09703125,\n",
              "  0.09671875,\n",
              "  0.0971875,\n",
              "  0.09671875,\n",
              "  0.09640625,\n",
              "  0.09703125,\n",
              "  0.09625,\n",
              "  0.09734375,\n",
              "  0.0978125,\n",
              "  0.0971875,\n",
              "  0.09625,\n",
              "  0.09640625,\n",
              "  0.09640625,\n",
              "  0.09546875,\n",
              "  0.09578125,\n",
              "  0.09578125,\n",
              "  0.09640625,\n",
              "  0.09625,\n",
              "  0.0965625,\n",
              "  0.0975,\n",
              "  0.09546875])"
            ]
          },
          "execution_count": 483,
          "metadata": {},
          "output_type": "execute_result"
        }
      ],
      "source": [
        "model_test = Decoder(vocab_size=VOCAB_SIZE, \n",
        "                d_model=HIDDEN_DIM,\n",
        "                d_ff=HIDDEN_FF,\n",
        "                num_heads=NUM_HEADS,\n",
        "                d_head=HEAD_DIM,\n",
        "                num_layers=NUM_LAYERS,\n",
        "                positional=POSITIONAL)\n",
        "\n",
        "model_test.to(DEVICE)\n",
        "train(model_test, RANDOM_TRAIN_LOADER, RANDOM_TEST_LOADER, 201)"
      ]
    },
    {
      "cell_type": "markdown",
      "metadata": {
        "id": "qGoJdpYDy-Eo"
      },
      "source": [
        "Choose a prefix of an arbitrary sequence from the test set (you can also write your sequence, just remember that every sequence starts with token 0). For each position in this sequence print the probability distribution over the next token according to the model. Analyze the results."
      ]
    },
    {
      "cell_type": "code",
      "execution_count": 484,
      "metadata": {
        "id": "B6kHBbmAy_r6"
      },
      "outputs": [
        {
          "data": {
            "application/vnd.plotly.v1+json": {
              "config": {
                "plotlyServerURL": "https://plot.ly"
              },
              "data": [
                {
                  "coloraxis": "coloraxis",
                  "hovertemplate": "num of token: %{x}<br>predicted distribution: %{y}<br>color: %{z}<extra></extra>",
                  "name": "0",
                  "type": "heatmap",
                  "xaxis": "x",
                  "yaxis": "y",
                  "z": [
                    [
                      0.0686906948685646,
                      0.08396705985069275,
                      0.06842891871929169,
                      0.07941123843193054,
                      0.07682625949382782,
                      0.0002865524438675493,
                      1.757034908678179e-7,
                      4.1775518155873215e-8,
                      8.700313287590689e-7,
                      0.6697375774383545,
                      0.00000315379156745621,
                      6.433661496885179e-7,
                      8.688514796517666e-9,
                      0.000003306040298411972,
                      5.362551860343956e-7,
                      0.23983058333396912,
                      0.000010625718459778,
                      2.0560497659971588e-7,
                      5.221842958036405e-10,
                      1.9152966501678748e-7,
                      0.18628668785095215,
                      0.000041184492147294804,
                      0.00001550785054860171,
                      4.2372083619568457e-10,
                      6.685538096462551e-7,
                      0.1705886423587799,
                      0.00010394337004981935,
                      0.000033137672289740294,
                      7.232210386121096e-10,
                      0.22174423933029175,
                      0.000007399299647659063,
                      0.00004106892447452992,
                      4.501879313778545e-9,
                      6.777219141440582e-7,
                      0.1432255655527115,
                      0.0008122476865537465,
                      0.000022627511498285457,
                      8.737924162005584e-9,
                      6.287539235927397e-7,
                      0.15770448744297028,
                      0.0009598338510841131,
                      0.000005802009582112078,
                      6.26698763994682e-8,
                      2.39961451597992e-7,
                      0.000003893721896019997,
                      0.20535913109779358,
                      0.0003121342742815614,
                      0.00001541680467198603,
                      1.1659538223796062e-8,
                      0.000007004560757195577,
                      0.1886584460735321,
                      0.00017225499323103577,
                      0.0000191624385479372,
                      9.132759970498228e-8,
                      0.16648776829242706,
                      0.0006737142684869468,
                      0.00000331941805598035,
                      1.0468316702372249e-7,
                      0.000024584762286394835,
                      0.8828808069229126,
                      0.00004734779577120207,
                      0.000004365761014923919,
                      4.291735322681234e-8,
                      0.00003264235783717595
                    ],
                    [
                      0.28986290097236633,
                      0.06197533756494522,
                      0.06254157423973083,
                      0.051586851477622986,
                      0.07286893576383591,
                      0.6184287667274475,
                      1.8276092816904566e-7,
                      0.000027864814910572022,
                      0.0000017812327541832929,
                      0.0000081464377217344,
                      0.7301799654960632,
                      1.095164279263372e-7,
                      0.000005689930731023196,
                      0.006972356233745813,
                      0.0006842237198725343,
                      0.0077862851321697235,
                      0.03931739553809166,
                      0.024470826610922813,
                      0.000015348057786468416,
                      5.526858970483772e-8,
                      0.000001861274654402223,
                      0.000528429402038455,
                      1.1169500169216917e-7,
                      0.0000031144454624154605,
                      0.0000033184451240231283,
                      0.0000021247099084575893,
                      0.00014606982585974038,
                      2.0916615994792664e-7,
                      0.000002691284180400544,
                      0.0000044081712076149415,
                      0.000019245202565798536,
                      8.485795319757017e-7,
                      0.000003949068286601687,
                      0.000009874163879430853,
                      0.000003299060608696891,
                      0.0000029678626560780685,
                      1.244894747287617e-7,
                      0.0000027839705580845475,
                      0.000018126063878298737,
                      0.000006605718681385042,
                      0.9975973963737488,
                      0.000001301081510973745,
                      0.0000036300093597674277,
                      0.0000033205142244696617,
                      0.0000021169739738979843,
                      0.000004995440122002037,
                      0.000008960462764662225,
                      3.750388941625715e-7,
                      0.000001848682586569339,
                      0.000003368259285707609,
                      0.0000033366245588695165,
                      0.000005769128620158881,
                      0.0000028836720957770012,
                      0.000005145836439623963,
                      0.000001882120841401047,
                      0.9957232475280762,
                      0.000002059269718301948,
                      0.000004926656856696354,
                      0.000045051252527628094,
                      9.900362556436448e-7,
                      0.998315691947937,
                      0.0000018729763269220712,
                      2.081930006170296e-7,
                      4.8715257605636e-8
                    ],
                    [
                      0.06771616637706757,
                      0.25259268283843994,
                      0.08702210336923599,
                      0.09818869084119797,
                      0.0021204676013439894,
                      0.006874567363411188,
                      0.14831072092056274,
                      0.00001533116665086709,
                      0.5792432427406311,
                      2.5659892344265245e-7,
                      0.0012006195029243827,
                      0.13165752589702606,
                      2.577989910435008e-8,
                      5.51068914944608e-8,
                      2.162824870310942e-7,
                      2.4293834499644618e-8,
                      0.00004186927617411129,
                      0.00008066505688475445,
                      3.052634269806731e-7,
                      0.000012722067367576528,
                      7.091094378353091e-9,
                      0.000008330947821377777,
                      0.00018572319822851568,
                      5.978263288852759e-7,
                      7.865440920795663e-7,
                      8.575365306739968e-9,
                      0.000004791409082827158,
                      0.00019299662380944937,
                      0.000001120369461204973,
                      7.211324373201933e-7,
                      9.626070323065505e-7,
                      0.0000038333400880219415,
                      0.0000026558952868072083,
                      0.000014706555703014601,
                      4.1445380816185207e-7,
                      0.000008291868653031997,
                      0.000005067954589321744,
                      0.000002510114200049429,
                      0.0000037686577343265526,
                      1.3169176327210153e-7,
                      0.00006312754703685641,
                      0.08441238850355148,
                      0.000050565784476930276,
                      0.00001976647945411969,
                      0.00005109941412229091,
                      7.344887364979513e-8,
                      0.0000021766118152299896,
                      0.00001123905985878082,
                      0.000010481133358553052,
                      0.00012532438267953694,
                      0.0000013437297639029566,
                      2.480144019045838e-7,
                      9.87264115792641e-7,
                      0.0000010275580279994756,
                      6.571662538590317e-7,
                      0.00016677292296662927,
                      0.07424483448266983,
                      0.000044749045628122985,
                      0.8267817497253418,
                      0.000015889389032963663,
                      0.0006816843524575233,
                      0.11056164652109146,
                      0.000014634928447776474,
                      0.8174279928207397
                    ],
                    [
                      0.10452514886856079,
                      0.12122584134340286,
                      0.08419972658157349,
                      0.15701192617416382,
                      0.3794630169868469,
                      0.14274898171424866,
                      0.003240128280594945,
                      0.00006034145553712733,
                      0.0011607081396505237,
                      0.3293209671974182,
                      0.09361185878515244,
                      0.0005090933409519494,
                      0.00006456836126744747,
                      0.29952362179756165,
                      0.00011300220648990944,
                      0.00035030345316044986,
                      0.0007918652845546603,
                      0.049448538571596146,
                      0.8631600737571716,
                      2.4669824938428064e-7,
                      1.9089573299879703e-7,
                      0.000029035330953774974,
                      0.000012342246009211522,
                      0.8486445546150208,
                      1.3251802322145068e-8,
                      3.4894756595349463e-7,
                      8.29086559406278e-7,
                      8.652474434711621e-7,
                      0.8516238331794739,
                      0.0000032919815566856414,
                      0.0000037754352888441645,
                      3.5553716770664323e-7,
                      0.8396658897399902,
                      4.145891807638691e-8,
                      3.649749302780947e-8,
                      0.000004020265350845875,
                      6.395122653657381e-8,
                      0.8383538722991943,
                      1.8880074037497252e-7,
                      1.7340296665224741e-7,
                      0.000030952698580222204,
                      4.6102121586955036e-7,
                      1.0375299552833894e-7,
                      0.8614546656608582,
                      1.947024319548518e-9,
                      2.4753416028033826e-7,
                      9.351542757940479e-7,
                      4.950511467427532e-8,
                      0.8358389735221863,
                      1.928563531095051e-9,
                      6.478805971710244e-7,
                      2.3468501808565634e-7,
                      2.14309192614337e-8,
                      0.8019346594810486,
                      9.230712407770625e-7,
                      0.00006229590508155525,
                      0.0000021843225113116205,
                      1.4893824129558197e-7,
                      1.3967602185971373e-8,
                      0.11707010865211487,
                      0.000050617360102478415,
                      1.6511319245182676e-7,
                      9.392606870051168e-8,
                      1.8753973929364065e-9
                    ],
                    [
                      0.07706232368946075,
                      0.08047553151845932,
                      0.06361910700798035,
                      0.12258987873792648,
                      0.10557542741298676,
                      0.05912739410996437,
                      0.0008839047513902187,
                      0.0000576162310608197,
                      0.0022247328888624907,
                      0.0007130654412321746,
                      0.04822898283600807,
                      0.00020757738093379885,
                      0.00001926018921949435,
                      0.16653180122375488,
                      0.2720198631286621,
                      0.38567468523979187,
                      0.00950703676789999,
                      0.14738072454929352,
                      0.00000951738275034586,
                      0.16958625614643097,
                      0.813705563545227,
                      0.000020777190002263524,
                      0.000002870661546694464,
                      0.000009211627002514433,
                      0.2198752462863922,
                      0.8294048309326172,
                      0.0001625717559363693,
                      2.409683474979829e-7,
                      0.0000018488919977244223,
                      0.7782466411590576,
                      0.000007357762569881743,
                      2.93424079700344e-7,
                      3.375969868102402e-7,
                      0.2839202880859375,
                      0.8567691445350647,
                      0.000005835733645653818,
                      6.450790124290506e-8,
                      2.640012723986729e-7,
                      0.23829059302806854,
                      0.8422830104827881,
                      0.0007470343844033778,
                      1.807351246441158e-8,
                      1.7538205332456869e-9,
                      1.4420285765481822e-7,
                      0.20830635726451874,
                      0.794632077217102,
                      0.0000044016182982886676,
                      1.4481918242381653e-7,
                      0.0000015348363149314537,
                      0.14801853895187378,
                      0.8113344311714172,
                      2.3020660933070758e-7,
                      7.965590498315578e-8,
                      1.0522934701384656e-7,
                      0.8335065245628357,
                      0.0011372019071131945,
                      4.766010164303225e-8,
                      5.022230409323925e-10,
                      8.789920791230088e-9,
                      1.1790717291404462e-9,
                      0.00015623067156411707,
                      1.6924003887197614e-7,
                      7.166852356021991e-8,
                      1.2679951311156401e-8
                    ],
                    [
                      0.09711679816246033,
                      0.07918160408735275,
                      0.17964576184749603,
                      0.13343434035778046,
                      0.17796306312084198,
                      0.05856556072831154,
                      0.00012635266466531903,
                      0.0003344333963468671,
                      0.000008949023140303325,
                      0.0000929428861127235,
                      0.07218468934297562,
                      0.000009186070201394614,
                      0.000015081797755556181,
                      0.1145973950624466,
                      0.6294639706611633,
                      0.22968196868896484,
                      0.9007982611656189,
                      0.44905564188957214,
                      4.57340007642415e-7,
                      0.000005566490472119767,
                      0.000003991162884631194,
                      0.9978808164596558,
                      3.361675382507201e-8,
                      3.6869076325274364e-7,
                      0.0000052214832066965755,
                      0.000002984483217005618,
                      0.9994412064552307,
                      3.077513355265182e-8,
                      0.0000020801157916139346,
                      1.9490798308652302e-7,
                      0.999841570854187,
                      1.1780792874560575e-7,
                      0.0000010956299547615345,
                      0.000006926100013515679,
                      9.895878747556708e-7,
                      0.998950719833374,
                      5.830226257330651e-8,
                      9.996634844355867e-7,
                      0.000007287717835424701,
                      0.0000036844878650299506,
                      0.00040476565482094884,
                      2.9577054760920873e-7,
                      0.0000011130301800221787,
                      1.707062438072171e-7,
                      0.0000015450667660843465,
                      2.585533422916342e-7,
                      0.9996449947357178,
                      5.5892964923032196e-8,
                      0.000001909289721879759,
                      0.0000012150145494160824,
                      5.425555968940898e-7,
                      0.9998186230659485,
                      1.3140748933437862e-8,
                      2.0859647520410363e-7,
                      9.76822107645603e-8,
                      0.000842248962726444,
                      2.870100104246376e-7,
                      5.471724762173835e-7,
                      2.3424630057888862e-7,
                      4.778087703272149e-9,
                      0.00011306831584079191,
                      2.3283158157028083e-7,
                      0.000005964186584606068,
                      2.8678087460320967e-7
                    ],
                    [
                      0.08281153440475464,
                      0.0842510536313057,
                      0.07989763468503952,
                      0.00008636783604742959,
                      0.00018352176994085312,
                      0.000024983582989079878,
                      9.502232245495179e-8,
                      0.8214221000671387,
                      0.000030395311114261858,
                      9.551283142172906e-8,
                      1.301557688293542e-7,
                      2.2271349209290747e-8,
                      0.832261323928833,
                      0.000005084908025310142,
                      3.596269664285501e-7,
                      0.000004379751771921292,
                      0.0000446574340458028,
                      0.26813197135925293,
                      3.6384878443485036e-10,
                      2.9330767148394443e-8,
                      1.9564123654447485e-9,
                      0.0000018953031712953816,
                      0.2272447794675827,
                      4.883909099362427e-8,
                      8.630518095742445e-7,
                      1.436037777580168e-8,
                      0.000004457532213564264,
                      0.19262897968292236,
                      5.004262604302312e-8,
                      1.115901895332172e-7,
                      0.000008105055712803733,
                      0.18754033744335175,
                      2.7067142127634725e-7,
                      0.0000014905455145708402,
                      2.2362092977346038e-7,
                      8.459883815703506e-7,
                      0.16080772876739502,
                      2.8805800411646487e-7,
                      0.000014766040294489358,
                      0.0000012189124163342058,
                      0.000004962062121194322,
                      7.631751941516995e-7,
                      0.9104124903678894,
                      4.944209877066896e-7,
                      0.00001966827221622225,
                      0.000001915537040986237,
                      0.000004147227173234569,
                      0.17255420982837677,
                      5.772050144514651e-7,
                      0.00006171721906866878,
                      0.0000011404259794289828,
                      2.529115761262801e-7,
                      0.17430055141448975,
                      0.000009728199074743316,
                      0.0000019430253814789467,
                      0.00011957340757362545,
                      5.320868012859137e-7,
                      0.9452031254768372,
                      0.004845907911658287,
                      0.000025798626666073687,
                      0.00006552240665769204,
                      6.127080496298731e-7,
                      0.8472314476966858,
                      0.00029600743437185884
                    ],
                    [
                      0.07853197306394577,
                      0.08270733058452606,
                      0.0001787943474482745,
                      0.1539352536201477,
                      0.0002412877365713939,
                      0.00007702270522713661,
                      0.8470888137817383,
                      0.000001529800442767737,
                      0.40215790271759033,
                      8.393682549012738e-8,
                      6.646568522228335e-7,
                      0.8675829172134399,
                      0.0000011565153954506968,
                      5.981183903713827e-7,
                      0.0000048132610572793055,
                      0.00000983028166956501,
                      0.000007360557447100291,
                      0.0000015927918184388545,
                      2.084910244448679e-9,
                      0.000005958387646387564,
                      1.5754719129290606e-7,
                      6.946545454411535e-7,
                      2.98054914082968e-10,
                      7.707623872477143e-9,
                      0.0000038075891097832937,
                      2.311907820740089e-7,
                      2.9601659434774774e-7,
                      3.404059611966659e-7,
                      8.622443203876173e-9,
                      2.987254106301407e-7,
                      0.0000013554288216255372,
                      0.0000015742575669719372,
                      2.165682211341391e-8,
                      0.000006233391559362644,
                      6.20965181497013e-8,
                      3.9991608247191834e-8,
                      9.544961585561396e-7,
                      2.782415187141396e-8,
                      0.000003858253421640256,
                      3.5901157957596297e-7,
                      0.00012762469123117626,
                      0.9155790209770203,
                      0.000018193855794379488,
                      1.2182891140355423e-8,
                      0.000005931891337240813,
                      1.047681976729109e-7,
                      1.2365320856133621e-7,
                      0.000043373293010517955,
                      1.7554387454765674e-7,
                      0.000006413031769625377,
                      6.317571887848317e-8,
                      9.14815387886847e-8,
                      0.0000358133293048013,
                      4.1406948980693414e-8,
                      2.0881731899180522e-8,
                      0.0011714736465364695,
                      0.925746738910675,
                      0.0000413485431636218,
                      0.16830234229564667,
                      0.000006391090664692456,
                      0.0005585969192907214,
                      0.8894308805465698,
                      3.005684234835826e-8,
                      0.18224261701107025
                    ],
                    [
                      0.07561574131250381,
                      0.08184482902288437,
                      0.2768687903881073,
                      0.10886825621128082,
                      0.06218542531132698,
                      0.06231851503252983,
                      0.00007482385990442708,
                      0.17794257402420044,
                      0.0005359569331631064,
                      0.00005751625940320082,
                      0.009641684591770172,
                      0.0000026392201561975526,
                      0.16756172478199005,
                      0.059729136526584625,
                      0.0038190751802176237,
                      0.13647586107254028,
                      0.023005111142992973,
                      0.05522800236940384,
                      8.225249104043542e-8,
                      1.1338469718680244e-8,
                      0.0000015540811091341311,
                      0.0009325972641818225,
                      0.7725360989570618,
                      2.9688811409300797e-8,
                      6.48225864097185e-8,
                      8.172634693437431e-7,
                      0.00004067613190272823,
                      0.8071426749229431,
                      6.809163011212149e-9,
                      7.68534818007538e-8,
                      9.530795637147094e-7,
                      0.8124114274978638,
                      2.5320150420782284e-9,
                      3.891020394775069e-9,
                      2.286169973331198e-7,
                      2.9420030500659777e-7,
                      0.8391633033752441,
                      3.119213687341471e-8,
                      7.58295044533952e-8,
                      3.251541045301565e-7,
                      0.000015440209608641453,
                      3.9550152042266973e-10,
                      0.08951373398303986,
                      1.0727683630307183e-8,
                      4.015096521925443e-8,
                      0.0000011876281860168092,
                      2.948582675799116e-7,
                      0.8273751735687256,
                      8.591959144155226e-9,
                      6.690528575603594e-9,
                      7.98573225324617e-8,
                      4.055931412949576e-8,
                      0.8256402611732483,
                      1.4285098437483157e-8,
                      1.2094851342681068e-8,
                      0.000009627148756408133,
                      3.167404394321949e-10,
                      0.054705023765563965,
                      2.6432772637363655e-10,
                      1.5516204987520155e-9,
                      0.000004867288225796074,
                      7.743083396682948e-10,
                      0.15274742245674133,
                      1.3242519303346967e-9
                    ],
                    [
                      0.05806673690676689,
                      0.0717787891626358,
                      0.09759760648012161,
                      0.09488723427057266,
                      0.12257267534732819,
                      0.05154765024781227,
                      0.0002747636754065752,
                      0.00013821928587276489,
                      0.014635482802987099,
                      0.00006939637387404218,
                      0.04494835063815117,
                      0.000030300001526484266,
                      0.0000712099572410807,
                      0.35263657569885254,
                      0.09389393776655197,
                      0.00018608417303767055,
                      0.02647584304213524,
                      0.006201818119734526,
                      0.13681422173976898,
                      0.8303889036178589,
                      1.1137530009364127e-8,
                      0.0005562255973927677,
                      0.000002656797050804016,
                      0.1513420194387436,
                      0.7801100015640259,
                      1.0016133478174538e-9,
                      0.0000951579277170822,
                      5.256811732579081e-7,
                      0.14836832880973816,
                      6.3646448111853715e-9,
                      0.00010927122639259323,
                      1.4611546816922782e-7,
                      0.1603257954120636,
                      0.7160397171974182,
                      1.2188916542754669e-9,
                      0.00021468321210704744,
                      4.647765194931708e-8,
                      0.1616392433643341,
                      0.761660635471344,
                      3.8706191030080106e-10,
                      0.00004893201548838988,
                      5.908760591921691e-9,
                      5.899834931710757e-8,
                      0.13852113485336304,
                      0.7916094064712524,
                      9.77282921255096e-10,
                      0.000021725878468714654,
                      2.2398984000915334e-8,
                      0.16414441168308258,
                      0.8517764806747437,
                      3.2442368791407716e-9,
                      0.0000022331282707455102,
                      2.8939109597558854e-7,
                      0.19804896414279938,
                      1.3855928671091533e-7,
                      0.00009380341361975297,
                      5.878154851757245e-9,
                      1.020185180777844e-8,
                      1.7695677811957466e-8,
                      2.466622739394353e-10,
                      0.000006471444521594094,
                      5.368863575938576e-9,
                      6.518950357303765e-8,
                      3.101088736912061e-7
                    ]
                  ]
                }
              ],
              "layout": {
                "coloraxis": {
                  "colorscale": [
                    [
                      0,
                      "#0d0887"
                    ],
                    [
                      0.1111111111111111,
                      "#46039f"
                    ],
                    [
                      0.2222222222222222,
                      "#7201a8"
                    ],
                    [
                      0.3333333333333333,
                      "#9c179e"
                    ],
                    [
                      0.4444444444444444,
                      "#bd3786"
                    ],
                    [
                      0.5555555555555556,
                      "#d8576b"
                    ],
                    [
                      0.6666666666666666,
                      "#ed7953"
                    ],
                    [
                      0.7777777777777778,
                      "#fb9f3a"
                    ],
                    [
                      0.8888888888888888,
                      "#fdca26"
                    ],
                    [
                      1,
                      "#f0f921"
                    ]
                  ]
                },
                "margin": {
                  "t": 60
                },
                "template": {
                  "data": {
                    "bar": [
                      {
                        "error_x": {
                          "color": "#2a3f5f"
                        },
                        "error_y": {
                          "color": "#2a3f5f"
                        },
                        "marker": {
                          "line": {
                            "color": "#E5ECF6",
                            "width": 0.5
                          },
                          "pattern": {
                            "fillmode": "overlay",
                            "size": 10,
                            "solidity": 0.2
                          }
                        },
                        "type": "bar"
                      }
                    ],
                    "barpolar": [
                      {
                        "marker": {
                          "line": {
                            "color": "#E5ECF6",
                            "width": 0.5
                          },
                          "pattern": {
                            "fillmode": "overlay",
                            "size": 10,
                            "solidity": 0.2
                          }
                        },
                        "type": "barpolar"
                      }
                    ],
                    "carpet": [
                      {
                        "aaxis": {
                          "endlinecolor": "#2a3f5f",
                          "gridcolor": "white",
                          "linecolor": "white",
                          "minorgridcolor": "white",
                          "startlinecolor": "#2a3f5f"
                        },
                        "baxis": {
                          "endlinecolor": "#2a3f5f",
                          "gridcolor": "white",
                          "linecolor": "white",
                          "minorgridcolor": "white",
                          "startlinecolor": "#2a3f5f"
                        },
                        "type": "carpet"
                      }
                    ],
                    "choropleth": [
                      {
                        "colorbar": {
                          "outlinewidth": 0,
                          "ticks": ""
                        },
                        "type": "choropleth"
                      }
                    ],
                    "contour": [
                      {
                        "colorbar": {
                          "outlinewidth": 0,
                          "ticks": ""
                        },
                        "colorscale": [
                          [
                            0,
                            "#0d0887"
                          ],
                          [
                            0.1111111111111111,
                            "#46039f"
                          ],
                          [
                            0.2222222222222222,
                            "#7201a8"
                          ],
                          [
                            0.3333333333333333,
                            "#9c179e"
                          ],
                          [
                            0.4444444444444444,
                            "#bd3786"
                          ],
                          [
                            0.5555555555555556,
                            "#d8576b"
                          ],
                          [
                            0.6666666666666666,
                            "#ed7953"
                          ],
                          [
                            0.7777777777777778,
                            "#fb9f3a"
                          ],
                          [
                            0.8888888888888888,
                            "#fdca26"
                          ],
                          [
                            1,
                            "#f0f921"
                          ]
                        ],
                        "type": "contour"
                      }
                    ],
                    "contourcarpet": [
                      {
                        "colorbar": {
                          "outlinewidth": 0,
                          "ticks": ""
                        },
                        "type": "contourcarpet"
                      }
                    ],
                    "heatmap": [
                      {
                        "colorbar": {
                          "outlinewidth": 0,
                          "ticks": ""
                        },
                        "colorscale": [
                          [
                            0,
                            "#0d0887"
                          ],
                          [
                            0.1111111111111111,
                            "#46039f"
                          ],
                          [
                            0.2222222222222222,
                            "#7201a8"
                          ],
                          [
                            0.3333333333333333,
                            "#9c179e"
                          ],
                          [
                            0.4444444444444444,
                            "#bd3786"
                          ],
                          [
                            0.5555555555555556,
                            "#d8576b"
                          ],
                          [
                            0.6666666666666666,
                            "#ed7953"
                          ],
                          [
                            0.7777777777777778,
                            "#fb9f3a"
                          ],
                          [
                            0.8888888888888888,
                            "#fdca26"
                          ],
                          [
                            1,
                            "#f0f921"
                          ]
                        ],
                        "type": "heatmap"
                      }
                    ],
                    "heatmapgl": [
                      {
                        "colorbar": {
                          "outlinewidth": 0,
                          "ticks": ""
                        },
                        "colorscale": [
                          [
                            0,
                            "#0d0887"
                          ],
                          [
                            0.1111111111111111,
                            "#46039f"
                          ],
                          [
                            0.2222222222222222,
                            "#7201a8"
                          ],
                          [
                            0.3333333333333333,
                            "#9c179e"
                          ],
                          [
                            0.4444444444444444,
                            "#bd3786"
                          ],
                          [
                            0.5555555555555556,
                            "#d8576b"
                          ],
                          [
                            0.6666666666666666,
                            "#ed7953"
                          ],
                          [
                            0.7777777777777778,
                            "#fb9f3a"
                          ],
                          [
                            0.8888888888888888,
                            "#fdca26"
                          ],
                          [
                            1,
                            "#f0f921"
                          ]
                        ],
                        "type": "heatmapgl"
                      }
                    ],
                    "histogram": [
                      {
                        "marker": {
                          "pattern": {
                            "fillmode": "overlay",
                            "size": 10,
                            "solidity": 0.2
                          }
                        },
                        "type": "histogram"
                      }
                    ],
                    "histogram2d": [
                      {
                        "colorbar": {
                          "outlinewidth": 0,
                          "ticks": ""
                        },
                        "colorscale": [
                          [
                            0,
                            "#0d0887"
                          ],
                          [
                            0.1111111111111111,
                            "#46039f"
                          ],
                          [
                            0.2222222222222222,
                            "#7201a8"
                          ],
                          [
                            0.3333333333333333,
                            "#9c179e"
                          ],
                          [
                            0.4444444444444444,
                            "#bd3786"
                          ],
                          [
                            0.5555555555555556,
                            "#d8576b"
                          ],
                          [
                            0.6666666666666666,
                            "#ed7953"
                          ],
                          [
                            0.7777777777777778,
                            "#fb9f3a"
                          ],
                          [
                            0.8888888888888888,
                            "#fdca26"
                          ],
                          [
                            1,
                            "#f0f921"
                          ]
                        ],
                        "type": "histogram2d"
                      }
                    ],
                    "histogram2dcontour": [
                      {
                        "colorbar": {
                          "outlinewidth": 0,
                          "ticks": ""
                        },
                        "colorscale": [
                          [
                            0,
                            "#0d0887"
                          ],
                          [
                            0.1111111111111111,
                            "#46039f"
                          ],
                          [
                            0.2222222222222222,
                            "#7201a8"
                          ],
                          [
                            0.3333333333333333,
                            "#9c179e"
                          ],
                          [
                            0.4444444444444444,
                            "#bd3786"
                          ],
                          [
                            0.5555555555555556,
                            "#d8576b"
                          ],
                          [
                            0.6666666666666666,
                            "#ed7953"
                          ],
                          [
                            0.7777777777777778,
                            "#fb9f3a"
                          ],
                          [
                            0.8888888888888888,
                            "#fdca26"
                          ],
                          [
                            1,
                            "#f0f921"
                          ]
                        ],
                        "type": "histogram2dcontour"
                      }
                    ],
                    "mesh3d": [
                      {
                        "colorbar": {
                          "outlinewidth": 0,
                          "ticks": ""
                        },
                        "type": "mesh3d"
                      }
                    ],
                    "parcoords": [
                      {
                        "line": {
                          "colorbar": {
                            "outlinewidth": 0,
                            "ticks": ""
                          }
                        },
                        "type": "parcoords"
                      }
                    ],
                    "pie": [
                      {
                        "automargin": true,
                        "type": "pie"
                      }
                    ],
                    "scatter": [
                      {
                        "fillpattern": {
                          "fillmode": "overlay",
                          "size": 10,
                          "solidity": 0.2
                        },
                        "type": "scatter"
                      }
                    ],
                    "scatter3d": [
                      {
                        "line": {
                          "colorbar": {
                            "outlinewidth": 0,
                            "ticks": ""
                          }
                        },
                        "marker": {
                          "colorbar": {
                            "outlinewidth": 0,
                            "ticks": ""
                          }
                        },
                        "type": "scatter3d"
                      }
                    ],
                    "scattercarpet": [
                      {
                        "marker": {
                          "colorbar": {
                            "outlinewidth": 0,
                            "ticks": ""
                          }
                        },
                        "type": "scattercarpet"
                      }
                    ],
                    "scattergeo": [
                      {
                        "marker": {
                          "colorbar": {
                            "outlinewidth": 0,
                            "ticks": ""
                          }
                        },
                        "type": "scattergeo"
                      }
                    ],
                    "scattergl": [
                      {
                        "marker": {
                          "colorbar": {
                            "outlinewidth": 0,
                            "ticks": ""
                          }
                        },
                        "type": "scattergl"
                      }
                    ],
                    "scattermapbox": [
                      {
                        "marker": {
                          "colorbar": {
                            "outlinewidth": 0,
                            "ticks": ""
                          }
                        },
                        "type": "scattermapbox"
                      }
                    ],
                    "scatterpolar": [
                      {
                        "marker": {
                          "colorbar": {
                            "outlinewidth": 0,
                            "ticks": ""
                          }
                        },
                        "type": "scatterpolar"
                      }
                    ],
                    "scatterpolargl": [
                      {
                        "marker": {
                          "colorbar": {
                            "outlinewidth": 0,
                            "ticks": ""
                          }
                        },
                        "type": "scatterpolargl"
                      }
                    ],
                    "scatterternary": [
                      {
                        "marker": {
                          "colorbar": {
                            "outlinewidth": 0,
                            "ticks": ""
                          }
                        },
                        "type": "scatterternary"
                      }
                    ],
                    "surface": [
                      {
                        "colorbar": {
                          "outlinewidth": 0,
                          "ticks": ""
                        },
                        "colorscale": [
                          [
                            0,
                            "#0d0887"
                          ],
                          [
                            0.1111111111111111,
                            "#46039f"
                          ],
                          [
                            0.2222222222222222,
                            "#7201a8"
                          ],
                          [
                            0.3333333333333333,
                            "#9c179e"
                          ],
                          [
                            0.4444444444444444,
                            "#bd3786"
                          ],
                          [
                            0.5555555555555556,
                            "#d8576b"
                          ],
                          [
                            0.6666666666666666,
                            "#ed7953"
                          ],
                          [
                            0.7777777777777778,
                            "#fb9f3a"
                          ],
                          [
                            0.8888888888888888,
                            "#fdca26"
                          ],
                          [
                            1,
                            "#f0f921"
                          ]
                        ],
                        "type": "surface"
                      }
                    ],
                    "table": [
                      {
                        "cells": {
                          "fill": {
                            "color": "#EBF0F8"
                          },
                          "line": {
                            "color": "white"
                          }
                        },
                        "header": {
                          "fill": {
                            "color": "#C8D4E3"
                          },
                          "line": {
                            "color": "white"
                          }
                        },
                        "type": "table"
                      }
                    ]
                  },
                  "layout": {
                    "annotationdefaults": {
                      "arrowcolor": "#2a3f5f",
                      "arrowhead": 0,
                      "arrowwidth": 1
                    },
                    "autotypenumbers": "strict",
                    "coloraxis": {
                      "colorbar": {
                        "outlinewidth": 0,
                        "ticks": ""
                      }
                    },
                    "colorscale": {
                      "diverging": [
                        [
                          0,
                          "#8e0152"
                        ],
                        [
                          0.1,
                          "#c51b7d"
                        ],
                        [
                          0.2,
                          "#de77ae"
                        ],
                        [
                          0.3,
                          "#f1b6da"
                        ],
                        [
                          0.4,
                          "#fde0ef"
                        ],
                        [
                          0.5,
                          "#f7f7f7"
                        ],
                        [
                          0.6,
                          "#e6f5d0"
                        ],
                        [
                          0.7,
                          "#b8e186"
                        ],
                        [
                          0.8,
                          "#7fbc41"
                        ],
                        [
                          0.9,
                          "#4d9221"
                        ],
                        [
                          1,
                          "#276419"
                        ]
                      ],
                      "sequential": [
                        [
                          0,
                          "#0d0887"
                        ],
                        [
                          0.1111111111111111,
                          "#46039f"
                        ],
                        [
                          0.2222222222222222,
                          "#7201a8"
                        ],
                        [
                          0.3333333333333333,
                          "#9c179e"
                        ],
                        [
                          0.4444444444444444,
                          "#bd3786"
                        ],
                        [
                          0.5555555555555556,
                          "#d8576b"
                        ],
                        [
                          0.6666666666666666,
                          "#ed7953"
                        ],
                        [
                          0.7777777777777778,
                          "#fb9f3a"
                        ],
                        [
                          0.8888888888888888,
                          "#fdca26"
                        ],
                        [
                          1,
                          "#f0f921"
                        ]
                      ],
                      "sequentialminus": [
                        [
                          0,
                          "#0d0887"
                        ],
                        [
                          0.1111111111111111,
                          "#46039f"
                        ],
                        [
                          0.2222222222222222,
                          "#7201a8"
                        ],
                        [
                          0.3333333333333333,
                          "#9c179e"
                        ],
                        [
                          0.4444444444444444,
                          "#bd3786"
                        ],
                        [
                          0.5555555555555556,
                          "#d8576b"
                        ],
                        [
                          0.6666666666666666,
                          "#ed7953"
                        ],
                        [
                          0.7777777777777778,
                          "#fb9f3a"
                        ],
                        [
                          0.8888888888888888,
                          "#fdca26"
                        ],
                        [
                          1,
                          "#f0f921"
                        ]
                      ]
                    },
                    "colorway": [
                      "#636efa",
                      "#EF553B",
                      "#00cc96",
                      "#ab63fa",
                      "#FFA15A",
                      "#19d3f3",
                      "#FF6692",
                      "#B6E880",
                      "#FF97FF",
                      "#FECB52"
                    ],
                    "font": {
                      "color": "#2a3f5f"
                    },
                    "geo": {
                      "bgcolor": "white",
                      "lakecolor": "white",
                      "landcolor": "#E5ECF6",
                      "showlakes": true,
                      "showland": true,
                      "subunitcolor": "white"
                    },
                    "hoverlabel": {
                      "align": "left"
                    },
                    "hovermode": "closest",
                    "mapbox": {
                      "style": "light"
                    },
                    "paper_bgcolor": "white",
                    "plot_bgcolor": "#E5ECF6",
                    "polar": {
                      "angularaxis": {
                        "gridcolor": "white",
                        "linecolor": "white",
                        "ticks": ""
                      },
                      "bgcolor": "#E5ECF6",
                      "radialaxis": {
                        "gridcolor": "white",
                        "linecolor": "white",
                        "ticks": ""
                      }
                    },
                    "scene": {
                      "xaxis": {
                        "backgroundcolor": "#E5ECF6",
                        "gridcolor": "white",
                        "gridwidth": 2,
                        "linecolor": "white",
                        "showbackground": true,
                        "ticks": "",
                        "zerolinecolor": "white"
                      },
                      "yaxis": {
                        "backgroundcolor": "#E5ECF6",
                        "gridcolor": "white",
                        "gridwidth": 2,
                        "linecolor": "white",
                        "showbackground": true,
                        "ticks": "",
                        "zerolinecolor": "white"
                      },
                      "zaxis": {
                        "backgroundcolor": "#E5ECF6",
                        "gridcolor": "white",
                        "gridwidth": 2,
                        "linecolor": "white",
                        "showbackground": true,
                        "ticks": "",
                        "zerolinecolor": "white"
                      }
                    },
                    "shapedefaults": {
                      "line": {
                        "color": "#2a3f5f"
                      }
                    },
                    "ternary": {
                      "aaxis": {
                        "gridcolor": "white",
                        "linecolor": "white",
                        "ticks": ""
                      },
                      "baxis": {
                        "gridcolor": "white",
                        "linecolor": "white",
                        "ticks": ""
                      },
                      "bgcolor": "#E5ECF6",
                      "caxis": {
                        "gridcolor": "white",
                        "linecolor": "white",
                        "ticks": ""
                      }
                    },
                    "title": {
                      "x": 0.05
                    },
                    "xaxis": {
                      "automargin": true,
                      "gridcolor": "white",
                      "linecolor": "white",
                      "ticks": "",
                      "title": {
                        "standoff": 15
                      },
                      "zerolinecolor": "white",
                      "zerolinewidth": 2
                    },
                    "yaxis": {
                      "automargin": true,
                      "gridcolor": "white",
                      "linecolor": "white",
                      "ticks": "",
                      "title": {
                        "standoff": 15
                      },
                      "zerolinecolor": "white",
                      "zerolinewidth": 2
                    }
                  }
                },
                "xaxis": {
                  "anchor": "y",
                  "constrain": "domain",
                  "domain": [
                    0,
                    1
                  ],
                  "scaleanchor": "y",
                  "title": {
                    "text": "num of token"
                  }
                },
                "yaxis": {
                  "anchor": "x",
                  "autorange": "reversed",
                  "constrain": "domain",
                  "domain": [
                    0,
                    1
                  ],
                  "title": {
                    "text": "predicted distribution"
                  }
                }
              }
            },
            "text/html": [
              "<div>                            <div id=\"e8c1f578-9e59-415c-b1d7-404dc5d3312a\" class=\"plotly-graph-div\" style=\"height:525px; width:100%;\"></div>            <script type=\"text/javascript\">                require([\"plotly\"], function(Plotly) {                    window.PLOTLYENV=window.PLOTLYENV || {};                                    if (document.getElementById(\"e8c1f578-9e59-415c-b1d7-404dc5d3312a\")) {                    Plotly.newPlot(                        \"e8c1f578-9e59-415c-b1d7-404dc5d3312a\",                        [{\"coloraxis\":\"coloraxis\",\"name\":\"0\",\"z\":[[0.0686906948685646,0.08396705985069275,0.06842891871929169,0.07941123843193054,0.07682625949382782,0.0002865524438675493,1.757034908678179e-07,4.1775518155873215e-08,8.700313287590689e-07,0.6697375774383545,3.15379156745621e-06,6.433661496885179e-07,8.688514796517666e-09,3.306040298411972e-06,5.362551860343956e-07,0.23983058333396912,1.0625718459778e-05,2.0560497659971588e-07,5.221842958036405e-10,1.9152966501678748e-07,0.18628668785095215,4.1184492147294804e-05,1.550785054860171e-05,4.2372083619568457e-10,6.685538096462551e-07,0.1705886423587799,0.00010394337004981935,3.3137672289740294e-05,7.232210386121096e-10,0.22174423933029175,7.399299647659063e-06,4.106892447452992e-05,4.501879313778545e-09,6.777219141440582e-07,0.1432255655527115,0.0008122476865537465,2.2627511498285457e-05,8.737924162005584e-09,6.287539235927397e-07,0.15770448744297028,0.0009598338510841131,5.802009582112078e-06,6.26698763994682e-08,2.39961451597992e-07,3.893721896019997e-06,0.20535913109779358,0.0003121342742815614,1.541680467198603e-05,1.1659538223796062e-08,7.004560757195577e-06,0.1886584460735321,0.00017225499323103577,1.91624385479372e-05,9.132759970498228e-08,0.16648776829242706,0.0006737142684869468,3.31941805598035e-06,1.0468316702372249e-07,2.4584762286394835e-05,0.8828808069229126,4.734779577120207e-05,4.365761014923919e-06,4.291735322681234e-08,3.264235783717595e-05],[0.28986290097236633,0.06197533756494522,0.06254157423973083,0.051586851477622986,0.07286893576383591,0.6184287667274475,1.8276092816904566e-07,2.7864814910572022e-05,1.7812327541832929e-06,8.1464377217344e-06,0.7301799654960632,1.095164279263372e-07,5.689930731023196e-06,0.006972356233745813,0.0006842237198725343,0.0077862851321697235,0.03931739553809166,0.024470826610922813,1.5348057786468416e-05,5.526858970483772e-08,1.861274654402223e-06,0.000528429402038455,1.1169500169216917e-07,3.1144454624154605e-06,3.3184451240231283e-06,2.1247099084575893e-06,0.00014606982585974038,2.0916615994792664e-07,2.691284180400544e-06,4.4081712076149415e-06,1.9245202565798536e-05,8.485795319757017e-07,3.949068286601687e-06,9.874163879430853e-06,3.299060608696891e-06,2.9678626560780685e-06,1.244894747287617e-07,2.7839705580845475e-06,1.8126063878298737e-05,6.605718681385042e-06,0.9975973963737488,1.301081510973745e-06,3.6300093597674277e-06,3.3205142244696617e-06,2.1169739738979843e-06,4.995440122002037e-06,8.960462764662225e-06,3.750388941625715e-07,1.848682586569339e-06,3.368259285707609e-06,3.3366245588695165e-06,5.769128620158881e-06,2.8836720957770012e-06,5.145836439623963e-06,1.882120841401047e-06,0.9957232475280762,2.059269718301948e-06,4.926656856696354e-06,4.5051252527628094e-05,9.900362556436448e-07,0.998315691947937,1.8729763269220712e-06,2.081930006170296e-07,4.8715257605636e-08],[0.06771616637706757,0.25259268283843994,0.08702210336923599,0.09818869084119797,0.0021204676013439894,0.006874567363411188,0.14831072092056274,1.533116665086709e-05,0.5792432427406311,2.5659892344265245e-07,0.0012006195029243827,0.13165752589702606,2.577989910435008e-08,5.51068914944608e-08,2.162824870310942e-07,2.4293834499644618e-08,4.186927617411129e-05,8.066505688475445e-05,3.052634269806731e-07,1.2722067367576528e-05,7.091094378353091e-09,8.330947821377777e-06,0.00018572319822851568,5.978263288852759e-07,7.865440920795663e-07,8.575365306739968e-09,4.791409082827158e-06,0.00019299662380944937,1.120369461204973e-06,7.211324373201933e-07,9.626070323065505e-07,3.8333400880219415e-06,2.6558952868072083e-06,1.4706555703014601e-05,4.1445380816185207e-07,8.291868653031997e-06,5.067954589321744e-06,2.510114200049429e-06,3.7686577343265526e-06,1.3169176327210153e-07,6.312754703685641e-05,0.08441238850355148,5.0565784476930276e-05,1.976647945411969e-05,5.109941412229091e-05,7.344887364979513e-08,2.1766118152299896e-06,1.123905985878082e-05,1.0481133358553052e-05,0.00012532438267953694,1.3437297639029566e-06,2.480144019045838e-07,9.87264115792641e-07,1.0275580279994756e-06,6.571662538590317e-07,0.00016677292296662927,0.07424483448266983,4.4749045628122985e-05,0.8267817497253418,1.5889389032963663e-05,0.0006816843524575233,0.11056164652109146,1.4634928447776474e-05,0.8174279928207397],[0.10452514886856079,0.12122584134340286,0.08419972658157349,0.15701192617416382,0.3794630169868469,0.14274898171424866,0.003240128280594945,6.034145553712733e-05,0.0011607081396505237,0.3293209671974182,0.09361185878515244,0.0005090933409519494,6.456836126744747e-05,0.29952362179756165,0.00011300220648990944,0.00035030345316044986,0.0007918652845546603,0.049448538571596146,0.8631600737571716,2.4669824938428064e-07,1.9089573299879703e-07,2.9035330953774974e-05,1.2342246009211522e-05,0.8486445546150208,1.3251802322145068e-08,3.4894756595349463e-07,8.29086559406278e-07,8.652474434711621e-07,0.8516238331794739,3.2919815566856414e-06,3.7754352888441645e-06,3.5553716770664323e-07,0.8396658897399902,4.145891807638691e-08,3.649749302780947e-08,4.020265350845875e-06,6.395122653657381e-08,0.8383538722991943,1.8880074037497252e-07,1.7340296665224741e-07,3.0952698580222204e-05,4.6102121586955036e-07,1.0375299552833894e-07,0.8614546656608582,1.947024319548518e-09,2.4753416028033826e-07,9.351542757940479e-07,4.950511467427532e-08,0.8358389735221863,1.928563531095051e-09,6.478805971710244e-07,2.3468501808565634e-07,2.14309192614337e-08,0.8019346594810486,9.230712407770625e-07,6.229590508155525e-05,2.1843225113116205e-06,1.4893824129558197e-07,1.3967602185971373e-08,0.11707010865211487,5.0617360102478415e-05,1.6511319245182676e-07,9.392606870051168e-08,1.8753973929364065e-09],[0.07706232368946075,0.08047553151845932,0.06361910700798035,0.12258987873792648,0.10557542741298676,0.05912739410996437,0.0008839047513902187,5.76162310608197e-05,0.0022247328888624907,0.0007130654412321746,0.04822898283600807,0.00020757738093379885,1.926018921949435e-05,0.16653180122375488,0.2720198631286621,0.38567468523979187,0.00950703676789999,0.14738072454929352,9.51738275034586e-06,0.16958625614643097,0.813705563545227,2.0777190002263524e-05,2.870661546694464e-06,9.211627002514433e-06,0.2198752462863922,0.8294048309326172,0.0001625717559363693,2.409683474979829e-07,1.8488919977244223e-06,0.7782466411590576,7.357762569881743e-06,2.93424079700344e-07,3.375969868102402e-07,0.2839202880859375,0.8567691445350647,5.835733645653818e-06,6.450790124290506e-08,2.640012723986729e-07,0.23829059302806854,0.8422830104827881,0.0007470343844033778,1.807351246441158e-08,1.7538205332456869e-09,1.4420285765481822e-07,0.20830635726451874,0.794632077217102,4.4016182982886676e-06,1.4481918242381653e-07,1.5348363149314537e-06,0.14801853895187378,0.8113344311714172,2.3020660933070758e-07,7.965590498315578e-08,1.0522934701384656e-07,0.8335065245628357,0.0011372019071131945,4.766010164303225e-08,5.022230409323925e-10,8.789920791230088e-09,1.1790717291404462e-09,0.00015623067156411707,1.6924003887197614e-07,7.166852356021991e-08,1.2679951311156401e-08],[0.09711679816246033,0.07918160408735275,0.17964576184749603,0.13343434035778046,0.17796306312084198,0.05856556072831154,0.00012635266466531903,0.0003344333963468671,8.949023140303325e-06,9.29428861127235e-05,0.07218468934297562,9.186070201394614e-06,1.5081797755556181e-05,0.1145973950624466,0.6294639706611633,0.22968196868896484,0.9007982611656189,0.44905564188957214,4.57340007642415e-07,5.566490472119767e-06,3.991162884631194e-06,0.9978808164596558,3.361675382507201e-08,3.6869076325274364e-07,5.2214832066965755e-06,2.984483217005618e-06,0.9994412064552307,3.077513355265182e-08,2.0801157916139346e-06,1.9490798308652302e-07,0.999841570854187,1.1780792874560575e-07,1.0956299547615345e-06,6.926100013515679e-06,9.895878747556708e-07,0.998950719833374,5.830226257330651e-08,9.996634844355867e-07,7.287717835424701e-06,3.6844878650299506e-06,0.00040476565482094884,2.9577054760920873e-07,1.1130301800221787e-06,1.707062438072171e-07,1.5450667660843465e-06,2.585533422916342e-07,0.9996449947357178,5.5892964923032196e-08,1.909289721879759e-06,1.2150145494160824e-06,5.425555968940898e-07,0.9998186230659485,1.3140748933437862e-08,2.0859647520410363e-07,9.76822107645603e-08,0.000842248962726444,2.870100104246376e-07,5.471724762173835e-07,2.3424630057888862e-07,4.778087703272149e-09,0.00011306831584079191,2.3283158157028083e-07,5.964186584606068e-06,2.8678087460320967e-07],[0.08281153440475464,0.0842510536313057,0.07989763468503952,8.636783604742959e-05,0.00018352176994085312,2.4983582989079878e-05,9.502232245495179e-08,0.8214221000671387,3.0395311114261858e-05,9.551283142172906e-08,1.301557688293542e-07,2.2271349209290747e-08,0.832261323928833,5.084908025310142e-06,3.596269664285501e-07,4.379751771921292e-06,4.46574340458028e-05,0.26813197135925293,3.6384878443485036e-10,2.9330767148394443e-08,1.9564123654447485e-09,1.8953031712953816e-06,0.2272447794675827,4.883909099362427e-08,8.630518095742445e-07,1.436037777580168e-08,4.457532213564264e-06,0.19262897968292236,5.004262604302312e-08,1.115901895332172e-07,8.105055712803733e-06,0.18754033744335175,2.7067142127634725e-07,1.4905455145708402e-06,2.2362092977346038e-07,8.459883815703506e-07,0.16080772876739502,2.8805800411646487e-07,1.4766040294489358e-05,1.2189124163342058e-06,4.962062121194322e-06,7.631751941516995e-07,0.9104124903678894,4.944209877066896e-07,1.966827221622225e-05,1.915537040986237e-06,4.147227173234569e-06,0.17255420982837677,5.772050144514651e-07,6.171721906866878e-05,1.1404259794289828e-06,2.529115761262801e-07,0.17430055141448975,9.728199074743316e-06,1.9430253814789467e-06,0.00011957340757362545,5.320868012859137e-07,0.9452031254768372,0.004845907911658287,2.5798626666073687e-05,6.552240665769204e-05,6.127080496298731e-07,0.8472314476966858,0.00029600743437185884],[0.07853197306394577,0.08270733058452606,0.0001787943474482745,0.1539352536201477,0.0002412877365713939,7.702270522713661e-05,0.8470888137817383,1.529800442767737e-06,0.40215790271759033,8.393682549012738e-08,6.646568522228335e-07,0.8675829172134399,1.1565153954506968e-06,5.981183903713827e-07,4.8132610572793055e-06,9.83028166956501e-06,7.360557447100291e-06,1.5927918184388545e-06,2.084910244448679e-09,5.958387646387564e-06,1.5754719129290606e-07,6.946545454411535e-07,2.98054914082968e-10,7.707623872477143e-09,3.8075891097832937e-06,2.311907820740089e-07,2.9601659434774774e-07,3.404059611966659e-07,8.622443203876173e-09,2.987254106301407e-07,1.3554288216255372e-06,1.5742575669719372e-06,2.165682211341391e-08,6.233391559362644e-06,6.20965181497013e-08,3.9991608247191834e-08,9.544961585561396e-07,2.782415187141396e-08,3.858253421640256e-06,3.5901157957596297e-07,0.00012762469123117626,0.9155790209770203,1.8193855794379488e-05,1.2182891140355423e-08,5.931891337240813e-06,1.047681976729109e-07,1.2365320856133621e-07,4.3373293010517955e-05,1.7554387454765674e-07,6.413031769625377e-06,6.317571887848317e-08,9.14815387886847e-08,3.58133293048013e-05,4.1406948980693414e-08,2.0881731899180522e-08,0.0011714736465364695,0.925746738910675,4.13485431636218e-05,0.16830234229564667,6.391090664692456e-06,0.0005585969192907214,0.8894308805465698,3.005684234835826e-08,0.18224261701107025],[0.07561574131250381,0.08184482902288437,0.2768687903881073,0.10886825621128082,0.06218542531132698,0.06231851503252983,7.482385990442708e-05,0.17794257402420044,0.0005359569331631064,5.751625940320082e-05,0.009641684591770172,2.6392201561975526e-06,0.16756172478199005,0.059729136526584625,0.0038190751802176237,0.13647586107254028,0.023005111142992973,0.05522800236940384,8.225249104043542e-08,1.1338469718680244e-08,1.5540811091341311e-06,0.0009325972641818225,0.7725360989570618,2.9688811409300797e-08,6.48225864097185e-08,8.172634693437431e-07,4.067613190272823e-05,0.8071426749229431,6.809163011212149e-09,7.68534818007538e-08,9.530795637147094e-07,0.8124114274978638,2.5320150420782284e-09,3.891020394775069e-09,2.286169973331198e-07,2.9420030500659777e-07,0.8391633033752441,3.119213687341471e-08,7.58295044533952e-08,3.251541045301565e-07,1.5440209608641453e-05,3.9550152042266973e-10,0.08951373398303986,1.0727683630307183e-08,4.015096521925443e-08,1.1876281860168092e-06,2.948582675799116e-07,0.8273751735687256,8.591959144155226e-09,6.690528575603594e-09,7.98573225324617e-08,4.055931412949576e-08,0.8256402611732483,1.4285098437483157e-08,1.2094851342681068e-08,9.627148756408133e-06,3.167404394321949e-10,0.054705023765563965,2.6432772637363655e-10,1.5516204987520155e-09,4.867288225796074e-06,7.743083396682948e-10,0.15274742245674133,1.3242519303346967e-09],[0.05806673690676689,0.0717787891626358,0.09759760648012161,0.09488723427057266,0.12257267534732819,0.05154765024781227,0.0002747636754065752,0.00013821928587276489,0.014635482802987099,6.939637387404218e-05,0.04494835063815117,3.0300001526484266e-05,7.12099572410807e-05,0.35263657569885254,0.09389393776655197,0.00018608417303767055,0.02647584304213524,0.006201818119734526,0.13681422173976898,0.8303889036178589,1.1137530009364127e-08,0.0005562255973927677,2.656797050804016e-06,0.1513420194387436,0.7801100015640259,1.0016133478174538e-09,9.51579277170822e-05,5.256811732579081e-07,0.14836832880973816,6.3646448111853715e-09,0.00010927122639259323,1.4611546816922782e-07,0.1603257954120636,0.7160397171974182,1.2188916542754669e-09,0.00021468321210704744,4.647765194931708e-08,0.1616392433643341,0.761660635471344,3.8706191030080106e-10,4.893201548838988e-05,5.908760591921691e-09,5.899834931710757e-08,0.13852113485336304,0.7916094064712524,9.77282921255096e-10,2.1725878468714654e-05,2.2398984000915334e-08,0.16414441168308258,0.8517764806747437,3.2442368791407716e-09,2.2331282707455102e-06,2.8939109597558854e-07,0.19804896414279938,1.3855928671091533e-07,9.380341361975297e-05,5.878154851757245e-09,1.020185180777844e-08,1.7695677811957466e-08,2.466622739394353e-10,6.471444521594094e-06,5.368863575938576e-09,6.518950357303765e-08,3.101088736912061e-07]],\"type\":\"heatmap\",\"xaxis\":\"x\",\"yaxis\":\"y\",\"hovertemplate\":\"num of token: %{x}<br>predicted distribution: %{y}<br>color: %{z}<extra></extra>\"}],                        {\"template\":{\"data\":{\"histogram2dcontour\":[{\"type\":\"histogram2dcontour\",\"colorbar\":{\"outlinewidth\":0,\"ticks\":\"\"},\"colorscale\":[[0.0,\"#0d0887\"],[0.1111111111111111,\"#46039f\"],[0.2222222222222222,\"#7201a8\"],[0.3333333333333333,\"#9c179e\"],[0.4444444444444444,\"#bd3786\"],[0.5555555555555556,\"#d8576b\"],[0.6666666666666666,\"#ed7953\"],[0.7777777777777778,\"#fb9f3a\"],[0.8888888888888888,\"#fdca26\"],[1.0,\"#f0f921\"]]}],\"choropleth\":[{\"type\":\"choropleth\",\"colorbar\":{\"outlinewidth\":0,\"ticks\":\"\"}}],\"histogram2d\":[{\"type\":\"histogram2d\",\"colorbar\":{\"outlinewidth\":0,\"ticks\":\"\"},\"colorscale\":[[0.0,\"#0d0887\"],[0.1111111111111111,\"#46039f\"],[0.2222222222222222,\"#7201a8\"],[0.3333333333333333,\"#9c179e\"],[0.4444444444444444,\"#bd3786\"],[0.5555555555555556,\"#d8576b\"],[0.6666666666666666,\"#ed7953\"],[0.7777777777777778,\"#fb9f3a\"],[0.8888888888888888,\"#fdca26\"],[1.0,\"#f0f921\"]]}],\"heatmap\":[{\"type\":\"heatmap\",\"colorbar\":{\"outlinewidth\":0,\"ticks\":\"\"},\"colorscale\":[[0.0,\"#0d0887\"],[0.1111111111111111,\"#46039f\"],[0.2222222222222222,\"#7201a8\"],[0.3333333333333333,\"#9c179e\"],[0.4444444444444444,\"#bd3786\"],[0.5555555555555556,\"#d8576b\"],[0.6666666666666666,\"#ed7953\"],[0.7777777777777778,\"#fb9f3a\"],[0.8888888888888888,\"#fdca26\"],[1.0,\"#f0f921\"]]}],\"heatmapgl\":[{\"type\":\"heatmapgl\",\"colorbar\":{\"outlinewidth\":0,\"ticks\":\"\"},\"colorscale\":[[0.0,\"#0d0887\"],[0.1111111111111111,\"#46039f\"],[0.2222222222222222,\"#7201a8\"],[0.3333333333333333,\"#9c179e\"],[0.4444444444444444,\"#bd3786\"],[0.5555555555555556,\"#d8576b\"],[0.6666666666666666,\"#ed7953\"],[0.7777777777777778,\"#fb9f3a\"],[0.8888888888888888,\"#fdca26\"],[1.0,\"#f0f921\"]]}],\"contourcarpet\":[{\"type\":\"contourcarpet\",\"colorbar\":{\"outlinewidth\":0,\"ticks\":\"\"}}],\"contour\":[{\"type\":\"contour\",\"colorbar\":{\"outlinewidth\":0,\"ticks\":\"\"},\"colorscale\":[[0.0,\"#0d0887\"],[0.1111111111111111,\"#46039f\"],[0.2222222222222222,\"#7201a8\"],[0.3333333333333333,\"#9c179e\"],[0.4444444444444444,\"#bd3786\"],[0.5555555555555556,\"#d8576b\"],[0.6666666666666666,\"#ed7953\"],[0.7777777777777778,\"#fb9f3a\"],[0.8888888888888888,\"#fdca26\"],[1.0,\"#f0f921\"]]}],\"surface\":[{\"type\":\"surface\",\"colorbar\":{\"outlinewidth\":0,\"ticks\":\"\"},\"colorscale\":[[0.0,\"#0d0887\"],[0.1111111111111111,\"#46039f\"],[0.2222222222222222,\"#7201a8\"],[0.3333333333333333,\"#9c179e\"],[0.4444444444444444,\"#bd3786\"],[0.5555555555555556,\"#d8576b\"],[0.6666666666666666,\"#ed7953\"],[0.7777777777777778,\"#fb9f3a\"],[0.8888888888888888,\"#fdca26\"],[1.0,\"#f0f921\"]]}],\"mesh3d\":[{\"type\":\"mesh3d\",\"colorbar\":{\"outlinewidth\":0,\"ticks\":\"\"}}],\"scatter\":[{\"fillpattern\":{\"fillmode\":\"overlay\",\"size\":10,\"solidity\":0.2},\"type\":\"scatter\"}],\"parcoords\":[{\"type\":\"parcoords\",\"line\":{\"colorbar\":{\"outlinewidth\":0,\"ticks\":\"\"}}}],\"scatterpolargl\":[{\"type\":\"scatterpolargl\",\"marker\":{\"colorbar\":{\"outlinewidth\":0,\"ticks\":\"\"}}}],\"bar\":[{\"error_x\":{\"color\":\"#2a3f5f\"},\"error_y\":{\"color\":\"#2a3f5f\"},\"marker\":{\"line\":{\"color\":\"#E5ECF6\",\"width\":0.5},\"pattern\":{\"fillmode\":\"overlay\",\"size\":10,\"solidity\":0.2}},\"type\":\"bar\"}],\"scattergeo\":[{\"type\":\"scattergeo\",\"marker\":{\"colorbar\":{\"outlinewidth\":0,\"ticks\":\"\"}}}],\"scatterpolar\":[{\"type\":\"scatterpolar\",\"marker\":{\"colorbar\":{\"outlinewidth\":0,\"ticks\":\"\"}}}],\"histogram\":[{\"marker\":{\"pattern\":{\"fillmode\":\"overlay\",\"size\":10,\"solidity\":0.2}},\"type\":\"histogram\"}],\"scattergl\":[{\"type\":\"scattergl\",\"marker\":{\"colorbar\":{\"outlinewidth\":0,\"ticks\":\"\"}}}],\"scatter3d\":[{\"type\":\"scatter3d\",\"line\":{\"colorbar\":{\"outlinewidth\":0,\"ticks\":\"\"}},\"marker\":{\"colorbar\":{\"outlinewidth\":0,\"ticks\":\"\"}}}],\"scattermapbox\":[{\"type\":\"scattermapbox\",\"marker\":{\"colorbar\":{\"outlinewidth\":0,\"ticks\":\"\"}}}],\"scatterternary\":[{\"type\":\"scatterternary\",\"marker\":{\"colorbar\":{\"outlinewidth\":0,\"ticks\":\"\"}}}],\"scattercarpet\":[{\"type\":\"scattercarpet\",\"marker\":{\"colorbar\":{\"outlinewidth\":0,\"ticks\":\"\"}}}],\"carpet\":[{\"aaxis\":{\"endlinecolor\":\"#2a3f5f\",\"gridcolor\":\"white\",\"linecolor\":\"white\",\"minorgridcolor\":\"white\",\"startlinecolor\":\"#2a3f5f\"},\"baxis\":{\"endlinecolor\":\"#2a3f5f\",\"gridcolor\":\"white\",\"linecolor\":\"white\",\"minorgridcolor\":\"white\",\"startlinecolor\":\"#2a3f5f\"},\"type\":\"carpet\"}],\"table\":[{\"cells\":{\"fill\":{\"color\":\"#EBF0F8\"},\"line\":{\"color\":\"white\"}},\"header\":{\"fill\":{\"color\":\"#C8D4E3\"},\"line\":{\"color\":\"white\"}},\"type\":\"table\"}],\"barpolar\":[{\"marker\":{\"line\":{\"color\":\"#E5ECF6\",\"width\":0.5},\"pattern\":{\"fillmode\":\"overlay\",\"size\":10,\"solidity\":0.2}},\"type\":\"barpolar\"}],\"pie\":[{\"automargin\":true,\"type\":\"pie\"}]},\"layout\":{\"autotypenumbers\":\"strict\",\"colorway\":[\"#636efa\",\"#EF553B\",\"#00cc96\",\"#ab63fa\",\"#FFA15A\",\"#19d3f3\",\"#FF6692\",\"#B6E880\",\"#FF97FF\",\"#FECB52\"],\"font\":{\"color\":\"#2a3f5f\"},\"hovermode\":\"closest\",\"hoverlabel\":{\"align\":\"left\"},\"paper_bgcolor\":\"white\",\"plot_bgcolor\":\"#E5ECF6\",\"polar\":{\"bgcolor\":\"#E5ECF6\",\"angularaxis\":{\"gridcolor\":\"white\",\"linecolor\":\"white\",\"ticks\":\"\"},\"radialaxis\":{\"gridcolor\":\"white\",\"linecolor\":\"white\",\"ticks\":\"\"}},\"ternary\":{\"bgcolor\":\"#E5ECF6\",\"aaxis\":{\"gridcolor\":\"white\",\"linecolor\":\"white\",\"ticks\":\"\"},\"baxis\":{\"gridcolor\":\"white\",\"linecolor\":\"white\",\"ticks\":\"\"},\"caxis\":{\"gridcolor\":\"white\",\"linecolor\":\"white\",\"ticks\":\"\"}},\"coloraxis\":{\"colorbar\":{\"outlinewidth\":0,\"ticks\":\"\"}},\"colorscale\":{\"sequential\":[[0.0,\"#0d0887\"],[0.1111111111111111,\"#46039f\"],[0.2222222222222222,\"#7201a8\"],[0.3333333333333333,\"#9c179e\"],[0.4444444444444444,\"#bd3786\"],[0.5555555555555556,\"#d8576b\"],[0.6666666666666666,\"#ed7953\"],[0.7777777777777778,\"#fb9f3a\"],[0.8888888888888888,\"#fdca26\"],[1.0,\"#f0f921\"]],\"sequentialminus\":[[0.0,\"#0d0887\"],[0.1111111111111111,\"#46039f\"],[0.2222222222222222,\"#7201a8\"],[0.3333333333333333,\"#9c179e\"],[0.4444444444444444,\"#bd3786\"],[0.5555555555555556,\"#d8576b\"],[0.6666666666666666,\"#ed7953\"],[0.7777777777777778,\"#fb9f3a\"],[0.8888888888888888,\"#fdca26\"],[1.0,\"#f0f921\"]],\"diverging\":[[0,\"#8e0152\"],[0.1,\"#c51b7d\"],[0.2,\"#de77ae\"],[0.3,\"#f1b6da\"],[0.4,\"#fde0ef\"],[0.5,\"#f7f7f7\"],[0.6,\"#e6f5d0\"],[0.7,\"#b8e186\"],[0.8,\"#7fbc41\"],[0.9,\"#4d9221\"],[1,\"#276419\"]]},\"xaxis\":{\"gridcolor\":\"white\",\"linecolor\":\"white\",\"ticks\":\"\",\"title\":{\"standoff\":15},\"zerolinecolor\":\"white\",\"automargin\":true,\"zerolinewidth\":2},\"yaxis\":{\"gridcolor\":\"white\",\"linecolor\":\"white\",\"ticks\":\"\",\"title\":{\"standoff\":15},\"zerolinecolor\":\"white\",\"automargin\":true,\"zerolinewidth\":2},\"scene\":{\"xaxis\":{\"backgroundcolor\":\"#E5ECF6\",\"gridcolor\":\"white\",\"linecolor\":\"white\",\"showbackground\":true,\"ticks\":\"\",\"zerolinecolor\":\"white\",\"gridwidth\":2},\"yaxis\":{\"backgroundcolor\":\"#E5ECF6\",\"gridcolor\":\"white\",\"linecolor\":\"white\",\"showbackground\":true,\"ticks\":\"\",\"zerolinecolor\":\"white\",\"gridwidth\":2},\"zaxis\":{\"backgroundcolor\":\"#E5ECF6\",\"gridcolor\":\"white\",\"linecolor\":\"white\",\"showbackground\":true,\"ticks\":\"\",\"zerolinecolor\":\"white\",\"gridwidth\":2}},\"shapedefaults\":{\"line\":{\"color\":\"#2a3f5f\"}},\"annotationdefaults\":{\"arrowcolor\":\"#2a3f5f\",\"arrowhead\":0,\"arrowwidth\":1},\"geo\":{\"bgcolor\":\"white\",\"landcolor\":\"#E5ECF6\",\"subunitcolor\":\"white\",\"showland\":true,\"showlakes\":true,\"lakecolor\":\"white\"},\"title\":{\"x\":0.05},\"mapbox\":{\"style\":\"light\"}}},\"xaxis\":{\"anchor\":\"y\",\"domain\":[0.0,1.0],\"scaleanchor\":\"y\",\"constrain\":\"domain\",\"title\":{\"text\":\"num of token\"}},\"yaxis\":{\"anchor\":\"x\",\"domain\":[0.0,1.0],\"autorange\":\"reversed\",\"constrain\":\"domain\",\"title\":{\"text\":\"predicted distribution\"}},\"coloraxis\":{\"colorscale\":[[0.0,\"#0d0887\"],[0.1111111111111111,\"#46039f\"],[0.2222222222222222,\"#7201a8\"],[0.3333333333333333,\"#9c179e\"],[0.4444444444444444,\"#bd3786\"],[0.5555555555555556,\"#d8576b\"],[0.6666666666666666,\"#ed7953\"],[0.7777777777777778,\"#fb9f3a\"],[0.8888888888888888,\"#fdca26\"],[1.0,\"#f0f921\"]]},\"margin\":{\"t\":60}},                        {\"responsive\": true}                    ).then(function(){\n",
              "                            \n",
              "var gd = document.getElementById('e8c1f578-9e59-415c-b1d7-404dc5d3312a');\n",
              "var x = new MutationObserver(function (mutations, observer) {{\n",
              "        var display = window.getComputedStyle(gd).display;\n",
              "        if (!display || display === 'none') {{\n",
              "            console.log([gd, 'removed!']);\n",
              "            Plotly.purge(gd);\n",
              "            observer.disconnect();\n",
              "        }}\n",
              "}});\n",
              "\n",
              "// Listen for the removal of the full notebook cells\n",
              "var notebookContainer = gd.closest('#notebook-container');\n",
              "if (notebookContainer) {{\n",
              "    x.observe(notebookContainer, {childList: true});\n",
              "}}\n",
              "\n",
              "// Listen for the clearing of the current output cell\n",
              "var outputEl = gd.closest('.output');\n",
              "if (outputEl) {{\n",
              "    x.observe(outputEl, {childList: true});\n",
              "}}\n",
              "\n",
              "                        })                };                });            </script>        </div>"
            ]
          },
          "metadata": {},
          "output_type": "display_data"
        }
      ],
      "source": [
        "import plotly.graph_objects as go\n",
        "import plotly.express as px\n",
        "\n",
        "\n",
        "prefix = TEST_DATASET[0][0][:, None].to(DEVICE)\n",
        "\n",
        "model.eval()\n",
        "probs = torch.squeeze(model.forward(prefix, model.get_empty_cache(x.shape[1]))[0].probs, dim=1)\n",
        "\n",
        "fig = px.imshow(\n",
        "    probs.permute(1, 0).detach().cpu().numpy(),\n",
        "    labels=dict(x=\"num of token\", y=\"predicted distribution\")\n",
        "    )\n",
        "fig.show()"
      ]
    },
    {
      "attachments": {},
      "cell_type": "markdown",
      "metadata": {
        "id": "wGiR13agwldB"
      },
      "source": [
        "One may want to know how many elements of a sequence a model needs to see in order to learn the underlying pattern.\n",
        "To check this write a function that given a model and a data set loader calculates for each position in the range\n",
        "$[0,\\text{SEQ_LEN}]$\n",
        "average model accuracy. Assume that we take the most probable answer."
      ]
    },
    {
      "cell_type": "code",
      "execution_count": 485,
      "metadata": {
        "id": "OeaxrP0wiZkr"
      },
      "outputs": [
        {
          "data": {
            "application/vnd.plotly.v1+json": {
              "config": {
                "plotlyServerURL": "https://plot.ly"
              },
              "data": [
                {
                  "type": "scatter",
                  "x": [
                    0,
                    1,
                    2,
                    3,
                    4,
                    5,
                    6,
                    7,
                    8,
                    9,
                    10,
                    11,
                    12,
                    13,
                    14,
                    15,
                    16,
                    17,
                    18,
                    19,
                    20,
                    21,
                    22,
                    23,
                    24,
                    25,
                    26,
                    27,
                    28,
                    29,
                    30,
                    31,
                    32,
                    33,
                    34,
                    35,
                    36,
                    37,
                    38,
                    39,
                    40,
                    41,
                    42,
                    43,
                    44,
                    45,
                    46,
                    47,
                    48,
                    49,
                    50,
                    51,
                    52,
                    53,
                    54,
                    55,
                    56,
                    57,
                    58,
                    59,
                    60,
                    61,
                    62,
                    63
                  ],
                  "y": [
                    0.3203125,
                    0.3203125,
                    0.34375,
                    0.453125,
                    0.4765625,
                    0.5546875,
                    0.53125,
                    0.5703125,
                    0.5625,
                    0.625,
                    0.625,
                    0.671875,
                    0.609375,
                    0.671875,
                    0.6015625,
                    0.6875,
                    0.671875,
                    0.7109375,
                    0.71875,
                    0.734375,
                    0.6953125,
                    0.7265625,
                    0.828125,
                    0.7421875,
                    0.734375,
                    0.7890625,
                    0.8359375,
                    0.8359375,
                    0.734375,
                    0.765625,
                    0.8203125,
                    0.796875,
                    0.7734375,
                    0.7734375,
                    0.7734375,
                    0.8046875,
                    0.8046875,
                    0.7421875,
                    0.7890625,
                    0.8125,
                    0.796875,
                    0.7578125,
                    0.8125,
                    0.8515625,
                    0.8046875,
                    0.828125,
                    0.8046875,
                    0.78125,
                    0.828125,
                    0.8359375,
                    0.859375,
                    0.8125,
                    0.8671875,
                    0.8203125,
                    0.8203125,
                    0.7734375,
                    0.8671875,
                    0.828125,
                    0.8203125,
                    0.796875,
                    0.8359375,
                    0.8359375,
                    0.8046875,
                    0.8203125
                  ]
                }
              ],
              "layout": {
                "template": {
                  "data": {
                    "bar": [
                      {
                        "error_x": {
                          "color": "#2a3f5f"
                        },
                        "error_y": {
                          "color": "#2a3f5f"
                        },
                        "marker": {
                          "line": {
                            "color": "#E5ECF6",
                            "width": 0.5
                          },
                          "pattern": {
                            "fillmode": "overlay",
                            "size": 10,
                            "solidity": 0.2
                          }
                        },
                        "type": "bar"
                      }
                    ],
                    "barpolar": [
                      {
                        "marker": {
                          "line": {
                            "color": "#E5ECF6",
                            "width": 0.5
                          },
                          "pattern": {
                            "fillmode": "overlay",
                            "size": 10,
                            "solidity": 0.2
                          }
                        },
                        "type": "barpolar"
                      }
                    ],
                    "carpet": [
                      {
                        "aaxis": {
                          "endlinecolor": "#2a3f5f",
                          "gridcolor": "white",
                          "linecolor": "white",
                          "minorgridcolor": "white",
                          "startlinecolor": "#2a3f5f"
                        },
                        "baxis": {
                          "endlinecolor": "#2a3f5f",
                          "gridcolor": "white",
                          "linecolor": "white",
                          "minorgridcolor": "white",
                          "startlinecolor": "#2a3f5f"
                        },
                        "type": "carpet"
                      }
                    ],
                    "choropleth": [
                      {
                        "colorbar": {
                          "outlinewidth": 0,
                          "ticks": ""
                        },
                        "type": "choropleth"
                      }
                    ],
                    "contour": [
                      {
                        "colorbar": {
                          "outlinewidth": 0,
                          "ticks": ""
                        },
                        "colorscale": [
                          [
                            0,
                            "#0d0887"
                          ],
                          [
                            0.1111111111111111,
                            "#46039f"
                          ],
                          [
                            0.2222222222222222,
                            "#7201a8"
                          ],
                          [
                            0.3333333333333333,
                            "#9c179e"
                          ],
                          [
                            0.4444444444444444,
                            "#bd3786"
                          ],
                          [
                            0.5555555555555556,
                            "#d8576b"
                          ],
                          [
                            0.6666666666666666,
                            "#ed7953"
                          ],
                          [
                            0.7777777777777778,
                            "#fb9f3a"
                          ],
                          [
                            0.8888888888888888,
                            "#fdca26"
                          ],
                          [
                            1,
                            "#f0f921"
                          ]
                        ],
                        "type": "contour"
                      }
                    ],
                    "contourcarpet": [
                      {
                        "colorbar": {
                          "outlinewidth": 0,
                          "ticks": ""
                        },
                        "type": "contourcarpet"
                      }
                    ],
                    "heatmap": [
                      {
                        "colorbar": {
                          "outlinewidth": 0,
                          "ticks": ""
                        },
                        "colorscale": [
                          [
                            0,
                            "#0d0887"
                          ],
                          [
                            0.1111111111111111,
                            "#46039f"
                          ],
                          [
                            0.2222222222222222,
                            "#7201a8"
                          ],
                          [
                            0.3333333333333333,
                            "#9c179e"
                          ],
                          [
                            0.4444444444444444,
                            "#bd3786"
                          ],
                          [
                            0.5555555555555556,
                            "#d8576b"
                          ],
                          [
                            0.6666666666666666,
                            "#ed7953"
                          ],
                          [
                            0.7777777777777778,
                            "#fb9f3a"
                          ],
                          [
                            0.8888888888888888,
                            "#fdca26"
                          ],
                          [
                            1,
                            "#f0f921"
                          ]
                        ],
                        "type": "heatmap"
                      }
                    ],
                    "heatmapgl": [
                      {
                        "colorbar": {
                          "outlinewidth": 0,
                          "ticks": ""
                        },
                        "colorscale": [
                          [
                            0,
                            "#0d0887"
                          ],
                          [
                            0.1111111111111111,
                            "#46039f"
                          ],
                          [
                            0.2222222222222222,
                            "#7201a8"
                          ],
                          [
                            0.3333333333333333,
                            "#9c179e"
                          ],
                          [
                            0.4444444444444444,
                            "#bd3786"
                          ],
                          [
                            0.5555555555555556,
                            "#d8576b"
                          ],
                          [
                            0.6666666666666666,
                            "#ed7953"
                          ],
                          [
                            0.7777777777777778,
                            "#fb9f3a"
                          ],
                          [
                            0.8888888888888888,
                            "#fdca26"
                          ],
                          [
                            1,
                            "#f0f921"
                          ]
                        ],
                        "type": "heatmapgl"
                      }
                    ],
                    "histogram": [
                      {
                        "marker": {
                          "pattern": {
                            "fillmode": "overlay",
                            "size": 10,
                            "solidity": 0.2
                          }
                        },
                        "type": "histogram"
                      }
                    ],
                    "histogram2d": [
                      {
                        "colorbar": {
                          "outlinewidth": 0,
                          "ticks": ""
                        },
                        "colorscale": [
                          [
                            0,
                            "#0d0887"
                          ],
                          [
                            0.1111111111111111,
                            "#46039f"
                          ],
                          [
                            0.2222222222222222,
                            "#7201a8"
                          ],
                          [
                            0.3333333333333333,
                            "#9c179e"
                          ],
                          [
                            0.4444444444444444,
                            "#bd3786"
                          ],
                          [
                            0.5555555555555556,
                            "#d8576b"
                          ],
                          [
                            0.6666666666666666,
                            "#ed7953"
                          ],
                          [
                            0.7777777777777778,
                            "#fb9f3a"
                          ],
                          [
                            0.8888888888888888,
                            "#fdca26"
                          ],
                          [
                            1,
                            "#f0f921"
                          ]
                        ],
                        "type": "histogram2d"
                      }
                    ],
                    "histogram2dcontour": [
                      {
                        "colorbar": {
                          "outlinewidth": 0,
                          "ticks": ""
                        },
                        "colorscale": [
                          [
                            0,
                            "#0d0887"
                          ],
                          [
                            0.1111111111111111,
                            "#46039f"
                          ],
                          [
                            0.2222222222222222,
                            "#7201a8"
                          ],
                          [
                            0.3333333333333333,
                            "#9c179e"
                          ],
                          [
                            0.4444444444444444,
                            "#bd3786"
                          ],
                          [
                            0.5555555555555556,
                            "#d8576b"
                          ],
                          [
                            0.6666666666666666,
                            "#ed7953"
                          ],
                          [
                            0.7777777777777778,
                            "#fb9f3a"
                          ],
                          [
                            0.8888888888888888,
                            "#fdca26"
                          ],
                          [
                            1,
                            "#f0f921"
                          ]
                        ],
                        "type": "histogram2dcontour"
                      }
                    ],
                    "mesh3d": [
                      {
                        "colorbar": {
                          "outlinewidth": 0,
                          "ticks": ""
                        },
                        "type": "mesh3d"
                      }
                    ],
                    "parcoords": [
                      {
                        "line": {
                          "colorbar": {
                            "outlinewidth": 0,
                            "ticks": ""
                          }
                        },
                        "type": "parcoords"
                      }
                    ],
                    "pie": [
                      {
                        "automargin": true,
                        "type": "pie"
                      }
                    ],
                    "scatter": [
                      {
                        "fillpattern": {
                          "fillmode": "overlay",
                          "size": 10,
                          "solidity": 0.2
                        },
                        "type": "scatter"
                      }
                    ],
                    "scatter3d": [
                      {
                        "line": {
                          "colorbar": {
                            "outlinewidth": 0,
                            "ticks": ""
                          }
                        },
                        "marker": {
                          "colorbar": {
                            "outlinewidth": 0,
                            "ticks": ""
                          }
                        },
                        "type": "scatter3d"
                      }
                    ],
                    "scattercarpet": [
                      {
                        "marker": {
                          "colorbar": {
                            "outlinewidth": 0,
                            "ticks": ""
                          }
                        },
                        "type": "scattercarpet"
                      }
                    ],
                    "scattergeo": [
                      {
                        "marker": {
                          "colorbar": {
                            "outlinewidth": 0,
                            "ticks": ""
                          }
                        },
                        "type": "scattergeo"
                      }
                    ],
                    "scattergl": [
                      {
                        "marker": {
                          "colorbar": {
                            "outlinewidth": 0,
                            "ticks": ""
                          }
                        },
                        "type": "scattergl"
                      }
                    ],
                    "scattermapbox": [
                      {
                        "marker": {
                          "colorbar": {
                            "outlinewidth": 0,
                            "ticks": ""
                          }
                        },
                        "type": "scattermapbox"
                      }
                    ],
                    "scatterpolar": [
                      {
                        "marker": {
                          "colorbar": {
                            "outlinewidth": 0,
                            "ticks": ""
                          }
                        },
                        "type": "scatterpolar"
                      }
                    ],
                    "scatterpolargl": [
                      {
                        "marker": {
                          "colorbar": {
                            "outlinewidth": 0,
                            "ticks": ""
                          }
                        },
                        "type": "scatterpolargl"
                      }
                    ],
                    "scatterternary": [
                      {
                        "marker": {
                          "colorbar": {
                            "outlinewidth": 0,
                            "ticks": ""
                          }
                        },
                        "type": "scatterternary"
                      }
                    ],
                    "surface": [
                      {
                        "colorbar": {
                          "outlinewidth": 0,
                          "ticks": ""
                        },
                        "colorscale": [
                          [
                            0,
                            "#0d0887"
                          ],
                          [
                            0.1111111111111111,
                            "#46039f"
                          ],
                          [
                            0.2222222222222222,
                            "#7201a8"
                          ],
                          [
                            0.3333333333333333,
                            "#9c179e"
                          ],
                          [
                            0.4444444444444444,
                            "#bd3786"
                          ],
                          [
                            0.5555555555555556,
                            "#d8576b"
                          ],
                          [
                            0.6666666666666666,
                            "#ed7953"
                          ],
                          [
                            0.7777777777777778,
                            "#fb9f3a"
                          ],
                          [
                            0.8888888888888888,
                            "#fdca26"
                          ],
                          [
                            1,
                            "#f0f921"
                          ]
                        ],
                        "type": "surface"
                      }
                    ],
                    "table": [
                      {
                        "cells": {
                          "fill": {
                            "color": "#EBF0F8"
                          },
                          "line": {
                            "color": "white"
                          }
                        },
                        "header": {
                          "fill": {
                            "color": "#C8D4E3"
                          },
                          "line": {
                            "color": "white"
                          }
                        },
                        "type": "table"
                      }
                    ]
                  },
                  "layout": {
                    "annotationdefaults": {
                      "arrowcolor": "#2a3f5f",
                      "arrowhead": 0,
                      "arrowwidth": 1
                    },
                    "autotypenumbers": "strict",
                    "coloraxis": {
                      "colorbar": {
                        "outlinewidth": 0,
                        "ticks": ""
                      }
                    },
                    "colorscale": {
                      "diverging": [
                        [
                          0,
                          "#8e0152"
                        ],
                        [
                          0.1,
                          "#c51b7d"
                        ],
                        [
                          0.2,
                          "#de77ae"
                        ],
                        [
                          0.3,
                          "#f1b6da"
                        ],
                        [
                          0.4,
                          "#fde0ef"
                        ],
                        [
                          0.5,
                          "#f7f7f7"
                        ],
                        [
                          0.6,
                          "#e6f5d0"
                        ],
                        [
                          0.7,
                          "#b8e186"
                        ],
                        [
                          0.8,
                          "#7fbc41"
                        ],
                        [
                          0.9,
                          "#4d9221"
                        ],
                        [
                          1,
                          "#276419"
                        ]
                      ],
                      "sequential": [
                        [
                          0,
                          "#0d0887"
                        ],
                        [
                          0.1111111111111111,
                          "#46039f"
                        ],
                        [
                          0.2222222222222222,
                          "#7201a8"
                        ],
                        [
                          0.3333333333333333,
                          "#9c179e"
                        ],
                        [
                          0.4444444444444444,
                          "#bd3786"
                        ],
                        [
                          0.5555555555555556,
                          "#d8576b"
                        ],
                        [
                          0.6666666666666666,
                          "#ed7953"
                        ],
                        [
                          0.7777777777777778,
                          "#fb9f3a"
                        ],
                        [
                          0.8888888888888888,
                          "#fdca26"
                        ],
                        [
                          1,
                          "#f0f921"
                        ]
                      ],
                      "sequentialminus": [
                        [
                          0,
                          "#0d0887"
                        ],
                        [
                          0.1111111111111111,
                          "#46039f"
                        ],
                        [
                          0.2222222222222222,
                          "#7201a8"
                        ],
                        [
                          0.3333333333333333,
                          "#9c179e"
                        ],
                        [
                          0.4444444444444444,
                          "#bd3786"
                        ],
                        [
                          0.5555555555555556,
                          "#d8576b"
                        ],
                        [
                          0.6666666666666666,
                          "#ed7953"
                        ],
                        [
                          0.7777777777777778,
                          "#fb9f3a"
                        ],
                        [
                          0.8888888888888888,
                          "#fdca26"
                        ],
                        [
                          1,
                          "#f0f921"
                        ]
                      ]
                    },
                    "colorway": [
                      "#636efa",
                      "#EF553B",
                      "#00cc96",
                      "#ab63fa",
                      "#FFA15A",
                      "#19d3f3",
                      "#FF6692",
                      "#B6E880",
                      "#FF97FF",
                      "#FECB52"
                    ],
                    "font": {
                      "color": "#2a3f5f"
                    },
                    "geo": {
                      "bgcolor": "white",
                      "lakecolor": "white",
                      "landcolor": "#E5ECF6",
                      "showlakes": true,
                      "showland": true,
                      "subunitcolor": "white"
                    },
                    "hoverlabel": {
                      "align": "left"
                    },
                    "hovermode": "closest",
                    "mapbox": {
                      "style": "light"
                    },
                    "paper_bgcolor": "white",
                    "plot_bgcolor": "#E5ECF6",
                    "polar": {
                      "angularaxis": {
                        "gridcolor": "white",
                        "linecolor": "white",
                        "ticks": ""
                      },
                      "bgcolor": "#E5ECF6",
                      "radialaxis": {
                        "gridcolor": "white",
                        "linecolor": "white",
                        "ticks": ""
                      }
                    },
                    "scene": {
                      "xaxis": {
                        "backgroundcolor": "#E5ECF6",
                        "gridcolor": "white",
                        "gridwidth": 2,
                        "linecolor": "white",
                        "showbackground": true,
                        "ticks": "",
                        "zerolinecolor": "white"
                      },
                      "yaxis": {
                        "backgroundcolor": "#E5ECF6",
                        "gridcolor": "white",
                        "gridwidth": 2,
                        "linecolor": "white",
                        "showbackground": true,
                        "ticks": "",
                        "zerolinecolor": "white"
                      },
                      "zaxis": {
                        "backgroundcolor": "#E5ECF6",
                        "gridcolor": "white",
                        "gridwidth": 2,
                        "linecolor": "white",
                        "showbackground": true,
                        "ticks": "",
                        "zerolinecolor": "white"
                      }
                    },
                    "shapedefaults": {
                      "line": {
                        "color": "#2a3f5f"
                      }
                    },
                    "ternary": {
                      "aaxis": {
                        "gridcolor": "white",
                        "linecolor": "white",
                        "ticks": ""
                      },
                      "baxis": {
                        "gridcolor": "white",
                        "linecolor": "white",
                        "ticks": ""
                      },
                      "bgcolor": "#E5ECF6",
                      "caxis": {
                        "gridcolor": "white",
                        "linecolor": "white",
                        "ticks": ""
                      }
                    },
                    "title": {
                      "x": 0.05
                    },
                    "xaxis": {
                      "automargin": true,
                      "gridcolor": "white",
                      "linecolor": "white",
                      "ticks": "",
                      "title": {
                        "standoff": 15
                      },
                      "zerolinecolor": "white",
                      "zerolinewidth": 2
                    },
                    "yaxis": {
                      "automargin": true,
                      "gridcolor": "white",
                      "linecolor": "white",
                      "ticks": "",
                      "title": {
                        "standoff": 15
                      },
                      "zerolinecolor": "white",
                      "zerolinewidth": 2
                    }
                  }
                }
              }
            },
            "text/html": [
              "<div>                            <div id=\"5f92c8d8-4c7c-4117-9654-d510138c0e75\" class=\"plotly-graph-div\" style=\"height:525px; width:100%;\"></div>            <script type=\"text/javascript\">                require([\"plotly\"], function(Plotly) {                    window.PLOTLYENV=window.PLOTLYENV || {};                                    if (document.getElementById(\"5f92c8d8-4c7c-4117-9654-d510138c0e75\")) {                    Plotly.newPlot(                        \"5f92c8d8-4c7c-4117-9654-d510138c0e75\",                        [{\"x\":[0,1,2,3,4,5,6,7,8,9,10,11,12,13,14,15,16,17,18,19,20,21,22,23,24,25,26,27,28,29,30,31,32,33,34,35,36,37,38,39,40,41,42,43,44,45,46,47,48,49,50,51,52,53,54,55,56,57,58,59,60,61,62,63],\"y\":[0.3203125,0.3203125,0.34375,0.453125,0.4765625,0.5546875,0.53125,0.5703125,0.5625,0.625,0.625,0.671875,0.609375,0.671875,0.6015625,0.6875,0.671875,0.7109375,0.71875,0.734375,0.6953125,0.7265625,0.828125,0.7421875,0.734375,0.7890625,0.8359375,0.8359375,0.734375,0.765625,0.8203125,0.796875,0.7734375,0.7734375,0.7734375,0.8046875,0.8046875,0.7421875,0.7890625,0.8125,0.796875,0.7578125,0.8125,0.8515625,0.8046875,0.828125,0.8046875,0.78125,0.828125,0.8359375,0.859375,0.8125,0.8671875,0.8203125,0.8203125,0.7734375,0.8671875,0.828125,0.8203125,0.796875,0.8359375,0.8359375,0.8046875,0.8203125],\"type\":\"scatter\"}],                        {\"template\":{\"data\":{\"histogram2dcontour\":[{\"type\":\"histogram2dcontour\",\"colorbar\":{\"outlinewidth\":0,\"ticks\":\"\"},\"colorscale\":[[0.0,\"#0d0887\"],[0.1111111111111111,\"#46039f\"],[0.2222222222222222,\"#7201a8\"],[0.3333333333333333,\"#9c179e\"],[0.4444444444444444,\"#bd3786\"],[0.5555555555555556,\"#d8576b\"],[0.6666666666666666,\"#ed7953\"],[0.7777777777777778,\"#fb9f3a\"],[0.8888888888888888,\"#fdca26\"],[1.0,\"#f0f921\"]]}],\"choropleth\":[{\"type\":\"choropleth\",\"colorbar\":{\"outlinewidth\":0,\"ticks\":\"\"}}],\"histogram2d\":[{\"type\":\"histogram2d\",\"colorbar\":{\"outlinewidth\":0,\"ticks\":\"\"},\"colorscale\":[[0.0,\"#0d0887\"],[0.1111111111111111,\"#46039f\"],[0.2222222222222222,\"#7201a8\"],[0.3333333333333333,\"#9c179e\"],[0.4444444444444444,\"#bd3786\"],[0.5555555555555556,\"#d8576b\"],[0.6666666666666666,\"#ed7953\"],[0.7777777777777778,\"#fb9f3a\"],[0.8888888888888888,\"#fdca26\"],[1.0,\"#f0f921\"]]}],\"heatmap\":[{\"type\":\"heatmap\",\"colorbar\":{\"outlinewidth\":0,\"ticks\":\"\"},\"colorscale\":[[0.0,\"#0d0887\"],[0.1111111111111111,\"#46039f\"],[0.2222222222222222,\"#7201a8\"],[0.3333333333333333,\"#9c179e\"],[0.4444444444444444,\"#bd3786\"],[0.5555555555555556,\"#d8576b\"],[0.6666666666666666,\"#ed7953\"],[0.7777777777777778,\"#fb9f3a\"],[0.8888888888888888,\"#fdca26\"],[1.0,\"#f0f921\"]]}],\"heatmapgl\":[{\"type\":\"heatmapgl\",\"colorbar\":{\"outlinewidth\":0,\"ticks\":\"\"},\"colorscale\":[[0.0,\"#0d0887\"],[0.1111111111111111,\"#46039f\"],[0.2222222222222222,\"#7201a8\"],[0.3333333333333333,\"#9c179e\"],[0.4444444444444444,\"#bd3786\"],[0.5555555555555556,\"#d8576b\"],[0.6666666666666666,\"#ed7953\"],[0.7777777777777778,\"#fb9f3a\"],[0.8888888888888888,\"#fdca26\"],[1.0,\"#f0f921\"]]}],\"contourcarpet\":[{\"type\":\"contourcarpet\",\"colorbar\":{\"outlinewidth\":0,\"ticks\":\"\"}}],\"contour\":[{\"type\":\"contour\",\"colorbar\":{\"outlinewidth\":0,\"ticks\":\"\"},\"colorscale\":[[0.0,\"#0d0887\"],[0.1111111111111111,\"#46039f\"],[0.2222222222222222,\"#7201a8\"],[0.3333333333333333,\"#9c179e\"],[0.4444444444444444,\"#bd3786\"],[0.5555555555555556,\"#d8576b\"],[0.6666666666666666,\"#ed7953\"],[0.7777777777777778,\"#fb9f3a\"],[0.8888888888888888,\"#fdca26\"],[1.0,\"#f0f921\"]]}],\"surface\":[{\"type\":\"surface\",\"colorbar\":{\"outlinewidth\":0,\"ticks\":\"\"},\"colorscale\":[[0.0,\"#0d0887\"],[0.1111111111111111,\"#46039f\"],[0.2222222222222222,\"#7201a8\"],[0.3333333333333333,\"#9c179e\"],[0.4444444444444444,\"#bd3786\"],[0.5555555555555556,\"#d8576b\"],[0.6666666666666666,\"#ed7953\"],[0.7777777777777778,\"#fb9f3a\"],[0.8888888888888888,\"#fdca26\"],[1.0,\"#f0f921\"]]}],\"mesh3d\":[{\"type\":\"mesh3d\",\"colorbar\":{\"outlinewidth\":0,\"ticks\":\"\"}}],\"scatter\":[{\"fillpattern\":{\"fillmode\":\"overlay\",\"size\":10,\"solidity\":0.2},\"type\":\"scatter\"}],\"parcoords\":[{\"type\":\"parcoords\",\"line\":{\"colorbar\":{\"outlinewidth\":0,\"ticks\":\"\"}}}],\"scatterpolargl\":[{\"type\":\"scatterpolargl\",\"marker\":{\"colorbar\":{\"outlinewidth\":0,\"ticks\":\"\"}}}],\"bar\":[{\"error_x\":{\"color\":\"#2a3f5f\"},\"error_y\":{\"color\":\"#2a3f5f\"},\"marker\":{\"line\":{\"color\":\"#E5ECF6\",\"width\":0.5},\"pattern\":{\"fillmode\":\"overlay\",\"size\":10,\"solidity\":0.2}},\"type\":\"bar\"}],\"scattergeo\":[{\"type\":\"scattergeo\",\"marker\":{\"colorbar\":{\"outlinewidth\":0,\"ticks\":\"\"}}}],\"scatterpolar\":[{\"type\":\"scatterpolar\",\"marker\":{\"colorbar\":{\"outlinewidth\":0,\"ticks\":\"\"}}}],\"histogram\":[{\"marker\":{\"pattern\":{\"fillmode\":\"overlay\",\"size\":10,\"solidity\":0.2}},\"type\":\"histogram\"}],\"scattergl\":[{\"type\":\"scattergl\",\"marker\":{\"colorbar\":{\"outlinewidth\":0,\"ticks\":\"\"}}}],\"scatter3d\":[{\"type\":\"scatter3d\",\"line\":{\"colorbar\":{\"outlinewidth\":0,\"ticks\":\"\"}},\"marker\":{\"colorbar\":{\"outlinewidth\":0,\"ticks\":\"\"}}}],\"scattermapbox\":[{\"type\":\"scattermapbox\",\"marker\":{\"colorbar\":{\"outlinewidth\":0,\"ticks\":\"\"}}}],\"scatterternary\":[{\"type\":\"scatterternary\",\"marker\":{\"colorbar\":{\"outlinewidth\":0,\"ticks\":\"\"}}}],\"scattercarpet\":[{\"type\":\"scattercarpet\",\"marker\":{\"colorbar\":{\"outlinewidth\":0,\"ticks\":\"\"}}}],\"carpet\":[{\"aaxis\":{\"endlinecolor\":\"#2a3f5f\",\"gridcolor\":\"white\",\"linecolor\":\"white\",\"minorgridcolor\":\"white\",\"startlinecolor\":\"#2a3f5f\"},\"baxis\":{\"endlinecolor\":\"#2a3f5f\",\"gridcolor\":\"white\",\"linecolor\":\"white\",\"minorgridcolor\":\"white\",\"startlinecolor\":\"#2a3f5f\"},\"type\":\"carpet\"}],\"table\":[{\"cells\":{\"fill\":{\"color\":\"#EBF0F8\"},\"line\":{\"color\":\"white\"}},\"header\":{\"fill\":{\"color\":\"#C8D4E3\"},\"line\":{\"color\":\"white\"}},\"type\":\"table\"}],\"barpolar\":[{\"marker\":{\"line\":{\"color\":\"#E5ECF6\",\"width\":0.5},\"pattern\":{\"fillmode\":\"overlay\",\"size\":10,\"solidity\":0.2}},\"type\":\"barpolar\"}],\"pie\":[{\"automargin\":true,\"type\":\"pie\"}]},\"layout\":{\"autotypenumbers\":\"strict\",\"colorway\":[\"#636efa\",\"#EF553B\",\"#00cc96\",\"#ab63fa\",\"#FFA15A\",\"#19d3f3\",\"#FF6692\",\"#B6E880\",\"#FF97FF\",\"#FECB52\"],\"font\":{\"color\":\"#2a3f5f\"},\"hovermode\":\"closest\",\"hoverlabel\":{\"align\":\"left\"},\"paper_bgcolor\":\"white\",\"plot_bgcolor\":\"#E5ECF6\",\"polar\":{\"bgcolor\":\"#E5ECF6\",\"angularaxis\":{\"gridcolor\":\"white\",\"linecolor\":\"white\",\"ticks\":\"\"},\"radialaxis\":{\"gridcolor\":\"white\",\"linecolor\":\"white\",\"ticks\":\"\"}},\"ternary\":{\"bgcolor\":\"#E5ECF6\",\"aaxis\":{\"gridcolor\":\"white\",\"linecolor\":\"white\",\"ticks\":\"\"},\"baxis\":{\"gridcolor\":\"white\",\"linecolor\":\"white\",\"ticks\":\"\"},\"caxis\":{\"gridcolor\":\"white\",\"linecolor\":\"white\",\"ticks\":\"\"}},\"coloraxis\":{\"colorbar\":{\"outlinewidth\":0,\"ticks\":\"\"}},\"colorscale\":{\"sequential\":[[0.0,\"#0d0887\"],[0.1111111111111111,\"#46039f\"],[0.2222222222222222,\"#7201a8\"],[0.3333333333333333,\"#9c179e\"],[0.4444444444444444,\"#bd3786\"],[0.5555555555555556,\"#d8576b\"],[0.6666666666666666,\"#ed7953\"],[0.7777777777777778,\"#fb9f3a\"],[0.8888888888888888,\"#fdca26\"],[1.0,\"#f0f921\"]],\"sequentialminus\":[[0.0,\"#0d0887\"],[0.1111111111111111,\"#46039f\"],[0.2222222222222222,\"#7201a8\"],[0.3333333333333333,\"#9c179e\"],[0.4444444444444444,\"#bd3786\"],[0.5555555555555556,\"#d8576b\"],[0.6666666666666666,\"#ed7953\"],[0.7777777777777778,\"#fb9f3a\"],[0.8888888888888888,\"#fdca26\"],[1.0,\"#f0f921\"]],\"diverging\":[[0,\"#8e0152\"],[0.1,\"#c51b7d\"],[0.2,\"#de77ae\"],[0.3,\"#f1b6da\"],[0.4,\"#fde0ef\"],[0.5,\"#f7f7f7\"],[0.6,\"#e6f5d0\"],[0.7,\"#b8e186\"],[0.8,\"#7fbc41\"],[0.9,\"#4d9221\"],[1,\"#276419\"]]},\"xaxis\":{\"gridcolor\":\"white\",\"linecolor\":\"white\",\"ticks\":\"\",\"title\":{\"standoff\":15},\"zerolinecolor\":\"white\",\"automargin\":true,\"zerolinewidth\":2},\"yaxis\":{\"gridcolor\":\"white\",\"linecolor\":\"white\",\"ticks\":\"\",\"title\":{\"standoff\":15},\"zerolinecolor\":\"white\",\"automargin\":true,\"zerolinewidth\":2},\"scene\":{\"xaxis\":{\"backgroundcolor\":\"#E5ECF6\",\"gridcolor\":\"white\",\"linecolor\":\"white\",\"showbackground\":true,\"ticks\":\"\",\"zerolinecolor\":\"white\",\"gridwidth\":2},\"yaxis\":{\"backgroundcolor\":\"#E5ECF6\",\"gridcolor\":\"white\",\"linecolor\":\"white\",\"showbackground\":true,\"ticks\":\"\",\"zerolinecolor\":\"white\",\"gridwidth\":2},\"zaxis\":{\"backgroundcolor\":\"#E5ECF6\",\"gridcolor\":\"white\",\"linecolor\":\"white\",\"showbackground\":true,\"ticks\":\"\",\"zerolinecolor\":\"white\",\"gridwidth\":2}},\"shapedefaults\":{\"line\":{\"color\":\"#2a3f5f\"}},\"annotationdefaults\":{\"arrowcolor\":\"#2a3f5f\",\"arrowhead\":0,\"arrowwidth\":1},\"geo\":{\"bgcolor\":\"white\",\"landcolor\":\"#E5ECF6\",\"subunitcolor\":\"white\",\"showland\":true,\"showlakes\":true,\"lakecolor\":\"white\"},\"title\":{\"x\":0.05},\"mapbox\":{\"style\":\"light\"}}}},                        {\"responsive\": true}                    ).then(function(){\n",
              "                            \n",
              "var gd = document.getElementById('5f92c8d8-4c7c-4117-9654-d510138c0e75');\n",
              "var x = new MutationObserver(function (mutations, observer) {{\n",
              "        var display = window.getComputedStyle(gd).display;\n",
              "        if (!display || display === 'none') {{\n",
              "            console.log([gd, 'removed!']);\n",
              "            Plotly.purge(gd);\n",
              "            observer.disconnect();\n",
              "        }}\n",
              "}});\n",
              "\n",
              "// Listen for the removal of the full notebook cells\n",
              "var notebookContainer = gd.closest('#notebook-container');\n",
              "if (notebookContainer) {{\n",
              "    x.observe(notebookContainer, {childList: true});\n",
              "}}\n",
              "\n",
              "// Listen for the clearing of the current output cell\n",
              "var outputEl = gd.closest('.output');\n",
              "if (outputEl) {{\n",
              "    x.observe(outputEl, {childList: true});\n",
              "}}\n",
              "\n",
              "                        })                };                });            </script>        </div>"
            ]
          },
          "metadata": {},
          "output_type": "display_data"
        }
      ],
      "source": [
        "x, y = tuple(map(lambda x: x.permute(1, 0), next(iter(TEST_LOADER))))\n",
        "\n",
        "preds = take_most_probable(model.forward(x.to(DEVICE), model.get_empty_cache(x.shape[1]))[0])\n",
        "#preds.shape\n",
        "#y.shape\n",
        "\n",
        "acc = (preds.to(DEVICE) == y.detach().to(DEVICE)).type(torch.float32)\n",
        "seq_len_acc = acc.mean(dim=1).detach().cpu().numpy()\n",
        "\n",
        "fig = go.Figure(data=go.Scatter(x=np.arange(SEQ_LEN), y=seq_len_acc))\n",
        "fig.show()\n",
        "\n"
      ]
    },
    {
      "cell_type": "markdown",
      "metadata": {
        "id": "Ko5PHRyr5nLA"
      },
      "source": [
        "# Additional experiments, text generation and visualizations "
      ]
    },
    {
      "cell_type": "markdown",
      "metadata": {
        "id": "58RkfPjI7u45"
      },
      "source": [
        "## Experiments considering number of layers and positional encodings"
      ]
    },
    {
      "cell_type": "code",
      "execution_count": 498,
      "metadata": {
        "id": "HCip75od8G6G"
      },
      "outputs": [
        {
          "name": "stdout",
          "output_type": "stream",
          "text": [
            "EPOCH 0 loss:2.1805743658089938 acc:0.3211\n",
            "EPOCH 1 loss:2.030909538269043 acc:0.3300\n",
            "EPOCH 2 loss:2.001885374890098 acc:0.3366\n",
            "EPOCH 3 loss:1.978022519546219 acc:0.3438\n",
            "EPOCH 4 loss:1.954371396499344 acc:0.3505\n",
            "EPOCH 5 loss:1.931840151171141 acc:0.3567\n",
            "EPOCH 6 loss:1.9111833225322674 acc:0.3617\n",
            "EPOCH 7 loss:1.8910538395748864 acc:0.3658\n",
            "EPOCH 8 loss:1.869342366351357 acc:0.3700\n",
            "EPOCH 9 loss:1.8443874633764918 acc:0.3727\n",
            "EPOCH 0 loss:2.181538108028943 acc:0.2846\n",
            "EPOCH 1 loss:2.1502987161467346 acc:0.2867\n",
            "EPOCH 2 loss:2.1423687059668044 acc:0.2885\n",
            "EPOCH 3 loss:2.13632443886769 acc:0.2905\n",
            "EPOCH 4 loss:2.131597422346284 acc:0.2916\n",
            "EPOCH 5 loss:2.1277687821207167 acc:0.2925\n",
            "EPOCH 6 loss:2.1241677380815336 acc:0.2930\n",
            "EPOCH 7 loss:2.119864726368385 acc:0.2939\n",
            "EPOCH 8 loss:2.1135225718534447 acc:0.2945\n",
            "EPOCH 9 loss:2.1031231306776217 acc:0.2953\n",
            "EPOCH 0 loss:2.1702988570249535 acc:0.3274\n",
            "EPOCH 1 loss:1.983997569808477 acc:0.3605\n",
            "EPOCH 2 loss:1.3982347046272665 acc:0.6707\n",
            "EPOCH 3 loss:0.8992541115495223 acc:0.7003\n",
            "EPOCH 4 loss:0.8307461353796947 acc:0.7084\n",
            "EPOCH 5 loss:0.8036867817745933 acc:0.7116\n",
            "EPOCH 6 loss:0.7865852540052389 acc:0.7129\n",
            "EPOCH 7 loss:0.7731270360041268 acc:0.7142\n",
            "EPOCH 8 loss:0.7624501125721992 acc:0.7149\n",
            "EPOCH 9 loss:0.7540563118608692 acc:0.7156\n",
            "EPOCH 0 loss:2.171448541592948 acc:0.2878\n",
            "EPOCH 1 loss:2.0006793812860417 acc:0.3593\n",
            "EPOCH 2 loss:1.7330948220023625 acc:0.4561\n",
            "EPOCH 3 loss:1.4406476745122596 acc:0.5360\n",
            "EPOCH 4 loss:1.2631234896333912 acc:0.5677\n",
            "EPOCH 5 loss:1.1675953472716898 acc:0.5904\n",
            "EPOCH 6 loss:1.1053743347336975 acc:0.6048\n",
            "EPOCH 7 loss:1.0632328602332104 acc:0.6135\n",
            "EPOCH 8 loss:1.0329417782493784 acc:0.6196\n",
            "EPOCH 9 loss:1.0101392057877552 acc:0.6232\n",
            "EPOCH 0 loss:2.1458149107196665 acc:0.3287\n",
            "EPOCH 1 loss:1.9447608371324177 acc:0.3887\n",
            "EPOCH 2 loss:1.2172111265266998 acc:0.6897\n",
            "EPOCH 3 loss:0.8547891974449158 acc:0.7085\n",
            "EPOCH 4 loss:0.8064939583404155 acc:0.7123\n",
            "EPOCH 5 loss:0.7830814809738835 acc:0.7144\n",
            "EPOCH 6 loss:0.7668965111804914 acc:0.7150\n",
            "EPOCH 7 loss:0.7540977597236633 acc:0.7159\n",
            "EPOCH 8 loss:0.7436235826226729 acc:0.7170\n",
            "EPOCH 9 loss:0.7351534260979181 acc:0.7182\n",
            "EPOCH 0 loss:2.168028629278835 acc:0.3060\n",
            "EPOCH 1 loss:1.8816121363941627 acc:0.4638\n",
            "EPOCH 2 loss:1.308258286005334 acc:0.6056\n",
            "EPOCH 3 loss:1.0728370222864272 acc:0.6346\n",
            "EPOCH 4 loss:0.9856038078477111 acc:0.6512\n",
            "EPOCH 5 loss:0.9261331980741476 acc:0.6602\n",
            "EPOCH 6 loss:0.8839919438844994 acc:0.6719\n",
            "EPOCH 7 loss:0.8547073866747603 acc:0.6805\n",
            "EPOCH 8 loss:0.83225564262535 acc:0.6876\n",
            "EPOCH 9 loss:0.8139200633085226 acc:0.6907\n",
            "EPOCH 0 loss:2.1420840040037903 acc:0.3304\n",
            "EPOCH 1 loss:1.9111749416665187 acc:0.4394\n",
            "EPOCH 2 loss:1.1064508821390853 acc:0.6976\n",
            "EPOCH 3 loss:0.8253048371665085 acc:0.7092\n",
            "EPOCH 4 loss:0.7838610282427148 acc:0.7143\n",
            "EPOCH 5 loss:0.762274059313762 acc:0.7164\n",
            "EPOCH 6 loss:0.7472657500943051 acc:0.7178\n",
            "EPOCH 7 loss:0.7359239225146137 acc:0.7192\n",
            "EPOCH 8 loss:0.7272207389903974 acc:0.7199\n",
            "EPOCH 9 loss:0.7203880948356435 acc:0.7205\n",
            "EPOCH 0 loss:2.1622405203082895 acc:0.3094\n",
            "EPOCH 1 loss:1.9101055754890925 acc:0.4450\n",
            "EPOCH 2 loss:1.3182558349416227 acc:0.6143\n",
            "EPOCH 3 loss:1.0327164078060584 acc:0.6420\n",
            "EPOCH 4 loss:0.9322568562966359 acc:0.6662\n",
            "EPOCH 5 loss:0.8704261598707754 acc:0.6813\n",
            "EPOCH 6 loss:0.8313666189773173 acc:0.6898\n",
            "EPOCH 7 loss:0.8058318156230299 acc:0.6947\n",
            "EPOCH 8 loss:0.7877475943746446 acc:0.6970\n",
            "EPOCH 9 loss:0.7745718186414694 acc:0.6988\n",
            "EPOCH 0 loss:2.1393505983714816 acc:0.3305\n",
            "EPOCH 1 loss:1.8832494095910954 acc:0.4666\n",
            "EPOCH 2 loss:1.0668430690523945 acc:0.6987\n",
            "EPOCH 3 loss:0.8218081714231756 acc:0.7110\n",
            "EPOCH 4 loss:0.7837892816036562 acc:0.7138\n",
            "EPOCH 5 loss:0.7648070228250721 acc:0.7154\n",
            "EPOCH 6 loss:0.7516005657896211 acc:0.7174\n",
            "EPOCH 7 loss:0.7415084989765023 acc:0.7181\n",
            "EPOCH 8 loss:0.7327008360548865 acc:0.7192\n",
            "EPOCH 9 loss:0.7251402969601788 acc:0.7198\n",
            "EPOCH 0 loss:2.1592453884173044 acc:0.3222\n",
            "EPOCH 1 loss:1.9029886360409893 acc:0.4291\n",
            "EPOCH 2 loss:1.2669433340241638 acc:0.6444\n",
            "EPOCH 3 loss:0.9015187424949452 acc:0.6906\n",
            "EPOCH 4 loss:0.8235405532619621 acc:0.7011\n",
            "EPOCH 5 loss:0.7887225671659542 acc:0.7096\n",
            "EPOCH 6 loss:0.7684094106094747 acc:0.7115\n",
            "EPOCH 7 loss:0.7538803642309164 acc:0.7132\n",
            "EPOCH 8 loss:0.7438692133637923 acc:0.7145\n",
            "EPOCH 9 loss:0.7363377281382114 acc:0.7144\n"
          ]
        }
      ],
      "source": [
        "num_layers_pool = [1, 2, 3, 4, 5]\n",
        "positional_pool = [True, False]\n",
        "EPOCHS = 10\n",
        "\n",
        "logs = dict()\n",
        "\n",
        "\n",
        "\n",
        "for num_layers in num_layers_pool:\n",
        "    for positional in positional_pool:\n",
        "        model = Decoder(\n",
        "            vocab_size=VOCAB_SIZE, \n",
        "            d_model=HIDDEN_DIM,\n",
        "            d_ff=HIDDEN_FF,\n",
        "            num_heads=NUM_HEADS,\n",
        "            d_head=HEAD_DIM,\n",
        "            num_layers=num_layers,\n",
        "            positional=positional)\n",
        "        model.to(DEVICE)\n",
        "        model.eval()\n",
        "        loss_log, acc_log = train(model, TRAIN_LOADER, TEST_LOADER, EPOCHS)\n",
        "        logs[(num_layers, positional)] = (loss_log, acc_log)\n"
      ]
    },
    {
      "cell_type": "code",
      "execution_count": 499,
      "metadata": {},
      "outputs": [
        {
          "data": {
            "application/vnd.plotly.v1+json": {
              "config": {
                "plotlyServerURL": "https://plot.ly"
              },
              "data": [
                {
                  "mode": "lines+markers",
                  "name": "positional encoding",
                  "type": "scatter",
                  "x": [
                    0,
                    1,
                    2,
                    3,
                    4,
                    5,
                    6,
                    7,
                    8,
                    9
                  ],
                  "y": [
                    0.321125,
                    0.330046875,
                    0.336578125,
                    0.343828125,
                    0.35046875,
                    0.356703125,
                    0.361671875,
                    0.36578125,
                    0.369953125,
                    0.37265625
                  ]
                },
                {
                  "mode": "lines+markers",
                  "name": "no positional encoding",
                  "type": "scatter",
                  "x": [
                    0,
                    1,
                    2,
                    3,
                    4,
                    5,
                    6,
                    7,
                    8,
                    9
                  ],
                  "y": [
                    0.284640625,
                    0.286734375,
                    0.288546875,
                    0.290453125,
                    0.291625,
                    0.2925,
                    0.29303125,
                    0.293890625,
                    0.29446875,
                    0.29528125
                  ]
                }
              ],
              "layout": {
                "template": {
                  "data": {
                    "bar": [
                      {
                        "error_x": {
                          "color": "#2a3f5f"
                        },
                        "error_y": {
                          "color": "#2a3f5f"
                        },
                        "marker": {
                          "line": {
                            "color": "#E5ECF6",
                            "width": 0.5
                          },
                          "pattern": {
                            "fillmode": "overlay",
                            "size": 10,
                            "solidity": 0.2
                          }
                        },
                        "type": "bar"
                      }
                    ],
                    "barpolar": [
                      {
                        "marker": {
                          "line": {
                            "color": "#E5ECF6",
                            "width": 0.5
                          },
                          "pattern": {
                            "fillmode": "overlay",
                            "size": 10,
                            "solidity": 0.2
                          }
                        },
                        "type": "barpolar"
                      }
                    ],
                    "carpet": [
                      {
                        "aaxis": {
                          "endlinecolor": "#2a3f5f",
                          "gridcolor": "white",
                          "linecolor": "white",
                          "minorgridcolor": "white",
                          "startlinecolor": "#2a3f5f"
                        },
                        "baxis": {
                          "endlinecolor": "#2a3f5f",
                          "gridcolor": "white",
                          "linecolor": "white",
                          "minorgridcolor": "white",
                          "startlinecolor": "#2a3f5f"
                        },
                        "type": "carpet"
                      }
                    ],
                    "choropleth": [
                      {
                        "colorbar": {
                          "outlinewidth": 0,
                          "ticks": ""
                        },
                        "type": "choropleth"
                      }
                    ],
                    "contour": [
                      {
                        "colorbar": {
                          "outlinewidth": 0,
                          "ticks": ""
                        },
                        "colorscale": [
                          [
                            0,
                            "#0d0887"
                          ],
                          [
                            0.1111111111111111,
                            "#46039f"
                          ],
                          [
                            0.2222222222222222,
                            "#7201a8"
                          ],
                          [
                            0.3333333333333333,
                            "#9c179e"
                          ],
                          [
                            0.4444444444444444,
                            "#bd3786"
                          ],
                          [
                            0.5555555555555556,
                            "#d8576b"
                          ],
                          [
                            0.6666666666666666,
                            "#ed7953"
                          ],
                          [
                            0.7777777777777778,
                            "#fb9f3a"
                          ],
                          [
                            0.8888888888888888,
                            "#fdca26"
                          ],
                          [
                            1,
                            "#f0f921"
                          ]
                        ],
                        "type": "contour"
                      }
                    ],
                    "contourcarpet": [
                      {
                        "colorbar": {
                          "outlinewidth": 0,
                          "ticks": ""
                        },
                        "type": "contourcarpet"
                      }
                    ],
                    "heatmap": [
                      {
                        "colorbar": {
                          "outlinewidth": 0,
                          "ticks": ""
                        },
                        "colorscale": [
                          [
                            0,
                            "#0d0887"
                          ],
                          [
                            0.1111111111111111,
                            "#46039f"
                          ],
                          [
                            0.2222222222222222,
                            "#7201a8"
                          ],
                          [
                            0.3333333333333333,
                            "#9c179e"
                          ],
                          [
                            0.4444444444444444,
                            "#bd3786"
                          ],
                          [
                            0.5555555555555556,
                            "#d8576b"
                          ],
                          [
                            0.6666666666666666,
                            "#ed7953"
                          ],
                          [
                            0.7777777777777778,
                            "#fb9f3a"
                          ],
                          [
                            0.8888888888888888,
                            "#fdca26"
                          ],
                          [
                            1,
                            "#f0f921"
                          ]
                        ],
                        "type": "heatmap"
                      }
                    ],
                    "heatmapgl": [
                      {
                        "colorbar": {
                          "outlinewidth": 0,
                          "ticks": ""
                        },
                        "colorscale": [
                          [
                            0,
                            "#0d0887"
                          ],
                          [
                            0.1111111111111111,
                            "#46039f"
                          ],
                          [
                            0.2222222222222222,
                            "#7201a8"
                          ],
                          [
                            0.3333333333333333,
                            "#9c179e"
                          ],
                          [
                            0.4444444444444444,
                            "#bd3786"
                          ],
                          [
                            0.5555555555555556,
                            "#d8576b"
                          ],
                          [
                            0.6666666666666666,
                            "#ed7953"
                          ],
                          [
                            0.7777777777777778,
                            "#fb9f3a"
                          ],
                          [
                            0.8888888888888888,
                            "#fdca26"
                          ],
                          [
                            1,
                            "#f0f921"
                          ]
                        ],
                        "type": "heatmapgl"
                      }
                    ],
                    "histogram": [
                      {
                        "marker": {
                          "pattern": {
                            "fillmode": "overlay",
                            "size": 10,
                            "solidity": 0.2
                          }
                        },
                        "type": "histogram"
                      }
                    ],
                    "histogram2d": [
                      {
                        "colorbar": {
                          "outlinewidth": 0,
                          "ticks": ""
                        },
                        "colorscale": [
                          [
                            0,
                            "#0d0887"
                          ],
                          [
                            0.1111111111111111,
                            "#46039f"
                          ],
                          [
                            0.2222222222222222,
                            "#7201a8"
                          ],
                          [
                            0.3333333333333333,
                            "#9c179e"
                          ],
                          [
                            0.4444444444444444,
                            "#bd3786"
                          ],
                          [
                            0.5555555555555556,
                            "#d8576b"
                          ],
                          [
                            0.6666666666666666,
                            "#ed7953"
                          ],
                          [
                            0.7777777777777778,
                            "#fb9f3a"
                          ],
                          [
                            0.8888888888888888,
                            "#fdca26"
                          ],
                          [
                            1,
                            "#f0f921"
                          ]
                        ],
                        "type": "histogram2d"
                      }
                    ],
                    "histogram2dcontour": [
                      {
                        "colorbar": {
                          "outlinewidth": 0,
                          "ticks": ""
                        },
                        "colorscale": [
                          [
                            0,
                            "#0d0887"
                          ],
                          [
                            0.1111111111111111,
                            "#46039f"
                          ],
                          [
                            0.2222222222222222,
                            "#7201a8"
                          ],
                          [
                            0.3333333333333333,
                            "#9c179e"
                          ],
                          [
                            0.4444444444444444,
                            "#bd3786"
                          ],
                          [
                            0.5555555555555556,
                            "#d8576b"
                          ],
                          [
                            0.6666666666666666,
                            "#ed7953"
                          ],
                          [
                            0.7777777777777778,
                            "#fb9f3a"
                          ],
                          [
                            0.8888888888888888,
                            "#fdca26"
                          ],
                          [
                            1,
                            "#f0f921"
                          ]
                        ],
                        "type": "histogram2dcontour"
                      }
                    ],
                    "mesh3d": [
                      {
                        "colorbar": {
                          "outlinewidth": 0,
                          "ticks": ""
                        },
                        "type": "mesh3d"
                      }
                    ],
                    "parcoords": [
                      {
                        "line": {
                          "colorbar": {
                            "outlinewidth": 0,
                            "ticks": ""
                          }
                        },
                        "type": "parcoords"
                      }
                    ],
                    "pie": [
                      {
                        "automargin": true,
                        "type": "pie"
                      }
                    ],
                    "scatter": [
                      {
                        "fillpattern": {
                          "fillmode": "overlay",
                          "size": 10,
                          "solidity": 0.2
                        },
                        "type": "scatter"
                      }
                    ],
                    "scatter3d": [
                      {
                        "line": {
                          "colorbar": {
                            "outlinewidth": 0,
                            "ticks": ""
                          }
                        },
                        "marker": {
                          "colorbar": {
                            "outlinewidth": 0,
                            "ticks": ""
                          }
                        },
                        "type": "scatter3d"
                      }
                    ],
                    "scattercarpet": [
                      {
                        "marker": {
                          "colorbar": {
                            "outlinewidth": 0,
                            "ticks": ""
                          }
                        },
                        "type": "scattercarpet"
                      }
                    ],
                    "scattergeo": [
                      {
                        "marker": {
                          "colorbar": {
                            "outlinewidth": 0,
                            "ticks": ""
                          }
                        },
                        "type": "scattergeo"
                      }
                    ],
                    "scattergl": [
                      {
                        "marker": {
                          "colorbar": {
                            "outlinewidth": 0,
                            "ticks": ""
                          }
                        },
                        "type": "scattergl"
                      }
                    ],
                    "scattermapbox": [
                      {
                        "marker": {
                          "colorbar": {
                            "outlinewidth": 0,
                            "ticks": ""
                          }
                        },
                        "type": "scattermapbox"
                      }
                    ],
                    "scatterpolar": [
                      {
                        "marker": {
                          "colorbar": {
                            "outlinewidth": 0,
                            "ticks": ""
                          }
                        },
                        "type": "scatterpolar"
                      }
                    ],
                    "scatterpolargl": [
                      {
                        "marker": {
                          "colorbar": {
                            "outlinewidth": 0,
                            "ticks": ""
                          }
                        },
                        "type": "scatterpolargl"
                      }
                    ],
                    "scatterternary": [
                      {
                        "marker": {
                          "colorbar": {
                            "outlinewidth": 0,
                            "ticks": ""
                          }
                        },
                        "type": "scatterternary"
                      }
                    ],
                    "surface": [
                      {
                        "colorbar": {
                          "outlinewidth": 0,
                          "ticks": ""
                        },
                        "colorscale": [
                          [
                            0,
                            "#0d0887"
                          ],
                          [
                            0.1111111111111111,
                            "#46039f"
                          ],
                          [
                            0.2222222222222222,
                            "#7201a8"
                          ],
                          [
                            0.3333333333333333,
                            "#9c179e"
                          ],
                          [
                            0.4444444444444444,
                            "#bd3786"
                          ],
                          [
                            0.5555555555555556,
                            "#d8576b"
                          ],
                          [
                            0.6666666666666666,
                            "#ed7953"
                          ],
                          [
                            0.7777777777777778,
                            "#fb9f3a"
                          ],
                          [
                            0.8888888888888888,
                            "#fdca26"
                          ],
                          [
                            1,
                            "#f0f921"
                          ]
                        ],
                        "type": "surface"
                      }
                    ],
                    "table": [
                      {
                        "cells": {
                          "fill": {
                            "color": "#EBF0F8"
                          },
                          "line": {
                            "color": "white"
                          }
                        },
                        "header": {
                          "fill": {
                            "color": "#C8D4E3"
                          },
                          "line": {
                            "color": "white"
                          }
                        },
                        "type": "table"
                      }
                    ]
                  },
                  "layout": {
                    "annotationdefaults": {
                      "arrowcolor": "#2a3f5f",
                      "arrowhead": 0,
                      "arrowwidth": 1
                    },
                    "autotypenumbers": "strict",
                    "coloraxis": {
                      "colorbar": {
                        "outlinewidth": 0,
                        "ticks": ""
                      }
                    },
                    "colorscale": {
                      "diverging": [
                        [
                          0,
                          "#8e0152"
                        ],
                        [
                          0.1,
                          "#c51b7d"
                        ],
                        [
                          0.2,
                          "#de77ae"
                        ],
                        [
                          0.3,
                          "#f1b6da"
                        ],
                        [
                          0.4,
                          "#fde0ef"
                        ],
                        [
                          0.5,
                          "#f7f7f7"
                        ],
                        [
                          0.6,
                          "#e6f5d0"
                        ],
                        [
                          0.7,
                          "#b8e186"
                        ],
                        [
                          0.8,
                          "#7fbc41"
                        ],
                        [
                          0.9,
                          "#4d9221"
                        ],
                        [
                          1,
                          "#276419"
                        ]
                      ],
                      "sequential": [
                        [
                          0,
                          "#0d0887"
                        ],
                        [
                          0.1111111111111111,
                          "#46039f"
                        ],
                        [
                          0.2222222222222222,
                          "#7201a8"
                        ],
                        [
                          0.3333333333333333,
                          "#9c179e"
                        ],
                        [
                          0.4444444444444444,
                          "#bd3786"
                        ],
                        [
                          0.5555555555555556,
                          "#d8576b"
                        ],
                        [
                          0.6666666666666666,
                          "#ed7953"
                        ],
                        [
                          0.7777777777777778,
                          "#fb9f3a"
                        ],
                        [
                          0.8888888888888888,
                          "#fdca26"
                        ],
                        [
                          1,
                          "#f0f921"
                        ]
                      ],
                      "sequentialminus": [
                        [
                          0,
                          "#0d0887"
                        ],
                        [
                          0.1111111111111111,
                          "#46039f"
                        ],
                        [
                          0.2222222222222222,
                          "#7201a8"
                        ],
                        [
                          0.3333333333333333,
                          "#9c179e"
                        ],
                        [
                          0.4444444444444444,
                          "#bd3786"
                        ],
                        [
                          0.5555555555555556,
                          "#d8576b"
                        ],
                        [
                          0.6666666666666666,
                          "#ed7953"
                        ],
                        [
                          0.7777777777777778,
                          "#fb9f3a"
                        ],
                        [
                          0.8888888888888888,
                          "#fdca26"
                        ],
                        [
                          1,
                          "#f0f921"
                        ]
                      ]
                    },
                    "colorway": [
                      "#636efa",
                      "#EF553B",
                      "#00cc96",
                      "#ab63fa",
                      "#FFA15A",
                      "#19d3f3",
                      "#FF6692",
                      "#B6E880",
                      "#FF97FF",
                      "#FECB52"
                    ],
                    "font": {
                      "color": "#2a3f5f"
                    },
                    "geo": {
                      "bgcolor": "white",
                      "lakecolor": "white",
                      "landcolor": "#E5ECF6",
                      "showlakes": true,
                      "showland": true,
                      "subunitcolor": "white"
                    },
                    "hoverlabel": {
                      "align": "left"
                    },
                    "hovermode": "closest",
                    "mapbox": {
                      "style": "light"
                    },
                    "paper_bgcolor": "white",
                    "plot_bgcolor": "#E5ECF6",
                    "polar": {
                      "angularaxis": {
                        "gridcolor": "white",
                        "linecolor": "white",
                        "ticks": ""
                      },
                      "bgcolor": "#E5ECF6",
                      "radialaxis": {
                        "gridcolor": "white",
                        "linecolor": "white",
                        "ticks": ""
                      }
                    },
                    "scene": {
                      "xaxis": {
                        "backgroundcolor": "#E5ECF6",
                        "gridcolor": "white",
                        "gridwidth": 2,
                        "linecolor": "white",
                        "showbackground": true,
                        "ticks": "",
                        "zerolinecolor": "white"
                      },
                      "yaxis": {
                        "backgroundcolor": "#E5ECF6",
                        "gridcolor": "white",
                        "gridwidth": 2,
                        "linecolor": "white",
                        "showbackground": true,
                        "ticks": "",
                        "zerolinecolor": "white"
                      },
                      "zaxis": {
                        "backgroundcolor": "#E5ECF6",
                        "gridcolor": "white",
                        "gridwidth": 2,
                        "linecolor": "white",
                        "showbackground": true,
                        "ticks": "",
                        "zerolinecolor": "white"
                      }
                    },
                    "shapedefaults": {
                      "line": {
                        "color": "#2a3f5f"
                      }
                    },
                    "ternary": {
                      "aaxis": {
                        "gridcolor": "white",
                        "linecolor": "white",
                        "ticks": ""
                      },
                      "baxis": {
                        "gridcolor": "white",
                        "linecolor": "white",
                        "ticks": ""
                      },
                      "bgcolor": "#E5ECF6",
                      "caxis": {
                        "gridcolor": "white",
                        "linecolor": "white",
                        "ticks": ""
                      }
                    },
                    "title": {
                      "x": 0.05
                    },
                    "xaxis": {
                      "automargin": true,
                      "gridcolor": "white",
                      "linecolor": "white",
                      "ticks": "",
                      "title": {
                        "standoff": 15
                      },
                      "zerolinecolor": "white",
                      "zerolinewidth": 2
                    },
                    "yaxis": {
                      "automargin": true,
                      "gridcolor": "white",
                      "linecolor": "white",
                      "ticks": "",
                      "title": {
                        "standoff": 15
                      },
                      "zerolinecolor": "white",
                      "zerolinewidth": 2
                    }
                  }
                },
                "title": {
                  "text": "1 layers, accuracy"
                }
              }
            },
            "text/html": [
              "<div>                            <div id=\"5e80b9b8-c529-4b1a-99ec-888c9a861309\" class=\"plotly-graph-div\" style=\"height:525px; width:100%;\"></div>            <script type=\"text/javascript\">                require([\"plotly\"], function(Plotly) {                    window.PLOTLYENV=window.PLOTLYENV || {};                                    if (document.getElementById(\"5e80b9b8-c529-4b1a-99ec-888c9a861309\")) {                    Plotly.newPlot(                        \"5e80b9b8-c529-4b1a-99ec-888c9a861309\",                        [{\"mode\":\"lines+markers\",\"name\":\"positional encoding\",\"x\":[0,1,2,3,4,5,6,7,8,9],\"y\":[0.321125,0.330046875,0.336578125,0.343828125,0.35046875,0.356703125,0.361671875,0.36578125,0.369953125,0.37265625],\"type\":\"scatter\"},{\"mode\":\"lines+markers\",\"name\":\"no positional encoding\",\"x\":[0,1,2,3,4,5,6,7,8,9],\"y\":[0.284640625,0.286734375,0.288546875,0.290453125,0.291625,0.2925,0.29303125,0.293890625,0.29446875,0.29528125],\"type\":\"scatter\"}],                        {\"template\":{\"data\":{\"histogram2dcontour\":[{\"type\":\"histogram2dcontour\",\"colorbar\":{\"outlinewidth\":0,\"ticks\":\"\"},\"colorscale\":[[0.0,\"#0d0887\"],[0.1111111111111111,\"#46039f\"],[0.2222222222222222,\"#7201a8\"],[0.3333333333333333,\"#9c179e\"],[0.4444444444444444,\"#bd3786\"],[0.5555555555555556,\"#d8576b\"],[0.6666666666666666,\"#ed7953\"],[0.7777777777777778,\"#fb9f3a\"],[0.8888888888888888,\"#fdca26\"],[1.0,\"#f0f921\"]]}],\"choropleth\":[{\"type\":\"choropleth\",\"colorbar\":{\"outlinewidth\":0,\"ticks\":\"\"}}],\"histogram2d\":[{\"type\":\"histogram2d\",\"colorbar\":{\"outlinewidth\":0,\"ticks\":\"\"},\"colorscale\":[[0.0,\"#0d0887\"],[0.1111111111111111,\"#46039f\"],[0.2222222222222222,\"#7201a8\"],[0.3333333333333333,\"#9c179e\"],[0.4444444444444444,\"#bd3786\"],[0.5555555555555556,\"#d8576b\"],[0.6666666666666666,\"#ed7953\"],[0.7777777777777778,\"#fb9f3a\"],[0.8888888888888888,\"#fdca26\"],[1.0,\"#f0f921\"]]}],\"heatmap\":[{\"type\":\"heatmap\",\"colorbar\":{\"outlinewidth\":0,\"ticks\":\"\"},\"colorscale\":[[0.0,\"#0d0887\"],[0.1111111111111111,\"#46039f\"],[0.2222222222222222,\"#7201a8\"],[0.3333333333333333,\"#9c179e\"],[0.4444444444444444,\"#bd3786\"],[0.5555555555555556,\"#d8576b\"],[0.6666666666666666,\"#ed7953\"],[0.7777777777777778,\"#fb9f3a\"],[0.8888888888888888,\"#fdca26\"],[1.0,\"#f0f921\"]]}],\"heatmapgl\":[{\"type\":\"heatmapgl\",\"colorbar\":{\"outlinewidth\":0,\"ticks\":\"\"},\"colorscale\":[[0.0,\"#0d0887\"],[0.1111111111111111,\"#46039f\"],[0.2222222222222222,\"#7201a8\"],[0.3333333333333333,\"#9c179e\"],[0.4444444444444444,\"#bd3786\"],[0.5555555555555556,\"#d8576b\"],[0.6666666666666666,\"#ed7953\"],[0.7777777777777778,\"#fb9f3a\"],[0.8888888888888888,\"#fdca26\"],[1.0,\"#f0f921\"]]}],\"contourcarpet\":[{\"type\":\"contourcarpet\",\"colorbar\":{\"outlinewidth\":0,\"ticks\":\"\"}}],\"contour\":[{\"type\":\"contour\",\"colorbar\":{\"outlinewidth\":0,\"ticks\":\"\"},\"colorscale\":[[0.0,\"#0d0887\"],[0.1111111111111111,\"#46039f\"],[0.2222222222222222,\"#7201a8\"],[0.3333333333333333,\"#9c179e\"],[0.4444444444444444,\"#bd3786\"],[0.5555555555555556,\"#d8576b\"],[0.6666666666666666,\"#ed7953\"],[0.7777777777777778,\"#fb9f3a\"],[0.8888888888888888,\"#fdca26\"],[1.0,\"#f0f921\"]]}],\"surface\":[{\"type\":\"surface\",\"colorbar\":{\"outlinewidth\":0,\"ticks\":\"\"},\"colorscale\":[[0.0,\"#0d0887\"],[0.1111111111111111,\"#46039f\"],[0.2222222222222222,\"#7201a8\"],[0.3333333333333333,\"#9c179e\"],[0.4444444444444444,\"#bd3786\"],[0.5555555555555556,\"#d8576b\"],[0.6666666666666666,\"#ed7953\"],[0.7777777777777778,\"#fb9f3a\"],[0.8888888888888888,\"#fdca26\"],[1.0,\"#f0f921\"]]}],\"mesh3d\":[{\"type\":\"mesh3d\",\"colorbar\":{\"outlinewidth\":0,\"ticks\":\"\"}}],\"scatter\":[{\"fillpattern\":{\"fillmode\":\"overlay\",\"size\":10,\"solidity\":0.2},\"type\":\"scatter\"}],\"parcoords\":[{\"type\":\"parcoords\",\"line\":{\"colorbar\":{\"outlinewidth\":0,\"ticks\":\"\"}}}],\"scatterpolargl\":[{\"type\":\"scatterpolargl\",\"marker\":{\"colorbar\":{\"outlinewidth\":0,\"ticks\":\"\"}}}],\"bar\":[{\"error_x\":{\"color\":\"#2a3f5f\"},\"error_y\":{\"color\":\"#2a3f5f\"},\"marker\":{\"line\":{\"color\":\"#E5ECF6\",\"width\":0.5},\"pattern\":{\"fillmode\":\"overlay\",\"size\":10,\"solidity\":0.2}},\"type\":\"bar\"}],\"scattergeo\":[{\"type\":\"scattergeo\",\"marker\":{\"colorbar\":{\"outlinewidth\":0,\"ticks\":\"\"}}}],\"scatterpolar\":[{\"type\":\"scatterpolar\",\"marker\":{\"colorbar\":{\"outlinewidth\":0,\"ticks\":\"\"}}}],\"histogram\":[{\"marker\":{\"pattern\":{\"fillmode\":\"overlay\",\"size\":10,\"solidity\":0.2}},\"type\":\"histogram\"}],\"scattergl\":[{\"type\":\"scattergl\",\"marker\":{\"colorbar\":{\"outlinewidth\":0,\"ticks\":\"\"}}}],\"scatter3d\":[{\"type\":\"scatter3d\",\"line\":{\"colorbar\":{\"outlinewidth\":0,\"ticks\":\"\"}},\"marker\":{\"colorbar\":{\"outlinewidth\":0,\"ticks\":\"\"}}}],\"scattermapbox\":[{\"type\":\"scattermapbox\",\"marker\":{\"colorbar\":{\"outlinewidth\":0,\"ticks\":\"\"}}}],\"scatterternary\":[{\"type\":\"scatterternary\",\"marker\":{\"colorbar\":{\"outlinewidth\":0,\"ticks\":\"\"}}}],\"scattercarpet\":[{\"type\":\"scattercarpet\",\"marker\":{\"colorbar\":{\"outlinewidth\":0,\"ticks\":\"\"}}}],\"carpet\":[{\"aaxis\":{\"endlinecolor\":\"#2a3f5f\",\"gridcolor\":\"white\",\"linecolor\":\"white\",\"minorgridcolor\":\"white\",\"startlinecolor\":\"#2a3f5f\"},\"baxis\":{\"endlinecolor\":\"#2a3f5f\",\"gridcolor\":\"white\",\"linecolor\":\"white\",\"minorgridcolor\":\"white\",\"startlinecolor\":\"#2a3f5f\"},\"type\":\"carpet\"}],\"table\":[{\"cells\":{\"fill\":{\"color\":\"#EBF0F8\"},\"line\":{\"color\":\"white\"}},\"header\":{\"fill\":{\"color\":\"#C8D4E3\"},\"line\":{\"color\":\"white\"}},\"type\":\"table\"}],\"barpolar\":[{\"marker\":{\"line\":{\"color\":\"#E5ECF6\",\"width\":0.5},\"pattern\":{\"fillmode\":\"overlay\",\"size\":10,\"solidity\":0.2}},\"type\":\"barpolar\"}],\"pie\":[{\"automargin\":true,\"type\":\"pie\"}]},\"layout\":{\"autotypenumbers\":\"strict\",\"colorway\":[\"#636efa\",\"#EF553B\",\"#00cc96\",\"#ab63fa\",\"#FFA15A\",\"#19d3f3\",\"#FF6692\",\"#B6E880\",\"#FF97FF\",\"#FECB52\"],\"font\":{\"color\":\"#2a3f5f\"},\"hovermode\":\"closest\",\"hoverlabel\":{\"align\":\"left\"},\"paper_bgcolor\":\"white\",\"plot_bgcolor\":\"#E5ECF6\",\"polar\":{\"bgcolor\":\"#E5ECF6\",\"angularaxis\":{\"gridcolor\":\"white\",\"linecolor\":\"white\",\"ticks\":\"\"},\"radialaxis\":{\"gridcolor\":\"white\",\"linecolor\":\"white\",\"ticks\":\"\"}},\"ternary\":{\"bgcolor\":\"#E5ECF6\",\"aaxis\":{\"gridcolor\":\"white\",\"linecolor\":\"white\",\"ticks\":\"\"},\"baxis\":{\"gridcolor\":\"white\",\"linecolor\":\"white\",\"ticks\":\"\"},\"caxis\":{\"gridcolor\":\"white\",\"linecolor\":\"white\",\"ticks\":\"\"}},\"coloraxis\":{\"colorbar\":{\"outlinewidth\":0,\"ticks\":\"\"}},\"colorscale\":{\"sequential\":[[0.0,\"#0d0887\"],[0.1111111111111111,\"#46039f\"],[0.2222222222222222,\"#7201a8\"],[0.3333333333333333,\"#9c179e\"],[0.4444444444444444,\"#bd3786\"],[0.5555555555555556,\"#d8576b\"],[0.6666666666666666,\"#ed7953\"],[0.7777777777777778,\"#fb9f3a\"],[0.8888888888888888,\"#fdca26\"],[1.0,\"#f0f921\"]],\"sequentialminus\":[[0.0,\"#0d0887\"],[0.1111111111111111,\"#46039f\"],[0.2222222222222222,\"#7201a8\"],[0.3333333333333333,\"#9c179e\"],[0.4444444444444444,\"#bd3786\"],[0.5555555555555556,\"#d8576b\"],[0.6666666666666666,\"#ed7953\"],[0.7777777777777778,\"#fb9f3a\"],[0.8888888888888888,\"#fdca26\"],[1.0,\"#f0f921\"]],\"diverging\":[[0,\"#8e0152\"],[0.1,\"#c51b7d\"],[0.2,\"#de77ae\"],[0.3,\"#f1b6da\"],[0.4,\"#fde0ef\"],[0.5,\"#f7f7f7\"],[0.6,\"#e6f5d0\"],[0.7,\"#b8e186\"],[0.8,\"#7fbc41\"],[0.9,\"#4d9221\"],[1,\"#276419\"]]},\"xaxis\":{\"gridcolor\":\"white\",\"linecolor\":\"white\",\"ticks\":\"\",\"title\":{\"standoff\":15},\"zerolinecolor\":\"white\",\"automargin\":true,\"zerolinewidth\":2},\"yaxis\":{\"gridcolor\":\"white\",\"linecolor\":\"white\",\"ticks\":\"\",\"title\":{\"standoff\":15},\"zerolinecolor\":\"white\",\"automargin\":true,\"zerolinewidth\":2},\"scene\":{\"xaxis\":{\"backgroundcolor\":\"#E5ECF6\",\"gridcolor\":\"white\",\"linecolor\":\"white\",\"showbackground\":true,\"ticks\":\"\",\"zerolinecolor\":\"white\",\"gridwidth\":2},\"yaxis\":{\"backgroundcolor\":\"#E5ECF6\",\"gridcolor\":\"white\",\"linecolor\":\"white\",\"showbackground\":true,\"ticks\":\"\",\"zerolinecolor\":\"white\",\"gridwidth\":2},\"zaxis\":{\"backgroundcolor\":\"#E5ECF6\",\"gridcolor\":\"white\",\"linecolor\":\"white\",\"showbackground\":true,\"ticks\":\"\",\"zerolinecolor\":\"white\",\"gridwidth\":2}},\"shapedefaults\":{\"line\":{\"color\":\"#2a3f5f\"}},\"annotationdefaults\":{\"arrowcolor\":\"#2a3f5f\",\"arrowhead\":0,\"arrowwidth\":1},\"geo\":{\"bgcolor\":\"white\",\"landcolor\":\"#E5ECF6\",\"subunitcolor\":\"white\",\"showland\":true,\"showlakes\":true,\"lakecolor\":\"white\"},\"title\":{\"x\":0.05},\"mapbox\":{\"style\":\"light\"}}},\"title\":{\"text\":\"1 layers, accuracy\"}},                        {\"responsive\": true}                    ).then(function(){\n",
              "                            \n",
              "var gd = document.getElementById('5e80b9b8-c529-4b1a-99ec-888c9a861309');\n",
              "var x = new MutationObserver(function (mutations, observer) {{\n",
              "        var display = window.getComputedStyle(gd).display;\n",
              "        if (!display || display === 'none') {{\n",
              "            console.log([gd, 'removed!']);\n",
              "            Plotly.purge(gd);\n",
              "            observer.disconnect();\n",
              "        }}\n",
              "}});\n",
              "\n",
              "// Listen for the removal of the full notebook cells\n",
              "var notebookContainer = gd.closest('#notebook-container');\n",
              "if (notebookContainer) {{\n",
              "    x.observe(notebookContainer, {childList: true});\n",
              "}}\n",
              "\n",
              "// Listen for the clearing of the current output cell\n",
              "var outputEl = gd.closest('.output');\n",
              "if (outputEl) {{\n",
              "    x.observe(outputEl, {childList: true});\n",
              "}}\n",
              "\n",
              "                        })                };                });            </script>        </div>"
            ]
          },
          "metadata": {},
          "output_type": "display_data"
        },
        {
          "data": {
            "application/vnd.plotly.v1+json": {
              "config": {
                "plotlyServerURL": "https://plot.ly"
              },
              "data": [
                {
                  "mode": "lines+markers",
                  "name": "positional encoding",
                  "type": "scatter",
                  "x": [
                    0,
                    1,
                    2,
                    3,
                    4,
                    5,
                    6,
                    7,
                    8,
                    9
                  ],
                  "y": [
                    0.327359375,
                    0.360453125,
                    0.670734375,
                    0.700296875,
                    0.708390625,
                    0.7115625,
                    0.712859375,
                    0.71415625,
                    0.714875,
                    0.715578125
                  ]
                },
                {
                  "mode": "lines+markers",
                  "name": "no positional encoding",
                  "type": "scatter",
                  "x": [
                    0,
                    1,
                    2,
                    3,
                    4,
                    5,
                    6,
                    7,
                    8,
                    9
                  ],
                  "y": [
                    0.28775,
                    0.359328125,
                    0.4560625,
                    0.53596875,
                    0.56765625,
                    0.5904375,
                    0.604765625,
                    0.61346875,
                    0.619578125,
                    0.623171875
                  ]
                }
              ],
              "layout": {
                "template": {
                  "data": {
                    "bar": [
                      {
                        "error_x": {
                          "color": "#2a3f5f"
                        },
                        "error_y": {
                          "color": "#2a3f5f"
                        },
                        "marker": {
                          "line": {
                            "color": "#E5ECF6",
                            "width": 0.5
                          },
                          "pattern": {
                            "fillmode": "overlay",
                            "size": 10,
                            "solidity": 0.2
                          }
                        },
                        "type": "bar"
                      }
                    ],
                    "barpolar": [
                      {
                        "marker": {
                          "line": {
                            "color": "#E5ECF6",
                            "width": 0.5
                          },
                          "pattern": {
                            "fillmode": "overlay",
                            "size": 10,
                            "solidity": 0.2
                          }
                        },
                        "type": "barpolar"
                      }
                    ],
                    "carpet": [
                      {
                        "aaxis": {
                          "endlinecolor": "#2a3f5f",
                          "gridcolor": "white",
                          "linecolor": "white",
                          "minorgridcolor": "white",
                          "startlinecolor": "#2a3f5f"
                        },
                        "baxis": {
                          "endlinecolor": "#2a3f5f",
                          "gridcolor": "white",
                          "linecolor": "white",
                          "minorgridcolor": "white",
                          "startlinecolor": "#2a3f5f"
                        },
                        "type": "carpet"
                      }
                    ],
                    "choropleth": [
                      {
                        "colorbar": {
                          "outlinewidth": 0,
                          "ticks": ""
                        },
                        "type": "choropleth"
                      }
                    ],
                    "contour": [
                      {
                        "colorbar": {
                          "outlinewidth": 0,
                          "ticks": ""
                        },
                        "colorscale": [
                          [
                            0,
                            "#0d0887"
                          ],
                          [
                            0.1111111111111111,
                            "#46039f"
                          ],
                          [
                            0.2222222222222222,
                            "#7201a8"
                          ],
                          [
                            0.3333333333333333,
                            "#9c179e"
                          ],
                          [
                            0.4444444444444444,
                            "#bd3786"
                          ],
                          [
                            0.5555555555555556,
                            "#d8576b"
                          ],
                          [
                            0.6666666666666666,
                            "#ed7953"
                          ],
                          [
                            0.7777777777777778,
                            "#fb9f3a"
                          ],
                          [
                            0.8888888888888888,
                            "#fdca26"
                          ],
                          [
                            1,
                            "#f0f921"
                          ]
                        ],
                        "type": "contour"
                      }
                    ],
                    "contourcarpet": [
                      {
                        "colorbar": {
                          "outlinewidth": 0,
                          "ticks": ""
                        },
                        "type": "contourcarpet"
                      }
                    ],
                    "heatmap": [
                      {
                        "colorbar": {
                          "outlinewidth": 0,
                          "ticks": ""
                        },
                        "colorscale": [
                          [
                            0,
                            "#0d0887"
                          ],
                          [
                            0.1111111111111111,
                            "#46039f"
                          ],
                          [
                            0.2222222222222222,
                            "#7201a8"
                          ],
                          [
                            0.3333333333333333,
                            "#9c179e"
                          ],
                          [
                            0.4444444444444444,
                            "#bd3786"
                          ],
                          [
                            0.5555555555555556,
                            "#d8576b"
                          ],
                          [
                            0.6666666666666666,
                            "#ed7953"
                          ],
                          [
                            0.7777777777777778,
                            "#fb9f3a"
                          ],
                          [
                            0.8888888888888888,
                            "#fdca26"
                          ],
                          [
                            1,
                            "#f0f921"
                          ]
                        ],
                        "type": "heatmap"
                      }
                    ],
                    "heatmapgl": [
                      {
                        "colorbar": {
                          "outlinewidth": 0,
                          "ticks": ""
                        },
                        "colorscale": [
                          [
                            0,
                            "#0d0887"
                          ],
                          [
                            0.1111111111111111,
                            "#46039f"
                          ],
                          [
                            0.2222222222222222,
                            "#7201a8"
                          ],
                          [
                            0.3333333333333333,
                            "#9c179e"
                          ],
                          [
                            0.4444444444444444,
                            "#bd3786"
                          ],
                          [
                            0.5555555555555556,
                            "#d8576b"
                          ],
                          [
                            0.6666666666666666,
                            "#ed7953"
                          ],
                          [
                            0.7777777777777778,
                            "#fb9f3a"
                          ],
                          [
                            0.8888888888888888,
                            "#fdca26"
                          ],
                          [
                            1,
                            "#f0f921"
                          ]
                        ],
                        "type": "heatmapgl"
                      }
                    ],
                    "histogram": [
                      {
                        "marker": {
                          "pattern": {
                            "fillmode": "overlay",
                            "size": 10,
                            "solidity": 0.2
                          }
                        },
                        "type": "histogram"
                      }
                    ],
                    "histogram2d": [
                      {
                        "colorbar": {
                          "outlinewidth": 0,
                          "ticks": ""
                        },
                        "colorscale": [
                          [
                            0,
                            "#0d0887"
                          ],
                          [
                            0.1111111111111111,
                            "#46039f"
                          ],
                          [
                            0.2222222222222222,
                            "#7201a8"
                          ],
                          [
                            0.3333333333333333,
                            "#9c179e"
                          ],
                          [
                            0.4444444444444444,
                            "#bd3786"
                          ],
                          [
                            0.5555555555555556,
                            "#d8576b"
                          ],
                          [
                            0.6666666666666666,
                            "#ed7953"
                          ],
                          [
                            0.7777777777777778,
                            "#fb9f3a"
                          ],
                          [
                            0.8888888888888888,
                            "#fdca26"
                          ],
                          [
                            1,
                            "#f0f921"
                          ]
                        ],
                        "type": "histogram2d"
                      }
                    ],
                    "histogram2dcontour": [
                      {
                        "colorbar": {
                          "outlinewidth": 0,
                          "ticks": ""
                        },
                        "colorscale": [
                          [
                            0,
                            "#0d0887"
                          ],
                          [
                            0.1111111111111111,
                            "#46039f"
                          ],
                          [
                            0.2222222222222222,
                            "#7201a8"
                          ],
                          [
                            0.3333333333333333,
                            "#9c179e"
                          ],
                          [
                            0.4444444444444444,
                            "#bd3786"
                          ],
                          [
                            0.5555555555555556,
                            "#d8576b"
                          ],
                          [
                            0.6666666666666666,
                            "#ed7953"
                          ],
                          [
                            0.7777777777777778,
                            "#fb9f3a"
                          ],
                          [
                            0.8888888888888888,
                            "#fdca26"
                          ],
                          [
                            1,
                            "#f0f921"
                          ]
                        ],
                        "type": "histogram2dcontour"
                      }
                    ],
                    "mesh3d": [
                      {
                        "colorbar": {
                          "outlinewidth": 0,
                          "ticks": ""
                        },
                        "type": "mesh3d"
                      }
                    ],
                    "parcoords": [
                      {
                        "line": {
                          "colorbar": {
                            "outlinewidth": 0,
                            "ticks": ""
                          }
                        },
                        "type": "parcoords"
                      }
                    ],
                    "pie": [
                      {
                        "automargin": true,
                        "type": "pie"
                      }
                    ],
                    "scatter": [
                      {
                        "fillpattern": {
                          "fillmode": "overlay",
                          "size": 10,
                          "solidity": 0.2
                        },
                        "type": "scatter"
                      }
                    ],
                    "scatter3d": [
                      {
                        "line": {
                          "colorbar": {
                            "outlinewidth": 0,
                            "ticks": ""
                          }
                        },
                        "marker": {
                          "colorbar": {
                            "outlinewidth": 0,
                            "ticks": ""
                          }
                        },
                        "type": "scatter3d"
                      }
                    ],
                    "scattercarpet": [
                      {
                        "marker": {
                          "colorbar": {
                            "outlinewidth": 0,
                            "ticks": ""
                          }
                        },
                        "type": "scattercarpet"
                      }
                    ],
                    "scattergeo": [
                      {
                        "marker": {
                          "colorbar": {
                            "outlinewidth": 0,
                            "ticks": ""
                          }
                        },
                        "type": "scattergeo"
                      }
                    ],
                    "scattergl": [
                      {
                        "marker": {
                          "colorbar": {
                            "outlinewidth": 0,
                            "ticks": ""
                          }
                        },
                        "type": "scattergl"
                      }
                    ],
                    "scattermapbox": [
                      {
                        "marker": {
                          "colorbar": {
                            "outlinewidth": 0,
                            "ticks": ""
                          }
                        },
                        "type": "scattermapbox"
                      }
                    ],
                    "scatterpolar": [
                      {
                        "marker": {
                          "colorbar": {
                            "outlinewidth": 0,
                            "ticks": ""
                          }
                        },
                        "type": "scatterpolar"
                      }
                    ],
                    "scatterpolargl": [
                      {
                        "marker": {
                          "colorbar": {
                            "outlinewidth": 0,
                            "ticks": ""
                          }
                        },
                        "type": "scatterpolargl"
                      }
                    ],
                    "scatterternary": [
                      {
                        "marker": {
                          "colorbar": {
                            "outlinewidth": 0,
                            "ticks": ""
                          }
                        },
                        "type": "scatterternary"
                      }
                    ],
                    "surface": [
                      {
                        "colorbar": {
                          "outlinewidth": 0,
                          "ticks": ""
                        },
                        "colorscale": [
                          [
                            0,
                            "#0d0887"
                          ],
                          [
                            0.1111111111111111,
                            "#46039f"
                          ],
                          [
                            0.2222222222222222,
                            "#7201a8"
                          ],
                          [
                            0.3333333333333333,
                            "#9c179e"
                          ],
                          [
                            0.4444444444444444,
                            "#bd3786"
                          ],
                          [
                            0.5555555555555556,
                            "#d8576b"
                          ],
                          [
                            0.6666666666666666,
                            "#ed7953"
                          ],
                          [
                            0.7777777777777778,
                            "#fb9f3a"
                          ],
                          [
                            0.8888888888888888,
                            "#fdca26"
                          ],
                          [
                            1,
                            "#f0f921"
                          ]
                        ],
                        "type": "surface"
                      }
                    ],
                    "table": [
                      {
                        "cells": {
                          "fill": {
                            "color": "#EBF0F8"
                          },
                          "line": {
                            "color": "white"
                          }
                        },
                        "header": {
                          "fill": {
                            "color": "#C8D4E3"
                          },
                          "line": {
                            "color": "white"
                          }
                        },
                        "type": "table"
                      }
                    ]
                  },
                  "layout": {
                    "annotationdefaults": {
                      "arrowcolor": "#2a3f5f",
                      "arrowhead": 0,
                      "arrowwidth": 1
                    },
                    "autotypenumbers": "strict",
                    "coloraxis": {
                      "colorbar": {
                        "outlinewidth": 0,
                        "ticks": ""
                      }
                    },
                    "colorscale": {
                      "diverging": [
                        [
                          0,
                          "#8e0152"
                        ],
                        [
                          0.1,
                          "#c51b7d"
                        ],
                        [
                          0.2,
                          "#de77ae"
                        ],
                        [
                          0.3,
                          "#f1b6da"
                        ],
                        [
                          0.4,
                          "#fde0ef"
                        ],
                        [
                          0.5,
                          "#f7f7f7"
                        ],
                        [
                          0.6,
                          "#e6f5d0"
                        ],
                        [
                          0.7,
                          "#b8e186"
                        ],
                        [
                          0.8,
                          "#7fbc41"
                        ],
                        [
                          0.9,
                          "#4d9221"
                        ],
                        [
                          1,
                          "#276419"
                        ]
                      ],
                      "sequential": [
                        [
                          0,
                          "#0d0887"
                        ],
                        [
                          0.1111111111111111,
                          "#46039f"
                        ],
                        [
                          0.2222222222222222,
                          "#7201a8"
                        ],
                        [
                          0.3333333333333333,
                          "#9c179e"
                        ],
                        [
                          0.4444444444444444,
                          "#bd3786"
                        ],
                        [
                          0.5555555555555556,
                          "#d8576b"
                        ],
                        [
                          0.6666666666666666,
                          "#ed7953"
                        ],
                        [
                          0.7777777777777778,
                          "#fb9f3a"
                        ],
                        [
                          0.8888888888888888,
                          "#fdca26"
                        ],
                        [
                          1,
                          "#f0f921"
                        ]
                      ],
                      "sequentialminus": [
                        [
                          0,
                          "#0d0887"
                        ],
                        [
                          0.1111111111111111,
                          "#46039f"
                        ],
                        [
                          0.2222222222222222,
                          "#7201a8"
                        ],
                        [
                          0.3333333333333333,
                          "#9c179e"
                        ],
                        [
                          0.4444444444444444,
                          "#bd3786"
                        ],
                        [
                          0.5555555555555556,
                          "#d8576b"
                        ],
                        [
                          0.6666666666666666,
                          "#ed7953"
                        ],
                        [
                          0.7777777777777778,
                          "#fb9f3a"
                        ],
                        [
                          0.8888888888888888,
                          "#fdca26"
                        ],
                        [
                          1,
                          "#f0f921"
                        ]
                      ]
                    },
                    "colorway": [
                      "#636efa",
                      "#EF553B",
                      "#00cc96",
                      "#ab63fa",
                      "#FFA15A",
                      "#19d3f3",
                      "#FF6692",
                      "#B6E880",
                      "#FF97FF",
                      "#FECB52"
                    ],
                    "font": {
                      "color": "#2a3f5f"
                    },
                    "geo": {
                      "bgcolor": "white",
                      "lakecolor": "white",
                      "landcolor": "#E5ECF6",
                      "showlakes": true,
                      "showland": true,
                      "subunitcolor": "white"
                    },
                    "hoverlabel": {
                      "align": "left"
                    },
                    "hovermode": "closest",
                    "mapbox": {
                      "style": "light"
                    },
                    "paper_bgcolor": "white",
                    "plot_bgcolor": "#E5ECF6",
                    "polar": {
                      "angularaxis": {
                        "gridcolor": "white",
                        "linecolor": "white",
                        "ticks": ""
                      },
                      "bgcolor": "#E5ECF6",
                      "radialaxis": {
                        "gridcolor": "white",
                        "linecolor": "white",
                        "ticks": ""
                      }
                    },
                    "scene": {
                      "xaxis": {
                        "backgroundcolor": "#E5ECF6",
                        "gridcolor": "white",
                        "gridwidth": 2,
                        "linecolor": "white",
                        "showbackground": true,
                        "ticks": "",
                        "zerolinecolor": "white"
                      },
                      "yaxis": {
                        "backgroundcolor": "#E5ECF6",
                        "gridcolor": "white",
                        "gridwidth": 2,
                        "linecolor": "white",
                        "showbackground": true,
                        "ticks": "",
                        "zerolinecolor": "white"
                      },
                      "zaxis": {
                        "backgroundcolor": "#E5ECF6",
                        "gridcolor": "white",
                        "gridwidth": 2,
                        "linecolor": "white",
                        "showbackground": true,
                        "ticks": "",
                        "zerolinecolor": "white"
                      }
                    },
                    "shapedefaults": {
                      "line": {
                        "color": "#2a3f5f"
                      }
                    },
                    "ternary": {
                      "aaxis": {
                        "gridcolor": "white",
                        "linecolor": "white",
                        "ticks": ""
                      },
                      "baxis": {
                        "gridcolor": "white",
                        "linecolor": "white",
                        "ticks": ""
                      },
                      "bgcolor": "#E5ECF6",
                      "caxis": {
                        "gridcolor": "white",
                        "linecolor": "white",
                        "ticks": ""
                      }
                    },
                    "title": {
                      "x": 0.05
                    },
                    "xaxis": {
                      "automargin": true,
                      "gridcolor": "white",
                      "linecolor": "white",
                      "ticks": "",
                      "title": {
                        "standoff": 15
                      },
                      "zerolinecolor": "white",
                      "zerolinewidth": 2
                    },
                    "yaxis": {
                      "automargin": true,
                      "gridcolor": "white",
                      "linecolor": "white",
                      "ticks": "",
                      "title": {
                        "standoff": 15
                      },
                      "zerolinecolor": "white",
                      "zerolinewidth": 2
                    }
                  }
                },
                "title": {
                  "text": "2 layers, accuracy"
                }
              }
            },
            "text/html": [
              "<div>                            <div id=\"c8a6a0c5-3201-4b04-8e1f-84352d04c11c\" class=\"plotly-graph-div\" style=\"height:525px; width:100%;\"></div>            <script type=\"text/javascript\">                require([\"plotly\"], function(Plotly) {                    window.PLOTLYENV=window.PLOTLYENV || {};                                    if (document.getElementById(\"c8a6a0c5-3201-4b04-8e1f-84352d04c11c\")) {                    Plotly.newPlot(                        \"c8a6a0c5-3201-4b04-8e1f-84352d04c11c\",                        [{\"mode\":\"lines+markers\",\"name\":\"positional encoding\",\"x\":[0,1,2,3,4,5,6,7,8,9],\"y\":[0.327359375,0.360453125,0.670734375,0.700296875,0.708390625,0.7115625,0.712859375,0.71415625,0.714875,0.715578125],\"type\":\"scatter\"},{\"mode\":\"lines+markers\",\"name\":\"no positional encoding\",\"x\":[0,1,2,3,4,5,6,7,8,9],\"y\":[0.28775,0.359328125,0.4560625,0.53596875,0.56765625,0.5904375,0.604765625,0.61346875,0.619578125,0.623171875],\"type\":\"scatter\"}],                        {\"template\":{\"data\":{\"histogram2dcontour\":[{\"type\":\"histogram2dcontour\",\"colorbar\":{\"outlinewidth\":0,\"ticks\":\"\"},\"colorscale\":[[0.0,\"#0d0887\"],[0.1111111111111111,\"#46039f\"],[0.2222222222222222,\"#7201a8\"],[0.3333333333333333,\"#9c179e\"],[0.4444444444444444,\"#bd3786\"],[0.5555555555555556,\"#d8576b\"],[0.6666666666666666,\"#ed7953\"],[0.7777777777777778,\"#fb9f3a\"],[0.8888888888888888,\"#fdca26\"],[1.0,\"#f0f921\"]]}],\"choropleth\":[{\"type\":\"choropleth\",\"colorbar\":{\"outlinewidth\":0,\"ticks\":\"\"}}],\"histogram2d\":[{\"type\":\"histogram2d\",\"colorbar\":{\"outlinewidth\":0,\"ticks\":\"\"},\"colorscale\":[[0.0,\"#0d0887\"],[0.1111111111111111,\"#46039f\"],[0.2222222222222222,\"#7201a8\"],[0.3333333333333333,\"#9c179e\"],[0.4444444444444444,\"#bd3786\"],[0.5555555555555556,\"#d8576b\"],[0.6666666666666666,\"#ed7953\"],[0.7777777777777778,\"#fb9f3a\"],[0.8888888888888888,\"#fdca26\"],[1.0,\"#f0f921\"]]}],\"heatmap\":[{\"type\":\"heatmap\",\"colorbar\":{\"outlinewidth\":0,\"ticks\":\"\"},\"colorscale\":[[0.0,\"#0d0887\"],[0.1111111111111111,\"#46039f\"],[0.2222222222222222,\"#7201a8\"],[0.3333333333333333,\"#9c179e\"],[0.4444444444444444,\"#bd3786\"],[0.5555555555555556,\"#d8576b\"],[0.6666666666666666,\"#ed7953\"],[0.7777777777777778,\"#fb9f3a\"],[0.8888888888888888,\"#fdca26\"],[1.0,\"#f0f921\"]]}],\"heatmapgl\":[{\"type\":\"heatmapgl\",\"colorbar\":{\"outlinewidth\":0,\"ticks\":\"\"},\"colorscale\":[[0.0,\"#0d0887\"],[0.1111111111111111,\"#46039f\"],[0.2222222222222222,\"#7201a8\"],[0.3333333333333333,\"#9c179e\"],[0.4444444444444444,\"#bd3786\"],[0.5555555555555556,\"#d8576b\"],[0.6666666666666666,\"#ed7953\"],[0.7777777777777778,\"#fb9f3a\"],[0.8888888888888888,\"#fdca26\"],[1.0,\"#f0f921\"]]}],\"contourcarpet\":[{\"type\":\"contourcarpet\",\"colorbar\":{\"outlinewidth\":0,\"ticks\":\"\"}}],\"contour\":[{\"type\":\"contour\",\"colorbar\":{\"outlinewidth\":0,\"ticks\":\"\"},\"colorscale\":[[0.0,\"#0d0887\"],[0.1111111111111111,\"#46039f\"],[0.2222222222222222,\"#7201a8\"],[0.3333333333333333,\"#9c179e\"],[0.4444444444444444,\"#bd3786\"],[0.5555555555555556,\"#d8576b\"],[0.6666666666666666,\"#ed7953\"],[0.7777777777777778,\"#fb9f3a\"],[0.8888888888888888,\"#fdca26\"],[1.0,\"#f0f921\"]]}],\"surface\":[{\"type\":\"surface\",\"colorbar\":{\"outlinewidth\":0,\"ticks\":\"\"},\"colorscale\":[[0.0,\"#0d0887\"],[0.1111111111111111,\"#46039f\"],[0.2222222222222222,\"#7201a8\"],[0.3333333333333333,\"#9c179e\"],[0.4444444444444444,\"#bd3786\"],[0.5555555555555556,\"#d8576b\"],[0.6666666666666666,\"#ed7953\"],[0.7777777777777778,\"#fb9f3a\"],[0.8888888888888888,\"#fdca26\"],[1.0,\"#f0f921\"]]}],\"mesh3d\":[{\"type\":\"mesh3d\",\"colorbar\":{\"outlinewidth\":0,\"ticks\":\"\"}}],\"scatter\":[{\"fillpattern\":{\"fillmode\":\"overlay\",\"size\":10,\"solidity\":0.2},\"type\":\"scatter\"}],\"parcoords\":[{\"type\":\"parcoords\",\"line\":{\"colorbar\":{\"outlinewidth\":0,\"ticks\":\"\"}}}],\"scatterpolargl\":[{\"type\":\"scatterpolargl\",\"marker\":{\"colorbar\":{\"outlinewidth\":0,\"ticks\":\"\"}}}],\"bar\":[{\"error_x\":{\"color\":\"#2a3f5f\"},\"error_y\":{\"color\":\"#2a3f5f\"},\"marker\":{\"line\":{\"color\":\"#E5ECF6\",\"width\":0.5},\"pattern\":{\"fillmode\":\"overlay\",\"size\":10,\"solidity\":0.2}},\"type\":\"bar\"}],\"scattergeo\":[{\"type\":\"scattergeo\",\"marker\":{\"colorbar\":{\"outlinewidth\":0,\"ticks\":\"\"}}}],\"scatterpolar\":[{\"type\":\"scatterpolar\",\"marker\":{\"colorbar\":{\"outlinewidth\":0,\"ticks\":\"\"}}}],\"histogram\":[{\"marker\":{\"pattern\":{\"fillmode\":\"overlay\",\"size\":10,\"solidity\":0.2}},\"type\":\"histogram\"}],\"scattergl\":[{\"type\":\"scattergl\",\"marker\":{\"colorbar\":{\"outlinewidth\":0,\"ticks\":\"\"}}}],\"scatter3d\":[{\"type\":\"scatter3d\",\"line\":{\"colorbar\":{\"outlinewidth\":0,\"ticks\":\"\"}},\"marker\":{\"colorbar\":{\"outlinewidth\":0,\"ticks\":\"\"}}}],\"scattermapbox\":[{\"type\":\"scattermapbox\",\"marker\":{\"colorbar\":{\"outlinewidth\":0,\"ticks\":\"\"}}}],\"scatterternary\":[{\"type\":\"scatterternary\",\"marker\":{\"colorbar\":{\"outlinewidth\":0,\"ticks\":\"\"}}}],\"scattercarpet\":[{\"type\":\"scattercarpet\",\"marker\":{\"colorbar\":{\"outlinewidth\":0,\"ticks\":\"\"}}}],\"carpet\":[{\"aaxis\":{\"endlinecolor\":\"#2a3f5f\",\"gridcolor\":\"white\",\"linecolor\":\"white\",\"minorgridcolor\":\"white\",\"startlinecolor\":\"#2a3f5f\"},\"baxis\":{\"endlinecolor\":\"#2a3f5f\",\"gridcolor\":\"white\",\"linecolor\":\"white\",\"minorgridcolor\":\"white\",\"startlinecolor\":\"#2a3f5f\"},\"type\":\"carpet\"}],\"table\":[{\"cells\":{\"fill\":{\"color\":\"#EBF0F8\"},\"line\":{\"color\":\"white\"}},\"header\":{\"fill\":{\"color\":\"#C8D4E3\"},\"line\":{\"color\":\"white\"}},\"type\":\"table\"}],\"barpolar\":[{\"marker\":{\"line\":{\"color\":\"#E5ECF6\",\"width\":0.5},\"pattern\":{\"fillmode\":\"overlay\",\"size\":10,\"solidity\":0.2}},\"type\":\"barpolar\"}],\"pie\":[{\"automargin\":true,\"type\":\"pie\"}]},\"layout\":{\"autotypenumbers\":\"strict\",\"colorway\":[\"#636efa\",\"#EF553B\",\"#00cc96\",\"#ab63fa\",\"#FFA15A\",\"#19d3f3\",\"#FF6692\",\"#B6E880\",\"#FF97FF\",\"#FECB52\"],\"font\":{\"color\":\"#2a3f5f\"},\"hovermode\":\"closest\",\"hoverlabel\":{\"align\":\"left\"},\"paper_bgcolor\":\"white\",\"plot_bgcolor\":\"#E5ECF6\",\"polar\":{\"bgcolor\":\"#E5ECF6\",\"angularaxis\":{\"gridcolor\":\"white\",\"linecolor\":\"white\",\"ticks\":\"\"},\"radialaxis\":{\"gridcolor\":\"white\",\"linecolor\":\"white\",\"ticks\":\"\"}},\"ternary\":{\"bgcolor\":\"#E5ECF6\",\"aaxis\":{\"gridcolor\":\"white\",\"linecolor\":\"white\",\"ticks\":\"\"},\"baxis\":{\"gridcolor\":\"white\",\"linecolor\":\"white\",\"ticks\":\"\"},\"caxis\":{\"gridcolor\":\"white\",\"linecolor\":\"white\",\"ticks\":\"\"}},\"coloraxis\":{\"colorbar\":{\"outlinewidth\":0,\"ticks\":\"\"}},\"colorscale\":{\"sequential\":[[0.0,\"#0d0887\"],[0.1111111111111111,\"#46039f\"],[0.2222222222222222,\"#7201a8\"],[0.3333333333333333,\"#9c179e\"],[0.4444444444444444,\"#bd3786\"],[0.5555555555555556,\"#d8576b\"],[0.6666666666666666,\"#ed7953\"],[0.7777777777777778,\"#fb9f3a\"],[0.8888888888888888,\"#fdca26\"],[1.0,\"#f0f921\"]],\"sequentialminus\":[[0.0,\"#0d0887\"],[0.1111111111111111,\"#46039f\"],[0.2222222222222222,\"#7201a8\"],[0.3333333333333333,\"#9c179e\"],[0.4444444444444444,\"#bd3786\"],[0.5555555555555556,\"#d8576b\"],[0.6666666666666666,\"#ed7953\"],[0.7777777777777778,\"#fb9f3a\"],[0.8888888888888888,\"#fdca26\"],[1.0,\"#f0f921\"]],\"diverging\":[[0,\"#8e0152\"],[0.1,\"#c51b7d\"],[0.2,\"#de77ae\"],[0.3,\"#f1b6da\"],[0.4,\"#fde0ef\"],[0.5,\"#f7f7f7\"],[0.6,\"#e6f5d0\"],[0.7,\"#b8e186\"],[0.8,\"#7fbc41\"],[0.9,\"#4d9221\"],[1,\"#276419\"]]},\"xaxis\":{\"gridcolor\":\"white\",\"linecolor\":\"white\",\"ticks\":\"\",\"title\":{\"standoff\":15},\"zerolinecolor\":\"white\",\"automargin\":true,\"zerolinewidth\":2},\"yaxis\":{\"gridcolor\":\"white\",\"linecolor\":\"white\",\"ticks\":\"\",\"title\":{\"standoff\":15},\"zerolinecolor\":\"white\",\"automargin\":true,\"zerolinewidth\":2},\"scene\":{\"xaxis\":{\"backgroundcolor\":\"#E5ECF6\",\"gridcolor\":\"white\",\"linecolor\":\"white\",\"showbackground\":true,\"ticks\":\"\",\"zerolinecolor\":\"white\",\"gridwidth\":2},\"yaxis\":{\"backgroundcolor\":\"#E5ECF6\",\"gridcolor\":\"white\",\"linecolor\":\"white\",\"showbackground\":true,\"ticks\":\"\",\"zerolinecolor\":\"white\",\"gridwidth\":2},\"zaxis\":{\"backgroundcolor\":\"#E5ECF6\",\"gridcolor\":\"white\",\"linecolor\":\"white\",\"showbackground\":true,\"ticks\":\"\",\"zerolinecolor\":\"white\",\"gridwidth\":2}},\"shapedefaults\":{\"line\":{\"color\":\"#2a3f5f\"}},\"annotationdefaults\":{\"arrowcolor\":\"#2a3f5f\",\"arrowhead\":0,\"arrowwidth\":1},\"geo\":{\"bgcolor\":\"white\",\"landcolor\":\"#E5ECF6\",\"subunitcolor\":\"white\",\"showland\":true,\"showlakes\":true,\"lakecolor\":\"white\"},\"title\":{\"x\":0.05},\"mapbox\":{\"style\":\"light\"}}},\"title\":{\"text\":\"2 layers, accuracy\"}},                        {\"responsive\": true}                    ).then(function(){\n",
              "                            \n",
              "var gd = document.getElementById('c8a6a0c5-3201-4b04-8e1f-84352d04c11c');\n",
              "var x = new MutationObserver(function (mutations, observer) {{\n",
              "        var display = window.getComputedStyle(gd).display;\n",
              "        if (!display || display === 'none') {{\n",
              "            console.log([gd, 'removed!']);\n",
              "            Plotly.purge(gd);\n",
              "            observer.disconnect();\n",
              "        }}\n",
              "}});\n",
              "\n",
              "// Listen for the removal of the full notebook cells\n",
              "var notebookContainer = gd.closest('#notebook-container');\n",
              "if (notebookContainer) {{\n",
              "    x.observe(notebookContainer, {childList: true});\n",
              "}}\n",
              "\n",
              "// Listen for the clearing of the current output cell\n",
              "var outputEl = gd.closest('.output');\n",
              "if (outputEl) {{\n",
              "    x.observe(outputEl, {childList: true});\n",
              "}}\n",
              "\n",
              "                        })                };                });            </script>        </div>"
            ]
          },
          "metadata": {},
          "output_type": "display_data"
        },
        {
          "data": {
            "application/vnd.plotly.v1+json": {
              "config": {
                "plotlyServerURL": "https://plot.ly"
              },
              "data": [
                {
                  "mode": "lines+markers",
                  "name": "positional encoding",
                  "type": "scatter",
                  "x": [
                    0,
                    1,
                    2,
                    3,
                    4,
                    5,
                    6,
                    7,
                    8,
                    9
                  ],
                  "y": [
                    0.328703125,
                    0.38865625,
                    0.6896875,
                    0.708546875,
                    0.71228125,
                    0.714390625,
                    0.715046875,
                    0.71590625,
                    0.716984375,
                    0.7181875
                  ]
                },
                {
                  "mode": "lines+markers",
                  "name": "no positional encoding",
                  "type": "scatter",
                  "x": [
                    0,
                    1,
                    2,
                    3,
                    4,
                    5,
                    6,
                    7,
                    8,
                    9
                  ],
                  "y": [
                    0.306046875,
                    0.46384375,
                    0.605625,
                    0.634578125,
                    0.65125,
                    0.66015625,
                    0.671859375,
                    0.6805,
                    0.6875625,
                    0.69071875
                  ]
                }
              ],
              "layout": {
                "template": {
                  "data": {
                    "bar": [
                      {
                        "error_x": {
                          "color": "#2a3f5f"
                        },
                        "error_y": {
                          "color": "#2a3f5f"
                        },
                        "marker": {
                          "line": {
                            "color": "#E5ECF6",
                            "width": 0.5
                          },
                          "pattern": {
                            "fillmode": "overlay",
                            "size": 10,
                            "solidity": 0.2
                          }
                        },
                        "type": "bar"
                      }
                    ],
                    "barpolar": [
                      {
                        "marker": {
                          "line": {
                            "color": "#E5ECF6",
                            "width": 0.5
                          },
                          "pattern": {
                            "fillmode": "overlay",
                            "size": 10,
                            "solidity": 0.2
                          }
                        },
                        "type": "barpolar"
                      }
                    ],
                    "carpet": [
                      {
                        "aaxis": {
                          "endlinecolor": "#2a3f5f",
                          "gridcolor": "white",
                          "linecolor": "white",
                          "minorgridcolor": "white",
                          "startlinecolor": "#2a3f5f"
                        },
                        "baxis": {
                          "endlinecolor": "#2a3f5f",
                          "gridcolor": "white",
                          "linecolor": "white",
                          "minorgridcolor": "white",
                          "startlinecolor": "#2a3f5f"
                        },
                        "type": "carpet"
                      }
                    ],
                    "choropleth": [
                      {
                        "colorbar": {
                          "outlinewidth": 0,
                          "ticks": ""
                        },
                        "type": "choropleth"
                      }
                    ],
                    "contour": [
                      {
                        "colorbar": {
                          "outlinewidth": 0,
                          "ticks": ""
                        },
                        "colorscale": [
                          [
                            0,
                            "#0d0887"
                          ],
                          [
                            0.1111111111111111,
                            "#46039f"
                          ],
                          [
                            0.2222222222222222,
                            "#7201a8"
                          ],
                          [
                            0.3333333333333333,
                            "#9c179e"
                          ],
                          [
                            0.4444444444444444,
                            "#bd3786"
                          ],
                          [
                            0.5555555555555556,
                            "#d8576b"
                          ],
                          [
                            0.6666666666666666,
                            "#ed7953"
                          ],
                          [
                            0.7777777777777778,
                            "#fb9f3a"
                          ],
                          [
                            0.8888888888888888,
                            "#fdca26"
                          ],
                          [
                            1,
                            "#f0f921"
                          ]
                        ],
                        "type": "contour"
                      }
                    ],
                    "contourcarpet": [
                      {
                        "colorbar": {
                          "outlinewidth": 0,
                          "ticks": ""
                        },
                        "type": "contourcarpet"
                      }
                    ],
                    "heatmap": [
                      {
                        "colorbar": {
                          "outlinewidth": 0,
                          "ticks": ""
                        },
                        "colorscale": [
                          [
                            0,
                            "#0d0887"
                          ],
                          [
                            0.1111111111111111,
                            "#46039f"
                          ],
                          [
                            0.2222222222222222,
                            "#7201a8"
                          ],
                          [
                            0.3333333333333333,
                            "#9c179e"
                          ],
                          [
                            0.4444444444444444,
                            "#bd3786"
                          ],
                          [
                            0.5555555555555556,
                            "#d8576b"
                          ],
                          [
                            0.6666666666666666,
                            "#ed7953"
                          ],
                          [
                            0.7777777777777778,
                            "#fb9f3a"
                          ],
                          [
                            0.8888888888888888,
                            "#fdca26"
                          ],
                          [
                            1,
                            "#f0f921"
                          ]
                        ],
                        "type": "heatmap"
                      }
                    ],
                    "heatmapgl": [
                      {
                        "colorbar": {
                          "outlinewidth": 0,
                          "ticks": ""
                        },
                        "colorscale": [
                          [
                            0,
                            "#0d0887"
                          ],
                          [
                            0.1111111111111111,
                            "#46039f"
                          ],
                          [
                            0.2222222222222222,
                            "#7201a8"
                          ],
                          [
                            0.3333333333333333,
                            "#9c179e"
                          ],
                          [
                            0.4444444444444444,
                            "#bd3786"
                          ],
                          [
                            0.5555555555555556,
                            "#d8576b"
                          ],
                          [
                            0.6666666666666666,
                            "#ed7953"
                          ],
                          [
                            0.7777777777777778,
                            "#fb9f3a"
                          ],
                          [
                            0.8888888888888888,
                            "#fdca26"
                          ],
                          [
                            1,
                            "#f0f921"
                          ]
                        ],
                        "type": "heatmapgl"
                      }
                    ],
                    "histogram": [
                      {
                        "marker": {
                          "pattern": {
                            "fillmode": "overlay",
                            "size": 10,
                            "solidity": 0.2
                          }
                        },
                        "type": "histogram"
                      }
                    ],
                    "histogram2d": [
                      {
                        "colorbar": {
                          "outlinewidth": 0,
                          "ticks": ""
                        },
                        "colorscale": [
                          [
                            0,
                            "#0d0887"
                          ],
                          [
                            0.1111111111111111,
                            "#46039f"
                          ],
                          [
                            0.2222222222222222,
                            "#7201a8"
                          ],
                          [
                            0.3333333333333333,
                            "#9c179e"
                          ],
                          [
                            0.4444444444444444,
                            "#bd3786"
                          ],
                          [
                            0.5555555555555556,
                            "#d8576b"
                          ],
                          [
                            0.6666666666666666,
                            "#ed7953"
                          ],
                          [
                            0.7777777777777778,
                            "#fb9f3a"
                          ],
                          [
                            0.8888888888888888,
                            "#fdca26"
                          ],
                          [
                            1,
                            "#f0f921"
                          ]
                        ],
                        "type": "histogram2d"
                      }
                    ],
                    "histogram2dcontour": [
                      {
                        "colorbar": {
                          "outlinewidth": 0,
                          "ticks": ""
                        },
                        "colorscale": [
                          [
                            0,
                            "#0d0887"
                          ],
                          [
                            0.1111111111111111,
                            "#46039f"
                          ],
                          [
                            0.2222222222222222,
                            "#7201a8"
                          ],
                          [
                            0.3333333333333333,
                            "#9c179e"
                          ],
                          [
                            0.4444444444444444,
                            "#bd3786"
                          ],
                          [
                            0.5555555555555556,
                            "#d8576b"
                          ],
                          [
                            0.6666666666666666,
                            "#ed7953"
                          ],
                          [
                            0.7777777777777778,
                            "#fb9f3a"
                          ],
                          [
                            0.8888888888888888,
                            "#fdca26"
                          ],
                          [
                            1,
                            "#f0f921"
                          ]
                        ],
                        "type": "histogram2dcontour"
                      }
                    ],
                    "mesh3d": [
                      {
                        "colorbar": {
                          "outlinewidth": 0,
                          "ticks": ""
                        },
                        "type": "mesh3d"
                      }
                    ],
                    "parcoords": [
                      {
                        "line": {
                          "colorbar": {
                            "outlinewidth": 0,
                            "ticks": ""
                          }
                        },
                        "type": "parcoords"
                      }
                    ],
                    "pie": [
                      {
                        "automargin": true,
                        "type": "pie"
                      }
                    ],
                    "scatter": [
                      {
                        "fillpattern": {
                          "fillmode": "overlay",
                          "size": 10,
                          "solidity": 0.2
                        },
                        "type": "scatter"
                      }
                    ],
                    "scatter3d": [
                      {
                        "line": {
                          "colorbar": {
                            "outlinewidth": 0,
                            "ticks": ""
                          }
                        },
                        "marker": {
                          "colorbar": {
                            "outlinewidth": 0,
                            "ticks": ""
                          }
                        },
                        "type": "scatter3d"
                      }
                    ],
                    "scattercarpet": [
                      {
                        "marker": {
                          "colorbar": {
                            "outlinewidth": 0,
                            "ticks": ""
                          }
                        },
                        "type": "scattercarpet"
                      }
                    ],
                    "scattergeo": [
                      {
                        "marker": {
                          "colorbar": {
                            "outlinewidth": 0,
                            "ticks": ""
                          }
                        },
                        "type": "scattergeo"
                      }
                    ],
                    "scattergl": [
                      {
                        "marker": {
                          "colorbar": {
                            "outlinewidth": 0,
                            "ticks": ""
                          }
                        },
                        "type": "scattergl"
                      }
                    ],
                    "scattermapbox": [
                      {
                        "marker": {
                          "colorbar": {
                            "outlinewidth": 0,
                            "ticks": ""
                          }
                        },
                        "type": "scattermapbox"
                      }
                    ],
                    "scatterpolar": [
                      {
                        "marker": {
                          "colorbar": {
                            "outlinewidth": 0,
                            "ticks": ""
                          }
                        },
                        "type": "scatterpolar"
                      }
                    ],
                    "scatterpolargl": [
                      {
                        "marker": {
                          "colorbar": {
                            "outlinewidth": 0,
                            "ticks": ""
                          }
                        },
                        "type": "scatterpolargl"
                      }
                    ],
                    "scatterternary": [
                      {
                        "marker": {
                          "colorbar": {
                            "outlinewidth": 0,
                            "ticks": ""
                          }
                        },
                        "type": "scatterternary"
                      }
                    ],
                    "surface": [
                      {
                        "colorbar": {
                          "outlinewidth": 0,
                          "ticks": ""
                        },
                        "colorscale": [
                          [
                            0,
                            "#0d0887"
                          ],
                          [
                            0.1111111111111111,
                            "#46039f"
                          ],
                          [
                            0.2222222222222222,
                            "#7201a8"
                          ],
                          [
                            0.3333333333333333,
                            "#9c179e"
                          ],
                          [
                            0.4444444444444444,
                            "#bd3786"
                          ],
                          [
                            0.5555555555555556,
                            "#d8576b"
                          ],
                          [
                            0.6666666666666666,
                            "#ed7953"
                          ],
                          [
                            0.7777777777777778,
                            "#fb9f3a"
                          ],
                          [
                            0.8888888888888888,
                            "#fdca26"
                          ],
                          [
                            1,
                            "#f0f921"
                          ]
                        ],
                        "type": "surface"
                      }
                    ],
                    "table": [
                      {
                        "cells": {
                          "fill": {
                            "color": "#EBF0F8"
                          },
                          "line": {
                            "color": "white"
                          }
                        },
                        "header": {
                          "fill": {
                            "color": "#C8D4E3"
                          },
                          "line": {
                            "color": "white"
                          }
                        },
                        "type": "table"
                      }
                    ]
                  },
                  "layout": {
                    "annotationdefaults": {
                      "arrowcolor": "#2a3f5f",
                      "arrowhead": 0,
                      "arrowwidth": 1
                    },
                    "autotypenumbers": "strict",
                    "coloraxis": {
                      "colorbar": {
                        "outlinewidth": 0,
                        "ticks": ""
                      }
                    },
                    "colorscale": {
                      "diverging": [
                        [
                          0,
                          "#8e0152"
                        ],
                        [
                          0.1,
                          "#c51b7d"
                        ],
                        [
                          0.2,
                          "#de77ae"
                        ],
                        [
                          0.3,
                          "#f1b6da"
                        ],
                        [
                          0.4,
                          "#fde0ef"
                        ],
                        [
                          0.5,
                          "#f7f7f7"
                        ],
                        [
                          0.6,
                          "#e6f5d0"
                        ],
                        [
                          0.7,
                          "#b8e186"
                        ],
                        [
                          0.8,
                          "#7fbc41"
                        ],
                        [
                          0.9,
                          "#4d9221"
                        ],
                        [
                          1,
                          "#276419"
                        ]
                      ],
                      "sequential": [
                        [
                          0,
                          "#0d0887"
                        ],
                        [
                          0.1111111111111111,
                          "#46039f"
                        ],
                        [
                          0.2222222222222222,
                          "#7201a8"
                        ],
                        [
                          0.3333333333333333,
                          "#9c179e"
                        ],
                        [
                          0.4444444444444444,
                          "#bd3786"
                        ],
                        [
                          0.5555555555555556,
                          "#d8576b"
                        ],
                        [
                          0.6666666666666666,
                          "#ed7953"
                        ],
                        [
                          0.7777777777777778,
                          "#fb9f3a"
                        ],
                        [
                          0.8888888888888888,
                          "#fdca26"
                        ],
                        [
                          1,
                          "#f0f921"
                        ]
                      ],
                      "sequentialminus": [
                        [
                          0,
                          "#0d0887"
                        ],
                        [
                          0.1111111111111111,
                          "#46039f"
                        ],
                        [
                          0.2222222222222222,
                          "#7201a8"
                        ],
                        [
                          0.3333333333333333,
                          "#9c179e"
                        ],
                        [
                          0.4444444444444444,
                          "#bd3786"
                        ],
                        [
                          0.5555555555555556,
                          "#d8576b"
                        ],
                        [
                          0.6666666666666666,
                          "#ed7953"
                        ],
                        [
                          0.7777777777777778,
                          "#fb9f3a"
                        ],
                        [
                          0.8888888888888888,
                          "#fdca26"
                        ],
                        [
                          1,
                          "#f0f921"
                        ]
                      ]
                    },
                    "colorway": [
                      "#636efa",
                      "#EF553B",
                      "#00cc96",
                      "#ab63fa",
                      "#FFA15A",
                      "#19d3f3",
                      "#FF6692",
                      "#B6E880",
                      "#FF97FF",
                      "#FECB52"
                    ],
                    "font": {
                      "color": "#2a3f5f"
                    },
                    "geo": {
                      "bgcolor": "white",
                      "lakecolor": "white",
                      "landcolor": "#E5ECF6",
                      "showlakes": true,
                      "showland": true,
                      "subunitcolor": "white"
                    },
                    "hoverlabel": {
                      "align": "left"
                    },
                    "hovermode": "closest",
                    "mapbox": {
                      "style": "light"
                    },
                    "paper_bgcolor": "white",
                    "plot_bgcolor": "#E5ECF6",
                    "polar": {
                      "angularaxis": {
                        "gridcolor": "white",
                        "linecolor": "white",
                        "ticks": ""
                      },
                      "bgcolor": "#E5ECF6",
                      "radialaxis": {
                        "gridcolor": "white",
                        "linecolor": "white",
                        "ticks": ""
                      }
                    },
                    "scene": {
                      "xaxis": {
                        "backgroundcolor": "#E5ECF6",
                        "gridcolor": "white",
                        "gridwidth": 2,
                        "linecolor": "white",
                        "showbackground": true,
                        "ticks": "",
                        "zerolinecolor": "white"
                      },
                      "yaxis": {
                        "backgroundcolor": "#E5ECF6",
                        "gridcolor": "white",
                        "gridwidth": 2,
                        "linecolor": "white",
                        "showbackground": true,
                        "ticks": "",
                        "zerolinecolor": "white"
                      },
                      "zaxis": {
                        "backgroundcolor": "#E5ECF6",
                        "gridcolor": "white",
                        "gridwidth": 2,
                        "linecolor": "white",
                        "showbackground": true,
                        "ticks": "",
                        "zerolinecolor": "white"
                      }
                    },
                    "shapedefaults": {
                      "line": {
                        "color": "#2a3f5f"
                      }
                    },
                    "ternary": {
                      "aaxis": {
                        "gridcolor": "white",
                        "linecolor": "white",
                        "ticks": ""
                      },
                      "baxis": {
                        "gridcolor": "white",
                        "linecolor": "white",
                        "ticks": ""
                      },
                      "bgcolor": "#E5ECF6",
                      "caxis": {
                        "gridcolor": "white",
                        "linecolor": "white",
                        "ticks": ""
                      }
                    },
                    "title": {
                      "x": 0.05
                    },
                    "xaxis": {
                      "automargin": true,
                      "gridcolor": "white",
                      "linecolor": "white",
                      "ticks": "",
                      "title": {
                        "standoff": 15
                      },
                      "zerolinecolor": "white",
                      "zerolinewidth": 2
                    },
                    "yaxis": {
                      "automargin": true,
                      "gridcolor": "white",
                      "linecolor": "white",
                      "ticks": "",
                      "title": {
                        "standoff": 15
                      },
                      "zerolinecolor": "white",
                      "zerolinewidth": 2
                    }
                  }
                },
                "title": {
                  "text": "3 layers, accuracy"
                }
              }
            },
            "text/html": [
              "<div>                            <div id=\"3fa5c5ef-02d9-442f-abcf-5cb5f992c769\" class=\"plotly-graph-div\" style=\"height:525px; width:100%;\"></div>            <script type=\"text/javascript\">                require([\"plotly\"], function(Plotly) {                    window.PLOTLYENV=window.PLOTLYENV || {};                                    if (document.getElementById(\"3fa5c5ef-02d9-442f-abcf-5cb5f992c769\")) {                    Plotly.newPlot(                        \"3fa5c5ef-02d9-442f-abcf-5cb5f992c769\",                        [{\"mode\":\"lines+markers\",\"name\":\"positional encoding\",\"x\":[0,1,2,3,4,5,6,7,8,9],\"y\":[0.328703125,0.38865625,0.6896875,0.708546875,0.71228125,0.714390625,0.715046875,0.71590625,0.716984375,0.7181875],\"type\":\"scatter\"},{\"mode\":\"lines+markers\",\"name\":\"no positional encoding\",\"x\":[0,1,2,3,4,5,6,7,8,9],\"y\":[0.306046875,0.46384375,0.605625,0.634578125,0.65125,0.66015625,0.671859375,0.6805,0.6875625,0.69071875],\"type\":\"scatter\"}],                        {\"template\":{\"data\":{\"histogram2dcontour\":[{\"type\":\"histogram2dcontour\",\"colorbar\":{\"outlinewidth\":0,\"ticks\":\"\"},\"colorscale\":[[0.0,\"#0d0887\"],[0.1111111111111111,\"#46039f\"],[0.2222222222222222,\"#7201a8\"],[0.3333333333333333,\"#9c179e\"],[0.4444444444444444,\"#bd3786\"],[0.5555555555555556,\"#d8576b\"],[0.6666666666666666,\"#ed7953\"],[0.7777777777777778,\"#fb9f3a\"],[0.8888888888888888,\"#fdca26\"],[1.0,\"#f0f921\"]]}],\"choropleth\":[{\"type\":\"choropleth\",\"colorbar\":{\"outlinewidth\":0,\"ticks\":\"\"}}],\"histogram2d\":[{\"type\":\"histogram2d\",\"colorbar\":{\"outlinewidth\":0,\"ticks\":\"\"},\"colorscale\":[[0.0,\"#0d0887\"],[0.1111111111111111,\"#46039f\"],[0.2222222222222222,\"#7201a8\"],[0.3333333333333333,\"#9c179e\"],[0.4444444444444444,\"#bd3786\"],[0.5555555555555556,\"#d8576b\"],[0.6666666666666666,\"#ed7953\"],[0.7777777777777778,\"#fb9f3a\"],[0.8888888888888888,\"#fdca26\"],[1.0,\"#f0f921\"]]}],\"heatmap\":[{\"type\":\"heatmap\",\"colorbar\":{\"outlinewidth\":0,\"ticks\":\"\"},\"colorscale\":[[0.0,\"#0d0887\"],[0.1111111111111111,\"#46039f\"],[0.2222222222222222,\"#7201a8\"],[0.3333333333333333,\"#9c179e\"],[0.4444444444444444,\"#bd3786\"],[0.5555555555555556,\"#d8576b\"],[0.6666666666666666,\"#ed7953\"],[0.7777777777777778,\"#fb9f3a\"],[0.8888888888888888,\"#fdca26\"],[1.0,\"#f0f921\"]]}],\"heatmapgl\":[{\"type\":\"heatmapgl\",\"colorbar\":{\"outlinewidth\":0,\"ticks\":\"\"},\"colorscale\":[[0.0,\"#0d0887\"],[0.1111111111111111,\"#46039f\"],[0.2222222222222222,\"#7201a8\"],[0.3333333333333333,\"#9c179e\"],[0.4444444444444444,\"#bd3786\"],[0.5555555555555556,\"#d8576b\"],[0.6666666666666666,\"#ed7953\"],[0.7777777777777778,\"#fb9f3a\"],[0.8888888888888888,\"#fdca26\"],[1.0,\"#f0f921\"]]}],\"contourcarpet\":[{\"type\":\"contourcarpet\",\"colorbar\":{\"outlinewidth\":0,\"ticks\":\"\"}}],\"contour\":[{\"type\":\"contour\",\"colorbar\":{\"outlinewidth\":0,\"ticks\":\"\"},\"colorscale\":[[0.0,\"#0d0887\"],[0.1111111111111111,\"#46039f\"],[0.2222222222222222,\"#7201a8\"],[0.3333333333333333,\"#9c179e\"],[0.4444444444444444,\"#bd3786\"],[0.5555555555555556,\"#d8576b\"],[0.6666666666666666,\"#ed7953\"],[0.7777777777777778,\"#fb9f3a\"],[0.8888888888888888,\"#fdca26\"],[1.0,\"#f0f921\"]]}],\"surface\":[{\"type\":\"surface\",\"colorbar\":{\"outlinewidth\":0,\"ticks\":\"\"},\"colorscale\":[[0.0,\"#0d0887\"],[0.1111111111111111,\"#46039f\"],[0.2222222222222222,\"#7201a8\"],[0.3333333333333333,\"#9c179e\"],[0.4444444444444444,\"#bd3786\"],[0.5555555555555556,\"#d8576b\"],[0.6666666666666666,\"#ed7953\"],[0.7777777777777778,\"#fb9f3a\"],[0.8888888888888888,\"#fdca26\"],[1.0,\"#f0f921\"]]}],\"mesh3d\":[{\"type\":\"mesh3d\",\"colorbar\":{\"outlinewidth\":0,\"ticks\":\"\"}}],\"scatter\":[{\"fillpattern\":{\"fillmode\":\"overlay\",\"size\":10,\"solidity\":0.2},\"type\":\"scatter\"}],\"parcoords\":[{\"type\":\"parcoords\",\"line\":{\"colorbar\":{\"outlinewidth\":0,\"ticks\":\"\"}}}],\"scatterpolargl\":[{\"type\":\"scatterpolargl\",\"marker\":{\"colorbar\":{\"outlinewidth\":0,\"ticks\":\"\"}}}],\"bar\":[{\"error_x\":{\"color\":\"#2a3f5f\"},\"error_y\":{\"color\":\"#2a3f5f\"},\"marker\":{\"line\":{\"color\":\"#E5ECF6\",\"width\":0.5},\"pattern\":{\"fillmode\":\"overlay\",\"size\":10,\"solidity\":0.2}},\"type\":\"bar\"}],\"scattergeo\":[{\"type\":\"scattergeo\",\"marker\":{\"colorbar\":{\"outlinewidth\":0,\"ticks\":\"\"}}}],\"scatterpolar\":[{\"type\":\"scatterpolar\",\"marker\":{\"colorbar\":{\"outlinewidth\":0,\"ticks\":\"\"}}}],\"histogram\":[{\"marker\":{\"pattern\":{\"fillmode\":\"overlay\",\"size\":10,\"solidity\":0.2}},\"type\":\"histogram\"}],\"scattergl\":[{\"type\":\"scattergl\",\"marker\":{\"colorbar\":{\"outlinewidth\":0,\"ticks\":\"\"}}}],\"scatter3d\":[{\"type\":\"scatter3d\",\"line\":{\"colorbar\":{\"outlinewidth\":0,\"ticks\":\"\"}},\"marker\":{\"colorbar\":{\"outlinewidth\":0,\"ticks\":\"\"}}}],\"scattermapbox\":[{\"type\":\"scattermapbox\",\"marker\":{\"colorbar\":{\"outlinewidth\":0,\"ticks\":\"\"}}}],\"scatterternary\":[{\"type\":\"scatterternary\",\"marker\":{\"colorbar\":{\"outlinewidth\":0,\"ticks\":\"\"}}}],\"scattercarpet\":[{\"type\":\"scattercarpet\",\"marker\":{\"colorbar\":{\"outlinewidth\":0,\"ticks\":\"\"}}}],\"carpet\":[{\"aaxis\":{\"endlinecolor\":\"#2a3f5f\",\"gridcolor\":\"white\",\"linecolor\":\"white\",\"minorgridcolor\":\"white\",\"startlinecolor\":\"#2a3f5f\"},\"baxis\":{\"endlinecolor\":\"#2a3f5f\",\"gridcolor\":\"white\",\"linecolor\":\"white\",\"minorgridcolor\":\"white\",\"startlinecolor\":\"#2a3f5f\"},\"type\":\"carpet\"}],\"table\":[{\"cells\":{\"fill\":{\"color\":\"#EBF0F8\"},\"line\":{\"color\":\"white\"}},\"header\":{\"fill\":{\"color\":\"#C8D4E3\"},\"line\":{\"color\":\"white\"}},\"type\":\"table\"}],\"barpolar\":[{\"marker\":{\"line\":{\"color\":\"#E5ECF6\",\"width\":0.5},\"pattern\":{\"fillmode\":\"overlay\",\"size\":10,\"solidity\":0.2}},\"type\":\"barpolar\"}],\"pie\":[{\"automargin\":true,\"type\":\"pie\"}]},\"layout\":{\"autotypenumbers\":\"strict\",\"colorway\":[\"#636efa\",\"#EF553B\",\"#00cc96\",\"#ab63fa\",\"#FFA15A\",\"#19d3f3\",\"#FF6692\",\"#B6E880\",\"#FF97FF\",\"#FECB52\"],\"font\":{\"color\":\"#2a3f5f\"},\"hovermode\":\"closest\",\"hoverlabel\":{\"align\":\"left\"},\"paper_bgcolor\":\"white\",\"plot_bgcolor\":\"#E5ECF6\",\"polar\":{\"bgcolor\":\"#E5ECF6\",\"angularaxis\":{\"gridcolor\":\"white\",\"linecolor\":\"white\",\"ticks\":\"\"},\"radialaxis\":{\"gridcolor\":\"white\",\"linecolor\":\"white\",\"ticks\":\"\"}},\"ternary\":{\"bgcolor\":\"#E5ECF6\",\"aaxis\":{\"gridcolor\":\"white\",\"linecolor\":\"white\",\"ticks\":\"\"},\"baxis\":{\"gridcolor\":\"white\",\"linecolor\":\"white\",\"ticks\":\"\"},\"caxis\":{\"gridcolor\":\"white\",\"linecolor\":\"white\",\"ticks\":\"\"}},\"coloraxis\":{\"colorbar\":{\"outlinewidth\":0,\"ticks\":\"\"}},\"colorscale\":{\"sequential\":[[0.0,\"#0d0887\"],[0.1111111111111111,\"#46039f\"],[0.2222222222222222,\"#7201a8\"],[0.3333333333333333,\"#9c179e\"],[0.4444444444444444,\"#bd3786\"],[0.5555555555555556,\"#d8576b\"],[0.6666666666666666,\"#ed7953\"],[0.7777777777777778,\"#fb9f3a\"],[0.8888888888888888,\"#fdca26\"],[1.0,\"#f0f921\"]],\"sequentialminus\":[[0.0,\"#0d0887\"],[0.1111111111111111,\"#46039f\"],[0.2222222222222222,\"#7201a8\"],[0.3333333333333333,\"#9c179e\"],[0.4444444444444444,\"#bd3786\"],[0.5555555555555556,\"#d8576b\"],[0.6666666666666666,\"#ed7953\"],[0.7777777777777778,\"#fb9f3a\"],[0.8888888888888888,\"#fdca26\"],[1.0,\"#f0f921\"]],\"diverging\":[[0,\"#8e0152\"],[0.1,\"#c51b7d\"],[0.2,\"#de77ae\"],[0.3,\"#f1b6da\"],[0.4,\"#fde0ef\"],[0.5,\"#f7f7f7\"],[0.6,\"#e6f5d0\"],[0.7,\"#b8e186\"],[0.8,\"#7fbc41\"],[0.9,\"#4d9221\"],[1,\"#276419\"]]},\"xaxis\":{\"gridcolor\":\"white\",\"linecolor\":\"white\",\"ticks\":\"\",\"title\":{\"standoff\":15},\"zerolinecolor\":\"white\",\"automargin\":true,\"zerolinewidth\":2},\"yaxis\":{\"gridcolor\":\"white\",\"linecolor\":\"white\",\"ticks\":\"\",\"title\":{\"standoff\":15},\"zerolinecolor\":\"white\",\"automargin\":true,\"zerolinewidth\":2},\"scene\":{\"xaxis\":{\"backgroundcolor\":\"#E5ECF6\",\"gridcolor\":\"white\",\"linecolor\":\"white\",\"showbackground\":true,\"ticks\":\"\",\"zerolinecolor\":\"white\",\"gridwidth\":2},\"yaxis\":{\"backgroundcolor\":\"#E5ECF6\",\"gridcolor\":\"white\",\"linecolor\":\"white\",\"showbackground\":true,\"ticks\":\"\",\"zerolinecolor\":\"white\",\"gridwidth\":2},\"zaxis\":{\"backgroundcolor\":\"#E5ECF6\",\"gridcolor\":\"white\",\"linecolor\":\"white\",\"showbackground\":true,\"ticks\":\"\",\"zerolinecolor\":\"white\",\"gridwidth\":2}},\"shapedefaults\":{\"line\":{\"color\":\"#2a3f5f\"}},\"annotationdefaults\":{\"arrowcolor\":\"#2a3f5f\",\"arrowhead\":0,\"arrowwidth\":1},\"geo\":{\"bgcolor\":\"white\",\"landcolor\":\"#E5ECF6\",\"subunitcolor\":\"white\",\"showland\":true,\"showlakes\":true,\"lakecolor\":\"white\"},\"title\":{\"x\":0.05},\"mapbox\":{\"style\":\"light\"}}},\"title\":{\"text\":\"3 layers, accuracy\"}},                        {\"responsive\": true}                    ).then(function(){\n",
              "                            \n",
              "var gd = document.getElementById('3fa5c5ef-02d9-442f-abcf-5cb5f992c769');\n",
              "var x = new MutationObserver(function (mutations, observer) {{\n",
              "        var display = window.getComputedStyle(gd).display;\n",
              "        if (!display || display === 'none') {{\n",
              "            console.log([gd, 'removed!']);\n",
              "            Plotly.purge(gd);\n",
              "            observer.disconnect();\n",
              "        }}\n",
              "}});\n",
              "\n",
              "// Listen for the removal of the full notebook cells\n",
              "var notebookContainer = gd.closest('#notebook-container');\n",
              "if (notebookContainer) {{\n",
              "    x.observe(notebookContainer, {childList: true});\n",
              "}}\n",
              "\n",
              "// Listen for the clearing of the current output cell\n",
              "var outputEl = gd.closest('.output');\n",
              "if (outputEl) {{\n",
              "    x.observe(outputEl, {childList: true});\n",
              "}}\n",
              "\n",
              "                        })                };                });            </script>        </div>"
            ]
          },
          "metadata": {},
          "output_type": "display_data"
        },
        {
          "data": {
            "application/vnd.plotly.v1+json": {
              "config": {
                "plotlyServerURL": "https://plot.ly"
              },
              "data": [
                {
                  "mode": "lines+markers",
                  "name": "positional encoding",
                  "type": "scatter",
                  "x": [
                    0,
                    1,
                    2,
                    3,
                    4,
                    5,
                    6,
                    7,
                    8,
                    9
                  ],
                  "y": [
                    0.330359375,
                    0.439421875,
                    0.697625,
                    0.70915625,
                    0.71434375,
                    0.7164375,
                    0.7178125,
                    0.71925,
                    0.7199375,
                    0.720515625
                  ]
                },
                {
                  "mode": "lines+markers",
                  "name": "no positional encoding",
                  "type": "scatter",
                  "x": [
                    0,
                    1,
                    2,
                    3,
                    4,
                    5,
                    6,
                    7,
                    8,
                    9
                  ],
                  "y": [
                    0.30940625,
                    0.445046875,
                    0.6143125,
                    0.641984375,
                    0.666203125,
                    0.681265625,
                    0.689828125,
                    0.694734375,
                    0.69696875,
                    0.698828125
                  ]
                }
              ],
              "layout": {
                "template": {
                  "data": {
                    "bar": [
                      {
                        "error_x": {
                          "color": "#2a3f5f"
                        },
                        "error_y": {
                          "color": "#2a3f5f"
                        },
                        "marker": {
                          "line": {
                            "color": "#E5ECF6",
                            "width": 0.5
                          },
                          "pattern": {
                            "fillmode": "overlay",
                            "size": 10,
                            "solidity": 0.2
                          }
                        },
                        "type": "bar"
                      }
                    ],
                    "barpolar": [
                      {
                        "marker": {
                          "line": {
                            "color": "#E5ECF6",
                            "width": 0.5
                          },
                          "pattern": {
                            "fillmode": "overlay",
                            "size": 10,
                            "solidity": 0.2
                          }
                        },
                        "type": "barpolar"
                      }
                    ],
                    "carpet": [
                      {
                        "aaxis": {
                          "endlinecolor": "#2a3f5f",
                          "gridcolor": "white",
                          "linecolor": "white",
                          "minorgridcolor": "white",
                          "startlinecolor": "#2a3f5f"
                        },
                        "baxis": {
                          "endlinecolor": "#2a3f5f",
                          "gridcolor": "white",
                          "linecolor": "white",
                          "minorgridcolor": "white",
                          "startlinecolor": "#2a3f5f"
                        },
                        "type": "carpet"
                      }
                    ],
                    "choropleth": [
                      {
                        "colorbar": {
                          "outlinewidth": 0,
                          "ticks": ""
                        },
                        "type": "choropleth"
                      }
                    ],
                    "contour": [
                      {
                        "colorbar": {
                          "outlinewidth": 0,
                          "ticks": ""
                        },
                        "colorscale": [
                          [
                            0,
                            "#0d0887"
                          ],
                          [
                            0.1111111111111111,
                            "#46039f"
                          ],
                          [
                            0.2222222222222222,
                            "#7201a8"
                          ],
                          [
                            0.3333333333333333,
                            "#9c179e"
                          ],
                          [
                            0.4444444444444444,
                            "#bd3786"
                          ],
                          [
                            0.5555555555555556,
                            "#d8576b"
                          ],
                          [
                            0.6666666666666666,
                            "#ed7953"
                          ],
                          [
                            0.7777777777777778,
                            "#fb9f3a"
                          ],
                          [
                            0.8888888888888888,
                            "#fdca26"
                          ],
                          [
                            1,
                            "#f0f921"
                          ]
                        ],
                        "type": "contour"
                      }
                    ],
                    "contourcarpet": [
                      {
                        "colorbar": {
                          "outlinewidth": 0,
                          "ticks": ""
                        },
                        "type": "contourcarpet"
                      }
                    ],
                    "heatmap": [
                      {
                        "colorbar": {
                          "outlinewidth": 0,
                          "ticks": ""
                        },
                        "colorscale": [
                          [
                            0,
                            "#0d0887"
                          ],
                          [
                            0.1111111111111111,
                            "#46039f"
                          ],
                          [
                            0.2222222222222222,
                            "#7201a8"
                          ],
                          [
                            0.3333333333333333,
                            "#9c179e"
                          ],
                          [
                            0.4444444444444444,
                            "#bd3786"
                          ],
                          [
                            0.5555555555555556,
                            "#d8576b"
                          ],
                          [
                            0.6666666666666666,
                            "#ed7953"
                          ],
                          [
                            0.7777777777777778,
                            "#fb9f3a"
                          ],
                          [
                            0.8888888888888888,
                            "#fdca26"
                          ],
                          [
                            1,
                            "#f0f921"
                          ]
                        ],
                        "type": "heatmap"
                      }
                    ],
                    "heatmapgl": [
                      {
                        "colorbar": {
                          "outlinewidth": 0,
                          "ticks": ""
                        },
                        "colorscale": [
                          [
                            0,
                            "#0d0887"
                          ],
                          [
                            0.1111111111111111,
                            "#46039f"
                          ],
                          [
                            0.2222222222222222,
                            "#7201a8"
                          ],
                          [
                            0.3333333333333333,
                            "#9c179e"
                          ],
                          [
                            0.4444444444444444,
                            "#bd3786"
                          ],
                          [
                            0.5555555555555556,
                            "#d8576b"
                          ],
                          [
                            0.6666666666666666,
                            "#ed7953"
                          ],
                          [
                            0.7777777777777778,
                            "#fb9f3a"
                          ],
                          [
                            0.8888888888888888,
                            "#fdca26"
                          ],
                          [
                            1,
                            "#f0f921"
                          ]
                        ],
                        "type": "heatmapgl"
                      }
                    ],
                    "histogram": [
                      {
                        "marker": {
                          "pattern": {
                            "fillmode": "overlay",
                            "size": 10,
                            "solidity": 0.2
                          }
                        },
                        "type": "histogram"
                      }
                    ],
                    "histogram2d": [
                      {
                        "colorbar": {
                          "outlinewidth": 0,
                          "ticks": ""
                        },
                        "colorscale": [
                          [
                            0,
                            "#0d0887"
                          ],
                          [
                            0.1111111111111111,
                            "#46039f"
                          ],
                          [
                            0.2222222222222222,
                            "#7201a8"
                          ],
                          [
                            0.3333333333333333,
                            "#9c179e"
                          ],
                          [
                            0.4444444444444444,
                            "#bd3786"
                          ],
                          [
                            0.5555555555555556,
                            "#d8576b"
                          ],
                          [
                            0.6666666666666666,
                            "#ed7953"
                          ],
                          [
                            0.7777777777777778,
                            "#fb9f3a"
                          ],
                          [
                            0.8888888888888888,
                            "#fdca26"
                          ],
                          [
                            1,
                            "#f0f921"
                          ]
                        ],
                        "type": "histogram2d"
                      }
                    ],
                    "histogram2dcontour": [
                      {
                        "colorbar": {
                          "outlinewidth": 0,
                          "ticks": ""
                        },
                        "colorscale": [
                          [
                            0,
                            "#0d0887"
                          ],
                          [
                            0.1111111111111111,
                            "#46039f"
                          ],
                          [
                            0.2222222222222222,
                            "#7201a8"
                          ],
                          [
                            0.3333333333333333,
                            "#9c179e"
                          ],
                          [
                            0.4444444444444444,
                            "#bd3786"
                          ],
                          [
                            0.5555555555555556,
                            "#d8576b"
                          ],
                          [
                            0.6666666666666666,
                            "#ed7953"
                          ],
                          [
                            0.7777777777777778,
                            "#fb9f3a"
                          ],
                          [
                            0.8888888888888888,
                            "#fdca26"
                          ],
                          [
                            1,
                            "#f0f921"
                          ]
                        ],
                        "type": "histogram2dcontour"
                      }
                    ],
                    "mesh3d": [
                      {
                        "colorbar": {
                          "outlinewidth": 0,
                          "ticks": ""
                        },
                        "type": "mesh3d"
                      }
                    ],
                    "parcoords": [
                      {
                        "line": {
                          "colorbar": {
                            "outlinewidth": 0,
                            "ticks": ""
                          }
                        },
                        "type": "parcoords"
                      }
                    ],
                    "pie": [
                      {
                        "automargin": true,
                        "type": "pie"
                      }
                    ],
                    "scatter": [
                      {
                        "fillpattern": {
                          "fillmode": "overlay",
                          "size": 10,
                          "solidity": 0.2
                        },
                        "type": "scatter"
                      }
                    ],
                    "scatter3d": [
                      {
                        "line": {
                          "colorbar": {
                            "outlinewidth": 0,
                            "ticks": ""
                          }
                        },
                        "marker": {
                          "colorbar": {
                            "outlinewidth": 0,
                            "ticks": ""
                          }
                        },
                        "type": "scatter3d"
                      }
                    ],
                    "scattercarpet": [
                      {
                        "marker": {
                          "colorbar": {
                            "outlinewidth": 0,
                            "ticks": ""
                          }
                        },
                        "type": "scattercarpet"
                      }
                    ],
                    "scattergeo": [
                      {
                        "marker": {
                          "colorbar": {
                            "outlinewidth": 0,
                            "ticks": ""
                          }
                        },
                        "type": "scattergeo"
                      }
                    ],
                    "scattergl": [
                      {
                        "marker": {
                          "colorbar": {
                            "outlinewidth": 0,
                            "ticks": ""
                          }
                        },
                        "type": "scattergl"
                      }
                    ],
                    "scattermapbox": [
                      {
                        "marker": {
                          "colorbar": {
                            "outlinewidth": 0,
                            "ticks": ""
                          }
                        },
                        "type": "scattermapbox"
                      }
                    ],
                    "scatterpolar": [
                      {
                        "marker": {
                          "colorbar": {
                            "outlinewidth": 0,
                            "ticks": ""
                          }
                        },
                        "type": "scatterpolar"
                      }
                    ],
                    "scatterpolargl": [
                      {
                        "marker": {
                          "colorbar": {
                            "outlinewidth": 0,
                            "ticks": ""
                          }
                        },
                        "type": "scatterpolargl"
                      }
                    ],
                    "scatterternary": [
                      {
                        "marker": {
                          "colorbar": {
                            "outlinewidth": 0,
                            "ticks": ""
                          }
                        },
                        "type": "scatterternary"
                      }
                    ],
                    "surface": [
                      {
                        "colorbar": {
                          "outlinewidth": 0,
                          "ticks": ""
                        },
                        "colorscale": [
                          [
                            0,
                            "#0d0887"
                          ],
                          [
                            0.1111111111111111,
                            "#46039f"
                          ],
                          [
                            0.2222222222222222,
                            "#7201a8"
                          ],
                          [
                            0.3333333333333333,
                            "#9c179e"
                          ],
                          [
                            0.4444444444444444,
                            "#bd3786"
                          ],
                          [
                            0.5555555555555556,
                            "#d8576b"
                          ],
                          [
                            0.6666666666666666,
                            "#ed7953"
                          ],
                          [
                            0.7777777777777778,
                            "#fb9f3a"
                          ],
                          [
                            0.8888888888888888,
                            "#fdca26"
                          ],
                          [
                            1,
                            "#f0f921"
                          ]
                        ],
                        "type": "surface"
                      }
                    ],
                    "table": [
                      {
                        "cells": {
                          "fill": {
                            "color": "#EBF0F8"
                          },
                          "line": {
                            "color": "white"
                          }
                        },
                        "header": {
                          "fill": {
                            "color": "#C8D4E3"
                          },
                          "line": {
                            "color": "white"
                          }
                        },
                        "type": "table"
                      }
                    ]
                  },
                  "layout": {
                    "annotationdefaults": {
                      "arrowcolor": "#2a3f5f",
                      "arrowhead": 0,
                      "arrowwidth": 1
                    },
                    "autotypenumbers": "strict",
                    "coloraxis": {
                      "colorbar": {
                        "outlinewidth": 0,
                        "ticks": ""
                      }
                    },
                    "colorscale": {
                      "diverging": [
                        [
                          0,
                          "#8e0152"
                        ],
                        [
                          0.1,
                          "#c51b7d"
                        ],
                        [
                          0.2,
                          "#de77ae"
                        ],
                        [
                          0.3,
                          "#f1b6da"
                        ],
                        [
                          0.4,
                          "#fde0ef"
                        ],
                        [
                          0.5,
                          "#f7f7f7"
                        ],
                        [
                          0.6,
                          "#e6f5d0"
                        ],
                        [
                          0.7,
                          "#b8e186"
                        ],
                        [
                          0.8,
                          "#7fbc41"
                        ],
                        [
                          0.9,
                          "#4d9221"
                        ],
                        [
                          1,
                          "#276419"
                        ]
                      ],
                      "sequential": [
                        [
                          0,
                          "#0d0887"
                        ],
                        [
                          0.1111111111111111,
                          "#46039f"
                        ],
                        [
                          0.2222222222222222,
                          "#7201a8"
                        ],
                        [
                          0.3333333333333333,
                          "#9c179e"
                        ],
                        [
                          0.4444444444444444,
                          "#bd3786"
                        ],
                        [
                          0.5555555555555556,
                          "#d8576b"
                        ],
                        [
                          0.6666666666666666,
                          "#ed7953"
                        ],
                        [
                          0.7777777777777778,
                          "#fb9f3a"
                        ],
                        [
                          0.8888888888888888,
                          "#fdca26"
                        ],
                        [
                          1,
                          "#f0f921"
                        ]
                      ],
                      "sequentialminus": [
                        [
                          0,
                          "#0d0887"
                        ],
                        [
                          0.1111111111111111,
                          "#46039f"
                        ],
                        [
                          0.2222222222222222,
                          "#7201a8"
                        ],
                        [
                          0.3333333333333333,
                          "#9c179e"
                        ],
                        [
                          0.4444444444444444,
                          "#bd3786"
                        ],
                        [
                          0.5555555555555556,
                          "#d8576b"
                        ],
                        [
                          0.6666666666666666,
                          "#ed7953"
                        ],
                        [
                          0.7777777777777778,
                          "#fb9f3a"
                        ],
                        [
                          0.8888888888888888,
                          "#fdca26"
                        ],
                        [
                          1,
                          "#f0f921"
                        ]
                      ]
                    },
                    "colorway": [
                      "#636efa",
                      "#EF553B",
                      "#00cc96",
                      "#ab63fa",
                      "#FFA15A",
                      "#19d3f3",
                      "#FF6692",
                      "#B6E880",
                      "#FF97FF",
                      "#FECB52"
                    ],
                    "font": {
                      "color": "#2a3f5f"
                    },
                    "geo": {
                      "bgcolor": "white",
                      "lakecolor": "white",
                      "landcolor": "#E5ECF6",
                      "showlakes": true,
                      "showland": true,
                      "subunitcolor": "white"
                    },
                    "hoverlabel": {
                      "align": "left"
                    },
                    "hovermode": "closest",
                    "mapbox": {
                      "style": "light"
                    },
                    "paper_bgcolor": "white",
                    "plot_bgcolor": "#E5ECF6",
                    "polar": {
                      "angularaxis": {
                        "gridcolor": "white",
                        "linecolor": "white",
                        "ticks": ""
                      },
                      "bgcolor": "#E5ECF6",
                      "radialaxis": {
                        "gridcolor": "white",
                        "linecolor": "white",
                        "ticks": ""
                      }
                    },
                    "scene": {
                      "xaxis": {
                        "backgroundcolor": "#E5ECF6",
                        "gridcolor": "white",
                        "gridwidth": 2,
                        "linecolor": "white",
                        "showbackground": true,
                        "ticks": "",
                        "zerolinecolor": "white"
                      },
                      "yaxis": {
                        "backgroundcolor": "#E5ECF6",
                        "gridcolor": "white",
                        "gridwidth": 2,
                        "linecolor": "white",
                        "showbackground": true,
                        "ticks": "",
                        "zerolinecolor": "white"
                      },
                      "zaxis": {
                        "backgroundcolor": "#E5ECF6",
                        "gridcolor": "white",
                        "gridwidth": 2,
                        "linecolor": "white",
                        "showbackground": true,
                        "ticks": "",
                        "zerolinecolor": "white"
                      }
                    },
                    "shapedefaults": {
                      "line": {
                        "color": "#2a3f5f"
                      }
                    },
                    "ternary": {
                      "aaxis": {
                        "gridcolor": "white",
                        "linecolor": "white",
                        "ticks": ""
                      },
                      "baxis": {
                        "gridcolor": "white",
                        "linecolor": "white",
                        "ticks": ""
                      },
                      "bgcolor": "#E5ECF6",
                      "caxis": {
                        "gridcolor": "white",
                        "linecolor": "white",
                        "ticks": ""
                      }
                    },
                    "title": {
                      "x": 0.05
                    },
                    "xaxis": {
                      "automargin": true,
                      "gridcolor": "white",
                      "linecolor": "white",
                      "ticks": "",
                      "title": {
                        "standoff": 15
                      },
                      "zerolinecolor": "white",
                      "zerolinewidth": 2
                    },
                    "yaxis": {
                      "automargin": true,
                      "gridcolor": "white",
                      "linecolor": "white",
                      "ticks": "",
                      "title": {
                        "standoff": 15
                      },
                      "zerolinecolor": "white",
                      "zerolinewidth": 2
                    }
                  }
                },
                "title": {
                  "text": "4 layers, accuracy"
                }
              }
            },
            "text/html": [
              "<div>                            <div id=\"e571ff3a-4187-447c-9953-64442a2b1578\" class=\"plotly-graph-div\" style=\"height:525px; width:100%;\"></div>            <script type=\"text/javascript\">                require([\"plotly\"], function(Plotly) {                    window.PLOTLYENV=window.PLOTLYENV || {};                                    if (document.getElementById(\"e571ff3a-4187-447c-9953-64442a2b1578\")) {                    Plotly.newPlot(                        \"e571ff3a-4187-447c-9953-64442a2b1578\",                        [{\"mode\":\"lines+markers\",\"name\":\"positional encoding\",\"x\":[0,1,2,3,4,5,6,7,8,9],\"y\":[0.330359375,0.439421875,0.697625,0.70915625,0.71434375,0.7164375,0.7178125,0.71925,0.7199375,0.720515625],\"type\":\"scatter\"},{\"mode\":\"lines+markers\",\"name\":\"no positional encoding\",\"x\":[0,1,2,3,4,5,6,7,8,9],\"y\":[0.30940625,0.445046875,0.6143125,0.641984375,0.666203125,0.681265625,0.689828125,0.694734375,0.69696875,0.698828125],\"type\":\"scatter\"}],                        {\"template\":{\"data\":{\"histogram2dcontour\":[{\"type\":\"histogram2dcontour\",\"colorbar\":{\"outlinewidth\":0,\"ticks\":\"\"},\"colorscale\":[[0.0,\"#0d0887\"],[0.1111111111111111,\"#46039f\"],[0.2222222222222222,\"#7201a8\"],[0.3333333333333333,\"#9c179e\"],[0.4444444444444444,\"#bd3786\"],[0.5555555555555556,\"#d8576b\"],[0.6666666666666666,\"#ed7953\"],[0.7777777777777778,\"#fb9f3a\"],[0.8888888888888888,\"#fdca26\"],[1.0,\"#f0f921\"]]}],\"choropleth\":[{\"type\":\"choropleth\",\"colorbar\":{\"outlinewidth\":0,\"ticks\":\"\"}}],\"histogram2d\":[{\"type\":\"histogram2d\",\"colorbar\":{\"outlinewidth\":0,\"ticks\":\"\"},\"colorscale\":[[0.0,\"#0d0887\"],[0.1111111111111111,\"#46039f\"],[0.2222222222222222,\"#7201a8\"],[0.3333333333333333,\"#9c179e\"],[0.4444444444444444,\"#bd3786\"],[0.5555555555555556,\"#d8576b\"],[0.6666666666666666,\"#ed7953\"],[0.7777777777777778,\"#fb9f3a\"],[0.8888888888888888,\"#fdca26\"],[1.0,\"#f0f921\"]]}],\"heatmap\":[{\"type\":\"heatmap\",\"colorbar\":{\"outlinewidth\":0,\"ticks\":\"\"},\"colorscale\":[[0.0,\"#0d0887\"],[0.1111111111111111,\"#46039f\"],[0.2222222222222222,\"#7201a8\"],[0.3333333333333333,\"#9c179e\"],[0.4444444444444444,\"#bd3786\"],[0.5555555555555556,\"#d8576b\"],[0.6666666666666666,\"#ed7953\"],[0.7777777777777778,\"#fb9f3a\"],[0.8888888888888888,\"#fdca26\"],[1.0,\"#f0f921\"]]}],\"heatmapgl\":[{\"type\":\"heatmapgl\",\"colorbar\":{\"outlinewidth\":0,\"ticks\":\"\"},\"colorscale\":[[0.0,\"#0d0887\"],[0.1111111111111111,\"#46039f\"],[0.2222222222222222,\"#7201a8\"],[0.3333333333333333,\"#9c179e\"],[0.4444444444444444,\"#bd3786\"],[0.5555555555555556,\"#d8576b\"],[0.6666666666666666,\"#ed7953\"],[0.7777777777777778,\"#fb9f3a\"],[0.8888888888888888,\"#fdca26\"],[1.0,\"#f0f921\"]]}],\"contourcarpet\":[{\"type\":\"contourcarpet\",\"colorbar\":{\"outlinewidth\":0,\"ticks\":\"\"}}],\"contour\":[{\"type\":\"contour\",\"colorbar\":{\"outlinewidth\":0,\"ticks\":\"\"},\"colorscale\":[[0.0,\"#0d0887\"],[0.1111111111111111,\"#46039f\"],[0.2222222222222222,\"#7201a8\"],[0.3333333333333333,\"#9c179e\"],[0.4444444444444444,\"#bd3786\"],[0.5555555555555556,\"#d8576b\"],[0.6666666666666666,\"#ed7953\"],[0.7777777777777778,\"#fb9f3a\"],[0.8888888888888888,\"#fdca26\"],[1.0,\"#f0f921\"]]}],\"surface\":[{\"type\":\"surface\",\"colorbar\":{\"outlinewidth\":0,\"ticks\":\"\"},\"colorscale\":[[0.0,\"#0d0887\"],[0.1111111111111111,\"#46039f\"],[0.2222222222222222,\"#7201a8\"],[0.3333333333333333,\"#9c179e\"],[0.4444444444444444,\"#bd3786\"],[0.5555555555555556,\"#d8576b\"],[0.6666666666666666,\"#ed7953\"],[0.7777777777777778,\"#fb9f3a\"],[0.8888888888888888,\"#fdca26\"],[1.0,\"#f0f921\"]]}],\"mesh3d\":[{\"type\":\"mesh3d\",\"colorbar\":{\"outlinewidth\":0,\"ticks\":\"\"}}],\"scatter\":[{\"fillpattern\":{\"fillmode\":\"overlay\",\"size\":10,\"solidity\":0.2},\"type\":\"scatter\"}],\"parcoords\":[{\"type\":\"parcoords\",\"line\":{\"colorbar\":{\"outlinewidth\":0,\"ticks\":\"\"}}}],\"scatterpolargl\":[{\"type\":\"scatterpolargl\",\"marker\":{\"colorbar\":{\"outlinewidth\":0,\"ticks\":\"\"}}}],\"bar\":[{\"error_x\":{\"color\":\"#2a3f5f\"},\"error_y\":{\"color\":\"#2a3f5f\"},\"marker\":{\"line\":{\"color\":\"#E5ECF6\",\"width\":0.5},\"pattern\":{\"fillmode\":\"overlay\",\"size\":10,\"solidity\":0.2}},\"type\":\"bar\"}],\"scattergeo\":[{\"type\":\"scattergeo\",\"marker\":{\"colorbar\":{\"outlinewidth\":0,\"ticks\":\"\"}}}],\"scatterpolar\":[{\"type\":\"scatterpolar\",\"marker\":{\"colorbar\":{\"outlinewidth\":0,\"ticks\":\"\"}}}],\"histogram\":[{\"marker\":{\"pattern\":{\"fillmode\":\"overlay\",\"size\":10,\"solidity\":0.2}},\"type\":\"histogram\"}],\"scattergl\":[{\"type\":\"scattergl\",\"marker\":{\"colorbar\":{\"outlinewidth\":0,\"ticks\":\"\"}}}],\"scatter3d\":[{\"type\":\"scatter3d\",\"line\":{\"colorbar\":{\"outlinewidth\":0,\"ticks\":\"\"}},\"marker\":{\"colorbar\":{\"outlinewidth\":0,\"ticks\":\"\"}}}],\"scattermapbox\":[{\"type\":\"scattermapbox\",\"marker\":{\"colorbar\":{\"outlinewidth\":0,\"ticks\":\"\"}}}],\"scatterternary\":[{\"type\":\"scatterternary\",\"marker\":{\"colorbar\":{\"outlinewidth\":0,\"ticks\":\"\"}}}],\"scattercarpet\":[{\"type\":\"scattercarpet\",\"marker\":{\"colorbar\":{\"outlinewidth\":0,\"ticks\":\"\"}}}],\"carpet\":[{\"aaxis\":{\"endlinecolor\":\"#2a3f5f\",\"gridcolor\":\"white\",\"linecolor\":\"white\",\"minorgridcolor\":\"white\",\"startlinecolor\":\"#2a3f5f\"},\"baxis\":{\"endlinecolor\":\"#2a3f5f\",\"gridcolor\":\"white\",\"linecolor\":\"white\",\"minorgridcolor\":\"white\",\"startlinecolor\":\"#2a3f5f\"},\"type\":\"carpet\"}],\"table\":[{\"cells\":{\"fill\":{\"color\":\"#EBF0F8\"},\"line\":{\"color\":\"white\"}},\"header\":{\"fill\":{\"color\":\"#C8D4E3\"},\"line\":{\"color\":\"white\"}},\"type\":\"table\"}],\"barpolar\":[{\"marker\":{\"line\":{\"color\":\"#E5ECF6\",\"width\":0.5},\"pattern\":{\"fillmode\":\"overlay\",\"size\":10,\"solidity\":0.2}},\"type\":\"barpolar\"}],\"pie\":[{\"automargin\":true,\"type\":\"pie\"}]},\"layout\":{\"autotypenumbers\":\"strict\",\"colorway\":[\"#636efa\",\"#EF553B\",\"#00cc96\",\"#ab63fa\",\"#FFA15A\",\"#19d3f3\",\"#FF6692\",\"#B6E880\",\"#FF97FF\",\"#FECB52\"],\"font\":{\"color\":\"#2a3f5f\"},\"hovermode\":\"closest\",\"hoverlabel\":{\"align\":\"left\"},\"paper_bgcolor\":\"white\",\"plot_bgcolor\":\"#E5ECF6\",\"polar\":{\"bgcolor\":\"#E5ECF6\",\"angularaxis\":{\"gridcolor\":\"white\",\"linecolor\":\"white\",\"ticks\":\"\"},\"radialaxis\":{\"gridcolor\":\"white\",\"linecolor\":\"white\",\"ticks\":\"\"}},\"ternary\":{\"bgcolor\":\"#E5ECF6\",\"aaxis\":{\"gridcolor\":\"white\",\"linecolor\":\"white\",\"ticks\":\"\"},\"baxis\":{\"gridcolor\":\"white\",\"linecolor\":\"white\",\"ticks\":\"\"},\"caxis\":{\"gridcolor\":\"white\",\"linecolor\":\"white\",\"ticks\":\"\"}},\"coloraxis\":{\"colorbar\":{\"outlinewidth\":0,\"ticks\":\"\"}},\"colorscale\":{\"sequential\":[[0.0,\"#0d0887\"],[0.1111111111111111,\"#46039f\"],[0.2222222222222222,\"#7201a8\"],[0.3333333333333333,\"#9c179e\"],[0.4444444444444444,\"#bd3786\"],[0.5555555555555556,\"#d8576b\"],[0.6666666666666666,\"#ed7953\"],[0.7777777777777778,\"#fb9f3a\"],[0.8888888888888888,\"#fdca26\"],[1.0,\"#f0f921\"]],\"sequentialminus\":[[0.0,\"#0d0887\"],[0.1111111111111111,\"#46039f\"],[0.2222222222222222,\"#7201a8\"],[0.3333333333333333,\"#9c179e\"],[0.4444444444444444,\"#bd3786\"],[0.5555555555555556,\"#d8576b\"],[0.6666666666666666,\"#ed7953\"],[0.7777777777777778,\"#fb9f3a\"],[0.8888888888888888,\"#fdca26\"],[1.0,\"#f0f921\"]],\"diverging\":[[0,\"#8e0152\"],[0.1,\"#c51b7d\"],[0.2,\"#de77ae\"],[0.3,\"#f1b6da\"],[0.4,\"#fde0ef\"],[0.5,\"#f7f7f7\"],[0.6,\"#e6f5d0\"],[0.7,\"#b8e186\"],[0.8,\"#7fbc41\"],[0.9,\"#4d9221\"],[1,\"#276419\"]]},\"xaxis\":{\"gridcolor\":\"white\",\"linecolor\":\"white\",\"ticks\":\"\",\"title\":{\"standoff\":15},\"zerolinecolor\":\"white\",\"automargin\":true,\"zerolinewidth\":2},\"yaxis\":{\"gridcolor\":\"white\",\"linecolor\":\"white\",\"ticks\":\"\",\"title\":{\"standoff\":15},\"zerolinecolor\":\"white\",\"automargin\":true,\"zerolinewidth\":2},\"scene\":{\"xaxis\":{\"backgroundcolor\":\"#E5ECF6\",\"gridcolor\":\"white\",\"linecolor\":\"white\",\"showbackground\":true,\"ticks\":\"\",\"zerolinecolor\":\"white\",\"gridwidth\":2},\"yaxis\":{\"backgroundcolor\":\"#E5ECF6\",\"gridcolor\":\"white\",\"linecolor\":\"white\",\"showbackground\":true,\"ticks\":\"\",\"zerolinecolor\":\"white\",\"gridwidth\":2},\"zaxis\":{\"backgroundcolor\":\"#E5ECF6\",\"gridcolor\":\"white\",\"linecolor\":\"white\",\"showbackground\":true,\"ticks\":\"\",\"zerolinecolor\":\"white\",\"gridwidth\":2}},\"shapedefaults\":{\"line\":{\"color\":\"#2a3f5f\"}},\"annotationdefaults\":{\"arrowcolor\":\"#2a3f5f\",\"arrowhead\":0,\"arrowwidth\":1},\"geo\":{\"bgcolor\":\"white\",\"landcolor\":\"#E5ECF6\",\"subunitcolor\":\"white\",\"showland\":true,\"showlakes\":true,\"lakecolor\":\"white\"},\"title\":{\"x\":0.05},\"mapbox\":{\"style\":\"light\"}}},\"title\":{\"text\":\"4 layers, accuracy\"}},                        {\"responsive\": true}                    ).then(function(){\n",
              "                            \n",
              "var gd = document.getElementById('e571ff3a-4187-447c-9953-64442a2b1578');\n",
              "var x = new MutationObserver(function (mutations, observer) {{\n",
              "        var display = window.getComputedStyle(gd).display;\n",
              "        if (!display || display === 'none') {{\n",
              "            console.log([gd, 'removed!']);\n",
              "            Plotly.purge(gd);\n",
              "            observer.disconnect();\n",
              "        }}\n",
              "}});\n",
              "\n",
              "// Listen for the removal of the full notebook cells\n",
              "var notebookContainer = gd.closest('#notebook-container');\n",
              "if (notebookContainer) {{\n",
              "    x.observe(notebookContainer, {childList: true});\n",
              "}}\n",
              "\n",
              "// Listen for the clearing of the current output cell\n",
              "var outputEl = gd.closest('.output');\n",
              "if (outputEl) {{\n",
              "    x.observe(outputEl, {childList: true});\n",
              "}}\n",
              "\n",
              "                        })                };                });            </script>        </div>"
            ]
          },
          "metadata": {},
          "output_type": "display_data"
        },
        {
          "data": {
            "application/vnd.plotly.v1+json": {
              "config": {
                "plotlyServerURL": "https://plot.ly"
              },
              "data": [
                {
                  "mode": "lines+markers",
                  "name": "positional encoding",
                  "type": "scatter",
                  "x": [
                    0,
                    1,
                    2,
                    3,
                    4,
                    5,
                    6,
                    7,
                    8,
                    9
                  ],
                  "y": [
                    0.330515625,
                    0.466640625,
                    0.69871875,
                    0.711046875,
                    0.713828125,
                    0.715375,
                    0.71740625,
                    0.718140625,
                    0.71925,
                    0.71978125
                  ]
                },
                {
                  "mode": "lines+markers",
                  "name": "no positional encoding",
                  "type": "scatter",
                  "x": [
                    0,
                    1,
                    2,
                    3,
                    4,
                    5,
                    6,
                    7,
                    8,
                    9
                  ],
                  "y": [
                    0.3221875,
                    0.429109375,
                    0.644421875,
                    0.690609375,
                    0.7010625,
                    0.709640625,
                    0.711453125,
                    0.71315625,
                    0.714484375,
                    0.714375
                  ]
                }
              ],
              "layout": {
                "template": {
                  "data": {
                    "bar": [
                      {
                        "error_x": {
                          "color": "#2a3f5f"
                        },
                        "error_y": {
                          "color": "#2a3f5f"
                        },
                        "marker": {
                          "line": {
                            "color": "#E5ECF6",
                            "width": 0.5
                          },
                          "pattern": {
                            "fillmode": "overlay",
                            "size": 10,
                            "solidity": 0.2
                          }
                        },
                        "type": "bar"
                      }
                    ],
                    "barpolar": [
                      {
                        "marker": {
                          "line": {
                            "color": "#E5ECF6",
                            "width": 0.5
                          },
                          "pattern": {
                            "fillmode": "overlay",
                            "size": 10,
                            "solidity": 0.2
                          }
                        },
                        "type": "barpolar"
                      }
                    ],
                    "carpet": [
                      {
                        "aaxis": {
                          "endlinecolor": "#2a3f5f",
                          "gridcolor": "white",
                          "linecolor": "white",
                          "minorgridcolor": "white",
                          "startlinecolor": "#2a3f5f"
                        },
                        "baxis": {
                          "endlinecolor": "#2a3f5f",
                          "gridcolor": "white",
                          "linecolor": "white",
                          "minorgridcolor": "white",
                          "startlinecolor": "#2a3f5f"
                        },
                        "type": "carpet"
                      }
                    ],
                    "choropleth": [
                      {
                        "colorbar": {
                          "outlinewidth": 0,
                          "ticks": ""
                        },
                        "type": "choropleth"
                      }
                    ],
                    "contour": [
                      {
                        "colorbar": {
                          "outlinewidth": 0,
                          "ticks": ""
                        },
                        "colorscale": [
                          [
                            0,
                            "#0d0887"
                          ],
                          [
                            0.1111111111111111,
                            "#46039f"
                          ],
                          [
                            0.2222222222222222,
                            "#7201a8"
                          ],
                          [
                            0.3333333333333333,
                            "#9c179e"
                          ],
                          [
                            0.4444444444444444,
                            "#bd3786"
                          ],
                          [
                            0.5555555555555556,
                            "#d8576b"
                          ],
                          [
                            0.6666666666666666,
                            "#ed7953"
                          ],
                          [
                            0.7777777777777778,
                            "#fb9f3a"
                          ],
                          [
                            0.8888888888888888,
                            "#fdca26"
                          ],
                          [
                            1,
                            "#f0f921"
                          ]
                        ],
                        "type": "contour"
                      }
                    ],
                    "contourcarpet": [
                      {
                        "colorbar": {
                          "outlinewidth": 0,
                          "ticks": ""
                        },
                        "type": "contourcarpet"
                      }
                    ],
                    "heatmap": [
                      {
                        "colorbar": {
                          "outlinewidth": 0,
                          "ticks": ""
                        },
                        "colorscale": [
                          [
                            0,
                            "#0d0887"
                          ],
                          [
                            0.1111111111111111,
                            "#46039f"
                          ],
                          [
                            0.2222222222222222,
                            "#7201a8"
                          ],
                          [
                            0.3333333333333333,
                            "#9c179e"
                          ],
                          [
                            0.4444444444444444,
                            "#bd3786"
                          ],
                          [
                            0.5555555555555556,
                            "#d8576b"
                          ],
                          [
                            0.6666666666666666,
                            "#ed7953"
                          ],
                          [
                            0.7777777777777778,
                            "#fb9f3a"
                          ],
                          [
                            0.8888888888888888,
                            "#fdca26"
                          ],
                          [
                            1,
                            "#f0f921"
                          ]
                        ],
                        "type": "heatmap"
                      }
                    ],
                    "heatmapgl": [
                      {
                        "colorbar": {
                          "outlinewidth": 0,
                          "ticks": ""
                        },
                        "colorscale": [
                          [
                            0,
                            "#0d0887"
                          ],
                          [
                            0.1111111111111111,
                            "#46039f"
                          ],
                          [
                            0.2222222222222222,
                            "#7201a8"
                          ],
                          [
                            0.3333333333333333,
                            "#9c179e"
                          ],
                          [
                            0.4444444444444444,
                            "#bd3786"
                          ],
                          [
                            0.5555555555555556,
                            "#d8576b"
                          ],
                          [
                            0.6666666666666666,
                            "#ed7953"
                          ],
                          [
                            0.7777777777777778,
                            "#fb9f3a"
                          ],
                          [
                            0.8888888888888888,
                            "#fdca26"
                          ],
                          [
                            1,
                            "#f0f921"
                          ]
                        ],
                        "type": "heatmapgl"
                      }
                    ],
                    "histogram": [
                      {
                        "marker": {
                          "pattern": {
                            "fillmode": "overlay",
                            "size": 10,
                            "solidity": 0.2
                          }
                        },
                        "type": "histogram"
                      }
                    ],
                    "histogram2d": [
                      {
                        "colorbar": {
                          "outlinewidth": 0,
                          "ticks": ""
                        },
                        "colorscale": [
                          [
                            0,
                            "#0d0887"
                          ],
                          [
                            0.1111111111111111,
                            "#46039f"
                          ],
                          [
                            0.2222222222222222,
                            "#7201a8"
                          ],
                          [
                            0.3333333333333333,
                            "#9c179e"
                          ],
                          [
                            0.4444444444444444,
                            "#bd3786"
                          ],
                          [
                            0.5555555555555556,
                            "#d8576b"
                          ],
                          [
                            0.6666666666666666,
                            "#ed7953"
                          ],
                          [
                            0.7777777777777778,
                            "#fb9f3a"
                          ],
                          [
                            0.8888888888888888,
                            "#fdca26"
                          ],
                          [
                            1,
                            "#f0f921"
                          ]
                        ],
                        "type": "histogram2d"
                      }
                    ],
                    "histogram2dcontour": [
                      {
                        "colorbar": {
                          "outlinewidth": 0,
                          "ticks": ""
                        },
                        "colorscale": [
                          [
                            0,
                            "#0d0887"
                          ],
                          [
                            0.1111111111111111,
                            "#46039f"
                          ],
                          [
                            0.2222222222222222,
                            "#7201a8"
                          ],
                          [
                            0.3333333333333333,
                            "#9c179e"
                          ],
                          [
                            0.4444444444444444,
                            "#bd3786"
                          ],
                          [
                            0.5555555555555556,
                            "#d8576b"
                          ],
                          [
                            0.6666666666666666,
                            "#ed7953"
                          ],
                          [
                            0.7777777777777778,
                            "#fb9f3a"
                          ],
                          [
                            0.8888888888888888,
                            "#fdca26"
                          ],
                          [
                            1,
                            "#f0f921"
                          ]
                        ],
                        "type": "histogram2dcontour"
                      }
                    ],
                    "mesh3d": [
                      {
                        "colorbar": {
                          "outlinewidth": 0,
                          "ticks": ""
                        },
                        "type": "mesh3d"
                      }
                    ],
                    "parcoords": [
                      {
                        "line": {
                          "colorbar": {
                            "outlinewidth": 0,
                            "ticks": ""
                          }
                        },
                        "type": "parcoords"
                      }
                    ],
                    "pie": [
                      {
                        "automargin": true,
                        "type": "pie"
                      }
                    ],
                    "scatter": [
                      {
                        "fillpattern": {
                          "fillmode": "overlay",
                          "size": 10,
                          "solidity": 0.2
                        },
                        "type": "scatter"
                      }
                    ],
                    "scatter3d": [
                      {
                        "line": {
                          "colorbar": {
                            "outlinewidth": 0,
                            "ticks": ""
                          }
                        },
                        "marker": {
                          "colorbar": {
                            "outlinewidth": 0,
                            "ticks": ""
                          }
                        },
                        "type": "scatter3d"
                      }
                    ],
                    "scattercarpet": [
                      {
                        "marker": {
                          "colorbar": {
                            "outlinewidth": 0,
                            "ticks": ""
                          }
                        },
                        "type": "scattercarpet"
                      }
                    ],
                    "scattergeo": [
                      {
                        "marker": {
                          "colorbar": {
                            "outlinewidth": 0,
                            "ticks": ""
                          }
                        },
                        "type": "scattergeo"
                      }
                    ],
                    "scattergl": [
                      {
                        "marker": {
                          "colorbar": {
                            "outlinewidth": 0,
                            "ticks": ""
                          }
                        },
                        "type": "scattergl"
                      }
                    ],
                    "scattermapbox": [
                      {
                        "marker": {
                          "colorbar": {
                            "outlinewidth": 0,
                            "ticks": ""
                          }
                        },
                        "type": "scattermapbox"
                      }
                    ],
                    "scatterpolar": [
                      {
                        "marker": {
                          "colorbar": {
                            "outlinewidth": 0,
                            "ticks": ""
                          }
                        },
                        "type": "scatterpolar"
                      }
                    ],
                    "scatterpolargl": [
                      {
                        "marker": {
                          "colorbar": {
                            "outlinewidth": 0,
                            "ticks": ""
                          }
                        },
                        "type": "scatterpolargl"
                      }
                    ],
                    "scatterternary": [
                      {
                        "marker": {
                          "colorbar": {
                            "outlinewidth": 0,
                            "ticks": ""
                          }
                        },
                        "type": "scatterternary"
                      }
                    ],
                    "surface": [
                      {
                        "colorbar": {
                          "outlinewidth": 0,
                          "ticks": ""
                        },
                        "colorscale": [
                          [
                            0,
                            "#0d0887"
                          ],
                          [
                            0.1111111111111111,
                            "#46039f"
                          ],
                          [
                            0.2222222222222222,
                            "#7201a8"
                          ],
                          [
                            0.3333333333333333,
                            "#9c179e"
                          ],
                          [
                            0.4444444444444444,
                            "#bd3786"
                          ],
                          [
                            0.5555555555555556,
                            "#d8576b"
                          ],
                          [
                            0.6666666666666666,
                            "#ed7953"
                          ],
                          [
                            0.7777777777777778,
                            "#fb9f3a"
                          ],
                          [
                            0.8888888888888888,
                            "#fdca26"
                          ],
                          [
                            1,
                            "#f0f921"
                          ]
                        ],
                        "type": "surface"
                      }
                    ],
                    "table": [
                      {
                        "cells": {
                          "fill": {
                            "color": "#EBF0F8"
                          },
                          "line": {
                            "color": "white"
                          }
                        },
                        "header": {
                          "fill": {
                            "color": "#C8D4E3"
                          },
                          "line": {
                            "color": "white"
                          }
                        },
                        "type": "table"
                      }
                    ]
                  },
                  "layout": {
                    "annotationdefaults": {
                      "arrowcolor": "#2a3f5f",
                      "arrowhead": 0,
                      "arrowwidth": 1
                    },
                    "autotypenumbers": "strict",
                    "coloraxis": {
                      "colorbar": {
                        "outlinewidth": 0,
                        "ticks": ""
                      }
                    },
                    "colorscale": {
                      "diverging": [
                        [
                          0,
                          "#8e0152"
                        ],
                        [
                          0.1,
                          "#c51b7d"
                        ],
                        [
                          0.2,
                          "#de77ae"
                        ],
                        [
                          0.3,
                          "#f1b6da"
                        ],
                        [
                          0.4,
                          "#fde0ef"
                        ],
                        [
                          0.5,
                          "#f7f7f7"
                        ],
                        [
                          0.6,
                          "#e6f5d0"
                        ],
                        [
                          0.7,
                          "#b8e186"
                        ],
                        [
                          0.8,
                          "#7fbc41"
                        ],
                        [
                          0.9,
                          "#4d9221"
                        ],
                        [
                          1,
                          "#276419"
                        ]
                      ],
                      "sequential": [
                        [
                          0,
                          "#0d0887"
                        ],
                        [
                          0.1111111111111111,
                          "#46039f"
                        ],
                        [
                          0.2222222222222222,
                          "#7201a8"
                        ],
                        [
                          0.3333333333333333,
                          "#9c179e"
                        ],
                        [
                          0.4444444444444444,
                          "#bd3786"
                        ],
                        [
                          0.5555555555555556,
                          "#d8576b"
                        ],
                        [
                          0.6666666666666666,
                          "#ed7953"
                        ],
                        [
                          0.7777777777777778,
                          "#fb9f3a"
                        ],
                        [
                          0.8888888888888888,
                          "#fdca26"
                        ],
                        [
                          1,
                          "#f0f921"
                        ]
                      ],
                      "sequentialminus": [
                        [
                          0,
                          "#0d0887"
                        ],
                        [
                          0.1111111111111111,
                          "#46039f"
                        ],
                        [
                          0.2222222222222222,
                          "#7201a8"
                        ],
                        [
                          0.3333333333333333,
                          "#9c179e"
                        ],
                        [
                          0.4444444444444444,
                          "#bd3786"
                        ],
                        [
                          0.5555555555555556,
                          "#d8576b"
                        ],
                        [
                          0.6666666666666666,
                          "#ed7953"
                        ],
                        [
                          0.7777777777777778,
                          "#fb9f3a"
                        ],
                        [
                          0.8888888888888888,
                          "#fdca26"
                        ],
                        [
                          1,
                          "#f0f921"
                        ]
                      ]
                    },
                    "colorway": [
                      "#636efa",
                      "#EF553B",
                      "#00cc96",
                      "#ab63fa",
                      "#FFA15A",
                      "#19d3f3",
                      "#FF6692",
                      "#B6E880",
                      "#FF97FF",
                      "#FECB52"
                    ],
                    "font": {
                      "color": "#2a3f5f"
                    },
                    "geo": {
                      "bgcolor": "white",
                      "lakecolor": "white",
                      "landcolor": "#E5ECF6",
                      "showlakes": true,
                      "showland": true,
                      "subunitcolor": "white"
                    },
                    "hoverlabel": {
                      "align": "left"
                    },
                    "hovermode": "closest",
                    "mapbox": {
                      "style": "light"
                    },
                    "paper_bgcolor": "white",
                    "plot_bgcolor": "#E5ECF6",
                    "polar": {
                      "angularaxis": {
                        "gridcolor": "white",
                        "linecolor": "white",
                        "ticks": ""
                      },
                      "bgcolor": "#E5ECF6",
                      "radialaxis": {
                        "gridcolor": "white",
                        "linecolor": "white",
                        "ticks": ""
                      }
                    },
                    "scene": {
                      "xaxis": {
                        "backgroundcolor": "#E5ECF6",
                        "gridcolor": "white",
                        "gridwidth": 2,
                        "linecolor": "white",
                        "showbackground": true,
                        "ticks": "",
                        "zerolinecolor": "white"
                      },
                      "yaxis": {
                        "backgroundcolor": "#E5ECF6",
                        "gridcolor": "white",
                        "gridwidth": 2,
                        "linecolor": "white",
                        "showbackground": true,
                        "ticks": "",
                        "zerolinecolor": "white"
                      },
                      "zaxis": {
                        "backgroundcolor": "#E5ECF6",
                        "gridcolor": "white",
                        "gridwidth": 2,
                        "linecolor": "white",
                        "showbackground": true,
                        "ticks": "",
                        "zerolinecolor": "white"
                      }
                    },
                    "shapedefaults": {
                      "line": {
                        "color": "#2a3f5f"
                      }
                    },
                    "ternary": {
                      "aaxis": {
                        "gridcolor": "white",
                        "linecolor": "white",
                        "ticks": ""
                      },
                      "baxis": {
                        "gridcolor": "white",
                        "linecolor": "white",
                        "ticks": ""
                      },
                      "bgcolor": "#E5ECF6",
                      "caxis": {
                        "gridcolor": "white",
                        "linecolor": "white",
                        "ticks": ""
                      }
                    },
                    "title": {
                      "x": 0.05
                    },
                    "xaxis": {
                      "automargin": true,
                      "gridcolor": "white",
                      "linecolor": "white",
                      "ticks": "",
                      "title": {
                        "standoff": 15
                      },
                      "zerolinecolor": "white",
                      "zerolinewidth": 2
                    },
                    "yaxis": {
                      "automargin": true,
                      "gridcolor": "white",
                      "linecolor": "white",
                      "ticks": "",
                      "title": {
                        "standoff": 15
                      },
                      "zerolinecolor": "white",
                      "zerolinewidth": 2
                    }
                  }
                },
                "title": {
                  "text": "5 layers, accuracy"
                }
              }
            },
            "text/html": [
              "<div>                            <div id=\"78fd4fb6-ff2a-4d2b-bd15-e576cfd625a9\" class=\"plotly-graph-div\" style=\"height:525px; width:100%;\"></div>            <script type=\"text/javascript\">                require([\"plotly\"], function(Plotly) {                    window.PLOTLYENV=window.PLOTLYENV || {};                                    if (document.getElementById(\"78fd4fb6-ff2a-4d2b-bd15-e576cfd625a9\")) {                    Plotly.newPlot(                        \"78fd4fb6-ff2a-4d2b-bd15-e576cfd625a9\",                        [{\"mode\":\"lines+markers\",\"name\":\"positional encoding\",\"x\":[0,1,2,3,4,5,6,7,8,9],\"y\":[0.330515625,0.466640625,0.69871875,0.711046875,0.713828125,0.715375,0.71740625,0.718140625,0.71925,0.71978125],\"type\":\"scatter\"},{\"mode\":\"lines+markers\",\"name\":\"no positional encoding\",\"x\":[0,1,2,3,4,5,6,7,8,9],\"y\":[0.3221875,0.429109375,0.644421875,0.690609375,0.7010625,0.709640625,0.711453125,0.71315625,0.714484375,0.714375],\"type\":\"scatter\"}],                        {\"template\":{\"data\":{\"histogram2dcontour\":[{\"type\":\"histogram2dcontour\",\"colorbar\":{\"outlinewidth\":0,\"ticks\":\"\"},\"colorscale\":[[0.0,\"#0d0887\"],[0.1111111111111111,\"#46039f\"],[0.2222222222222222,\"#7201a8\"],[0.3333333333333333,\"#9c179e\"],[0.4444444444444444,\"#bd3786\"],[0.5555555555555556,\"#d8576b\"],[0.6666666666666666,\"#ed7953\"],[0.7777777777777778,\"#fb9f3a\"],[0.8888888888888888,\"#fdca26\"],[1.0,\"#f0f921\"]]}],\"choropleth\":[{\"type\":\"choropleth\",\"colorbar\":{\"outlinewidth\":0,\"ticks\":\"\"}}],\"histogram2d\":[{\"type\":\"histogram2d\",\"colorbar\":{\"outlinewidth\":0,\"ticks\":\"\"},\"colorscale\":[[0.0,\"#0d0887\"],[0.1111111111111111,\"#46039f\"],[0.2222222222222222,\"#7201a8\"],[0.3333333333333333,\"#9c179e\"],[0.4444444444444444,\"#bd3786\"],[0.5555555555555556,\"#d8576b\"],[0.6666666666666666,\"#ed7953\"],[0.7777777777777778,\"#fb9f3a\"],[0.8888888888888888,\"#fdca26\"],[1.0,\"#f0f921\"]]}],\"heatmap\":[{\"type\":\"heatmap\",\"colorbar\":{\"outlinewidth\":0,\"ticks\":\"\"},\"colorscale\":[[0.0,\"#0d0887\"],[0.1111111111111111,\"#46039f\"],[0.2222222222222222,\"#7201a8\"],[0.3333333333333333,\"#9c179e\"],[0.4444444444444444,\"#bd3786\"],[0.5555555555555556,\"#d8576b\"],[0.6666666666666666,\"#ed7953\"],[0.7777777777777778,\"#fb9f3a\"],[0.8888888888888888,\"#fdca26\"],[1.0,\"#f0f921\"]]}],\"heatmapgl\":[{\"type\":\"heatmapgl\",\"colorbar\":{\"outlinewidth\":0,\"ticks\":\"\"},\"colorscale\":[[0.0,\"#0d0887\"],[0.1111111111111111,\"#46039f\"],[0.2222222222222222,\"#7201a8\"],[0.3333333333333333,\"#9c179e\"],[0.4444444444444444,\"#bd3786\"],[0.5555555555555556,\"#d8576b\"],[0.6666666666666666,\"#ed7953\"],[0.7777777777777778,\"#fb9f3a\"],[0.8888888888888888,\"#fdca26\"],[1.0,\"#f0f921\"]]}],\"contourcarpet\":[{\"type\":\"contourcarpet\",\"colorbar\":{\"outlinewidth\":0,\"ticks\":\"\"}}],\"contour\":[{\"type\":\"contour\",\"colorbar\":{\"outlinewidth\":0,\"ticks\":\"\"},\"colorscale\":[[0.0,\"#0d0887\"],[0.1111111111111111,\"#46039f\"],[0.2222222222222222,\"#7201a8\"],[0.3333333333333333,\"#9c179e\"],[0.4444444444444444,\"#bd3786\"],[0.5555555555555556,\"#d8576b\"],[0.6666666666666666,\"#ed7953\"],[0.7777777777777778,\"#fb9f3a\"],[0.8888888888888888,\"#fdca26\"],[1.0,\"#f0f921\"]]}],\"surface\":[{\"type\":\"surface\",\"colorbar\":{\"outlinewidth\":0,\"ticks\":\"\"},\"colorscale\":[[0.0,\"#0d0887\"],[0.1111111111111111,\"#46039f\"],[0.2222222222222222,\"#7201a8\"],[0.3333333333333333,\"#9c179e\"],[0.4444444444444444,\"#bd3786\"],[0.5555555555555556,\"#d8576b\"],[0.6666666666666666,\"#ed7953\"],[0.7777777777777778,\"#fb9f3a\"],[0.8888888888888888,\"#fdca26\"],[1.0,\"#f0f921\"]]}],\"mesh3d\":[{\"type\":\"mesh3d\",\"colorbar\":{\"outlinewidth\":0,\"ticks\":\"\"}}],\"scatter\":[{\"fillpattern\":{\"fillmode\":\"overlay\",\"size\":10,\"solidity\":0.2},\"type\":\"scatter\"}],\"parcoords\":[{\"type\":\"parcoords\",\"line\":{\"colorbar\":{\"outlinewidth\":0,\"ticks\":\"\"}}}],\"scatterpolargl\":[{\"type\":\"scatterpolargl\",\"marker\":{\"colorbar\":{\"outlinewidth\":0,\"ticks\":\"\"}}}],\"bar\":[{\"error_x\":{\"color\":\"#2a3f5f\"},\"error_y\":{\"color\":\"#2a3f5f\"},\"marker\":{\"line\":{\"color\":\"#E5ECF6\",\"width\":0.5},\"pattern\":{\"fillmode\":\"overlay\",\"size\":10,\"solidity\":0.2}},\"type\":\"bar\"}],\"scattergeo\":[{\"type\":\"scattergeo\",\"marker\":{\"colorbar\":{\"outlinewidth\":0,\"ticks\":\"\"}}}],\"scatterpolar\":[{\"type\":\"scatterpolar\",\"marker\":{\"colorbar\":{\"outlinewidth\":0,\"ticks\":\"\"}}}],\"histogram\":[{\"marker\":{\"pattern\":{\"fillmode\":\"overlay\",\"size\":10,\"solidity\":0.2}},\"type\":\"histogram\"}],\"scattergl\":[{\"type\":\"scattergl\",\"marker\":{\"colorbar\":{\"outlinewidth\":0,\"ticks\":\"\"}}}],\"scatter3d\":[{\"type\":\"scatter3d\",\"line\":{\"colorbar\":{\"outlinewidth\":0,\"ticks\":\"\"}},\"marker\":{\"colorbar\":{\"outlinewidth\":0,\"ticks\":\"\"}}}],\"scattermapbox\":[{\"type\":\"scattermapbox\",\"marker\":{\"colorbar\":{\"outlinewidth\":0,\"ticks\":\"\"}}}],\"scatterternary\":[{\"type\":\"scatterternary\",\"marker\":{\"colorbar\":{\"outlinewidth\":0,\"ticks\":\"\"}}}],\"scattercarpet\":[{\"type\":\"scattercarpet\",\"marker\":{\"colorbar\":{\"outlinewidth\":0,\"ticks\":\"\"}}}],\"carpet\":[{\"aaxis\":{\"endlinecolor\":\"#2a3f5f\",\"gridcolor\":\"white\",\"linecolor\":\"white\",\"minorgridcolor\":\"white\",\"startlinecolor\":\"#2a3f5f\"},\"baxis\":{\"endlinecolor\":\"#2a3f5f\",\"gridcolor\":\"white\",\"linecolor\":\"white\",\"minorgridcolor\":\"white\",\"startlinecolor\":\"#2a3f5f\"},\"type\":\"carpet\"}],\"table\":[{\"cells\":{\"fill\":{\"color\":\"#EBF0F8\"},\"line\":{\"color\":\"white\"}},\"header\":{\"fill\":{\"color\":\"#C8D4E3\"},\"line\":{\"color\":\"white\"}},\"type\":\"table\"}],\"barpolar\":[{\"marker\":{\"line\":{\"color\":\"#E5ECF6\",\"width\":0.5},\"pattern\":{\"fillmode\":\"overlay\",\"size\":10,\"solidity\":0.2}},\"type\":\"barpolar\"}],\"pie\":[{\"automargin\":true,\"type\":\"pie\"}]},\"layout\":{\"autotypenumbers\":\"strict\",\"colorway\":[\"#636efa\",\"#EF553B\",\"#00cc96\",\"#ab63fa\",\"#FFA15A\",\"#19d3f3\",\"#FF6692\",\"#B6E880\",\"#FF97FF\",\"#FECB52\"],\"font\":{\"color\":\"#2a3f5f\"},\"hovermode\":\"closest\",\"hoverlabel\":{\"align\":\"left\"},\"paper_bgcolor\":\"white\",\"plot_bgcolor\":\"#E5ECF6\",\"polar\":{\"bgcolor\":\"#E5ECF6\",\"angularaxis\":{\"gridcolor\":\"white\",\"linecolor\":\"white\",\"ticks\":\"\"},\"radialaxis\":{\"gridcolor\":\"white\",\"linecolor\":\"white\",\"ticks\":\"\"}},\"ternary\":{\"bgcolor\":\"#E5ECF6\",\"aaxis\":{\"gridcolor\":\"white\",\"linecolor\":\"white\",\"ticks\":\"\"},\"baxis\":{\"gridcolor\":\"white\",\"linecolor\":\"white\",\"ticks\":\"\"},\"caxis\":{\"gridcolor\":\"white\",\"linecolor\":\"white\",\"ticks\":\"\"}},\"coloraxis\":{\"colorbar\":{\"outlinewidth\":0,\"ticks\":\"\"}},\"colorscale\":{\"sequential\":[[0.0,\"#0d0887\"],[0.1111111111111111,\"#46039f\"],[0.2222222222222222,\"#7201a8\"],[0.3333333333333333,\"#9c179e\"],[0.4444444444444444,\"#bd3786\"],[0.5555555555555556,\"#d8576b\"],[0.6666666666666666,\"#ed7953\"],[0.7777777777777778,\"#fb9f3a\"],[0.8888888888888888,\"#fdca26\"],[1.0,\"#f0f921\"]],\"sequentialminus\":[[0.0,\"#0d0887\"],[0.1111111111111111,\"#46039f\"],[0.2222222222222222,\"#7201a8\"],[0.3333333333333333,\"#9c179e\"],[0.4444444444444444,\"#bd3786\"],[0.5555555555555556,\"#d8576b\"],[0.6666666666666666,\"#ed7953\"],[0.7777777777777778,\"#fb9f3a\"],[0.8888888888888888,\"#fdca26\"],[1.0,\"#f0f921\"]],\"diverging\":[[0,\"#8e0152\"],[0.1,\"#c51b7d\"],[0.2,\"#de77ae\"],[0.3,\"#f1b6da\"],[0.4,\"#fde0ef\"],[0.5,\"#f7f7f7\"],[0.6,\"#e6f5d0\"],[0.7,\"#b8e186\"],[0.8,\"#7fbc41\"],[0.9,\"#4d9221\"],[1,\"#276419\"]]},\"xaxis\":{\"gridcolor\":\"white\",\"linecolor\":\"white\",\"ticks\":\"\",\"title\":{\"standoff\":15},\"zerolinecolor\":\"white\",\"automargin\":true,\"zerolinewidth\":2},\"yaxis\":{\"gridcolor\":\"white\",\"linecolor\":\"white\",\"ticks\":\"\",\"title\":{\"standoff\":15},\"zerolinecolor\":\"white\",\"automargin\":true,\"zerolinewidth\":2},\"scene\":{\"xaxis\":{\"backgroundcolor\":\"#E5ECF6\",\"gridcolor\":\"white\",\"linecolor\":\"white\",\"showbackground\":true,\"ticks\":\"\",\"zerolinecolor\":\"white\",\"gridwidth\":2},\"yaxis\":{\"backgroundcolor\":\"#E5ECF6\",\"gridcolor\":\"white\",\"linecolor\":\"white\",\"showbackground\":true,\"ticks\":\"\",\"zerolinecolor\":\"white\",\"gridwidth\":2},\"zaxis\":{\"backgroundcolor\":\"#E5ECF6\",\"gridcolor\":\"white\",\"linecolor\":\"white\",\"showbackground\":true,\"ticks\":\"\",\"zerolinecolor\":\"white\",\"gridwidth\":2}},\"shapedefaults\":{\"line\":{\"color\":\"#2a3f5f\"}},\"annotationdefaults\":{\"arrowcolor\":\"#2a3f5f\",\"arrowhead\":0,\"arrowwidth\":1},\"geo\":{\"bgcolor\":\"white\",\"landcolor\":\"#E5ECF6\",\"subunitcolor\":\"white\",\"showland\":true,\"showlakes\":true,\"lakecolor\":\"white\"},\"title\":{\"x\":0.05},\"mapbox\":{\"style\":\"light\"}}},\"title\":{\"text\":\"5 layers, accuracy\"}},                        {\"responsive\": true}                    ).then(function(){\n",
              "                            \n",
              "var gd = document.getElementById('78fd4fb6-ff2a-4d2b-bd15-e576cfd625a9');\n",
              "var x = new MutationObserver(function (mutations, observer) {{\n",
              "        var display = window.getComputedStyle(gd).display;\n",
              "        if (!display || display === 'none') {{\n",
              "            console.log([gd, 'removed!']);\n",
              "            Plotly.purge(gd);\n",
              "            observer.disconnect();\n",
              "        }}\n",
              "}});\n",
              "\n",
              "// Listen for the removal of the full notebook cells\n",
              "var notebookContainer = gd.closest('#notebook-container');\n",
              "if (notebookContainer) {{\n",
              "    x.observe(notebookContainer, {childList: true});\n",
              "}}\n",
              "\n",
              "// Listen for the clearing of the current output cell\n",
              "var outputEl = gd.closest('.output');\n",
              "if (outputEl) {{\n",
              "    x.observe(outputEl, {childList: true});\n",
              "}}\n",
              "\n",
              "                        })                };                });            </script>        </div>"
            ]
          },
          "metadata": {},
          "output_type": "display_data"
        }
      ],
      "source": [
        "\n",
        "for num_layers in num_layers_pool:\n",
        "    fig = go.Figure()\n",
        "    fig.add_trace(go.Scatter(\n",
        "        x=np.arange(EPOCHS),\n",
        "        y=logs[(num_layers, True)][1],\n",
        "        mode='lines+markers',\n",
        "        name=\"positional encoding\"\n",
        "        ))\n",
        "    fig.add_trace(\n",
        "        go.Scatter(\n",
        "            x=np.arange(EPOCHS),\n",
        "            y=logs[(num_layers, False)][1],\n",
        "            mode='lines+markers',\n",
        "            name=\"no positional encoding\"\n",
        "            )\n",
        "    )\n",
        "    fig.update_layout(title_text=f\"{num_layers} layers, accuracy\")\n",
        "    fig.show()"
      ]
    },
    {
      "cell_type": "code",
      "execution_count": 500,
      "metadata": {},
      "outputs": [
        {
          "data": {
            "application/vnd.plotly.v1+json": {
              "config": {
                "plotlyServerURL": "https://plot.ly"
              },
              "data": [
                {
                  "mode": "lines+markers",
                  "name": "positional encoding",
                  "type": "scatter",
                  "x": [
                    0,
                    1,
                    2,
                    3,
                    4,
                    5,
                    6,
                    7,
                    8,
                    9
                  ],
                  "y": [
                    2.1805743658089938,
                    2.030909538269043,
                    2.001885374890098,
                    1.978022519546219,
                    1.954371396499344,
                    1.931840151171141,
                    1.9111833225322674,
                    1.8910538395748864,
                    1.869342366351357,
                    1.8443874633764918
                  ]
                },
                {
                  "mode": "lines+markers",
                  "name": "no positional encoding",
                  "type": "scatter",
                  "x": [
                    0,
                    1,
                    2,
                    3,
                    4,
                    5,
                    6,
                    7,
                    8,
                    9
                  ],
                  "y": [
                    2.181538108028943,
                    2.1502987161467346,
                    2.1423687059668044,
                    2.13632443886769,
                    2.131597422346284,
                    2.1277687821207167,
                    2.1241677380815336,
                    2.119864726368385,
                    2.1135225718534447,
                    2.1031231306776217
                  ]
                }
              ],
              "layout": {
                "template": {
                  "data": {
                    "bar": [
                      {
                        "error_x": {
                          "color": "#2a3f5f"
                        },
                        "error_y": {
                          "color": "#2a3f5f"
                        },
                        "marker": {
                          "line": {
                            "color": "#E5ECF6",
                            "width": 0.5
                          },
                          "pattern": {
                            "fillmode": "overlay",
                            "size": 10,
                            "solidity": 0.2
                          }
                        },
                        "type": "bar"
                      }
                    ],
                    "barpolar": [
                      {
                        "marker": {
                          "line": {
                            "color": "#E5ECF6",
                            "width": 0.5
                          },
                          "pattern": {
                            "fillmode": "overlay",
                            "size": 10,
                            "solidity": 0.2
                          }
                        },
                        "type": "barpolar"
                      }
                    ],
                    "carpet": [
                      {
                        "aaxis": {
                          "endlinecolor": "#2a3f5f",
                          "gridcolor": "white",
                          "linecolor": "white",
                          "minorgridcolor": "white",
                          "startlinecolor": "#2a3f5f"
                        },
                        "baxis": {
                          "endlinecolor": "#2a3f5f",
                          "gridcolor": "white",
                          "linecolor": "white",
                          "minorgridcolor": "white",
                          "startlinecolor": "#2a3f5f"
                        },
                        "type": "carpet"
                      }
                    ],
                    "choropleth": [
                      {
                        "colorbar": {
                          "outlinewidth": 0,
                          "ticks": ""
                        },
                        "type": "choropleth"
                      }
                    ],
                    "contour": [
                      {
                        "colorbar": {
                          "outlinewidth": 0,
                          "ticks": ""
                        },
                        "colorscale": [
                          [
                            0,
                            "#0d0887"
                          ],
                          [
                            0.1111111111111111,
                            "#46039f"
                          ],
                          [
                            0.2222222222222222,
                            "#7201a8"
                          ],
                          [
                            0.3333333333333333,
                            "#9c179e"
                          ],
                          [
                            0.4444444444444444,
                            "#bd3786"
                          ],
                          [
                            0.5555555555555556,
                            "#d8576b"
                          ],
                          [
                            0.6666666666666666,
                            "#ed7953"
                          ],
                          [
                            0.7777777777777778,
                            "#fb9f3a"
                          ],
                          [
                            0.8888888888888888,
                            "#fdca26"
                          ],
                          [
                            1,
                            "#f0f921"
                          ]
                        ],
                        "type": "contour"
                      }
                    ],
                    "contourcarpet": [
                      {
                        "colorbar": {
                          "outlinewidth": 0,
                          "ticks": ""
                        },
                        "type": "contourcarpet"
                      }
                    ],
                    "heatmap": [
                      {
                        "colorbar": {
                          "outlinewidth": 0,
                          "ticks": ""
                        },
                        "colorscale": [
                          [
                            0,
                            "#0d0887"
                          ],
                          [
                            0.1111111111111111,
                            "#46039f"
                          ],
                          [
                            0.2222222222222222,
                            "#7201a8"
                          ],
                          [
                            0.3333333333333333,
                            "#9c179e"
                          ],
                          [
                            0.4444444444444444,
                            "#bd3786"
                          ],
                          [
                            0.5555555555555556,
                            "#d8576b"
                          ],
                          [
                            0.6666666666666666,
                            "#ed7953"
                          ],
                          [
                            0.7777777777777778,
                            "#fb9f3a"
                          ],
                          [
                            0.8888888888888888,
                            "#fdca26"
                          ],
                          [
                            1,
                            "#f0f921"
                          ]
                        ],
                        "type": "heatmap"
                      }
                    ],
                    "heatmapgl": [
                      {
                        "colorbar": {
                          "outlinewidth": 0,
                          "ticks": ""
                        },
                        "colorscale": [
                          [
                            0,
                            "#0d0887"
                          ],
                          [
                            0.1111111111111111,
                            "#46039f"
                          ],
                          [
                            0.2222222222222222,
                            "#7201a8"
                          ],
                          [
                            0.3333333333333333,
                            "#9c179e"
                          ],
                          [
                            0.4444444444444444,
                            "#bd3786"
                          ],
                          [
                            0.5555555555555556,
                            "#d8576b"
                          ],
                          [
                            0.6666666666666666,
                            "#ed7953"
                          ],
                          [
                            0.7777777777777778,
                            "#fb9f3a"
                          ],
                          [
                            0.8888888888888888,
                            "#fdca26"
                          ],
                          [
                            1,
                            "#f0f921"
                          ]
                        ],
                        "type": "heatmapgl"
                      }
                    ],
                    "histogram": [
                      {
                        "marker": {
                          "pattern": {
                            "fillmode": "overlay",
                            "size": 10,
                            "solidity": 0.2
                          }
                        },
                        "type": "histogram"
                      }
                    ],
                    "histogram2d": [
                      {
                        "colorbar": {
                          "outlinewidth": 0,
                          "ticks": ""
                        },
                        "colorscale": [
                          [
                            0,
                            "#0d0887"
                          ],
                          [
                            0.1111111111111111,
                            "#46039f"
                          ],
                          [
                            0.2222222222222222,
                            "#7201a8"
                          ],
                          [
                            0.3333333333333333,
                            "#9c179e"
                          ],
                          [
                            0.4444444444444444,
                            "#bd3786"
                          ],
                          [
                            0.5555555555555556,
                            "#d8576b"
                          ],
                          [
                            0.6666666666666666,
                            "#ed7953"
                          ],
                          [
                            0.7777777777777778,
                            "#fb9f3a"
                          ],
                          [
                            0.8888888888888888,
                            "#fdca26"
                          ],
                          [
                            1,
                            "#f0f921"
                          ]
                        ],
                        "type": "histogram2d"
                      }
                    ],
                    "histogram2dcontour": [
                      {
                        "colorbar": {
                          "outlinewidth": 0,
                          "ticks": ""
                        },
                        "colorscale": [
                          [
                            0,
                            "#0d0887"
                          ],
                          [
                            0.1111111111111111,
                            "#46039f"
                          ],
                          [
                            0.2222222222222222,
                            "#7201a8"
                          ],
                          [
                            0.3333333333333333,
                            "#9c179e"
                          ],
                          [
                            0.4444444444444444,
                            "#bd3786"
                          ],
                          [
                            0.5555555555555556,
                            "#d8576b"
                          ],
                          [
                            0.6666666666666666,
                            "#ed7953"
                          ],
                          [
                            0.7777777777777778,
                            "#fb9f3a"
                          ],
                          [
                            0.8888888888888888,
                            "#fdca26"
                          ],
                          [
                            1,
                            "#f0f921"
                          ]
                        ],
                        "type": "histogram2dcontour"
                      }
                    ],
                    "mesh3d": [
                      {
                        "colorbar": {
                          "outlinewidth": 0,
                          "ticks": ""
                        },
                        "type": "mesh3d"
                      }
                    ],
                    "parcoords": [
                      {
                        "line": {
                          "colorbar": {
                            "outlinewidth": 0,
                            "ticks": ""
                          }
                        },
                        "type": "parcoords"
                      }
                    ],
                    "pie": [
                      {
                        "automargin": true,
                        "type": "pie"
                      }
                    ],
                    "scatter": [
                      {
                        "fillpattern": {
                          "fillmode": "overlay",
                          "size": 10,
                          "solidity": 0.2
                        },
                        "type": "scatter"
                      }
                    ],
                    "scatter3d": [
                      {
                        "line": {
                          "colorbar": {
                            "outlinewidth": 0,
                            "ticks": ""
                          }
                        },
                        "marker": {
                          "colorbar": {
                            "outlinewidth": 0,
                            "ticks": ""
                          }
                        },
                        "type": "scatter3d"
                      }
                    ],
                    "scattercarpet": [
                      {
                        "marker": {
                          "colorbar": {
                            "outlinewidth": 0,
                            "ticks": ""
                          }
                        },
                        "type": "scattercarpet"
                      }
                    ],
                    "scattergeo": [
                      {
                        "marker": {
                          "colorbar": {
                            "outlinewidth": 0,
                            "ticks": ""
                          }
                        },
                        "type": "scattergeo"
                      }
                    ],
                    "scattergl": [
                      {
                        "marker": {
                          "colorbar": {
                            "outlinewidth": 0,
                            "ticks": ""
                          }
                        },
                        "type": "scattergl"
                      }
                    ],
                    "scattermapbox": [
                      {
                        "marker": {
                          "colorbar": {
                            "outlinewidth": 0,
                            "ticks": ""
                          }
                        },
                        "type": "scattermapbox"
                      }
                    ],
                    "scatterpolar": [
                      {
                        "marker": {
                          "colorbar": {
                            "outlinewidth": 0,
                            "ticks": ""
                          }
                        },
                        "type": "scatterpolar"
                      }
                    ],
                    "scatterpolargl": [
                      {
                        "marker": {
                          "colorbar": {
                            "outlinewidth": 0,
                            "ticks": ""
                          }
                        },
                        "type": "scatterpolargl"
                      }
                    ],
                    "scatterternary": [
                      {
                        "marker": {
                          "colorbar": {
                            "outlinewidth": 0,
                            "ticks": ""
                          }
                        },
                        "type": "scatterternary"
                      }
                    ],
                    "surface": [
                      {
                        "colorbar": {
                          "outlinewidth": 0,
                          "ticks": ""
                        },
                        "colorscale": [
                          [
                            0,
                            "#0d0887"
                          ],
                          [
                            0.1111111111111111,
                            "#46039f"
                          ],
                          [
                            0.2222222222222222,
                            "#7201a8"
                          ],
                          [
                            0.3333333333333333,
                            "#9c179e"
                          ],
                          [
                            0.4444444444444444,
                            "#bd3786"
                          ],
                          [
                            0.5555555555555556,
                            "#d8576b"
                          ],
                          [
                            0.6666666666666666,
                            "#ed7953"
                          ],
                          [
                            0.7777777777777778,
                            "#fb9f3a"
                          ],
                          [
                            0.8888888888888888,
                            "#fdca26"
                          ],
                          [
                            1,
                            "#f0f921"
                          ]
                        ],
                        "type": "surface"
                      }
                    ],
                    "table": [
                      {
                        "cells": {
                          "fill": {
                            "color": "#EBF0F8"
                          },
                          "line": {
                            "color": "white"
                          }
                        },
                        "header": {
                          "fill": {
                            "color": "#C8D4E3"
                          },
                          "line": {
                            "color": "white"
                          }
                        },
                        "type": "table"
                      }
                    ]
                  },
                  "layout": {
                    "annotationdefaults": {
                      "arrowcolor": "#2a3f5f",
                      "arrowhead": 0,
                      "arrowwidth": 1
                    },
                    "autotypenumbers": "strict",
                    "coloraxis": {
                      "colorbar": {
                        "outlinewidth": 0,
                        "ticks": ""
                      }
                    },
                    "colorscale": {
                      "diverging": [
                        [
                          0,
                          "#8e0152"
                        ],
                        [
                          0.1,
                          "#c51b7d"
                        ],
                        [
                          0.2,
                          "#de77ae"
                        ],
                        [
                          0.3,
                          "#f1b6da"
                        ],
                        [
                          0.4,
                          "#fde0ef"
                        ],
                        [
                          0.5,
                          "#f7f7f7"
                        ],
                        [
                          0.6,
                          "#e6f5d0"
                        ],
                        [
                          0.7,
                          "#b8e186"
                        ],
                        [
                          0.8,
                          "#7fbc41"
                        ],
                        [
                          0.9,
                          "#4d9221"
                        ],
                        [
                          1,
                          "#276419"
                        ]
                      ],
                      "sequential": [
                        [
                          0,
                          "#0d0887"
                        ],
                        [
                          0.1111111111111111,
                          "#46039f"
                        ],
                        [
                          0.2222222222222222,
                          "#7201a8"
                        ],
                        [
                          0.3333333333333333,
                          "#9c179e"
                        ],
                        [
                          0.4444444444444444,
                          "#bd3786"
                        ],
                        [
                          0.5555555555555556,
                          "#d8576b"
                        ],
                        [
                          0.6666666666666666,
                          "#ed7953"
                        ],
                        [
                          0.7777777777777778,
                          "#fb9f3a"
                        ],
                        [
                          0.8888888888888888,
                          "#fdca26"
                        ],
                        [
                          1,
                          "#f0f921"
                        ]
                      ],
                      "sequentialminus": [
                        [
                          0,
                          "#0d0887"
                        ],
                        [
                          0.1111111111111111,
                          "#46039f"
                        ],
                        [
                          0.2222222222222222,
                          "#7201a8"
                        ],
                        [
                          0.3333333333333333,
                          "#9c179e"
                        ],
                        [
                          0.4444444444444444,
                          "#bd3786"
                        ],
                        [
                          0.5555555555555556,
                          "#d8576b"
                        ],
                        [
                          0.6666666666666666,
                          "#ed7953"
                        ],
                        [
                          0.7777777777777778,
                          "#fb9f3a"
                        ],
                        [
                          0.8888888888888888,
                          "#fdca26"
                        ],
                        [
                          1,
                          "#f0f921"
                        ]
                      ]
                    },
                    "colorway": [
                      "#636efa",
                      "#EF553B",
                      "#00cc96",
                      "#ab63fa",
                      "#FFA15A",
                      "#19d3f3",
                      "#FF6692",
                      "#B6E880",
                      "#FF97FF",
                      "#FECB52"
                    ],
                    "font": {
                      "color": "#2a3f5f"
                    },
                    "geo": {
                      "bgcolor": "white",
                      "lakecolor": "white",
                      "landcolor": "#E5ECF6",
                      "showlakes": true,
                      "showland": true,
                      "subunitcolor": "white"
                    },
                    "hoverlabel": {
                      "align": "left"
                    },
                    "hovermode": "closest",
                    "mapbox": {
                      "style": "light"
                    },
                    "paper_bgcolor": "white",
                    "plot_bgcolor": "#E5ECF6",
                    "polar": {
                      "angularaxis": {
                        "gridcolor": "white",
                        "linecolor": "white",
                        "ticks": ""
                      },
                      "bgcolor": "#E5ECF6",
                      "radialaxis": {
                        "gridcolor": "white",
                        "linecolor": "white",
                        "ticks": ""
                      }
                    },
                    "scene": {
                      "xaxis": {
                        "backgroundcolor": "#E5ECF6",
                        "gridcolor": "white",
                        "gridwidth": 2,
                        "linecolor": "white",
                        "showbackground": true,
                        "ticks": "",
                        "zerolinecolor": "white"
                      },
                      "yaxis": {
                        "backgroundcolor": "#E5ECF6",
                        "gridcolor": "white",
                        "gridwidth": 2,
                        "linecolor": "white",
                        "showbackground": true,
                        "ticks": "",
                        "zerolinecolor": "white"
                      },
                      "zaxis": {
                        "backgroundcolor": "#E5ECF6",
                        "gridcolor": "white",
                        "gridwidth": 2,
                        "linecolor": "white",
                        "showbackground": true,
                        "ticks": "",
                        "zerolinecolor": "white"
                      }
                    },
                    "shapedefaults": {
                      "line": {
                        "color": "#2a3f5f"
                      }
                    },
                    "ternary": {
                      "aaxis": {
                        "gridcolor": "white",
                        "linecolor": "white",
                        "ticks": ""
                      },
                      "baxis": {
                        "gridcolor": "white",
                        "linecolor": "white",
                        "ticks": ""
                      },
                      "bgcolor": "#E5ECF6",
                      "caxis": {
                        "gridcolor": "white",
                        "linecolor": "white",
                        "ticks": ""
                      }
                    },
                    "title": {
                      "x": 0.05
                    },
                    "xaxis": {
                      "automargin": true,
                      "gridcolor": "white",
                      "linecolor": "white",
                      "ticks": "",
                      "title": {
                        "standoff": 15
                      },
                      "zerolinecolor": "white",
                      "zerolinewidth": 2
                    },
                    "yaxis": {
                      "automargin": true,
                      "gridcolor": "white",
                      "linecolor": "white",
                      "ticks": "",
                      "title": {
                        "standoff": 15
                      },
                      "zerolinecolor": "white",
                      "zerolinewidth": 2
                    }
                  }
                },
                "title": {
                  "text": "1 layers, loss"
                }
              }
            },
            "text/html": [
              "<div>                            <div id=\"b6f8389b-b005-4932-8daf-4457c127dcb2\" class=\"plotly-graph-div\" style=\"height:525px; width:100%;\"></div>            <script type=\"text/javascript\">                require([\"plotly\"], function(Plotly) {                    window.PLOTLYENV=window.PLOTLYENV || {};                                    if (document.getElementById(\"b6f8389b-b005-4932-8daf-4457c127dcb2\")) {                    Plotly.newPlot(                        \"b6f8389b-b005-4932-8daf-4457c127dcb2\",                        [{\"mode\":\"lines+markers\",\"name\":\"positional encoding\",\"x\":[0,1,2,3,4,5,6,7,8,9],\"y\":[2.1805743658089938,2.030909538269043,2.001885374890098,1.978022519546219,1.954371396499344,1.931840151171141,1.9111833225322674,1.8910538395748864,1.869342366351357,1.8443874633764918],\"type\":\"scatter\"},{\"mode\":\"lines+markers\",\"name\":\"no positional encoding\",\"x\":[0,1,2,3,4,5,6,7,8,9],\"y\":[2.181538108028943,2.1502987161467346,2.1423687059668044,2.13632443886769,2.131597422346284,2.1277687821207167,2.1241677380815336,2.119864726368385,2.1135225718534447,2.1031231306776217],\"type\":\"scatter\"}],                        {\"template\":{\"data\":{\"histogram2dcontour\":[{\"type\":\"histogram2dcontour\",\"colorbar\":{\"outlinewidth\":0,\"ticks\":\"\"},\"colorscale\":[[0.0,\"#0d0887\"],[0.1111111111111111,\"#46039f\"],[0.2222222222222222,\"#7201a8\"],[0.3333333333333333,\"#9c179e\"],[0.4444444444444444,\"#bd3786\"],[0.5555555555555556,\"#d8576b\"],[0.6666666666666666,\"#ed7953\"],[0.7777777777777778,\"#fb9f3a\"],[0.8888888888888888,\"#fdca26\"],[1.0,\"#f0f921\"]]}],\"choropleth\":[{\"type\":\"choropleth\",\"colorbar\":{\"outlinewidth\":0,\"ticks\":\"\"}}],\"histogram2d\":[{\"type\":\"histogram2d\",\"colorbar\":{\"outlinewidth\":0,\"ticks\":\"\"},\"colorscale\":[[0.0,\"#0d0887\"],[0.1111111111111111,\"#46039f\"],[0.2222222222222222,\"#7201a8\"],[0.3333333333333333,\"#9c179e\"],[0.4444444444444444,\"#bd3786\"],[0.5555555555555556,\"#d8576b\"],[0.6666666666666666,\"#ed7953\"],[0.7777777777777778,\"#fb9f3a\"],[0.8888888888888888,\"#fdca26\"],[1.0,\"#f0f921\"]]}],\"heatmap\":[{\"type\":\"heatmap\",\"colorbar\":{\"outlinewidth\":0,\"ticks\":\"\"},\"colorscale\":[[0.0,\"#0d0887\"],[0.1111111111111111,\"#46039f\"],[0.2222222222222222,\"#7201a8\"],[0.3333333333333333,\"#9c179e\"],[0.4444444444444444,\"#bd3786\"],[0.5555555555555556,\"#d8576b\"],[0.6666666666666666,\"#ed7953\"],[0.7777777777777778,\"#fb9f3a\"],[0.8888888888888888,\"#fdca26\"],[1.0,\"#f0f921\"]]}],\"heatmapgl\":[{\"type\":\"heatmapgl\",\"colorbar\":{\"outlinewidth\":0,\"ticks\":\"\"},\"colorscale\":[[0.0,\"#0d0887\"],[0.1111111111111111,\"#46039f\"],[0.2222222222222222,\"#7201a8\"],[0.3333333333333333,\"#9c179e\"],[0.4444444444444444,\"#bd3786\"],[0.5555555555555556,\"#d8576b\"],[0.6666666666666666,\"#ed7953\"],[0.7777777777777778,\"#fb9f3a\"],[0.8888888888888888,\"#fdca26\"],[1.0,\"#f0f921\"]]}],\"contourcarpet\":[{\"type\":\"contourcarpet\",\"colorbar\":{\"outlinewidth\":0,\"ticks\":\"\"}}],\"contour\":[{\"type\":\"contour\",\"colorbar\":{\"outlinewidth\":0,\"ticks\":\"\"},\"colorscale\":[[0.0,\"#0d0887\"],[0.1111111111111111,\"#46039f\"],[0.2222222222222222,\"#7201a8\"],[0.3333333333333333,\"#9c179e\"],[0.4444444444444444,\"#bd3786\"],[0.5555555555555556,\"#d8576b\"],[0.6666666666666666,\"#ed7953\"],[0.7777777777777778,\"#fb9f3a\"],[0.8888888888888888,\"#fdca26\"],[1.0,\"#f0f921\"]]}],\"surface\":[{\"type\":\"surface\",\"colorbar\":{\"outlinewidth\":0,\"ticks\":\"\"},\"colorscale\":[[0.0,\"#0d0887\"],[0.1111111111111111,\"#46039f\"],[0.2222222222222222,\"#7201a8\"],[0.3333333333333333,\"#9c179e\"],[0.4444444444444444,\"#bd3786\"],[0.5555555555555556,\"#d8576b\"],[0.6666666666666666,\"#ed7953\"],[0.7777777777777778,\"#fb9f3a\"],[0.8888888888888888,\"#fdca26\"],[1.0,\"#f0f921\"]]}],\"mesh3d\":[{\"type\":\"mesh3d\",\"colorbar\":{\"outlinewidth\":0,\"ticks\":\"\"}}],\"scatter\":[{\"fillpattern\":{\"fillmode\":\"overlay\",\"size\":10,\"solidity\":0.2},\"type\":\"scatter\"}],\"parcoords\":[{\"type\":\"parcoords\",\"line\":{\"colorbar\":{\"outlinewidth\":0,\"ticks\":\"\"}}}],\"scatterpolargl\":[{\"type\":\"scatterpolargl\",\"marker\":{\"colorbar\":{\"outlinewidth\":0,\"ticks\":\"\"}}}],\"bar\":[{\"error_x\":{\"color\":\"#2a3f5f\"},\"error_y\":{\"color\":\"#2a3f5f\"},\"marker\":{\"line\":{\"color\":\"#E5ECF6\",\"width\":0.5},\"pattern\":{\"fillmode\":\"overlay\",\"size\":10,\"solidity\":0.2}},\"type\":\"bar\"}],\"scattergeo\":[{\"type\":\"scattergeo\",\"marker\":{\"colorbar\":{\"outlinewidth\":0,\"ticks\":\"\"}}}],\"scatterpolar\":[{\"type\":\"scatterpolar\",\"marker\":{\"colorbar\":{\"outlinewidth\":0,\"ticks\":\"\"}}}],\"histogram\":[{\"marker\":{\"pattern\":{\"fillmode\":\"overlay\",\"size\":10,\"solidity\":0.2}},\"type\":\"histogram\"}],\"scattergl\":[{\"type\":\"scattergl\",\"marker\":{\"colorbar\":{\"outlinewidth\":0,\"ticks\":\"\"}}}],\"scatter3d\":[{\"type\":\"scatter3d\",\"line\":{\"colorbar\":{\"outlinewidth\":0,\"ticks\":\"\"}},\"marker\":{\"colorbar\":{\"outlinewidth\":0,\"ticks\":\"\"}}}],\"scattermapbox\":[{\"type\":\"scattermapbox\",\"marker\":{\"colorbar\":{\"outlinewidth\":0,\"ticks\":\"\"}}}],\"scatterternary\":[{\"type\":\"scatterternary\",\"marker\":{\"colorbar\":{\"outlinewidth\":0,\"ticks\":\"\"}}}],\"scattercarpet\":[{\"type\":\"scattercarpet\",\"marker\":{\"colorbar\":{\"outlinewidth\":0,\"ticks\":\"\"}}}],\"carpet\":[{\"aaxis\":{\"endlinecolor\":\"#2a3f5f\",\"gridcolor\":\"white\",\"linecolor\":\"white\",\"minorgridcolor\":\"white\",\"startlinecolor\":\"#2a3f5f\"},\"baxis\":{\"endlinecolor\":\"#2a3f5f\",\"gridcolor\":\"white\",\"linecolor\":\"white\",\"minorgridcolor\":\"white\",\"startlinecolor\":\"#2a3f5f\"},\"type\":\"carpet\"}],\"table\":[{\"cells\":{\"fill\":{\"color\":\"#EBF0F8\"},\"line\":{\"color\":\"white\"}},\"header\":{\"fill\":{\"color\":\"#C8D4E3\"},\"line\":{\"color\":\"white\"}},\"type\":\"table\"}],\"barpolar\":[{\"marker\":{\"line\":{\"color\":\"#E5ECF6\",\"width\":0.5},\"pattern\":{\"fillmode\":\"overlay\",\"size\":10,\"solidity\":0.2}},\"type\":\"barpolar\"}],\"pie\":[{\"automargin\":true,\"type\":\"pie\"}]},\"layout\":{\"autotypenumbers\":\"strict\",\"colorway\":[\"#636efa\",\"#EF553B\",\"#00cc96\",\"#ab63fa\",\"#FFA15A\",\"#19d3f3\",\"#FF6692\",\"#B6E880\",\"#FF97FF\",\"#FECB52\"],\"font\":{\"color\":\"#2a3f5f\"},\"hovermode\":\"closest\",\"hoverlabel\":{\"align\":\"left\"},\"paper_bgcolor\":\"white\",\"plot_bgcolor\":\"#E5ECF6\",\"polar\":{\"bgcolor\":\"#E5ECF6\",\"angularaxis\":{\"gridcolor\":\"white\",\"linecolor\":\"white\",\"ticks\":\"\"},\"radialaxis\":{\"gridcolor\":\"white\",\"linecolor\":\"white\",\"ticks\":\"\"}},\"ternary\":{\"bgcolor\":\"#E5ECF6\",\"aaxis\":{\"gridcolor\":\"white\",\"linecolor\":\"white\",\"ticks\":\"\"},\"baxis\":{\"gridcolor\":\"white\",\"linecolor\":\"white\",\"ticks\":\"\"},\"caxis\":{\"gridcolor\":\"white\",\"linecolor\":\"white\",\"ticks\":\"\"}},\"coloraxis\":{\"colorbar\":{\"outlinewidth\":0,\"ticks\":\"\"}},\"colorscale\":{\"sequential\":[[0.0,\"#0d0887\"],[0.1111111111111111,\"#46039f\"],[0.2222222222222222,\"#7201a8\"],[0.3333333333333333,\"#9c179e\"],[0.4444444444444444,\"#bd3786\"],[0.5555555555555556,\"#d8576b\"],[0.6666666666666666,\"#ed7953\"],[0.7777777777777778,\"#fb9f3a\"],[0.8888888888888888,\"#fdca26\"],[1.0,\"#f0f921\"]],\"sequentialminus\":[[0.0,\"#0d0887\"],[0.1111111111111111,\"#46039f\"],[0.2222222222222222,\"#7201a8\"],[0.3333333333333333,\"#9c179e\"],[0.4444444444444444,\"#bd3786\"],[0.5555555555555556,\"#d8576b\"],[0.6666666666666666,\"#ed7953\"],[0.7777777777777778,\"#fb9f3a\"],[0.8888888888888888,\"#fdca26\"],[1.0,\"#f0f921\"]],\"diverging\":[[0,\"#8e0152\"],[0.1,\"#c51b7d\"],[0.2,\"#de77ae\"],[0.3,\"#f1b6da\"],[0.4,\"#fde0ef\"],[0.5,\"#f7f7f7\"],[0.6,\"#e6f5d0\"],[0.7,\"#b8e186\"],[0.8,\"#7fbc41\"],[0.9,\"#4d9221\"],[1,\"#276419\"]]},\"xaxis\":{\"gridcolor\":\"white\",\"linecolor\":\"white\",\"ticks\":\"\",\"title\":{\"standoff\":15},\"zerolinecolor\":\"white\",\"automargin\":true,\"zerolinewidth\":2},\"yaxis\":{\"gridcolor\":\"white\",\"linecolor\":\"white\",\"ticks\":\"\",\"title\":{\"standoff\":15},\"zerolinecolor\":\"white\",\"automargin\":true,\"zerolinewidth\":2},\"scene\":{\"xaxis\":{\"backgroundcolor\":\"#E5ECF6\",\"gridcolor\":\"white\",\"linecolor\":\"white\",\"showbackground\":true,\"ticks\":\"\",\"zerolinecolor\":\"white\",\"gridwidth\":2},\"yaxis\":{\"backgroundcolor\":\"#E5ECF6\",\"gridcolor\":\"white\",\"linecolor\":\"white\",\"showbackground\":true,\"ticks\":\"\",\"zerolinecolor\":\"white\",\"gridwidth\":2},\"zaxis\":{\"backgroundcolor\":\"#E5ECF6\",\"gridcolor\":\"white\",\"linecolor\":\"white\",\"showbackground\":true,\"ticks\":\"\",\"zerolinecolor\":\"white\",\"gridwidth\":2}},\"shapedefaults\":{\"line\":{\"color\":\"#2a3f5f\"}},\"annotationdefaults\":{\"arrowcolor\":\"#2a3f5f\",\"arrowhead\":0,\"arrowwidth\":1},\"geo\":{\"bgcolor\":\"white\",\"landcolor\":\"#E5ECF6\",\"subunitcolor\":\"white\",\"showland\":true,\"showlakes\":true,\"lakecolor\":\"white\"},\"title\":{\"x\":0.05},\"mapbox\":{\"style\":\"light\"}}},\"title\":{\"text\":\"1 layers, loss\"}},                        {\"responsive\": true}                    ).then(function(){\n",
              "                            \n",
              "var gd = document.getElementById('b6f8389b-b005-4932-8daf-4457c127dcb2');\n",
              "var x = new MutationObserver(function (mutations, observer) {{\n",
              "        var display = window.getComputedStyle(gd).display;\n",
              "        if (!display || display === 'none') {{\n",
              "            console.log([gd, 'removed!']);\n",
              "            Plotly.purge(gd);\n",
              "            observer.disconnect();\n",
              "        }}\n",
              "}});\n",
              "\n",
              "// Listen for the removal of the full notebook cells\n",
              "var notebookContainer = gd.closest('#notebook-container');\n",
              "if (notebookContainer) {{\n",
              "    x.observe(notebookContainer, {childList: true});\n",
              "}}\n",
              "\n",
              "// Listen for the clearing of the current output cell\n",
              "var outputEl = gd.closest('.output');\n",
              "if (outputEl) {{\n",
              "    x.observe(outputEl, {childList: true});\n",
              "}}\n",
              "\n",
              "                        })                };                });            </script>        </div>"
            ]
          },
          "metadata": {},
          "output_type": "display_data"
        },
        {
          "data": {
            "application/vnd.plotly.v1+json": {
              "config": {
                "plotlyServerURL": "https://plot.ly"
              },
              "data": [
                {
                  "mode": "lines+markers",
                  "name": "positional encoding",
                  "type": "scatter",
                  "x": [
                    0,
                    1,
                    2,
                    3,
                    4,
                    5,
                    6,
                    7,
                    8,
                    9
                  ],
                  "y": [
                    2.1702988570249535,
                    1.983997569808477,
                    1.3982347046272665,
                    0.8992541115495223,
                    0.8307461353796947,
                    0.8036867817745933,
                    0.7865852540052389,
                    0.7731270360041268,
                    0.7624501125721992,
                    0.7540563118608692
                  ]
                },
                {
                  "mode": "lines+markers",
                  "name": "no positional encoding",
                  "type": "scatter",
                  "x": [
                    0,
                    1,
                    2,
                    3,
                    4,
                    5,
                    6,
                    7,
                    8,
                    9
                  ],
                  "y": [
                    2.171448541592948,
                    2.0006793812860417,
                    1.7330948220023625,
                    1.4406476745122596,
                    1.2631234896333912,
                    1.1675953472716898,
                    1.1053743347336975,
                    1.0632328602332104,
                    1.0329417782493784,
                    1.0101392057877552
                  ]
                }
              ],
              "layout": {
                "template": {
                  "data": {
                    "bar": [
                      {
                        "error_x": {
                          "color": "#2a3f5f"
                        },
                        "error_y": {
                          "color": "#2a3f5f"
                        },
                        "marker": {
                          "line": {
                            "color": "#E5ECF6",
                            "width": 0.5
                          },
                          "pattern": {
                            "fillmode": "overlay",
                            "size": 10,
                            "solidity": 0.2
                          }
                        },
                        "type": "bar"
                      }
                    ],
                    "barpolar": [
                      {
                        "marker": {
                          "line": {
                            "color": "#E5ECF6",
                            "width": 0.5
                          },
                          "pattern": {
                            "fillmode": "overlay",
                            "size": 10,
                            "solidity": 0.2
                          }
                        },
                        "type": "barpolar"
                      }
                    ],
                    "carpet": [
                      {
                        "aaxis": {
                          "endlinecolor": "#2a3f5f",
                          "gridcolor": "white",
                          "linecolor": "white",
                          "minorgridcolor": "white",
                          "startlinecolor": "#2a3f5f"
                        },
                        "baxis": {
                          "endlinecolor": "#2a3f5f",
                          "gridcolor": "white",
                          "linecolor": "white",
                          "minorgridcolor": "white",
                          "startlinecolor": "#2a3f5f"
                        },
                        "type": "carpet"
                      }
                    ],
                    "choropleth": [
                      {
                        "colorbar": {
                          "outlinewidth": 0,
                          "ticks": ""
                        },
                        "type": "choropleth"
                      }
                    ],
                    "contour": [
                      {
                        "colorbar": {
                          "outlinewidth": 0,
                          "ticks": ""
                        },
                        "colorscale": [
                          [
                            0,
                            "#0d0887"
                          ],
                          [
                            0.1111111111111111,
                            "#46039f"
                          ],
                          [
                            0.2222222222222222,
                            "#7201a8"
                          ],
                          [
                            0.3333333333333333,
                            "#9c179e"
                          ],
                          [
                            0.4444444444444444,
                            "#bd3786"
                          ],
                          [
                            0.5555555555555556,
                            "#d8576b"
                          ],
                          [
                            0.6666666666666666,
                            "#ed7953"
                          ],
                          [
                            0.7777777777777778,
                            "#fb9f3a"
                          ],
                          [
                            0.8888888888888888,
                            "#fdca26"
                          ],
                          [
                            1,
                            "#f0f921"
                          ]
                        ],
                        "type": "contour"
                      }
                    ],
                    "contourcarpet": [
                      {
                        "colorbar": {
                          "outlinewidth": 0,
                          "ticks": ""
                        },
                        "type": "contourcarpet"
                      }
                    ],
                    "heatmap": [
                      {
                        "colorbar": {
                          "outlinewidth": 0,
                          "ticks": ""
                        },
                        "colorscale": [
                          [
                            0,
                            "#0d0887"
                          ],
                          [
                            0.1111111111111111,
                            "#46039f"
                          ],
                          [
                            0.2222222222222222,
                            "#7201a8"
                          ],
                          [
                            0.3333333333333333,
                            "#9c179e"
                          ],
                          [
                            0.4444444444444444,
                            "#bd3786"
                          ],
                          [
                            0.5555555555555556,
                            "#d8576b"
                          ],
                          [
                            0.6666666666666666,
                            "#ed7953"
                          ],
                          [
                            0.7777777777777778,
                            "#fb9f3a"
                          ],
                          [
                            0.8888888888888888,
                            "#fdca26"
                          ],
                          [
                            1,
                            "#f0f921"
                          ]
                        ],
                        "type": "heatmap"
                      }
                    ],
                    "heatmapgl": [
                      {
                        "colorbar": {
                          "outlinewidth": 0,
                          "ticks": ""
                        },
                        "colorscale": [
                          [
                            0,
                            "#0d0887"
                          ],
                          [
                            0.1111111111111111,
                            "#46039f"
                          ],
                          [
                            0.2222222222222222,
                            "#7201a8"
                          ],
                          [
                            0.3333333333333333,
                            "#9c179e"
                          ],
                          [
                            0.4444444444444444,
                            "#bd3786"
                          ],
                          [
                            0.5555555555555556,
                            "#d8576b"
                          ],
                          [
                            0.6666666666666666,
                            "#ed7953"
                          ],
                          [
                            0.7777777777777778,
                            "#fb9f3a"
                          ],
                          [
                            0.8888888888888888,
                            "#fdca26"
                          ],
                          [
                            1,
                            "#f0f921"
                          ]
                        ],
                        "type": "heatmapgl"
                      }
                    ],
                    "histogram": [
                      {
                        "marker": {
                          "pattern": {
                            "fillmode": "overlay",
                            "size": 10,
                            "solidity": 0.2
                          }
                        },
                        "type": "histogram"
                      }
                    ],
                    "histogram2d": [
                      {
                        "colorbar": {
                          "outlinewidth": 0,
                          "ticks": ""
                        },
                        "colorscale": [
                          [
                            0,
                            "#0d0887"
                          ],
                          [
                            0.1111111111111111,
                            "#46039f"
                          ],
                          [
                            0.2222222222222222,
                            "#7201a8"
                          ],
                          [
                            0.3333333333333333,
                            "#9c179e"
                          ],
                          [
                            0.4444444444444444,
                            "#bd3786"
                          ],
                          [
                            0.5555555555555556,
                            "#d8576b"
                          ],
                          [
                            0.6666666666666666,
                            "#ed7953"
                          ],
                          [
                            0.7777777777777778,
                            "#fb9f3a"
                          ],
                          [
                            0.8888888888888888,
                            "#fdca26"
                          ],
                          [
                            1,
                            "#f0f921"
                          ]
                        ],
                        "type": "histogram2d"
                      }
                    ],
                    "histogram2dcontour": [
                      {
                        "colorbar": {
                          "outlinewidth": 0,
                          "ticks": ""
                        },
                        "colorscale": [
                          [
                            0,
                            "#0d0887"
                          ],
                          [
                            0.1111111111111111,
                            "#46039f"
                          ],
                          [
                            0.2222222222222222,
                            "#7201a8"
                          ],
                          [
                            0.3333333333333333,
                            "#9c179e"
                          ],
                          [
                            0.4444444444444444,
                            "#bd3786"
                          ],
                          [
                            0.5555555555555556,
                            "#d8576b"
                          ],
                          [
                            0.6666666666666666,
                            "#ed7953"
                          ],
                          [
                            0.7777777777777778,
                            "#fb9f3a"
                          ],
                          [
                            0.8888888888888888,
                            "#fdca26"
                          ],
                          [
                            1,
                            "#f0f921"
                          ]
                        ],
                        "type": "histogram2dcontour"
                      }
                    ],
                    "mesh3d": [
                      {
                        "colorbar": {
                          "outlinewidth": 0,
                          "ticks": ""
                        },
                        "type": "mesh3d"
                      }
                    ],
                    "parcoords": [
                      {
                        "line": {
                          "colorbar": {
                            "outlinewidth": 0,
                            "ticks": ""
                          }
                        },
                        "type": "parcoords"
                      }
                    ],
                    "pie": [
                      {
                        "automargin": true,
                        "type": "pie"
                      }
                    ],
                    "scatter": [
                      {
                        "fillpattern": {
                          "fillmode": "overlay",
                          "size": 10,
                          "solidity": 0.2
                        },
                        "type": "scatter"
                      }
                    ],
                    "scatter3d": [
                      {
                        "line": {
                          "colorbar": {
                            "outlinewidth": 0,
                            "ticks": ""
                          }
                        },
                        "marker": {
                          "colorbar": {
                            "outlinewidth": 0,
                            "ticks": ""
                          }
                        },
                        "type": "scatter3d"
                      }
                    ],
                    "scattercarpet": [
                      {
                        "marker": {
                          "colorbar": {
                            "outlinewidth": 0,
                            "ticks": ""
                          }
                        },
                        "type": "scattercarpet"
                      }
                    ],
                    "scattergeo": [
                      {
                        "marker": {
                          "colorbar": {
                            "outlinewidth": 0,
                            "ticks": ""
                          }
                        },
                        "type": "scattergeo"
                      }
                    ],
                    "scattergl": [
                      {
                        "marker": {
                          "colorbar": {
                            "outlinewidth": 0,
                            "ticks": ""
                          }
                        },
                        "type": "scattergl"
                      }
                    ],
                    "scattermapbox": [
                      {
                        "marker": {
                          "colorbar": {
                            "outlinewidth": 0,
                            "ticks": ""
                          }
                        },
                        "type": "scattermapbox"
                      }
                    ],
                    "scatterpolar": [
                      {
                        "marker": {
                          "colorbar": {
                            "outlinewidth": 0,
                            "ticks": ""
                          }
                        },
                        "type": "scatterpolar"
                      }
                    ],
                    "scatterpolargl": [
                      {
                        "marker": {
                          "colorbar": {
                            "outlinewidth": 0,
                            "ticks": ""
                          }
                        },
                        "type": "scatterpolargl"
                      }
                    ],
                    "scatterternary": [
                      {
                        "marker": {
                          "colorbar": {
                            "outlinewidth": 0,
                            "ticks": ""
                          }
                        },
                        "type": "scatterternary"
                      }
                    ],
                    "surface": [
                      {
                        "colorbar": {
                          "outlinewidth": 0,
                          "ticks": ""
                        },
                        "colorscale": [
                          [
                            0,
                            "#0d0887"
                          ],
                          [
                            0.1111111111111111,
                            "#46039f"
                          ],
                          [
                            0.2222222222222222,
                            "#7201a8"
                          ],
                          [
                            0.3333333333333333,
                            "#9c179e"
                          ],
                          [
                            0.4444444444444444,
                            "#bd3786"
                          ],
                          [
                            0.5555555555555556,
                            "#d8576b"
                          ],
                          [
                            0.6666666666666666,
                            "#ed7953"
                          ],
                          [
                            0.7777777777777778,
                            "#fb9f3a"
                          ],
                          [
                            0.8888888888888888,
                            "#fdca26"
                          ],
                          [
                            1,
                            "#f0f921"
                          ]
                        ],
                        "type": "surface"
                      }
                    ],
                    "table": [
                      {
                        "cells": {
                          "fill": {
                            "color": "#EBF0F8"
                          },
                          "line": {
                            "color": "white"
                          }
                        },
                        "header": {
                          "fill": {
                            "color": "#C8D4E3"
                          },
                          "line": {
                            "color": "white"
                          }
                        },
                        "type": "table"
                      }
                    ]
                  },
                  "layout": {
                    "annotationdefaults": {
                      "arrowcolor": "#2a3f5f",
                      "arrowhead": 0,
                      "arrowwidth": 1
                    },
                    "autotypenumbers": "strict",
                    "coloraxis": {
                      "colorbar": {
                        "outlinewidth": 0,
                        "ticks": ""
                      }
                    },
                    "colorscale": {
                      "diverging": [
                        [
                          0,
                          "#8e0152"
                        ],
                        [
                          0.1,
                          "#c51b7d"
                        ],
                        [
                          0.2,
                          "#de77ae"
                        ],
                        [
                          0.3,
                          "#f1b6da"
                        ],
                        [
                          0.4,
                          "#fde0ef"
                        ],
                        [
                          0.5,
                          "#f7f7f7"
                        ],
                        [
                          0.6,
                          "#e6f5d0"
                        ],
                        [
                          0.7,
                          "#b8e186"
                        ],
                        [
                          0.8,
                          "#7fbc41"
                        ],
                        [
                          0.9,
                          "#4d9221"
                        ],
                        [
                          1,
                          "#276419"
                        ]
                      ],
                      "sequential": [
                        [
                          0,
                          "#0d0887"
                        ],
                        [
                          0.1111111111111111,
                          "#46039f"
                        ],
                        [
                          0.2222222222222222,
                          "#7201a8"
                        ],
                        [
                          0.3333333333333333,
                          "#9c179e"
                        ],
                        [
                          0.4444444444444444,
                          "#bd3786"
                        ],
                        [
                          0.5555555555555556,
                          "#d8576b"
                        ],
                        [
                          0.6666666666666666,
                          "#ed7953"
                        ],
                        [
                          0.7777777777777778,
                          "#fb9f3a"
                        ],
                        [
                          0.8888888888888888,
                          "#fdca26"
                        ],
                        [
                          1,
                          "#f0f921"
                        ]
                      ],
                      "sequentialminus": [
                        [
                          0,
                          "#0d0887"
                        ],
                        [
                          0.1111111111111111,
                          "#46039f"
                        ],
                        [
                          0.2222222222222222,
                          "#7201a8"
                        ],
                        [
                          0.3333333333333333,
                          "#9c179e"
                        ],
                        [
                          0.4444444444444444,
                          "#bd3786"
                        ],
                        [
                          0.5555555555555556,
                          "#d8576b"
                        ],
                        [
                          0.6666666666666666,
                          "#ed7953"
                        ],
                        [
                          0.7777777777777778,
                          "#fb9f3a"
                        ],
                        [
                          0.8888888888888888,
                          "#fdca26"
                        ],
                        [
                          1,
                          "#f0f921"
                        ]
                      ]
                    },
                    "colorway": [
                      "#636efa",
                      "#EF553B",
                      "#00cc96",
                      "#ab63fa",
                      "#FFA15A",
                      "#19d3f3",
                      "#FF6692",
                      "#B6E880",
                      "#FF97FF",
                      "#FECB52"
                    ],
                    "font": {
                      "color": "#2a3f5f"
                    },
                    "geo": {
                      "bgcolor": "white",
                      "lakecolor": "white",
                      "landcolor": "#E5ECF6",
                      "showlakes": true,
                      "showland": true,
                      "subunitcolor": "white"
                    },
                    "hoverlabel": {
                      "align": "left"
                    },
                    "hovermode": "closest",
                    "mapbox": {
                      "style": "light"
                    },
                    "paper_bgcolor": "white",
                    "plot_bgcolor": "#E5ECF6",
                    "polar": {
                      "angularaxis": {
                        "gridcolor": "white",
                        "linecolor": "white",
                        "ticks": ""
                      },
                      "bgcolor": "#E5ECF6",
                      "radialaxis": {
                        "gridcolor": "white",
                        "linecolor": "white",
                        "ticks": ""
                      }
                    },
                    "scene": {
                      "xaxis": {
                        "backgroundcolor": "#E5ECF6",
                        "gridcolor": "white",
                        "gridwidth": 2,
                        "linecolor": "white",
                        "showbackground": true,
                        "ticks": "",
                        "zerolinecolor": "white"
                      },
                      "yaxis": {
                        "backgroundcolor": "#E5ECF6",
                        "gridcolor": "white",
                        "gridwidth": 2,
                        "linecolor": "white",
                        "showbackground": true,
                        "ticks": "",
                        "zerolinecolor": "white"
                      },
                      "zaxis": {
                        "backgroundcolor": "#E5ECF6",
                        "gridcolor": "white",
                        "gridwidth": 2,
                        "linecolor": "white",
                        "showbackground": true,
                        "ticks": "",
                        "zerolinecolor": "white"
                      }
                    },
                    "shapedefaults": {
                      "line": {
                        "color": "#2a3f5f"
                      }
                    },
                    "ternary": {
                      "aaxis": {
                        "gridcolor": "white",
                        "linecolor": "white",
                        "ticks": ""
                      },
                      "baxis": {
                        "gridcolor": "white",
                        "linecolor": "white",
                        "ticks": ""
                      },
                      "bgcolor": "#E5ECF6",
                      "caxis": {
                        "gridcolor": "white",
                        "linecolor": "white",
                        "ticks": ""
                      }
                    },
                    "title": {
                      "x": 0.05
                    },
                    "xaxis": {
                      "automargin": true,
                      "gridcolor": "white",
                      "linecolor": "white",
                      "ticks": "",
                      "title": {
                        "standoff": 15
                      },
                      "zerolinecolor": "white",
                      "zerolinewidth": 2
                    },
                    "yaxis": {
                      "automargin": true,
                      "gridcolor": "white",
                      "linecolor": "white",
                      "ticks": "",
                      "title": {
                        "standoff": 15
                      },
                      "zerolinecolor": "white",
                      "zerolinewidth": 2
                    }
                  }
                },
                "title": {
                  "text": "2 layers, loss"
                }
              }
            },
            "text/html": [
              "<div>                            <div id=\"aa78c29a-4e98-4c29-9582-8b85bd2a5ca4\" class=\"plotly-graph-div\" style=\"height:525px; width:100%;\"></div>            <script type=\"text/javascript\">                require([\"plotly\"], function(Plotly) {                    window.PLOTLYENV=window.PLOTLYENV || {};                                    if (document.getElementById(\"aa78c29a-4e98-4c29-9582-8b85bd2a5ca4\")) {                    Plotly.newPlot(                        \"aa78c29a-4e98-4c29-9582-8b85bd2a5ca4\",                        [{\"mode\":\"lines+markers\",\"name\":\"positional encoding\",\"x\":[0,1,2,3,4,5,6,7,8,9],\"y\":[2.1702988570249535,1.983997569808477,1.3982347046272665,0.8992541115495223,0.8307461353796947,0.8036867817745933,0.7865852540052389,0.7731270360041268,0.7624501125721992,0.7540563118608692],\"type\":\"scatter\"},{\"mode\":\"lines+markers\",\"name\":\"no positional encoding\",\"x\":[0,1,2,3,4,5,6,7,8,9],\"y\":[2.171448541592948,2.0006793812860417,1.7330948220023625,1.4406476745122596,1.2631234896333912,1.1675953472716898,1.1053743347336975,1.0632328602332104,1.0329417782493784,1.0101392057877552],\"type\":\"scatter\"}],                        {\"template\":{\"data\":{\"histogram2dcontour\":[{\"type\":\"histogram2dcontour\",\"colorbar\":{\"outlinewidth\":0,\"ticks\":\"\"},\"colorscale\":[[0.0,\"#0d0887\"],[0.1111111111111111,\"#46039f\"],[0.2222222222222222,\"#7201a8\"],[0.3333333333333333,\"#9c179e\"],[0.4444444444444444,\"#bd3786\"],[0.5555555555555556,\"#d8576b\"],[0.6666666666666666,\"#ed7953\"],[0.7777777777777778,\"#fb9f3a\"],[0.8888888888888888,\"#fdca26\"],[1.0,\"#f0f921\"]]}],\"choropleth\":[{\"type\":\"choropleth\",\"colorbar\":{\"outlinewidth\":0,\"ticks\":\"\"}}],\"histogram2d\":[{\"type\":\"histogram2d\",\"colorbar\":{\"outlinewidth\":0,\"ticks\":\"\"},\"colorscale\":[[0.0,\"#0d0887\"],[0.1111111111111111,\"#46039f\"],[0.2222222222222222,\"#7201a8\"],[0.3333333333333333,\"#9c179e\"],[0.4444444444444444,\"#bd3786\"],[0.5555555555555556,\"#d8576b\"],[0.6666666666666666,\"#ed7953\"],[0.7777777777777778,\"#fb9f3a\"],[0.8888888888888888,\"#fdca26\"],[1.0,\"#f0f921\"]]}],\"heatmap\":[{\"type\":\"heatmap\",\"colorbar\":{\"outlinewidth\":0,\"ticks\":\"\"},\"colorscale\":[[0.0,\"#0d0887\"],[0.1111111111111111,\"#46039f\"],[0.2222222222222222,\"#7201a8\"],[0.3333333333333333,\"#9c179e\"],[0.4444444444444444,\"#bd3786\"],[0.5555555555555556,\"#d8576b\"],[0.6666666666666666,\"#ed7953\"],[0.7777777777777778,\"#fb9f3a\"],[0.8888888888888888,\"#fdca26\"],[1.0,\"#f0f921\"]]}],\"heatmapgl\":[{\"type\":\"heatmapgl\",\"colorbar\":{\"outlinewidth\":0,\"ticks\":\"\"},\"colorscale\":[[0.0,\"#0d0887\"],[0.1111111111111111,\"#46039f\"],[0.2222222222222222,\"#7201a8\"],[0.3333333333333333,\"#9c179e\"],[0.4444444444444444,\"#bd3786\"],[0.5555555555555556,\"#d8576b\"],[0.6666666666666666,\"#ed7953\"],[0.7777777777777778,\"#fb9f3a\"],[0.8888888888888888,\"#fdca26\"],[1.0,\"#f0f921\"]]}],\"contourcarpet\":[{\"type\":\"contourcarpet\",\"colorbar\":{\"outlinewidth\":0,\"ticks\":\"\"}}],\"contour\":[{\"type\":\"contour\",\"colorbar\":{\"outlinewidth\":0,\"ticks\":\"\"},\"colorscale\":[[0.0,\"#0d0887\"],[0.1111111111111111,\"#46039f\"],[0.2222222222222222,\"#7201a8\"],[0.3333333333333333,\"#9c179e\"],[0.4444444444444444,\"#bd3786\"],[0.5555555555555556,\"#d8576b\"],[0.6666666666666666,\"#ed7953\"],[0.7777777777777778,\"#fb9f3a\"],[0.8888888888888888,\"#fdca26\"],[1.0,\"#f0f921\"]]}],\"surface\":[{\"type\":\"surface\",\"colorbar\":{\"outlinewidth\":0,\"ticks\":\"\"},\"colorscale\":[[0.0,\"#0d0887\"],[0.1111111111111111,\"#46039f\"],[0.2222222222222222,\"#7201a8\"],[0.3333333333333333,\"#9c179e\"],[0.4444444444444444,\"#bd3786\"],[0.5555555555555556,\"#d8576b\"],[0.6666666666666666,\"#ed7953\"],[0.7777777777777778,\"#fb9f3a\"],[0.8888888888888888,\"#fdca26\"],[1.0,\"#f0f921\"]]}],\"mesh3d\":[{\"type\":\"mesh3d\",\"colorbar\":{\"outlinewidth\":0,\"ticks\":\"\"}}],\"scatter\":[{\"fillpattern\":{\"fillmode\":\"overlay\",\"size\":10,\"solidity\":0.2},\"type\":\"scatter\"}],\"parcoords\":[{\"type\":\"parcoords\",\"line\":{\"colorbar\":{\"outlinewidth\":0,\"ticks\":\"\"}}}],\"scatterpolargl\":[{\"type\":\"scatterpolargl\",\"marker\":{\"colorbar\":{\"outlinewidth\":0,\"ticks\":\"\"}}}],\"bar\":[{\"error_x\":{\"color\":\"#2a3f5f\"},\"error_y\":{\"color\":\"#2a3f5f\"},\"marker\":{\"line\":{\"color\":\"#E5ECF6\",\"width\":0.5},\"pattern\":{\"fillmode\":\"overlay\",\"size\":10,\"solidity\":0.2}},\"type\":\"bar\"}],\"scattergeo\":[{\"type\":\"scattergeo\",\"marker\":{\"colorbar\":{\"outlinewidth\":0,\"ticks\":\"\"}}}],\"scatterpolar\":[{\"type\":\"scatterpolar\",\"marker\":{\"colorbar\":{\"outlinewidth\":0,\"ticks\":\"\"}}}],\"histogram\":[{\"marker\":{\"pattern\":{\"fillmode\":\"overlay\",\"size\":10,\"solidity\":0.2}},\"type\":\"histogram\"}],\"scattergl\":[{\"type\":\"scattergl\",\"marker\":{\"colorbar\":{\"outlinewidth\":0,\"ticks\":\"\"}}}],\"scatter3d\":[{\"type\":\"scatter3d\",\"line\":{\"colorbar\":{\"outlinewidth\":0,\"ticks\":\"\"}},\"marker\":{\"colorbar\":{\"outlinewidth\":0,\"ticks\":\"\"}}}],\"scattermapbox\":[{\"type\":\"scattermapbox\",\"marker\":{\"colorbar\":{\"outlinewidth\":0,\"ticks\":\"\"}}}],\"scatterternary\":[{\"type\":\"scatterternary\",\"marker\":{\"colorbar\":{\"outlinewidth\":0,\"ticks\":\"\"}}}],\"scattercarpet\":[{\"type\":\"scattercarpet\",\"marker\":{\"colorbar\":{\"outlinewidth\":0,\"ticks\":\"\"}}}],\"carpet\":[{\"aaxis\":{\"endlinecolor\":\"#2a3f5f\",\"gridcolor\":\"white\",\"linecolor\":\"white\",\"minorgridcolor\":\"white\",\"startlinecolor\":\"#2a3f5f\"},\"baxis\":{\"endlinecolor\":\"#2a3f5f\",\"gridcolor\":\"white\",\"linecolor\":\"white\",\"minorgridcolor\":\"white\",\"startlinecolor\":\"#2a3f5f\"},\"type\":\"carpet\"}],\"table\":[{\"cells\":{\"fill\":{\"color\":\"#EBF0F8\"},\"line\":{\"color\":\"white\"}},\"header\":{\"fill\":{\"color\":\"#C8D4E3\"},\"line\":{\"color\":\"white\"}},\"type\":\"table\"}],\"barpolar\":[{\"marker\":{\"line\":{\"color\":\"#E5ECF6\",\"width\":0.5},\"pattern\":{\"fillmode\":\"overlay\",\"size\":10,\"solidity\":0.2}},\"type\":\"barpolar\"}],\"pie\":[{\"automargin\":true,\"type\":\"pie\"}]},\"layout\":{\"autotypenumbers\":\"strict\",\"colorway\":[\"#636efa\",\"#EF553B\",\"#00cc96\",\"#ab63fa\",\"#FFA15A\",\"#19d3f3\",\"#FF6692\",\"#B6E880\",\"#FF97FF\",\"#FECB52\"],\"font\":{\"color\":\"#2a3f5f\"},\"hovermode\":\"closest\",\"hoverlabel\":{\"align\":\"left\"},\"paper_bgcolor\":\"white\",\"plot_bgcolor\":\"#E5ECF6\",\"polar\":{\"bgcolor\":\"#E5ECF6\",\"angularaxis\":{\"gridcolor\":\"white\",\"linecolor\":\"white\",\"ticks\":\"\"},\"radialaxis\":{\"gridcolor\":\"white\",\"linecolor\":\"white\",\"ticks\":\"\"}},\"ternary\":{\"bgcolor\":\"#E5ECF6\",\"aaxis\":{\"gridcolor\":\"white\",\"linecolor\":\"white\",\"ticks\":\"\"},\"baxis\":{\"gridcolor\":\"white\",\"linecolor\":\"white\",\"ticks\":\"\"},\"caxis\":{\"gridcolor\":\"white\",\"linecolor\":\"white\",\"ticks\":\"\"}},\"coloraxis\":{\"colorbar\":{\"outlinewidth\":0,\"ticks\":\"\"}},\"colorscale\":{\"sequential\":[[0.0,\"#0d0887\"],[0.1111111111111111,\"#46039f\"],[0.2222222222222222,\"#7201a8\"],[0.3333333333333333,\"#9c179e\"],[0.4444444444444444,\"#bd3786\"],[0.5555555555555556,\"#d8576b\"],[0.6666666666666666,\"#ed7953\"],[0.7777777777777778,\"#fb9f3a\"],[0.8888888888888888,\"#fdca26\"],[1.0,\"#f0f921\"]],\"sequentialminus\":[[0.0,\"#0d0887\"],[0.1111111111111111,\"#46039f\"],[0.2222222222222222,\"#7201a8\"],[0.3333333333333333,\"#9c179e\"],[0.4444444444444444,\"#bd3786\"],[0.5555555555555556,\"#d8576b\"],[0.6666666666666666,\"#ed7953\"],[0.7777777777777778,\"#fb9f3a\"],[0.8888888888888888,\"#fdca26\"],[1.0,\"#f0f921\"]],\"diverging\":[[0,\"#8e0152\"],[0.1,\"#c51b7d\"],[0.2,\"#de77ae\"],[0.3,\"#f1b6da\"],[0.4,\"#fde0ef\"],[0.5,\"#f7f7f7\"],[0.6,\"#e6f5d0\"],[0.7,\"#b8e186\"],[0.8,\"#7fbc41\"],[0.9,\"#4d9221\"],[1,\"#276419\"]]},\"xaxis\":{\"gridcolor\":\"white\",\"linecolor\":\"white\",\"ticks\":\"\",\"title\":{\"standoff\":15},\"zerolinecolor\":\"white\",\"automargin\":true,\"zerolinewidth\":2},\"yaxis\":{\"gridcolor\":\"white\",\"linecolor\":\"white\",\"ticks\":\"\",\"title\":{\"standoff\":15},\"zerolinecolor\":\"white\",\"automargin\":true,\"zerolinewidth\":2},\"scene\":{\"xaxis\":{\"backgroundcolor\":\"#E5ECF6\",\"gridcolor\":\"white\",\"linecolor\":\"white\",\"showbackground\":true,\"ticks\":\"\",\"zerolinecolor\":\"white\",\"gridwidth\":2},\"yaxis\":{\"backgroundcolor\":\"#E5ECF6\",\"gridcolor\":\"white\",\"linecolor\":\"white\",\"showbackground\":true,\"ticks\":\"\",\"zerolinecolor\":\"white\",\"gridwidth\":2},\"zaxis\":{\"backgroundcolor\":\"#E5ECF6\",\"gridcolor\":\"white\",\"linecolor\":\"white\",\"showbackground\":true,\"ticks\":\"\",\"zerolinecolor\":\"white\",\"gridwidth\":2}},\"shapedefaults\":{\"line\":{\"color\":\"#2a3f5f\"}},\"annotationdefaults\":{\"arrowcolor\":\"#2a3f5f\",\"arrowhead\":0,\"arrowwidth\":1},\"geo\":{\"bgcolor\":\"white\",\"landcolor\":\"#E5ECF6\",\"subunitcolor\":\"white\",\"showland\":true,\"showlakes\":true,\"lakecolor\":\"white\"},\"title\":{\"x\":0.05},\"mapbox\":{\"style\":\"light\"}}},\"title\":{\"text\":\"2 layers, loss\"}},                        {\"responsive\": true}                    ).then(function(){\n",
              "                            \n",
              "var gd = document.getElementById('aa78c29a-4e98-4c29-9582-8b85bd2a5ca4');\n",
              "var x = new MutationObserver(function (mutations, observer) {{\n",
              "        var display = window.getComputedStyle(gd).display;\n",
              "        if (!display || display === 'none') {{\n",
              "            console.log([gd, 'removed!']);\n",
              "            Plotly.purge(gd);\n",
              "            observer.disconnect();\n",
              "        }}\n",
              "}});\n",
              "\n",
              "// Listen for the removal of the full notebook cells\n",
              "var notebookContainer = gd.closest('#notebook-container');\n",
              "if (notebookContainer) {{\n",
              "    x.observe(notebookContainer, {childList: true});\n",
              "}}\n",
              "\n",
              "// Listen for the clearing of the current output cell\n",
              "var outputEl = gd.closest('.output');\n",
              "if (outputEl) {{\n",
              "    x.observe(outputEl, {childList: true});\n",
              "}}\n",
              "\n",
              "                        })                };                });            </script>        </div>"
            ]
          },
          "metadata": {},
          "output_type": "display_data"
        },
        {
          "data": {
            "application/vnd.plotly.v1+json": {
              "config": {
                "plotlyServerURL": "https://plot.ly"
              },
              "data": [
                {
                  "mode": "lines+markers",
                  "name": "positional encoding",
                  "type": "scatter",
                  "x": [
                    0,
                    1,
                    2,
                    3,
                    4,
                    5,
                    6,
                    7,
                    8,
                    9
                  ],
                  "y": [
                    2.1458149107196665,
                    1.9447608371324177,
                    1.2172111265266998,
                    0.8547891974449158,
                    0.8064939583404155,
                    0.7830814809738835,
                    0.7668965111804914,
                    0.7540977597236633,
                    0.7436235826226729,
                    0.7351534260979181
                  ]
                },
                {
                  "mode": "lines+markers",
                  "name": "no positional encoding",
                  "type": "scatter",
                  "x": [
                    0,
                    1,
                    2,
                    3,
                    4,
                    5,
                    6,
                    7,
                    8,
                    9
                  ],
                  "y": [
                    2.168028629278835,
                    1.8816121363941627,
                    1.308258286005334,
                    1.0728370222864272,
                    0.9856038078477111,
                    0.9261331980741476,
                    0.8839919438844994,
                    0.8547073866747603,
                    0.83225564262535,
                    0.8139200633085226
                  ]
                }
              ],
              "layout": {
                "template": {
                  "data": {
                    "bar": [
                      {
                        "error_x": {
                          "color": "#2a3f5f"
                        },
                        "error_y": {
                          "color": "#2a3f5f"
                        },
                        "marker": {
                          "line": {
                            "color": "#E5ECF6",
                            "width": 0.5
                          },
                          "pattern": {
                            "fillmode": "overlay",
                            "size": 10,
                            "solidity": 0.2
                          }
                        },
                        "type": "bar"
                      }
                    ],
                    "barpolar": [
                      {
                        "marker": {
                          "line": {
                            "color": "#E5ECF6",
                            "width": 0.5
                          },
                          "pattern": {
                            "fillmode": "overlay",
                            "size": 10,
                            "solidity": 0.2
                          }
                        },
                        "type": "barpolar"
                      }
                    ],
                    "carpet": [
                      {
                        "aaxis": {
                          "endlinecolor": "#2a3f5f",
                          "gridcolor": "white",
                          "linecolor": "white",
                          "minorgridcolor": "white",
                          "startlinecolor": "#2a3f5f"
                        },
                        "baxis": {
                          "endlinecolor": "#2a3f5f",
                          "gridcolor": "white",
                          "linecolor": "white",
                          "minorgridcolor": "white",
                          "startlinecolor": "#2a3f5f"
                        },
                        "type": "carpet"
                      }
                    ],
                    "choropleth": [
                      {
                        "colorbar": {
                          "outlinewidth": 0,
                          "ticks": ""
                        },
                        "type": "choropleth"
                      }
                    ],
                    "contour": [
                      {
                        "colorbar": {
                          "outlinewidth": 0,
                          "ticks": ""
                        },
                        "colorscale": [
                          [
                            0,
                            "#0d0887"
                          ],
                          [
                            0.1111111111111111,
                            "#46039f"
                          ],
                          [
                            0.2222222222222222,
                            "#7201a8"
                          ],
                          [
                            0.3333333333333333,
                            "#9c179e"
                          ],
                          [
                            0.4444444444444444,
                            "#bd3786"
                          ],
                          [
                            0.5555555555555556,
                            "#d8576b"
                          ],
                          [
                            0.6666666666666666,
                            "#ed7953"
                          ],
                          [
                            0.7777777777777778,
                            "#fb9f3a"
                          ],
                          [
                            0.8888888888888888,
                            "#fdca26"
                          ],
                          [
                            1,
                            "#f0f921"
                          ]
                        ],
                        "type": "contour"
                      }
                    ],
                    "contourcarpet": [
                      {
                        "colorbar": {
                          "outlinewidth": 0,
                          "ticks": ""
                        },
                        "type": "contourcarpet"
                      }
                    ],
                    "heatmap": [
                      {
                        "colorbar": {
                          "outlinewidth": 0,
                          "ticks": ""
                        },
                        "colorscale": [
                          [
                            0,
                            "#0d0887"
                          ],
                          [
                            0.1111111111111111,
                            "#46039f"
                          ],
                          [
                            0.2222222222222222,
                            "#7201a8"
                          ],
                          [
                            0.3333333333333333,
                            "#9c179e"
                          ],
                          [
                            0.4444444444444444,
                            "#bd3786"
                          ],
                          [
                            0.5555555555555556,
                            "#d8576b"
                          ],
                          [
                            0.6666666666666666,
                            "#ed7953"
                          ],
                          [
                            0.7777777777777778,
                            "#fb9f3a"
                          ],
                          [
                            0.8888888888888888,
                            "#fdca26"
                          ],
                          [
                            1,
                            "#f0f921"
                          ]
                        ],
                        "type": "heatmap"
                      }
                    ],
                    "heatmapgl": [
                      {
                        "colorbar": {
                          "outlinewidth": 0,
                          "ticks": ""
                        },
                        "colorscale": [
                          [
                            0,
                            "#0d0887"
                          ],
                          [
                            0.1111111111111111,
                            "#46039f"
                          ],
                          [
                            0.2222222222222222,
                            "#7201a8"
                          ],
                          [
                            0.3333333333333333,
                            "#9c179e"
                          ],
                          [
                            0.4444444444444444,
                            "#bd3786"
                          ],
                          [
                            0.5555555555555556,
                            "#d8576b"
                          ],
                          [
                            0.6666666666666666,
                            "#ed7953"
                          ],
                          [
                            0.7777777777777778,
                            "#fb9f3a"
                          ],
                          [
                            0.8888888888888888,
                            "#fdca26"
                          ],
                          [
                            1,
                            "#f0f921"
                          ]
                        ],
                        "type": "heatmapgl"
                      }
                    ],
                    "histogram": [
                      {
                        "marker": {
                          "pattern": {
                            "fillmode": "overlay",
                            "size": 10,
                            "solidity": 0.2
                          }
                        },
                        "type": "histogram"
                      }
                    ],
                    "histogram2d": [
                      {
                        "colorbar": {
                          "outlinewidth": 0,
                          "ticks": ""
                        },
                        "colorscale": [
                          [
                            0,
                            "#0d0887"
                          ],
                          [
                            0.1111111111111111,
                            "#46039f"
                          ],
                          [
                            0.2222222222222222,
                            "#7201a8"
                          ],
                          [
                            0.3333333333333333,
                            "#9c179e"
                          ],
                          [
                            0.4444444444444444,
                            "#bd3786"
                          ],
                          [
                            0.5555555555555556,
                            "#d8576b"
                          ],
                          [
                            0.6666666666666666,
                            "#ed7953"
                          ],
                          [
                            0.7777777777777778,
                            "#fb9f3a"
                          ],
                          [
                            0.8888888888888888,
                            "#fdca26"
                          ],
                          [
                            1,
                            "#f0f921"
                          ]
                        ],
                        "type": "histogram2d"
                      }
                    ],
                    "histogram2dcontour": [
                      {
                        "colorbar": {
                          "outlinewidth": 0,
                          "ticks": ""
                        },
                        "colorscale": [
                          [
                            0,
                            "#0d0887"
                          ],
                          [
                            0.1111111111111111,
                            "#46039f"
                          ],
                          [
                            0.2222222222222222,
                            "#7201a8"
                          ],
                          [
                            0.3333333333333333,
                            "#9c179e"
                          ],
                          [
                            0.4444444444444444,
                            "#bd3786"
                          ],
                          [
                            0.5555555555555556,
                            "#d8576b"
                          ],
                          [
                            0.6666666666666666,
                            "#ed7953"
                          ],
                          [
                            0.7777777777777778,
                            "#fb9f3a"
                          ],
                          [
                            0.8888888888888888,
                            "#fdca26"
                          ],
                          [
                            1,
                            "#f0f921"
                          ]
                        ],
                        "type": "histogram2dcontour"
                      }
                    ],
                    "mesh3d": [
                      {
                        "colorbar": {
                          "outlinewidth": 0,
                          "ticks": ""
                        },
                        "type": "mesh3d"
                      }
                    ],
                    "parcoords": [
                      {
                        "line": {
                          "colorbar": {
                            "outlinewidth": 0,
                            "ticks": ""
                          }
                        },
                        "type": "parcoords"
                      }
                    ],
                    "pie": [
                      {
                        "automargin": true,
                        "type": "pie"
                      }
                    ],
                    "scatter": [
                      {
                        "fillpattern": {
                          "fillmode": "overlay",
                          "size": 10,
                          "solidity": 0.2
                        },
                        "type": "scatter"
                      }
                    ],
                    "scatter3d": [
                      {
                        "line": {
                          "colorbar": {
                            "outlinewidth": 0,
                            "ticks": ""
                          }
                        },
                        "marker": {
                          "colorbar": {
                            "outlinewidth": 0,
                            "ticks": ""
                          }
                        },
                        "type": "scatter3d"
                      }
                    ],
                    "scattercarpet": [
                      {
                        "marker": {
                          "colorbar": {
                            "outlinewidth": 0,
                            "ticks": ""
                          }
                        },
                        "type": "scattercarpet"
                      }
                    ],
                    "scattergeo": [
                      {
                        "marker": {
                          "colorbar": {
                            "outlinewidth": 0,
                            "ticks": ""
                          }
                        },
                        "type": "scattergeo"
                      }
                    ],
                    "scattergl": [
                      {
                        "marker": {
                          "colorbar": {
                            "outlinewidth": 0,
                            "ticks": ""
                          }
                        },
                        "type": "scattergl"
                      }
                    ],
                    "scattermapbox": [
                      {
                        "marker": {
                          "colorbar": {
                            "outlinewidth": 0,
                            "ticks": ""
                          }
                        },
                        "type": "scattermapbox"
                      }
                    ],
                    "scatterpolar": [
                      {
                        "marker": {
                          "colorbar": {
                            "outlinewidth": 0,
                            "ticks": ""
                          }
                        },
                        "type": "scatterpolar"
                      }
                    ],
                    "scatterpolargl": [
                      {
                        "marker": {
                          "colorbar": {
                            "outlinewidth": 0,
                            "ticks": ""
                          }
                        },
                        "type": "scatterpolargl"
                      }
                    ],
                    "scatterternary": [
                      {
                        "marker": {
                          "colorbar": {
                            "outlinewidth": 0,
                            "ticks": ""
                          }
                        },
                        "type": "scatterternary"
                      }
                    ],
                    "surface": [
                      {
                        "colorbar": {
                          "outlinewidth": 0,
                          "ticks": ""
                        },
                        "colorscale": [
                          [
                            0,
                            "#0d0887"
                          ],
                          [
                            0.1111111111111111,
                            "#46039f"
                          ],
                          [
                            0.2222222222222222,
                            "#7201a8"
                          ],
                          [
                            0.3333333333333333,
                            "#9c179e"
                          ],
                          [
                            0.4444444444444444,
                            "#bd3786"
                          ],
                          [
                            0.5555555555555556,
                            "#d8576b"
                          ],
                          [
                            0.6666666666666666,
                            "#ed7953"
                          ],
                          [
                            0.7777777777777778,
                            "#fb9f3a"
                          ],
                          [
                            0.8888888888888888,
                            "#fdca26"
                          ],
                          [
                            1,
                            "#f0f921"
                          ]
                        ],
                        "type": "surface"
                      }
                    ],
                    "table": [
                      {
                        "cells": {
                          "fill": {
                            "color": "#EBF0F8"
                          },
                          "line": {
                            "color": "white"
                          }
                        },
                        "header": {
                          "fill": {
                            "color": "#C8D4E3"
                          },
                          "line": {
                            "color": "white"
                          }
                        },
                        "type": "table"
                      }
                    ]
                  },
                  "layout": {
                    "annotationdefaults": {
                      "arrowcolor": "#2a3f5f",
                      "arrowhead": 0,
                      "arrowwidth": 1
                    },
                    "autotypenumbers": "strict",
                    "coloraxis": {
                      "colorbar": {
                        "outlinewidth": 0,
                        "ticks": ""
                      }
                    },
                    "colorscale": {
                      "diverging": [
                        [
                          0,
                          "#8e0152"
                        ],
                        [
                          0.1,
                          "#c51b7d"
                        ],
                        [
                          0.2,
                          "#de77ae"
                        ],
                        [
                          0.3,
                          "#f1b6da"
                        ],
                        [
                          0.4,
                          "#fde0ef"
                        ],
                        [
                          0.5,
                          "#f7f7f7"
                        ],
                        [
                          0.6,
                          "#e6f5d0"
                        ],
                        [
                          0.7,
                          "#b8e186"
                        ],
                        [
                          0.8,
                          "#7fbc41"
                        ],
                        [
                          0.9,
                          "#4d9221"
                        ],
                        [
                          1,
                          "#276419"
                        ]
                      ],
                      "sequential": [
                        [
                          0,
                          "#0d0887"
                        ],
                        [
                          0.1111111111111111,
                          "#46039f"
                        ],
                        [
                          0.2222222222222222,
                          "#7201a8"
                        ],
                        [
                          0.3333333333333333,
                          "#9c179e"
                        ],
                        [
                          0.4444444444444444,
                          "#bd3786"
                        ],
                        [
                          0.5555555555555556,
                          "#d8576b"
                        ],
                        [
                          0.6666666666666666,
                          "#ed7953"
                        ],
                        [
                          0.7777777777777778,
                          "#fb9f3a"
                        ],
                        [
                          0.8888888888888888,
                          "#fdca26"
                        ],
                        [
                          1,
                          "#f0f921"
                        ]
                      ],
                      "sequentialminus": [
                        [
                          0,
                          "#0d0887"
                        ],
                        [
                          0.1111111111111111,
                          "#46039f"
                        ],
                        [
                          0.2222222222222222,
                          "#7201a8"
                        ],
                        [
                          0.3333333333333333,
                          "#9c179e"
                        ],
                        [
                          0.4444444444444444,
                          "#bd3786"
                        ],
                        [
                          0.5555555555555556,
                          "#d8576b"
                        ],
                        [
                          0.6666666666666666,
                          "#ed7953"
                        ],
                        [
                          0.7777777777777778,
                          "#fb9f3a"
                        ],
                        [
                          0.8888888888888888,
                          "#fdca26"
                        ],
                        [
                          1,
                          "#f0f921"
                        ]
                      ]
                    },
                    "colorway": [
                      "#636efa",
                      "#EF553B",
                      "#00cc96",
                      "#ab63fa",
                      "#FFA15A",
                      "#19d3f3",
                      "#FF6692",
                      "#B6E880",
                      "#FF97FF",
                      "#FECB52"
                    ],
                    "font": {
                      "color": "#2a3f5f"
                    },
                    "geo": {
                      "bgcolor": "white",
                      "lakecolor": "white",
                      "landcolor": "#E5ECF6",
                      "showlakes": true,
                      "showland": true,
                      "subunitcolor": "white"
                    },
                    "hoverlabel": {
                      "align": "left"
                    },
                    "hovermode": "closest",
                    "mapbox": {
                      "style": "light"
                    },
                    "paper_bgcolor": "white",
                    "plot_bgcolor": "#E5ECF6",
                    "polar": {
                      "angularaxis": {
                        "gridcolor": "white",
                        "linecolor": "white",
                        "ticks": ""
                      },
                      "bgcolor": "#E5ECF6",
                      "radialaxis": {
                        "gridcolor": "white",
                        "linecolor": "white",
                        "ticks": ""
                      }
                    },
                    "scene": {
                      "xaxis": {
                        "backgroundcolor": "#E5ECF6",
                        "gridcolor": "white",
                        "gridwidth": 2,
                        "linecolor": "white",
                        "showbackground": true,
                        "ticks": "",
                        "zerolinecolor": "white"
                      },
                      "yaxis": {
                        "backgroundcolor": "#E5ECF6",
                        "gridcolor": "white",
                        "gridwidth": 2,
                        "linecolor": "white",
                        "showbackground": true,
                        "ticks": "",
                        "zerolinecolor": "white"
                      },
                      "zaxis": {
                        "backgroundcolor": "#E5ECF6",
                        "gridcolor": "white",
                        "gridwidth": 2,
                        "linecolor": "white",
                        "showbackground": true,
                        "ticks": "",
                        "zerolinecolor": "white"
                      }
                    },
                    "shapedefaults": {
                      "line": {
                        "color": "#2a3f5f"
                      }
                    },
                    "ternary": {
                      "aaxis": {
                        "gridcolor": "white",
                        "linecolor": "white",
                        "ticks": ""
                      },
                      "baxis": {
                        "gridcolor": "white",
                        "linecolor": "white",
                        "ticks": ""
                      },
                      "bgcolor": "#E5ECF6",
                      "caxis": {
                        "gridcolor": "white",
                        "linecolor": "white",
                        "ticks": ""
                      }
                    },
                    "title": {
                      "x": 0.05
                    },
                    "xaxis": {
                      "automargin": true,
                      "gridcolor": "white",
                      "linecolor": "white",
                      "ticks": "",
                      "title": {
                        "standoff": 15
                      },
                      "zerolinecolor": "white",
                      "zerolinewidth": 2
                    },
                    "yaxis": {
                      "automargin": true,
                      "gridcolor": "white",
                      "linecolor": "white",
                      "ticks": "",
                      "title": {
                        "standoff": 15
                      },
                      "zerolinecolor": "white",
                      "zerolinewidth": 2
                    }
                  }
                },
                "title": {
                  "text": "3 layers, loss"
                }
              }
            },
            "text/html": [
              "<div>                            <div id=\"0db33044-944f-4786-bd93-73861bf2daf7\" class=\"plotly-graph-div\" style=\"height:525px; width:100%;\"></div>            <script type=\"text/javascript\">                require([\"plotly\"], function(Plotly) {                    window.PLOTLYENV=window.PLOTLYENV || {};                                    if (document.getElementById(\"0db33044-944f-4786-bd93-73861bf2daf7\")) {                    Plotly.newPlot(                        \"0db33044-944f-4786-bd93-73861bf2daf7\",                        [{\"mode\":\"lines+markers\",\"name\":\"positional encoding\",\"x\":[0,1,2,3,4,5,6,7,8,9],\"y\":[2.1458149107196665,1.9447608371324177,1.2172111265266998,0.8547891974449158,0.8064939583404155,0.7830814809738835,0.7668965111804914,0.7540977597236633,0.7436235826226729,0.7351534260979181],\"type\":\"scatter\"},{\"mode\":\"lines+markers\",\"name\":\"no positional encoding\",\"x\":[0,1,2,3,4,5,6,7,8,9],\"y\":[2.168028629278835,1.8816121363941627,1.308258286005334,1.0728370222864272,0.9856038078477111,0.9261331980741476,0.8839919438844994,0.8547073866747603,0.83225564262535,0.8139200633085226],\"type\":\"scatter\"}],                        {\"template\":{\"data\":{\"histogram2dcontour\":[{\"type\":\"histogram2dcontour\",\"colorbar\":{\"outlinewidth\":0,\"ticks\":\"\"},\"colorscale\":[[0.0,\"#0d0887\"],[0.1111111111111111,\"#46039f\"],[0.2222222222222222,\"#7201a8\"],[0.3333333333333333,\"#9c179e\"],[0.4444444444444444,\"#bd3786\"],[0.5555555555555556,\"#d8576b\"],[0.6666666666666666,\"#ed7953\"],[0.7777777777777778,\"#fb9f3a\"],[0.8888888888888888,\"#fdca26\"],[1.0,\"#f0f921\"]]}],\"choropleth\":[{\"type\":\"choropleth\",\"colorbar\":{\"outlinewidth\":0,\"ticks\":\"\"}}],\"histogram2d\":[{\"type\":\"histogram2d\",\"colorbar\":{\"outlinewidth\":0,\"ticks\":\"\"},\"colorscale\":[[0.0,\"#0d0887\"],[0.1111111111111111,\"#46039f\"],[0.2222222222222222,\"#7201a8\"],[0.3333333333333333,\"#9c179e\"],[0.4444444444444444,\"#bd3786\"],[0.5555555555555556,\"#d8576b\"],[0.6666666666666666,\"#ed7953\"],[0.7777777777777778,\"#fb9f3a\"],[0.8888888888888888,\"#fdca26\"],[1.0,\"#f0f921\"]]}],\"heatmap\":[{\"type\":\"heatmap\",\"colorbar\":{\"outlinewidth\":0,\"ticks\":\"\"},\"colorscale\":[[0.0,\"#0d0887\"],[0.1111111111111111,\"#46039f\"],[0.2222222222222222,\"#7201a8\"],[0.3333333333333333,\"#9c179e\"],[0.4444444444444444,\"#bd3786\"],[0.5555555555555556,\"#d8576b\"],[0.6666666666666666,\"#ed7953\"],[0.7777777777777778,\"#fb9f3a\"],[0.8888888888888888,\"#fdca26\"],[1.0,\"#f0f921\"]]}],\"heatmapgl\":[{\"type\":\"heatmapgl\",\"colorbar\":{\"outlinewidth\":0,\"ticks\":\"\"},\"colorscale\":[[0.0,\"#0d0887\"],[0.1111111111111111,\"#46039f\"],[0.2222222222222222,\"#7201a8\"],[0.3333333333333333,\"#9c179e\"],[0.4444444444444444,\"#bd3786\"],[0.5555555555555556,\"#d8576b\"],[0.6666666666666666,\"#ed7953\"],[0.7777777777777778,\"#fb9f3a\"],[0.8888888888888888,\"#fdca26\"],[1.0,\"#f0f921\"]]}],\"contourcarpet\":[{\"type\":\"contourcarpet\",\"colorbar\":{\"outlinewidth\":0,\"ticks\":\"\"}}],\"contour\":[{\"type\":\"contour\",\"colorbar\":{\"outlinewidth\":0,\"ticks\":\"\"},\"colorscale\":[[0.0,\"#0d0887\"],[0.1111111111111111,\"#46039f\"],[0.2222222222222222,\"#7201a8\"],[0.3333333333333333,\"#9c179e\"],[0.4444444444444444,\"#bd3786\"],[0.5555555555555556,\"#d8576b\"],[0.6666666666666666,\"#ed7953\"],[0.7777777777777778,\"#fb9f3a\"],[0.8888888888888888,\"#fdca26\"],[1.0,\"#f0f921\"]]}],\"surface\":[{\"type\":\"surface\",\"colorbar\":{\"outlinewidth\":0,\"ticks\":\"\"},\"colorscale\":[[0.0,\"#0d0887\"],[0.1111111111111111,\"#46039f\"],[0.2222222222222222,\"#7201a8\"],[0.3333333333333333,\"#9c179e\"],[0.4444444444444444,\"#bd3786\"],[0.5555555555555556,\"#d8576b\"],[0.6666666666666666,\"#ed7953\"],[0.7777777777777778,\"#fb9f3a\"],[0.8888888888888888,\"#fdca26\"],[1.0,\"#f0f921\"]]}],\"mesh3d\":[{\"type\":\"mesh3d\",\"colorbar\":{\"outlinewidth\":0,\"ticks\":\"\"}}],\"scatter\":[{\"fillpattern\":{\"fillmode\":\"overlay\",\"size\":10,\"solidity\":0.2},\"type\":\"scatter\"}],\"parcoords\":[{\"type\":\"parcoords\",\"line\":{\"colorbar\":{\"outlinewidth\":0,\"ticks\":\"\"}}}],\"scatterpolargl\":[{\"type\":\"scatterpolargl\",\"marker\":{\"colorbar\":{\"outlinewidth\":0,\"ticks\":\"\"}}}],\"bar\":[{\"error_x\":{\"color\":\"#2a3f5f\"},\"error_y\":{\"color\":\"#2a3f5f\"},\"marker\":{\"line\":{\"color\":\"#E5ECF6\",\"width\":0.5},\"pattern\":{\"fillmode\":\"overlay\",\"size\":10,\"solidity\":0.2}},\"type\":\"bar\"}],\"scattergeo\":[{\"type\":\"scattergeo\",\"marker\":{\"colorbar\":{\"outlinewidth\":0,\"ticks\":\"\"}}}],\"scatterpolar\":[{\"type\":\"scatterpolar\",\"marker\":{\"colorbar\":{\"outlinewidth\":0,\"ticks\":\"\"}}}],\"histogram\":[{\"marker\":{\"pattern\":{\"fillmode\":\"overlay\",\"size\":10,\"solidity\":0.2}},\"type\":\"histogram\"}],\"scattergl\":[{\"type\":\"scattergl\",\"marker\":{\"colorbar\":{\"outlinewidth\":0,\"ticks\":\"\"}}}],\"scatter3d\":[{\"type\":\"scatter3d\",\"line\":{\"colorbar\":{\"outlinewidth\":0,\"ticks\":\"\"}},\"marker\":{\"colorbar\":{\"outlinewidth\":0,\"ticks\":\"\"}}}],\"scattermapbox\":[{\"type\":\"scattermapbox\",\"marker\":{\"colorbar\":{\"outlinewidth\":0,\"ticks\":\"\"}}}],\"scatterternary\":[{\"type\":\"scatterternary\",\"marker\":{\"colorbar\":{\"outlinewidth\":0,\"ticks\":\"\"}}}],\"scattercarpet\":[{\"type\":\"scattercarpet\",\"marker\":{\"colorbar\":{\"outlinewidth\":0,\"ticks\":\"\"}}}],\"carpet\":[{\"aaxis\":{\"endlinecolor\":\"#2a3f5f\",\"gridcolor\":\"white\",\"linecolor\":\"white\",\"minorgridcolor\":\"white\",\"startlinecolor\":\"#2a3f5f\"},\"baxis\":{\"endlinecolor\":\"#2a3f5f\",\"gridcolor\":\"white\",\"linecolor\":\"white\",\"minorgridcolor\":\"white\",\"startlinecolor\":\"#2a3f5f\"},\"type\":\"carpet\"}],\"table\":[{\"cells\":{\"fill\":{\"color\":\"#EBF0F8\"},\"line\":{\"color\":\"white\"}},\"header\":{\"fill\":{\"color\":\"#C8D4E3\"},\"line\":{\"color\":\"white\"}},\"type\":\"table\"}],\"barpolar\":[{\"marker\":{\"line\":{\"color\":\"#E5ECF6\",\"width\":0.5},\"pattern\":{\"fillmode\":\"overlay\",\"size\":10,\"solidity\":0.2}},\"type\":\"barpolar\"}],\"pie\":[{\"automargin\":true,\"type\":\"pie\"}]},\"layout\":{\"autotypenumbers\":\"strict\",\"colorway\":[\"#636efa\",\"#EF553B\",\"#00cc96\",\"#ab63fa\",\"#FFA15A\",\"#19d3f3\",\"#FF6692\",\"#B6E880\",\"#FF97FF\",\"#FECB52\"],\"font\":{\"color\":\"#2a3f5f\"},\"hovermode\":\"closest\",\"hoverlabel\":{\"align\":\"left\"},\"paper_bgcolor\":\"white\",\"plot_bgcolor\":\"#E5ECF6\",\"polar\":{\"bgcolor\":\"#E5ECF6\",\"angularaxis\":{\"gridcolor\":\"white\",\"linecolor\":\"white\",\"ticks\":\"\"},\"radialaxis\":{\"gridcolor\":\"white\",\"linecolor\":\"white\",\"ticks\":\"\"}},\"ternary\":{\"bgcolor\":\"#E5ECF6\",\"aaxis\":{\"gridcolor\":\"white\",\"linecolor\":\"white\",\"ticks\":\"\"},\"baxis\":{\"gridcolor\":\"white\",\"linecolor\":\"white\",\"ticks\":\"\"},\"caxis\":{\"gridcolor\":\"white\",\"linecolor\":\"white\",\"ticks\":\"\"}},\"coloraxis\":{\"colorbar\":{\"outlinewidth\":0,\"ticks\":\"\"}},\"colorscale\":{\"sequential\":[[0.0,\"#0d0887\"],[0.1111111111111111,\"#46039f\"],[0.2222222222222222,\"#7201a8\"],[0.3333333333333333,\"#9c179e\"],[0.4444444444444444,\"#bd3786\"],[0.5555555555555556,\"#d8576b\"],[0.6666666666666666,\"#ed7953\"],[0.7777777777777778,\"#fb9f3a\"],[0.8888888888888888,\"#fdca26\"],[1.0,\"#f0f921\"]],\"sequentialminus\":[[0.0,\"#0d0887\"],[0.1111111111111111,\"#46039f\"],[0.2222222222222222,\"#7201a8\"],[0.3333333333333333,\"#9c179e\"],[0.4444444444444444,\"#bd3786\"],[0.5555555555555556,\"#d8576b\"],[0.6666666666666666,\"#ed7953\"],[0.7777777777777778,\"#fb9f3a\"],[0.8888888888888888,\"#fdca26\"],[1.0,\"#f0f921\"]],\"diverging\":[[0,\"#8e0152\"],[0.1,\"#c51b7d\"],[0.2,\"#de77ae\"],[0.3,\"#f1b6da\"],[0.4,\"#fde0ef\"],[0.5,\"#f7f7f7\"],[0.6,\"#e6f5d0\"],[0.7,\"#b8e186\"],[0.8,\"#7fbc41\"],[0.9,\"#4d9221\"],[1,\"#276419\"]]},\"xaxis\":{\"gridcolor\":\"white\",\"linecolor\":\"white\",\"ticks\":\"\",\"title\":{\"standoff\":15},\"zerolinecolor\":\"white\",\"automargin\":true,\"zerolinewidth\":2},\"yaxis\":{\"gridcolor\":\"white\",\"linecolor\":\"white\",\"ticks\":\"\",\"title\":{\"standoff\":15},\"zerolinecolor\":\"white\",\"automargin\":true,\"zerolinewidth\":2},\"scene\":{\"xaxis\":{\"backgroundcolor\":\"#E5ECF6\",\"gridcolor\":\"white\",\"linecolor\":\"white\",\"showbackground\":true,\"ticks\":\"\",\"zerolinecolor\":\"white\",\"gridwidth\":2},\"yaxis\":{\"backgroundcolor\":\"#E5ECF6\",\"gridcolor\":\"white\",\"linecolor\":\"white\",\"showbackground\":true,\"ticks\":\"\",\"zerolinecolor\":\"white\",\"gridwidth\":2},\"zaxis\":{\"backgroundcolor\":\"#E5ECF6\",\"gridcolor\":\"white\",\"linecolor\":\"white\",\"showbackground\":true,\"ticks\":\"\",\"zerolinecolor\":\"white\",\"gridwidth\":2}},\"shapedefaults\":{\"line\":{\"color\":\"#2a3f5f\"}},\"annotationdefaults\":{\"arrowcolor\":\"#2a3f5f\",\"arrowhead\":0,\"arrowwidth\":1},\"geo\":{\"bgcolor\":\"white\",\"landcolor\":\"#E5ECF6\",\"subunitcolor\":\"white\",\"showland\":true,\"showlakes\":true,\"lakecolor\":\"white\"},\"title\":{\"x\":0.05},\"mapbox\":{\"style\":\"light\"}}},\"title\":{\"text\":\"3 layers, loss\"}},                        {\"responsive\": true}                    ).then(function(){\n",
              "                            \n",
              "var gd = document.getElementById('0db33044-944f-4786-bd93-73861bf2daf7');\n",
              "var x = new MutationObserver(function (mutations, observer) {{\n",
              "        var display = window.getComputedStyle(gd).display;\n",
              "        if (!display || display === 'none') {{\n",
              "            console.log([gd, 'removed!']);\n",
              "            Plotly.purge(gd);\n",
              "            observer.disconnect();\n",
              "        }}\n",
              "}});\n",
              "\n",
              "// Listen for the removal of the full notebook cells\n",
              "var notebookContainer = gd.closest('#notebook-container');\n",
              "if (notebookContainer) {{\n",
              "    x.observe(notebookContainer, {childList: true});\n",
              "}}\n",
              "\n",
              "// Listen for the clearing of the current output cell\n",
              "var outputEl = gd.closest('.output');\n",
              "if (outputEl) {{\n",
              "    x.observe(outputEl, {childList: true});\n",
              "}}\n",
              "\n",
              "                        })                };                });            </script>        </div>"
            ]
          },
          "metadata": {},
          "output_type": "display_data"
        },
        {
          "data": {
            "application/vnd.plotly.v1+json": {
              "config": {
                "plotlyServerURL": "https://plot.ly"
              },
              "data": [
                {
                  "mode": "lines+markers",
                  "name": "positional encoding",
                  "type": "scatter",
                  "x": [
                    0,
                    1,
                    2,
                    3,
                    4,
                    5,
                    6,
                    7,
                    8,
                    9
                  ],
                  "y": [
                    2.1420840040037903,
                    1.9111749416665187,
                    1.1064508821390853,
                    0.8253048371665085,
                    0.7838610282427148,
                    0.762274059313762,
                    0.7472657500943051,
                    0.7359239225146137,
                    0.7272207389903974,
                    0.7203880948356435
                  ]
                },
                {
                  "mode": "lines+markers",
                  "name": "no positional encoding",
                  "type": "scatter",
                  "x": [
                    0,
                    1,
                    2,
                    3,
                    4,
                    5,
                    6,
                    7,
                    8,
                    9
                  ],
                  "y": [
                    2.1622405203082895,
                    1.9101055754890925,
                    1.3182558349416227,
                    1.0327164078060584,
                    0.9322568562966359,
                    0.8704261598707754,
                    0.8313666189773173,
                    0.8058318156230299,
                    0.7877475943746446,
                    0.7745718186414694
                  ]
                }
              ],
              "layout": {
                "template": {
                  "data": {
                    "bar": [
                      {
                        "error_x": {
                          "color": "#2a3f5f"
                        },
                        "error_y": {
                          "color": "#2a3f5f"
                        },
                        "marker": {
                          "line": {
                            "color": "#E5ECF6",
                            "width": 0.5
                          },
                          "pattern": {
                            "fillmode": "overlay",
                            "size": 10,
                            "solidity": 0.2
                          }
                        },
                        "type": "bar"
                      }
                    ],
                    "barpolar": [
                      {
                        "marker": {
                          "line": {
                            "color": "#E5ECF6",
                            "width": 0.5
                          },
                          "pattern": {
                            "fillmode": "overlay",
                            "size": 10,
                            "solidity": 0.2
                          }
                        },
                        "type": "barpolar"
                      }
                    ],
                    "carpet": [
                      {
                        "aaxis": {
                          "endlinecolor": "#2a3f5f",
                          "gridcolor": "white",
                          "linecolor": "white",
                          "minorgridcolor": "white",
                          "startlinecolor": "#2a3f5f"
                        },
                        "baxis": {
                          "endlinecolor": "#2a3f5f",
                          "gridcolor": "white",
                          "linecolor": "white",
                          "minorgridcolor": "white",
                          "startlinecolor": "#2a3f5f"
                        },
                        "type": "carpet"
                      }
                    ],
                    "choropleth": [
                      {
                        "colorbar": {
                          "outlinewidth": 0,
                          "ticks": ""
                        },
                        "type": "choropleth"
                      }
                    ],
                    "contour": [
                      {
                        "colorbar": {
                          "outlinewidth": 0,
                          "ticks": ""
                        },
                        "colorscale": [
                          [
                            0,
                            "#0d0887"
                          ],
                          [
                            0.1111111111111111,
                            "#46039f"
                          ],
                          [
                            0.2222222222222222,
                            "#7201a8"
                          ],
                          [
                            0.3333333333333333,
                            "#9c179e"
                          ],
                          [
                            0.4444444444444444,
                            "#bd3786"
                          ],
                          [
                            0.5555555555555556,
                            "#d8576b"
                          ],
                          [
                            0.6666666666666666,
                            "#ed7953"
                          ],
                          [
                            0.7777777777777778,
                            "#fb9f3a"
                          ],
                          [
                            0.8888888888888888,
                            "#fdca26"
                          ],
                          [
                            1,
                            "#f0f921"
                          ]
                        ],
                        "type": "contour"
                      }
                    ],
                    "contourcarpet": [
                      {
                        "colorbar": {
                          "outlinewidth": 0,
                          "ticks": ""
                        },
                        "type": "contourcarpet"
                      }
                    ],
                    "heatmap": [
                      {
                        "colorbar": {
                          "outlinewidth": 0,
                          "ticks": ""
                        },
                        "colorscale": [
                          [
                            0,
                            "#0d0887"
                          ],
                          [
                            0.1111111111111111,
                            "#46039f"
                          ],
                          [
                            0.2222222222222222,
                            "#7201a8"
                          ],
                          [
                            0.3333333333333333,
                            "#9c179e"
                          ],
                          [
                            0.4444444444444444,
                            "#bd3786"
                          ],
                          [
                            0.5555555555555556,
                            "#d8576b"
                          ],
                          [
                            0.6666666666666666,
                            "#ed7953"
                          ],
                          [
                            0.7777777777777778,
                            "#fb9f3a"
                          ],
                          [
                            0.8888888888888888,
                            "#fdca26"
                          ],
                          [
                            1,
                            "#f0f921"
                          ]
                        ],
                        "type": "heatmap"
                      }
                    ],
                    "heatmapgl": [
                      {
                        "colorbar": {
                          "outlinewidth": 0,
                          "ticks": ""
                        },
                        "colorscale": [
                          [
                            0,
                            "#0d0887"
                          ],
                          [
                            0.1111111111111111,
                            "#46039f"
                          ],
                          [
                            0.2222222222222222,
                            "#7201a8"
                          ],
                          [
                            0.3333333333333333,
                            "#9c179e"
                          ],
                          [
                            0.4444444444444444,
                            "#bd3786"
                          ],
                          [
                            0.5555555555555556,
                            "#d8576b"
                          ],
                          [
                            0.6666666666666666,
                            "#ed7953"
                          ],
                          [
                            0.7777777777777778,
                            "#fb9f3a"
                          ],
                          [
                            0.8888888888888888,
                            "#fdca26"
                          ],
                          [
                            1,
                            "#f0f921"
                          ]
                        ],
                        "type": "heatmapgl"
                      }
                    ],
                    "histogram": [
                      {
                        "marker": {
                          "pattern": {
                            "fillmode": "overlay",
                            "size": 10,
                            "solidity": 0.2
                          }
                        },
                        "type": "histogram"
                      }
                    ],
                    "histogram2d": [
                      {
                        "colorbar": {
                          "outlinewidth": 0,
                          "ticks": ""
                        },
                        "colorscale": [
                          [
                            0,
                            "#0d0887"
                          ],
                          [
                            0.1111111111111111,
                            "#46039f"
                          ],
                          [
                            0.2222222222222222,
                            "#7201a8"
                          ],
                          [
                            0.3333333333333333,
                            "#9c179e"
                          ],
                          [
                            0.4444444444444444,
                            "#bd3786"
                          ],
                          [
                            0.5555555555555556,
                            "#d8576b"
                          ],
                          [
                            0.6666666666666666,
                            "#ed7953"
                          ],
                          [
                            0.7777777777777778,
                            "#fb9f3a"
                          ],
                          [
                            0.8888888888888888,
                            "#fdca26"
                          ],
                          [
                            1,
                            "#f0f921"
                          ]
                        ],
                        "type": "histogram2d"
                      }
                    ],
                    "histogram2dcontour": [
                      {
                        "colorbar": {
                          "outlinewidth": 0,
                          "ticks": ""
                        },
                        "colorscale": [
                          [
                            0,
                            "#0d0887"
                          ],
                          [
                            0.1111111111111111,
                            "#46039f"
                          ],
                          [
                            0.2222222222222222,
                            "#7201a8"
                          ],
                          [
                            0.3333333333333333,
                            "#9c179e"
                          ],
                          [
                            0.4444444444444444,
                            "#bd3786"
                          ],
                          [
                            0.5555555555555556,
                            "#d8576b"
                          ],
                          [
                            0.6666666666666666,
                            "#ed7953"
                          ],
                          [
                            0.7777777777777778,
                            "#fb9f3a"
                          ],
                          [
                            0.8888888888888888,
                            "#fdca26"
                          ],
                          [
                            1,
                            "#f0f921"
                          ]
                        ],
                        "type": "histogram2dcontour"
                      }
                    ],
                    "mesh3d": [
                      {
                        "colorbar": {
                          "outlinewidth": 0,
                          "ticks": ""
                        },
                        "type": "mesh3d"
                      }
                    ],
                    "parcoords": [
                      {
                        "line": {
                          "colorbar": {
                            "outlinewidth": 0,
                            "ticks": ""
                          }
                        },
                        "type": "parcoords"
                      }
                    ],
                    "pie": [
                      {
                        "automargin": true,
                        "type": "pie"
                      }
                    ],
                    "scatter": [
                      {
                        "fillpattern": {
                          "fillmode": "overlay",
                          "size": 10,
                          "solidity": 0.2
                        },
                        "type": "scatter"
                      }
                    ],
                    "scatter3d": [
                      {
                        "line": {
                          "colorbar": {
                            "outlinewidth": 0,
                            "ticks": ""
                          }
                        },
                        "marker": {
                          "colorbar": {
                            "outlinewidth": 0,
                            "ticks": ""
                          }
                        },
                        "type": "scatter3d"
                      }
                    ],
                    "scattercarpet": [
                      {
                        "marker": {
                          "colorbar": {
                            "outlinewidth": 0,
                            "ticks": ""
                          }
                        },
                        "type": "scattercarpet"
                      }
                    ],
                    "scattergeo": [
                      {
                        "marker": {
                          "colorbar": {
                            "outlinewidth": 0,
                            "ticks": ""
                          }
                        },
                        "type": "scattergeo"
                      }
                    ],
                    "scattergl": [
                      {
                        "marker": {
                          "colorbar": {
                            "outlinewidth": 0,
                            "ticks": ""
                          }
                        },
                        "type": "scattergl"
                      }
                    ],
                    "scattermapbox": [
                      {
                        "marker": {
                          "colorbar": {
                            "outlinewidth": 0,
                            "ticks": ""
                          }
                        },
                        "type": "scattermapbox"
                      }
                    ],
                    "scatterpolar": [
                      {
                        "marker": {
                          "colorbar": {
                            "outlinewidth": 0,
                            "ticks": ""
                          }
                        },
                        "type": "scatterpolar"
                      }
                    ],
                    "scatterpolargl": [
                      {
                        "marker": {
                          "colorbar": {
                            "outlinewidth": 0,
                            "ticks": ""
                          }
                        },
                        "type": "scatterpolargl"
                      }
                    ],
                    "scatterternary": [
                      {
                        "marker": {
                          "colorbar": {
                            "outlinewidth": 0,
                            "ticks": ""
                          }
                        },
                        "type": "scatterternary"
                      }
                    ],
                    "surface": [
                      {
                        "colorbar": {
                          "outlinewidth": 0,
                          "ticks": ""
                        },
                        "colorscale": [
                          [
                            0,
                            "#0d0887"
                          ],
                          [
                            0.1111111111111111,
                            "#46039f"
                          ],
                          [
                            0.2222222222222222,
                            "#7201a8"
                          ],
                          [
                            0.3333333333333333,
                            "#9c179e"
                          ],
                          [
                            0.4444444444444444,
                            "#bd3786"
                          ],
                          [
                            0.5555555555555556,
                            "#d8576b"
                          ],
                          [
                            0.6666666666666666,
                            "#ed7953"
                          ],
                          [
                            0.7777777777777778,
                            "#fb9f3a"
                          ],
                          [
                            0.8888888888888888,
                            "#fdca26"
                          ],
                          [
                            1,
                            "#f0f921"
                          ]
                        ],
                        "type": "surface"
                      }
                    ],
                    "table": [
                      {
                        "cells": {
                          "fill": {
                            "color": "#EBF0F8"
                          },
                          "line": {
                            "color": "white"
                          }
                        },
                        "header": {
                          "fill": {
                            "color": "#C8D4E3"
                          },
                          "line": {
                            "color": "white"
                          }
                        },
                        "type": "table"
                      }
                    ]
                  },
                  "layout": {
                    "annotationdefaults": {
                      "arrowcolor": "#2a3f5f",
                      "arrowhead": 0,
                      "arrowwidth": 1
                    },
                    "autotypenumbers": "strict",
                    "coloraxis": {
                      "colorbar": {
                        "outlinewidth": 0,
                        "ticks": ""
                      }
                    },
                    "colorscale": {
                      "diverging": [
                        [
                          0,
                          "#8e0152"
                        ],
                        [
                          0.1,
                          "#c51b7d"
                        ],
                        [
                          0.2,
                          "#de77ae"
                        ],
                        [
                          0.3,
                          "#f1b6da"
                        ],
                        [
                          0.4,
                          "#fde0ef"
                        ],
                        [
                          0.5,
                          "#f7f7f7"
                        ],
                        [
                          0.6,
                          "#e6f5d0"
                        ],
                        [
                          0.7,
                          "#b8e186"
                        ],
                        [
                          0.8,
                          "#7fbc41"
                        ],
                        [
                          0.9,
                          "#4d9221"
                        ],
                        [
                          1,
                          "#276419"
                        ]
                      ],
                      "sequential": [
                        [
                          0,
                          "#0d0887"
                        ],
                        [
                          0.1111111111111111,
                          "#46039f"
                        ],
                        [
                          0.2222222222222222,
                          "#7201a8"
                        ],
                        [
                          0.3333333333333333,
                          "#9c179e"
                        ],
                        [
                          0.4444444444444444,
                          "#bd3786"
                        ],
                        [
                          0.5555555555555556,
                          "#d8576b"
                        ],
                        [
                          0.6666666666666666,
                          "#ed7953"
                        ],
                        [
                          0.7777777777777778,
                          "#fb9f3a"
                        ],
                        [
                          0.8888888888888888,
                          "#fdca26"
                        ],
                        [
                          1,
                          "#f0f921"
                        ]
                      ],
                      "sequentialminus": [
                        [
                          0,
                          "#0d0887"
                        ],
                        [
                          0.1111111111111111,
                          "#46039f"
                        ],
                        [
                          0.2222222222222222,
                          "#7201a8"
                        ],
                        [
                          0.3333333333333333,
                          "#9c179e"
                        ],
                        [
                          0.4444444444444444,
                          "#bd3786"
                        ],
                        [
                          0.5555555555555556,
                          "#d8576b"
                        ],
                        [
                          0.6666666666666666,
                          "#ed7953"
                        ],
                        [
                          0.7777777777777778,
                          "#fb9f3a"
                        ],
                        [
                          0.8888888888888888,
                          "#fdca26"
                        ],
                        [
                          1,
                          "#f0f921"
                        ]
                      ]
                    },
                    "colorway": [
                      "#636efa",
                      "#EF553B",
                      "#00cc96",
                      "#ab63fa",
                      "#FFA15A",
                      "#19d3f3",
                      "#FF6692",
                      "#B6E880",
                      "#FF97FF",
                      "#FECB52"
                    ],
                    "font": {
                      "color": "#2a3f5f"
                    },
                    "geo": {
                      "bgcolor": "white",
                      "lakecolor": "white",
                      "landcolor": "#E5ECF6",
                      "showlakes": true,
                      "showland": true,
                      "subunitcolor": "white"
                    },
                    "hoverlabel": {
                      "align": "left"
                    },
                    "hovermode": "closest",
                    "mapbox": {
                      "style": "light"
                    },
                    "paper_bgcolor": "white",
                    "plot_bgcolor": "#E5ECF6",
                    "polar": {
                      "angularaxis": {
                        "gridcolor": "white",
                        "linecolor": "white",
                        "ticks": ""
                      },
                      "bgcolor": "#E5ECF6",
                      "radialaxis": {
                        "gridcolor": "white",
                        "linecolor": "white",
                        "ticks": ""
                      }
                    },
                    "scene": {
                      "xaxis": {
                        "backgroundcolor": "#E5ECF6",
                        "gridcolor": "white",
                        "gridwidth": 2,
                        "linecolor": "white",
                        "showbackground": true,
                        "ticks": "",
                        "zerolinecolor": "white"
                      },
                      "yaxis": {
                        "backgroundcolor": "#E5ECF6",
                        "gridcolor": "white",
                        "gridwidth": 2,
                        "linecolor": "white",
                        "showbackground": true,
                        "ticks": "",
                        "zerolinecolor": "white"
                      },
                      "zaxis": {
                        "backgroundcolor": "#E5ECF6",
                        "gridcolor": "white",
                        "gridwidth": 2,
                        "linecolor": "white",
                        "showbackground": true,
                        "ticks": "",
                        "zerolinecolor": "white"
                      }
                    },
                    "shapedefaults": {
                      "line": {
                        "color": "#2a3f5f"
                      }
                    },
                    "ternary": {
                      "aaxis": {
                        "gridcolor": "white",
                        "linecolor": "white",
                        "ticks": ""
                      },
                      "baxis": {
                        "gridcolor": "white",
                        "linecolor": "white",
                        "ticks": ""
                      },
                      "bgcolor": "#E5ECF6",
                      "caxis": {
                        "gridcolor": "white",
                        "linecolor": "white",
                        "ticks": ""
                      }
                    },
                    "title": {
                      "x": 0.05
                    },
                    "xaxis": {
                      "automargin": true,
                      "gridcolor": "white",
                      "linecolor": "white",
                      "ticks": "",
                      "title": {
                        "standoff": 15
                      },
                      "zerolinecolor": "white",
                      "zerolinewidth": 2
                    },
                    "yaxis": {
                      "automargin": true,
                      "gridcolor": "white",
                      "linecolor": "white",
                      "ticks": "",
                      "title": {
                        "standoff": 15
                      },
                      "zerolinecolor": "white",
                      "zerolinewidth": 2
                    }
                  }
                },
                "title": {
                  "text": "4 layers, loss"
                }
              }
            },
            "text/html": [
              "<div>                            <div id=\"d062c7dc-92d2-47e9-90b4-1ede78ad217c\" class=\"plotly-graph-div\" style=\"height:525px; width:100%;\"></div>            <script type=\"text/javascript\">                require([\"plotly\"], function(Plotly) {                    window.PLOTLYENV=window.PLOTLYENV || {};                                    if (document.getElementById(\"d062c7dc-92d2-47e9-90b4-1ede78ad217c\")) {                    Plotly.newPlot(                        \"d062c7dc-92d2-47e9-90b4-1ede78ad217c\",                        [{\"mode\":\"lines+markers\",\"name\":\"positional encoding\",\"x\":[0,1,2,3,4,5,6,7,8,9],\"y\":[2.1420840040037903,1.9111749416665187,1.1064508821390853,0.8253048371665085,0.7838610282427148,0.762274059313762,0.7472657500943051,0.7359239225146137,0.7272207389903974,0.7203880948356435],\"type\":\"scatter\"},{\"mode\":\"lines+markers\",\"name\":\"no positional encoding\",\"x\":[0,1,2,3,4,5,6,7,8,9],\"y\":[2.1622405203082895,1.9101055754890925,1.3182558349416227,1.0327164078060584,0.9322568562966359,0.8704261598707754,0.8313666189773173,0.8058318156230299,0.7877475943746446,0.7745718186414694],\"type\":\"scatter\"}],                        {\"template\":{\"data\":{\"histogram2dcontour\":[{\"type\":\"histogram2dcontour\",\"colorbar\":{\"outlinewidth\":0,\"ticks\":\"\"},\"colorscale\":[[0.0,\"#0d0887\"],[0.1111111111111111,\"#46039f\"],[0.2222222222222222,\"#7201a8\"],[0.3333333333333333,\"#9c179e\"],[0.4444444444444444,\"#bd3786\"],[0.5555555555555556,\"#d8576b\"],[0.6666666666666666,\"#ed7953\"],[0.7777777777777778,\"#fb9f3a\"],[0.8888888888888888,\"#fdca26\"],[1.0,\"#f0f921\"]]}],\"choropleth\":[{\"type\":\"choropleth\",\"colorbar\":{\"outlinewidth\":0,\"ticks\":\"\"}}],\"histogram2d\":[{\"type\":\"histogram2d\",\"colorbar\":{\"outlinewidth\":0,\"ticks\":\"\"},\"colorscale\":[[0.0,\"#0d0887\"],[0.1111111111111111,\"#46039f\"],[0.2222222222222222,\"#7201a8\"],[0.3333333333333333,\"#9c179e\"],[0.4444444444444444,\"#bd3786\"],[0.5555555555555556,\"#d8576b\"],[0.6666666666666666,\"#ed7953\"],[0.7777777777777778,\"#fb9f3a\"],[0.8888888888888888,\"#fdca26\"],[1.0,\"#f0f921\"]]}],\"heatmap\":[{\"type\":\"heatmap\",\"colorbar\":{\"outlinewidth\":0,\"ticks\":\"\"},\"colorscale\":[[0.0,\"#0d0887\"],[0.1111111111111111,\"#46039f\"],[0.2222222222222222,\"#7201a8\"],[0.3333333333333333,\"#9c179e\"],[0.4444444444444444,\"#bd3786\"],[0.5555555555555556,\"#d8576b\"],[0.6666666666666666,\"#ed7953\"],[0.7777777777777778,\"#fb9f3a\"],[0.8888888888888888,\"#fdca26\"],[1.0,\"#f0f921\"]]}],\"heatmapgl\":[{\"type\":\"heatmapgl\",\"colorbar\":{\"outlinewidth\":0,\"ticks\":\"\"},\"colorscale\":[[0.0,\"#0d0887\"],[0.1111111111111111,\"#46039f\"],[0.2222222222222222,\"#7201a8\"],[0.3333333333333333,\"#9c179e\"],[0.4444444444444444,\"#bd3786\"],[0.5555555555555556,\"#d8576b\"],[0.6666666666666666,\"#ed7953\"],[0.7777777777777778,\"#fb9f3a\"],[0.8888888888888888,\"#fdca26\"],[1.0,\"#f0f921\"]]}],\"contourcarpet\":[{\"type\":\"contourcarpet\",\"colorbar\":{\"outlinewidth\":0,\"ticks\":\"\"}}],\"contour\":[{\"type\":\"contour\",\"colorbar\":{\"outlinewidth\":0,\"ticks\":\"\"},\"colorscale\":[[0.0,\"#0d0887\"],[0.1111111111111111,\"#46039f\"],[0.2222222222222222,\"#7201a8\"],[0.3333333333333333,\"#9c179e\"],[0.4444444444444444,\"#bd3786\"],[0.5555555555555556,\"#d8576b\"],[0.6666666666666666,\"#ed7953\"],[0.7777777777777778,\"#fb9f3a\"],[0.8888888888888888,\"#fdca26\"],[1.0,\"#f0f921\"]]}],\"surface\":[{\"type\":\"surface\",\"colorbar\":{\"outlinewidth\":0,\"ticks\":\"\"},\"colorscale\":[[0.0,\"#0d0887\"],[0.1111111111111111,\"#46039f\"],[0.2222222222222222,\"#7201a8\"],[0.3333333333333333,\"#9c179e\"],[0.4444444444444444,\"#bd3786\"],[0.5555555555555556,\"#d8576b\"],[0.6666666666666666,\"#ed7953\"],[0.7777777777777778,\"#fb9f3a\"],[0.8888888888888888,\"#fdca26\"],[1.0,\"#f0f921\"]]}],\"mesh3d\":[{\"type\":\"mesh3d\",\"colorbar\":{\"outlinewidth\":0,\"ticks\":\"\"}}],\"scatter\":[{\"fillpattern\":{\"fillmode\":\"overlay\",\"size\":10,\"solidity\":0.2},\"type\":\"scatter\"}],\"parcoords\":[{\"type\":\"parcoords\",\"line\":{\"colorbar\":{\"outlinewidth\":0,\"ticks\":\"\"}}}],\"scatterpolargl\":[{\"type\":\"scatterpolargl\",\"marker\":{\"colorbar\":{\"outlinewidth\":0,\"ticks\":\"\"}}}],\"bar\":[{\"error_x\":{\"color\":\"#2a3f5f\"},\"error_y\":{\"color\":\"#2a3f5f\"},\"marker\":{\"line\":{\"color\":\"#E5ECF6\",\"width\":0.5},\"pattern\":{\"fillmode\":\"overlay\",\"size\":10,\"solidity\":0.2}},\"type\":\"bar\"}],\"scattergeo\":[{\"type\":\"scattergeo\",\"marker\":{\"colorbar\":{\"outlinewidth\":0,\"ticks\":\"\"}}}],\"scatterpolar\":[{\"type\":\"scatterpolar\",\"marker\":{\"colorbar\":{\"outlinewidth\":0,\"ticks\":\"\"}}}],\"histogram\":[{\"marker\":{\"pattern\":{\"fillmode\":\"overlay\",\"size\":10,\"solidity\":0.2}},\"type\":\"histogram\"}],\"scattergl\":[{\"type\":\"scattergl\",\"marker\":{\"colorbar\":{\"outlinewidth\":0,\"ticks\":\"\"}}}],\"scatter3d\":[{\"type\":\"scatter3d\",\"line\":{\"colorbar\":{\"outlinewidth\":0,\"ticks\":\"\"}},\"marker\":{\"colorbar\":{\"outlinewidth\":0,\"ticks\":\"\"}}}],\"scattermapbox\":[{\"type\":\"scattermapbox\",\"marker\":{\"colorbar\":{\"outlinewidth\":0,\"ticks\":\"\"}}}],\"scatterternary\":[{\"type\":\"scatterternary\",\"marker\":{\"colorbar\":{\"outlinewidth\":0,\"ticks\":\"\"}}}],\"scattercarpet\":[{\"type\":\"scattercarpet\",\"marker\":{\"colorbar\":{\"outlinewidth\":0,\"ticks\":\"\"}}}],\"carpet\":[{\"aaxis\":{\"endlinecolor\":\"#2a3f5f\",\"gridcolor\":\"white\",\"linecolor\":\"white\",\"minorgridcolor\":\"white\",\"startlinecolor\":\"#2a3f5f\"},\"baxis\":{\"endlinecolor\":\"#2a3f5f\",\"gridcolor\":\"white\",\"linecolor\":\"white\",\"minorgridcolor\":\"white\",\"startlinecolor\":\"#2a3f5f\"},\"type\":\"carpet\"}],\"table\":[{\"cells\":{\"fill\":{\"color\":\"#EBF0F8\"},\"line\":{\"color\":\"white\"}},\"header\":{\"fill\":{\"color\":\"#C8D4E3\"},\"line\":{\"color\":\"white\"}},\"type\":\"table\"}],\"barpolar\":[{\"marker\":{\"line\":{\"color\":\"#E5ECF6\",\"width\":0.5},\"pattern\":{\"fillmode\":\"overlay\",\"size\":10,\"solidity\":0.2}},\"type\":\"barpolar\"}],\"pie\":[{\"automargin\":true,\"type\":\"pie\"}]},\"layout\":{\"autotypenumbers\":\"strict\",\"colorway\":[\"#636efa\",\"#EF553B\",\"#00cc96\",\"#ab63fa\",\"#FFA15A\",\"#19d3f3\",\"#FF6692\",\"#B6E880\",\"#FF97FF\",\"#FECB52\"],\"font\":{\"color\":\"#2a3f5f\"},\"hovermode\":\"closest\",\"hoverlabel\":{\"align\":\"left\"},\"paper_bgcolor\":\"white\",\"plot_bgcolor\":\"#E5ECF6\",\"polar\":{\"bgcolor\":\"#E5ECF6\",\"angularaxis\":{\"gridcolor\":\"white\",\"linecolor\":\"white\",\"ticks\":\"\"},\"radialaxis\":{\"gridcolor\":\"white\",\"linecolor\":\"white\",\"ticks\":\"\"}},\"ternary\":{\"bgcolor\":\"#E5ECF6\",\"aaxis\":{\"gridcolor\":\"white\",\"linecolor\":\"white\",\"ticks\":\"\"},\"baxis\":{\"gridcolor\":\"white\",\"linecolor\":\"white\",\"ticks\":\"\"},\"caxis\":{\"gridcolor\":\"white\",\"linecolor\":\"white\",\"ticks\":\"\"}},\"coloraxis\":{\"colorbar\":{\"outlinewidth\":0,\"ticks\":\"\"}},\"colorscale\":{\"sequential\":[[0.0,\"#0d0887\"],[0.1111111111111111,\"#46039f\"],[0.2222222222222222,\"#7201a8\"],[0.3333333333333333,\"#9c179e\"],[0.4444444444444444,\"#bd3786\"],[0.5555555555555556,\"#d8576b\"],[0.6666666666666666,\"#ed7953\"],[0.7777777777777778,\"#fb9f3a\"],[0.8888888888888888,\"#fdca26\"],[1.0,\"#f0f921\"]],\"sequentialminus\":[[0.0,\"#0d0887\"],[0.1111111111111111,\"#46039f\"],[0.2222222222222222,\"#7201a8\"],[0.3333333333333333,\"#9c179e\"],[0.4444444444444444,\"#bd3786\"],[0.5555555555555556,\"#d8576b\"],[0.6666666666666666,\"#ed7953\"],[0.7777777777777778,\"#fb9f3a\"],[0.8888888888888888,\"#fdca26\"],[1.0,\"#f0f921\"]],\"diverging\":[[0,\"#8e0152\"],[0.1,\"#c51b7d\"],[0.2,\"#de77ae\"],[0.3,\"#f1b6da\"],[0.4,\"#fde0ef\"],[0.5,\"#f7f7f7\"],[0.6,\"#e6f5d0\"],[0.7,\"#b8e186\"],[0.8,\"#7fbc41\"],[0.9,\"#4d9221\"],[1,\"#276419\"]]},\"xaxis\":{\"gridcolor\":\"white\",\"linecolor\":\"white\",\"ticks\":\"\",\"title\":{\"standoff\":15},\"zerolinecolor\":\"white\",\"automargin\":true,\"zerolinewidth\":2},\"yaxis\":{\"gridcolor\":\"white\",\"linecolor\":\"white\",\"ticks\":\"\",\"title\":{\"standoff\":15},\"zerolinecolor\":\"white\",\"automargin\":true,\"zerolinewidth\":2},\"scene\":{\"xaxis\":{\"backgroundcolor\":\"#E5ECF6\",\"gridcolor\":\"white\",\"linecolor\":\"white\",\"showbackground\":true,\"ticks\":\"\",\"zerolinecolor\":\"white\",\"gridwidth\":2},\"yaxis\":{\"backgroundcolor\":\"#E5ECF6\",\"gridcolor\":\"white\",\"linecolor\":\"white\",\"showbackground\":true,\"ticks\":\"\",\"zerolinecolor\":\"white\",\"gridwidth\":2},\"zaxis\":{\"backgroundcolor\":\"#E5ECF6\",\"gridcolor\":\"white\",\"linecolor\":\"white\",\"showbackground\":true,\"ticks\":\"\",\"zerolinecolor\":\"white\",\"gridwidth\":2}},\"shapedefaults\":{\"line\":{\"color\":\"#2a3f5f\"}},\"annotationdefaults\":{\"arrowcolor\":\"#2a3f5f\",\"arrowhead\":0,\"arrowwidth\":1},\"geo\":{\"bgcolor\":\"white\",\"landcolor\":\"#E5ECF6\",\"subunitcolor\":\"white\",\"showland\":true,\"showlakes\":true,\"lakecolor\":\"white\"},\"title\":{\"x\":0.05},\"mapbox\":{\"style\":\"light\"}}},\"title\":{\"text\":\"4 layers, loss\"}},                        {\"responsive\": true}                    ).then(function(){\n",
              "                            \n",
              "var gd = document.getElementById('d062c7dc-92d2-47e9-90b4-1ede78ad217c');\n",
              "var x = new MutationObserver(function (mutations, observer) {{\n",
              "        var display = window.getComputedStyle(gd).display;\n",
              "        if (!display || display === 'none') {{\n",
              "            console.log([gd, 'removed!']);\n",
              "            Plotly.purge(gd);\n",
              "            observer.disconnect();\n",
              "        }}\n",
              "}});\n",
              "\n",
              "// Listen for the removal of the full notebook cells\n",
              "var notebookContainer = gd.closest('#notebook-container');\n",
              "if (notebookContainer) {{\n",
              "    x.observe(notebookContainer, {childList: true});\n",
              "}}\n",
              "\n",
              "// Listen for the clearing of the current output cell\n",
              "var outputEl = gd.closest('.output');\n",
              "if (outputEl) {{\n",
              "    x.observe(outputEl, {childList: true});\n",
              "}}\n",
              "\n",
              "                        })                };                });            </script>        </div>"
            ]
          },
          "metadata": {},
          "output_type": "display_data"
        },
        {
          "data": {
            "application/vnd.plotly.v1+json": {
              "config": {
                "plotlyServerURL": "https://plot.ly"
              },
              "data": [
                {
                  "mode": "lines+markers",
                  "name": "positional encoding",
                  "type": "scatter",
                  "x": [
                    0,
                    1,
                    2,
                    3,
                    4,
                    5,
                    6,
                    7,
                    8,
                    9
                  ],
                  "y": [
                    2.1393505983714816,
                    1.8832494095910954,
                    1.0668430690523945,
                    0.8218081714231756,
                    0.7837892816036562,
                    0.7648070228250721,
                    0.7516005657896211,
                    0.7415084989765023,
                    0.7327008360548865,
                    0.7251402969601788
                  ]
                },
                {
                  "mode": "lines+markers",
                  "name": "no positional encoding",
                  "type": "scatter",
                  "x": [
                    0,
                    1,
                    2,
                    3,
                    4,
                    5,
                    6,
                    7,
                    8,
                    9
                  ],
                  "y": [
                    2.1592453884173044,
                    1.9029886360409893,
                    1.2669433340241638,
                    0.9015187424949452,
                    0.8235405532619621,
                    0.7887225671659542,
                    0.7684094106094747,
                    0.7538803642309164,
                    0.7438692133637923,
                    0.7363377281382114
                  ]
                }
              ],
              "layout": {
                "template": {
                  "data": {
                    "bar": [
                      {
                        "error_x": {
                          "color": "#2a3f5f"
                        },
                        "error_y": {
                          "color": "#2a3f5f"
                        },
                        "marker": {
                          "line": {
                            "color": "#E5ECF6",
                            "width": 0.5
                          },
                          "pattern": {
                            "fillmode": "overlay",
                            "size": 10,
                            "solidity": 0.2
                          }
                        },
                        "type": "bar"
                      }
                    ],
                    "barpolar": [
                      {
                        "marker": {
                          "line": {
                            "color": "#E5ECF6",
                            "width": 0.5
                          },
                          "pattern": {
                            "fillmode": "overlay",
                            "size": 10,
                            "solidity": 0.2
                          }
                        },
                        "type": "barpolar"
                      }
                    ],
                    "carpet": [
                      {
                        "aaxis": {
                          "endlinecolor": "#2a3f5f",
                          "gridcolor": "white",
                          "linecolor": "white",
                          "minorgridcolor": "white",
                          "startlinecolor": "#2a3f5f"
                        },
                        "baxis": {
                          "endlinecolor": "#2a3f5f",
                          "gridcolor": "white",
                          "linecolor": "white",
                          "minorgridcolor": "white",
                          "startlinecolor": "#2a3f5f"
                        },
                        "type": "carpet"
                      }
                    ],
                    "choropleth": [
                      {
                        "colorbar": {
                          "outlinewidth": 0,
                          "ticks": ""
                        },
                        "type": "choropleth"
                      }
                    ],
                    "contour": [
                      {
                        "colorbar": {
                          "outlinewidth": 0,
                          "ticks": ""
                        },
                        "colorscale": [
                          [
                            0,
                            "#0d0887"
                          ],
                          [
                            0.1111111111111111,
                            "#46039f"
                          ],
                          [
                            0.2222222222222222,
                            "#7201a8"
                          ],
                          [
                            0.3333333333333333,
                            "#9c179e"
                          ],
                          [
                            0.4444444444444444,
                            "#bd3786"
                          ],
                          [
                            0.5555555555555556,
                            "#d8576b"
                          ],
                          [
                            0.6666666666666666,
                            "#ed7953"
                          ],
                          [
                            0.7777777777777778,
                            "#fb9f3a"
                          ],
                          [
                            0.8888888888888888,
                            "#fdca26"
                          ],
                          [
                            1,
                            "#f0f921"
                          ]
                        ],
                        "type": "contour"
                      }
                    ],
                    "contourcarpet": [
                      {
                        "colorbar": {
                          "outlinewidth": 0,
                          "ticks": ""
                        },
                        "type": "contourcarpet"
                      }
                    ],
                    "heatmap": [
                      {
                        "colorbar": {
                          "outlinewidth": 0,
                          "ticks": ""
                        },
                        "colorscale": [
                          [
                            0,
                            "#0d0887"
                          ],
                          [
                            0.1111111111111111,
                            "#46039f"
                          ],
                          [
                            0.2222222222222222,
                            "#7201a8"
                          ],
                          [
                            0.3333333333333333,
                            "#9c179e"
                          ],
                          [
                            0.4444444444444444,
                            "#bd3786"
                          ],
                          [
                            0.5555555555555556,
                            "#d8576b"
                          ],
                          [
                            0.6666666666666666,
                            "#ed7953"
                          ],
                          [
                            0.7777777777777778,
                            "#fb9f3a"
                          ],
                          [
                            0.8888888888888888,
                            "#fdca26"
                          ],
                          [
                            1,
                            "#f0f921"
                          ]
                        ],
                        "type": "heatmap"
                      }
                    ],
                    "heatmapgl": [
                      {
                        "colorbar": {
                          "outlinewidth": 0,
                          "ticks": ""
                        },
                        "colorscale": [
                          [
                            0,
                            "#0d0887"
                          ],
                          [
                            0.1111111111111111,
                            "#46039f"
                          ],
                          [
                            0.2222222222222222,
                            "#7201a8"
                          ],
                          [
                            0.3333333333333333,
                            "#9c179e"
                          ],
                          [
                            0.4444444444444444,
                            "#bd3786"
                          ],
                          [
                            0.5555555555555556,
                            "#d8576b"
                          ],
                          [
                            0.6666666666666666,
                            "#ed7953"
                          ],
                          [
                            0.7777777777777778,
                            "#fb9f3a"
                          ],
                          [
                            0.8888888888888888,
                            "#fdca26"
                          ],
                          [
                            1,
                            "#f0f921"
                          ]
                        ],
                        "type": "heatmapgl"
                      }
                    ],
                    "histogram": [
                      {
                        "marker": {
                          "pattern": {
                            "fillmode": "overlay",
                            "size": 10,
                            "solidity": 0.2
                          }
                        },
                        "type": "histogram"
                      }
                    ],
                    "histogram2d": [
                      {
                        "colorbar": {
                          "outlinewidth": 0,
                          "ticks": ""
                        },
                        "colorscale": [
                          [
                            0,
                            "#0d0887"
                          ],
                          [
                            0.1111111111111111,
                            "#46039f"
                          ],
                          [
                            0.2222222222222222,
                            "#7201a8"
                          ],
                          [
                            0.3333333333333333,
                            "#9c179e"
                          ],
                          [
                            0.4444444444444444,
                            "#bd3786"
                          ],
                          [
                            0.5555555555555556,
                            "#d8576b"
                          ],
                          [
                            0.6666666666666666,
                            "#ed7953"
                          ],
                          [
                            0.7777777777777778,
                            "#fb9f3a"
                          ],
                          [
                            0.8888888888888888,
                            "#fdca26"
                          ],
                          [
                            1,
                            "#f0f921"
                          ]
                        ],
                        "type": "histogram2d"
                      }
                    ],
                    "histogram2dcontour": [
                      {
                        "colorbar": {
                          "outlinewidth": 0,
                          "ticks": ""
                        },
                        "colorscale": [
                          [
                            0,
                            "#0d0887"
                          ],
                          [
                            0.1111111111111111,
                            "#46039f"
                          ],
                          [
                            0.2222222222222222,
                            "#7201a8"
                          ],
                          [
                            0.3333333333333333,
                            "#9c179e"
                          ],
                          [
                            0.4444444444444444,
                            "#bd3786"
                          ],
                          [
                            0.5555555555555556,
                            "#d8576b"
                          ],
                          [
                            0.6666666666666666,
                            "#ed7953"
                          ],
                          [
                            0.7777777777777778,
                            "#fb9f3a"
                          ],
                          [
                            0.8888888888888888,
                            "#fdca26"
                          ],
                          [
                            1,
                            "#f0f921"
                          ]
                        ],
                        "type": "histogram2dcontour"
                      }
                    ],
                    "mesh3d": [
                      {
                        "colorbar": {
                          "outlinewidth": 0,
                          "ticks": ""
                        },
                        "type": "mesh3d"
                      }
                    ],
                    "parcoords": [
                      {
                        "line": {
                          "colorbar": {
                            "outlinewidth": 0,
                            "ticks": ""
                          }
                        },
                        "type": "parcoords"
                      }
                    ],
                    "pie": [
                      {
                        "automargin": true,
                        "type": "pie"
                      }
                    ],
                    "scatter": [
                      {
                        "fillpattern": {
                          "fillmode": "overlay",
                          "size": 10,
                          "solidity": 0.2
                        },
                        "type": "scatter"
                      }
                    ],
                    "scatter3d": [
                      {
                        "line": {
                          "colorbar": {
                            "outlinewidth": 0,
                            "ticks": ""
                          }
                        },
                        "marker": {
                          "colorbar": {
                            "outlinewidth": 0,
                            "ticks": ""
                          }
                        },
                        "type": "scatter3d"
                      }
                    ],
                    "scattercarpet": [
                      {
                        "marker": {
                          "colorbar": {
                            "outlinewidth": 0,
                            "ticks": ""
                          }
                        },
                        "type": "scattercarpet"
                      }
                    ],
                    "scattergeo": [
                      {
                        "marker": {
                          "colorbar": {
                            "outlinewidth": 0,
                            "ticks": ""
                          }
                        },
                        "type": "scattergeo"
                      }
                    ],
                    "scattergl": [
                      {
                        "marker": {
                          "colorbar": {
                            "outlinewidth": 0,
                            "ticks": ""
                          }
                        },
                        "type": "scattergl"
                      }
                    ],
                    "scattermapbox": [
                      {
                        "marker": {
                          "colorbar": {
                            "outlinewidth": 0,
                            "ticks": ""
                          }
                        },
                        "type": "scattermapbox"
                      }
                    ],
                    "scatterpolar": [
                      {
                        "marker": {
                          "colorbar": {
                            "outlinewidth": 0,
                            "ticks": ""
                          }
                        },
                        "type": "scatterpolar"
                      }
                    ],
                    "scatterpolargl": [
                      {
                        "marker": {
                          "colorbar": {
                            "outlinewidth": 0,
                            "ticks": ""
                          }
                        },
                        "type": "scatterpolargl"
                      }
                    ],
                    "scatterternary": [
                      {
                        "marker": {
                          "colorbar": {
                            "outlinewidth": 0,
                            "ticks": ""
                          }
                        },
                        "type": "scatterternary"
                      }
                    ],
                    "surface": [
                      {
                        "colorbar": {
                          "outlinewidth": 0,
                          "ticks": ""
                        },
                        "colorscale": [
                          [
                            0,
                            "#0d0887"
                          ],
                          [
                            0.1111111111111111,
                            "#46039f"
                          ],
                          [
                            0.2222222222222222,
                            "#7201a8"
                          ],
                          [
                            0.3333333333333333,
                            "#9c179e"
                          ],
                          [
                            0.4444444444444444,
                            "#bd3786"
                          ],
                          [
                            0.5555555555555556,
                            "#d8576b"
                          ],
                          [
                            0.6666666666666666,
                            "#ed7953"
                          ],
                          [
                            0.7777777777777778,
                            "#fb9f3a"
                          ],
                          [
                            0.8888888888888888,
                            "#fdca26"
                          ],
                          [
                            1,
                            "#f0f921"
                          ]
                        ],
                        "type": "surface"
                      }
                    ],
                    "table": [
                      {
                        "cells": {
                          "fill": {
                            "color": "#EBF0F8"
                          },
                          "line": {
                            "color": "white"
                          }
                        },
                        "header": {
                          "fill": {
                            "color": "#C8D4E3"
                          },
                          "line": {
                            "color": "white"
                          }
                        },
                        "type": "table"
                      }
                    ]
                  },
                  "layout": {
                    "annotationdefaults": {
                      "arrowcolor": "#2a3f5f",
                      "arrowhead": 0,
                      "arrowwidth": 1
                    },
                    "autotypenumbers": "strict",
                    "coloraxis": {
                      "colorbar": {
                        "outlinewidth": 0,
                        "ticks": ""
                      }
                    },
                    "colorscale": {
                      "diverging": [
                        [
                          0,
                          "#8e0152"
                        ],
                        [
                          0.1,
                          "#c51b7d"
                        ],
                        [
                          0.2,
                          "#de77ae"
                        ],
                        [
                          0.3,
                          "#f1b6da"
                        ],
                        [
                          0.4,
                          "#fde0ef"
                        ],
                        [
                          0.5,
                          "#f7f7f7"
                        ],
                        [
                          0.6,
                          "#e6f5d0"
                        ],
                        [
                          0.7,
                          "#b8e186"
                        ],
                        [
                          0.8,
                          "#7fbc41"
                        ],
                        [
                          0.9,
                          "#4d9221"
                        ],
                        [
                          1,
                          "#276419"
                        ]
                      ],
                      "sequential": [
                        [
                          0,
                          "#0d0887"
                        ],
                        [
                          0.1111111111111111,
                          "#46039f"
                        ],
                        [
                          0.2222222222222222,
                          "#7201a8"
                        ],
                        [
                          0.3333333333333333,
                          "#9c179e"
                        ],
                        [
                          0.4444444444444444,
                          "#bd3786"
                        ],
                        [
                          0.5555555555555556,
                          "#d8576b"
                        ],
                        [
                          0.6666666666666666,
                          "#ed7953"
                        ],
                        [
                          0.7777777777777778,
                          "#fb9f3a"
                        ],
                        [
                          0.8888888888888888,
                          "#fdca26"
                        ],
                        [
                          1,
                          "#f0f921"
                        ]
                      ],
                      "sequentialminus": [
                        [
                          0,
                          "#0d0887"
                        ],
                        [
                          0.1111111111111111,
                          "#46039f"
                        ],
                        [
                          0.2222222222222222,
                          "#7201a8"
                        ],
                        [
                          0.3333333333333333,
                          "#9c179e"
                        ],
                        [
                          0.4444444444444444,
                          "#bd3786"
                        ],
                        [
                          0.5555555555555556,
                          "#d8576b"
                        ],
                        [
                          0.6666666666666666,
                          "#ed7953"
                        ],
                        [
                          0.7777777777777778,
                          "#fb9f3a"
                        ],
                        [
                          0.8888888888888888,
                          "#fdca26"
                        ],
                        [
                          1,
                          "#f0f921"
                        ]
                      ]
                    },
                    "colorway": [
                      "#636efa",
                      "#EF553B",
                      "#00cc96",
                      "#ab63fa",
                      "#FFA15A",
                      "#19d3f3",
                      "#FF6692",
                      "#B6E880",
                      "#FF97FF",
                      "#FECB52"
                    ],
                    "font": {
                      "color": "#2a3f5f"
                    },
                    "geo": {
                      "bgcolor": "white",
                      "lakecolor": "white",
                      "landcolor": "#E5ECF6",
                      "showlakes": true,
                      "showland": true,
                      "subunitcolor": "white"
                    },
                    "hoverlabel": {
                      "align": "left"
                    },
                    "hovermode": "closest",
                    "mapbox": {
                      "style": "light"
                    },
                    "paper_bgcolor": "white",
                    "plot_bgcolor": "#E5ECF6",
                    "polar": {
                      "angularaxis": {
                        "gridcolor": "white",
                        "linecolor": "white",
                        "ticks": ""
                      },
                      "bgcolor": "#E5ECF6",
                      "radialaxis": {
                        "gridcolor": "white",
                        "linecolor": "white",
                        "ticks": ""
                      }
                    },
                    "scene": {
                      "xaxis": {
                        "backgroundcolor": "#E5ECF6",
                        "gridcolor": "white",
                        "gridwidth": 2,
                        "linecolor": "white",
                        "showbackground": true,
                        "ticks": "",
                        "zerolinecolor": "white"
                      },
                      "yaxis": {
                        "backgroundcolor": "#E5ECF6",
                        "gridcolor": "white",
                        "gridwidth": 2,
                        "linecolor": "white",
                        "showbackground": true,
                        "ticks": "",
                        "zerolinecolor": "white"
                      },
                      "zaxis": {
                        "backgroundcolor": "#E5ECF6",
                        "gridcolor": "white",
                        "gridwidth": 2,
                        "linecolor": "white",
                        "showbackground": true,
                        "ticks": "",
                        "zerolinecolor": "white"
                      }
                    },
                    "shapedefaults": {
                      "line": {
                        "color": "#2a3f5f"
                      }
                    },
                    "ternary": {
                      "aaxis": {
                        "gridcolor": "white",
                        "linecolor": "white",
                        "ticks": ""
                      },
                      "baxis": {
                        "gridcolor": "white",
                        "linecolor": "white",
                        "ticks": ""
                      },
                      "bgcolor": "#E5ECF6",
                      "caxis": {
                        "gridcolor": "white",
                        "linecolor": "white",
                        "ticks": ""
                      }
                    },
                    "title": {
                      "x": 0.05
                    },
                    "xaxis": {
                      "automargin": true,
                      "gridcolor": "white",
                      "linecolor": "white",
                      "ticks": "",
                      "title": {
                        "standoff": 15
                      },
                      "zerolinecolor": "white",
                      "zerolinewidth": 2
                    },
                    "yaxis": {
                      "automargin": true,
                      "gridcolor": "white",
                      "linecolor": "white",
                      "ticks": "",
                      "title": {
                        "standoff": 15
                      },
                      "zerolinecolor": "white",
                      "zerolinewidth": 2
                    }
                  }
                },
                "title": {
                  "text": "5 layers, loss"
                }
              }
            },
            "text/html": [
              "<div>                            <div id=\"ee5128b5-15ec-467a-8573-a4372cb6575c\" class=\"plotly-graph-div\" style=\"height:525px; width:100%;\"></div>            <script type=\"text/javascript\">                require([\"plotly\"], function(Plotly) {                    window.PLOTLYENV=window.PLOTLYENV || {};                                    if (document.getElementById(\"ee5128b5-15ec-467a-8573-a4372cb6575c\")) {                    Plotly.newPlot(                        \"ee5128b5-15ec-467a-8573-a4372cb6575c\",                        [{\"mode\":\"lines+markers\",\"name\":\"positional encoding\",\"x\":[0,1,2,3,4,5,6,7,8,9],\"y\":[2.1393505983714816,1.8832494095910954,1.0668430690523945,0.8218081714231756,0.7837892816036562,0.7648070228250721,0.7516005657896211,0.7415084989765023,0.7327008360548865,0.7251402969601788],\"type\":\"scatter\"},{\"mode\":\"lines+markers\",\"name\":\"no positional encoding\",\"x\":[0,1,2,3,4,5,6,7,8,9],\"y\":[2.1592453884173044,1.9029886360409893,1.2669433340241638,0.9015187424949452,0.8235405532619621,0.7887225671659542,0.7684094106094747,0.7538803642309164,0.7438692133637923,0.7363377281382114],\"type\":\"scatter\"}],                        {\"template\":{\"data\":{\"histogram2dcontour\":[{\"type\":\"histogram2dcontour\",\"colorbar\":{\"outlinewidth\":0,\"ticks\":\"\"},\"colorscale\":[[0.0,\"#0d0887\"],[0.1111111111111111,\"#46039f\"],[0.2222222222222222,\"#7201a8\"],[0.3333333333333333,\"#9c179e\"],[0.4444444444444444,\"#bd3786\"],[0.5555555555555556,\"#d8576b\"],[0.6666666666666666,\"#ed7953\"],[0.7777777777777778,\"#fb9f3a\"],[0.8888888888888888,\"#fdca26\"],[1.0,\"#f0f921\"]]}],\"choropleth\":[{\"type\":\"choropleth\",\"colorbar\":{\"outlinewidth\":0,\"ticks\":\"\"}}],\"histogram2d\":[{\"type\":\"histogram2d\",\"colorbar\":{\"outlinewidth\":0,\"ticks\":\"\"},\"colorscale\":[[0.0,\"#0d0887\"],[0.1111111111111111,\"#46039f\"],[0.2222222222222222,\"#7201a8\"],[0.3333333333333333,\"#9c179e\"],[0.4444444444444444,\"#bd3786\"],[0.5555555555555556,\"#d8576b\"],[0.6666666666666666,\"#ed7953\"],[0.7777777777777778,\"#fb9f3a\"],[0.8888888888888888,\"#fdca26\"],[1.0,\"#f0f921\"]]}],\"heatmap\":[{\"type\":\"heatmap\",\"colorbar\":{\"outlinewidth\":0,\"ticks\":\"\"},\"colorscale\":[[0.0,\"#0d0887\"],[0.1111111111111111,\"#46039f\"],[0.2222222222222222,\"#7201a8\"],[0.3333333333333333,\"#9c179e\"],[0.4444444444444444,\"#bd3786\"],[0.5555555555555556,\"#d8576b\"],[0.6666666666666666,\"#ed7953\"],[0.7777777777777778,\"#fb9f3a\"],[0.8888888888888888,\"#fdca26\"],[1.0,\"#f0f921\"]]}],\"heatmapgl\":[{\"type\":\"heatmapgl\",\"colorbar\":{\"outlinewidth\":0,\"ticks\":\"\"},\"colorscale\":[[0.0,\"#0d0887\"],[0.1111111111111111,\"#46039f\"],[0.2222222222222222,\"#7201a8\"],[0.3333333333333333,\"#9c179e\"],[0.4444444444444444,\"#bd3786\"],[0.5555555555555556,\"#d8576b\"],[0.6666666666666666,\"#ed7953\"],[0.7777777777777778,\"#fb9f3a\"],[0.8888888888888888,\"#fdca26\"],[1.0,\"#f0f921\"]]}],\"contourcarpet\":[{\"type\":\"contourcarpet\",\"colorbar\":{\"outlinewidth\":0,\"ticks\":\"\"}}],\"contour\":[{\"type\":\"contour\",\"colorbar\":{\"outlinewidth\":0,\"ticks\":\"\"},\"colorscale\":[[0.0,\"#0d0887\"],[0.1111111111111111,\"#46039f\"],[0.2222222222222222,\"#7201a8\"],[0.3333333333333333,\"#9c179e\"],[0.4444444444444444,\"#bd3786\"],[0.5555555555555556,\"#d8576b\"],[0.6666666666666666,\"#ed7953\"],[0.7777777777777778,\"#fb9f3a\"],[0.8888888888888888,\"#fdca26\"],[1.0,\"#f0f921\"]]}],\"surface\":[{\"type\":\"surface\",\"colorbar\":{\"outlinewidth\":0,\"ticks\":\"\"},\"colorscale\":[[0.0,\"#0d0887\"],[0.1111111111111111,\"#46039f\"],[0.2222222222222222,\"#7201a8\"],[0.3333333333333333,\"#9c179e\"],[0.4444444444444444,\"#bd3786\"],[0.5555555555555556,\"#d8576b\"],[0.6666666666666666,\"#ed7953\"],[0.7777777777777778,\"#fb9f3a\"],[0.8888888888888888,\"#fdca26\"],[1.0,\"#f0f921\"]]}],\"mesh3d\":[{\"type\":\"mesh3d\",\"colorbar\":{\"outlinewidth\":0,\"ticks\":\"\"}}],\"scatter\":[{\"fillpattern\":{\"fillmode\":\"overlay\",\"size\":10,\"solidity\":0.2},\"type\":\"scatter\"}],\"parcoords\":[{\"type\":\"parcoords\",\"line\":{\"colorbar\":{\"outlinewidth\":0,\"ticks\":\"\"}}}],\"scatterpolargl\":[{\"type\":\"scatterpolargl\",\"marker\":{\"colorbar\":{\"outlinewidth\":0,\"ticks\":\"\"}}}],\"bar\":[{\"error_x\":{\"color\":\"#2a3f5f\"},\"error_y\":{\"color\":\"#2a3f5f\"},\"marker\":{\"line\":{\"color\":\"#E5ECF6\",\"width\":0.5},\"pattern\":{\"fillmode\":\"overlay\",\"size\":10,\"solidity\":0.2}},\"type\":\"bar\"}],\"scattergeo\":[{\"type\":\"scattergeo\",\"marker\":{\"colorbar\":{\"outlinewidth\":0,\"ticks\":\"\"}}}],\"scatterpolar\":[{\"type\":\"scatterpolar\",\"marker\":{\"colorbar\":{\"outlinewidth\":0,\"ticks\":\"\"}}}],\"histogram\":[{\"marker\":{\"pattern\":{\"fillmode\":\"overlay\",\"size\":10,\"solidity\":0.2}},\"type\":\"histogram\"}],\"scattergl\":[{\"type\":\"scattergl\",\"marker\":{\"colorbar\":{\"outlinewidth\":0,\"ticks\":\"\"}}}],\"scatter3d\":[{\"type\":\"scatter3d\",\"line\":{\"colorbar\":{\"outlinewidth\":0,\"ticks\":\"\"}},\"marker\":{\"colorbar\":{\"outlinewidth\":0,\"ticks\":\"\"}}}],\"scattermapbox\":[{\"type\":\"scattermapbox\",\"marker\":{\"colorbar\":{\"outlinewidth\":0,\"ticks\":\"\"}}}],\"scatterternary\":[{\"type\":\"scatterternary\",\"marker\":{\"colorbar\":{\"outlinewidth\":0,\"ticks\":\"\"}}}],\"scattercarpet\":[{\"type\":\"scattercarpet\",\"marker\":{\"colorbar\":{\"outlinewidth\":0,\"ticks\":\"\"}}}],\"carpet\":[{\"aaxis\":{\"endlinecolor\":\"#2a3f5f\",\"gridcolor\":\"white\",\"linecolor\":\"white\",\"minorgridcolor\":\"white\",\"startlinecolor\":\"#2a3f5f\"},\"baxis\":{\"endlinecolor\":\"#2a3f5f\",\"gridcolor\":\"white\",\"linecolor\":\"white\",\"minorgridcolor\":\"white\",\"startlinecolor\":\"#2a3f5f\"},\"type\":\"carpet\"}],\"table\":[{\"cells\":{\"fill\":{\"color\":\"#EBF0F8\"},\"line\":{\"color\":\"white\"}},\"header\":{\"fill\":{\"color\":\"#C8D4E3\"},\"line\":{\"color\":\"white\"}},\"type\":\"table\"}],\"barpolar\":[{\"marker\":{\"line\":{\"color\":\"#E5ECF6\",\"width\":0.5},\"pattern\":{\"fillmode\":\"overlay\",\"size\":10,\"solidity\":0.2}},\"type\":\"barpolar\"}],\"pie\":[{\"automargin\":true,\"type\":\"pie\"}]},\"layout\":{\"autotypenumbers\":\"strict\",\"colorway\":[\"#636efa\",\"#EF553B\",\"#00cc96\",\"#ab63fa\",\"#FFA15A\",\"#19d3f3\",\"#FF6692\",\"#B6E880\",\"#FF97FF\",\"#FECB52\"],\"font\":{\"color\":\"#2a3f5f\"},\"hovermode\":\"closest\",\"hoverlabel\":{\"align\":\"left\"},\"paper_bgcolor\":\"white\",\"plot_bgcolor\":\"#E5ECF6\",\"polar\":{\"bgcolor\":\"#E5ECF6\",\"angularaxis\":{\"gridcolor\":\"white\",\"linecolor\":\"white\",\"ticks\":\"\"},\"radialaxis\":{\"gridcolor\":\"white\",\"linecolor\":\"white\",\"ticks\":\"\"}},\"ternary\":{\"bgcolor\":\"#E5ECF6\",\"aaxis\":{\"gridcolor\":\"white\",\"linecolor\":\"white\",\"ticks\":\"\"},\"baxis\":{\"gridcolor\":\"white\",\"linecolor\":\"white\",\"ticks\":\"\"},\"caxis\":{\"gridcolor\":\"white\",\"linecolor\":\"white\",\"ticks\":\"\"}},\"coloraxis\":{\"colorbar\":{\"outlinewidth\":0,\"ticks\":\"\"}},\"colorscale\":{\"sequential\":[[0.0,\"#0d0887\"],[0.1111111111111111,\"#46039f\"],[0.2222222222222222,\"#7201a8\"],[0.3333333333333333,\"#9c179e\"],[0.4444444444444444,\"#bd3786\"],[0.5555555555555556,\"#d8576b\"],[0.6666666666666666,\"#ed7953\"],[0.7777777777777778,\"#fb9f3a\"],[0.8888888888888888,\"#fdca26\"],[1.0,\"#f0f921\"]],\"sequentialminus\":[[0.0,\"#0d0887\"],[0.1111111111111111,\"#46039f\"],[0.2222222222222222,\"#7201a8\"],[0.3333333333333333,\"#9c179e\"],[0.4444444444444444,\"#bd3786\"],[0.5555555555555556,\"#d8576b\"],[0.6666666666666666,\"#ed7953\"],[0.7777777777777778,\"#fb9f3a\"],[0.8888888888888888,\"#fdca26\"],[1.0,\"#f0f921\"]],\"diverging\":[[0,\"#8e0152\"],[0.1,\"#c51b7d\"],[0.2,\"#de77ae\"],[0.3,\"#f1b6da\"],[0.4,\"#fde0ef\"],[0.5,\"#f7f7f7\"],[0.6,\"#e6f5d0\"],[0.7,\"#b8e186\"],[0.8,\"#7fbc41\"],[0.9,\"#4d9221\"],[1,\"#276419\"]]},\"xaxis\":{\"gridcolor\":\"white\",\"linecolor\":\"white\",\"ticks\":\"\",\"title\":{\"standoff\":15},\"zerolinecolor\":\"white\",\"automargin\":true,\"zerolinewidth\":2},\"yaxis\":{\"gridcolor\":\"white\",\"linecolor\":\"white\",\"ticks\":\"\",\"title\":{\"standoff\":15},\"zerolinecolor\":\"white\",\"automargin\":true,\"zerolinewidth\":2},\"scene\":{\"xaxis\":{\"backgroundcolor\":\"#E5ECF6\",\"gridcolor\":\"white\",\"linecolor\":\"white\",\"showbackground\":true,\"ticks\":\"\",\"zerolinecolor\":\"white\",\"gridwidth\":2},\"yaxis\":{\"backgroundcolor\":\"#E5ECF6\",\"gridcolor\":\"white\",\"linecolor\":\"white\",\"showbackground\":true,\"ticks\":\"\",\"zerolinecolor\":\"white\",\"gridwidth\":2},\"zaxis\":{\"backgroundcolor\":\"#E5ECF6\",\"gridcolor\":\"white\",\"linecolor\":\"white\",\"showbackground\":true,\"ticks\":\"\",\"zerolinecolor\":\"white\",\"gridwidth\":2}},\"shapedefaults\":{\"line\":{\"color\":\"#2a3f5f\"}},\"annotationdefaults\":{\"arrowcolor\":\"#2a3f5f\",\"arrowhead\":0,\"arrowwidth\":1},\"geo\":{\"bgcolor\":\"white\",\"landcolor\":\"#E5ECF6\",\"subunitcolor\":\"white\",\"showland\":true,\"showlakes\":true,\"lakecolor\":\"white\"},\"title\":{\"x\":0.05},\"mapbox\":{\"style\":\"light\"}}},\"title\":{\"text\":\"5 layers, loss\"}},                        {\"responsive\": true}                    ).then(function(){\n",
              "                            \n",
              "var gd = document.getElementById('ee5128b5-15ec-467a-8573-a4372cb6575c');\n",
              "var x = new MutationObserver(function (mutations, observer) {{\n",
              "        var display = window.getComputedStyle(gd).display;\n",
              "        if (!display || display === 'none') {{\n",
              "            console.log([gd, 'removed!']);\n",
              "            Plotly.purge(gd);\n",
              "            observer.disconnect();\n",
              "        }}\n",
              "}});\n",
              "\n",
              "// Listen for the removal of the full notebook cells\n",
              "var notebookContainer = gd.closest('#notebook-container');\n",
              "if (notebookContainer) {{\n",
              "    x.observe(notebookContainer, {childList: true});\n",
              "}}\n",
              "\n",
              "// Listen for the clearing of the current output cell\n",
              "var outputEl = gd.closest('.output');\n",
              "if (outputEl) {{\n",
              "    x.observe(outputEl, {childList: true});\n",
              "}}\n",
              "\n",
              "                        })                };                });            </script>        </div>"
            ]
          },
          "metadata": {},
          "output_type": "display_data"
        }
      ],
      "source": [
        "for num_layers in num_layers_pool:\n",
        "    fig = go.Figure()\n",
        "    fig.add_trace(go.Scatter(\n",
        "        x=np.arange(EPOCHS),\n",
        "        y=logs[(num_layers, True)][0],\n",
        "        mode='lines+markers',\n",
        "        name=\"positional encoding\"\n",
        "        ))\n",
        "    fig.add_trace(\n",
        "        go.Scatter(\n",
        "            x=np.arange(EPOCHS),\n",
        "            y=logs[(num_layers, False)][0],\n",
        "            mode='lines+markers',\n",
        "            name=\"no positional encoding\"\n",
        "            )\n",
        "    )\n",
        "    fig.update_layout(title_text=f\"{num_layers} layers, loss\")\n",
        "    fig.show()"
      ]
    },
    {
      "cell_type": "markdown",
      "metadata": {
        "id": "q6iJIWPU9cJT"
      },
      "source": [
        "## Text Generation"
      ]
    },
    {
      "cell_type": "markdown",
      "metadata": {
        "id": "eoflNl8DvGQp"
      },
      "source": [
        "Use cache to perform efficient text generation. You should generate text token by token. You should consider two choice procedures:\n",
        "* output the most probable token\n",
        "* sample from the distribution returned by the model"
      ]
    },
    {
      "cell_type": "code",
      "execution_count": 502,
      "metadata": {
        "id": "n-E6LlN9tzc4"
      },
      "outputs": [
        {
          "name": "stdout",
          "output_type": "stream",
          "text": [
            "staring sequence: [0, 1, 0, 1, 0, 1]\n",
            "greedy completion: [0, 1, 0, 1, 0, 1]\n",
            "sampling completion: [0, 1, 0, 1, 0, 1]\n",
            "\n",
            "staring sequence: [0, 1, 1, 2, 1, 1, 3, 1, 1]\n",
            "greedy completion: [0, 1, 1, 2, 1, 1, 3, 1, 1, 3, 1, 3, 1, 3, 1, 3, 1, 3, 1, 3, 1, 3, 1, 3, 4, 5, 6, 7, 8]\n",
            "sampling completion: [0, 1, 1, 2, 1, 1, 3, 1, 1, 2, 3, 1, 3, 1, 3, 1, 2, 1, 3, 1, 3, 4, 2, 1, 2, 3, 1, 2, 1]\n",
            "\n",
            "staring sequence: [0, 1, 2, 2, 3, 3, 3, 4, 4, 4, 4, 5, 5, 5, 5, 5]\n",
            "greedy completion: [0, 1, 2, 2, 3, 3, 3, 4, 4, 4, 4, 5, 5, 5, 5, 5, 5, 5, 5, 5, 5, 5, 5, 5, 5, 5, 5, 5, 5, 5, 5, 5, 5, 5, 5, 5]\n",
            "sampling completion: [0, 1, 2, 2, 3, 3, 3, 4, 4, 4, 4, 5, 5, 5, 5, 5, 6, 6, 6, 6, 6, 6, 6, 6, 6, 7, 8, 7, 8, 7, 8, 7, 8, 7, 8, 9]\n",
            "\n"
          ]
        }
      ],
      "source": [
        "from typing import List, Literal, Union\n",
        "\n",
        "\n",
        "gen_model.to(DEVICE)\n",
        "gen_model.eval()\n",
        "MAX_LEN = 20\n",
        "\n",
        "\n",
        "\n",
        "def generate_text(prefix: List[int], sampling: Literal[\"greedy\", \"sample\"], max_len: int = MAX_LEN) -> List[int]:\n",
        "    sampl_fn = None\n",
        "    if sampling == \"greedy\":\n",
        "        sampl_fn = take_most_probable\n",
        "    elif sampling == \"sample\":\n",
        "        sampl_fn = lambda x: x.sample()\n",
        "\n",
        "    prefix = torch.tensor(prefix, device=DEVICE, dtype=torch.long).reshape(-1, 1)\n",
        "\n",
        "    for _ in range(MAX_LEN):\n",
        "        pred_dist = gen_model.forward(prefix.to(DEVICE), gen_model.get_empty_cache(prefix.shape[1]))[0]\n",
        "        pred = sampl_fn(pred_dist)[-1, :]\n",
        "        if pred.item() == 0:\n",
        "            break\n",
        "        prefix = torch.cat((prefix, pred[:, None]), dim=0)\n",
        "\n",
        "    return prefix.flatten().tolist()\n",
        "\n",
        "\n",
        "prefixes = [\n",
        "    [0, 1, 0, 1, 0, 1],\n",
        "    [0, 1, 1, 2, 1, 1, 3, 1, 1],\n",
        "    [0, 1, 2, 2, 3, 3, 3, 4, 4, 4, 4, 5, 5, 5, 5, 5]\n",
        "]\n",
        "\n",
        "for prefix in prefixes:\n",
        "    greedy_gen = generate_text(prefix, sampling=\"greedy\")\n",
        "    sampling_gen = generate_text(prefix, sampling=\"sample\")\n",
        "\n",
        "    print(f\"staring sequence: {prefix}\")\n",
        "    print(f\"greedy completion: {greedy_gen}\")\n",
        "    print(f\"sampling completion: {sampling_gen}\")\n",
        "    print(\"\")\n",
        "\n"
      ]
    },
    {
      "cell_type": "code",
      "execution_count": null,
      "metadata": {},
      "outputs": [],
      "source": [
        "#  additional resources used: http://nlp.seas.harvard.edu/annotated-transformer/#encoder-and-decoder-stacks"
      ]
    },
    {
      "cell_type": "markdown",
      "metadata": {
        "id": "WyPWEGc0Do8Z"
      },
      "source": [
        "## Attention visualizations (optional)"
      ]
    }
  ],
  "metadata": {
    "accelerator": "GPU",
    "colab": {
      "collapsed_sections": [
        "JQXyFu4GpoCm"
      ],
      "provenance": []
    },
    "gpuClass": "standard",
    "kernelspec": {
      "display_name": "gsn-jupyter",
      "language": "python",
      "name": "gsn-jupyter"
    },
    "language_info": {
      "codemirror_mode": {
        "name": "ipython",
        "version": 3
      },
      "file_extension": ".py",
      "mimetype": "text/x-python",
      "name": "python",
      "nbconvert_exporter": "python",
      "pygments_lexer": "ipython3",
      "version": "3.10.8"
    },
    "vscode": {
      "interpreter": {
        "hash": "20d3bc091e1e0c4672ae7c29c31f8972bac1be1818eb3f6bf09e926c02423bb2"
      }
    }
  },
  "nbformat": 4,
  "nbformat_minor": 0
}
